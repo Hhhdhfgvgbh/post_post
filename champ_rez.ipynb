{
  "cells": [
    {
      "cell_type": "markdown",
      "metadata": {
        "id": "qJh6Z4syRQha"
      },
      "source": [
        "# Условие задачи, описание"
      ]
    },
    {
      "cell_type": "markdown",
      "metadata": {
        "id": "GjnDaz8_ZKCF"
      },
      "source": [
        "# Импортирование библиотек, загрузка и анализ данных"
      ]
    },
    {
      "cell_type": "markdown",
      "metadata": {
        "id": "9HWYllnIZKCG"
      },
      "source": [
        "Необходимо подготовить данные, для того чтобы их можно было использовать для обучения."
      ]
    },
    {
      "cell_type": "code",
      "execution_count": null,
      "metadata": {
        "id": "IzpD8adJZKCH"
      },
      "outputs": [],
      "source": [
        "import pandas as pd\n",
        "import matplotlib as plt\n",
        "import seaborn as sns\n",
        "import numpy as np\n",
        "\n",
        "from sklearn.metrics import precision_score, recall_score, f1_score, roc_auc_score, roc_curve\n",
        "\n",
        "\n",
        "from sklearn.preprocessing import StandardScaler\n",
        "from sklearn.model_selection import train_test_split\n",
        "from sklearn.model_selection import GridSearchCV\n",
        "from sklearn.model_selection import RandomizedSearchCV\n",
        "\n",
        "import catboost as cb\n",
        "from sklearn.ensemble import RandomForestClassifier\n",
        "import lightgbm as lgb\n",
        "from lightgbm import LGBMClassifier\n",
        "\n",
        "from sklearn.utils.class_weight import compute_class_weight\n",
        "from sklearn.utils import shuffle\n",
        "\n",
        "import pickle\n",
        "import time\n",
        "from collections import Counter  \n",
        "import gc\n",
        "import math\n",
        "\n",
        "import warnings\n",
        "warnings.filterwarnings(\"ignore\")"
      ]
    },
    {
      "cell_type": "code",
      "execution_count": null,
      "metadata": {
        "id": "O6ImY81v0t5x"
      },
      "outputs": [],
      "source": [
        "#import  pytorch_tabnet"
      ]
    },
    {
      "cell_type": "code",
      "execution_count": null,
      "metadata": {
        "id": "DtERSPcR0t5y"
      },
      "outputs": [],
      "source": [
        "#from pytorch_tabnet.tab_model import TabNetClassifier\n",
        "#from pytorch_tabnet.metrics import Metric"
      ]
    },
    {
      "cell_type": "code",
      "execution_count": null,
      "metadata": {
        "id": "vFqx6J8r0t5z"
      },
      "outputs": [],
      "source": [
        "data = pd.read_csv('train_dataset_train.csv', nrows = 2000000)"
      ]
    },
    {
      "cell_type": "code",
      "execution_count": null,
      "metadata": {
        "id": "BUr5qxKo0t50"
      },
      "outputs": [],
      "source": [
        "nam = data.columns"
      ]
    },
    {
      "cell_type": "code",
      "execution_count": null,
      "metadata": {
        "colab": {
          "base_uri": "https://localhost:8080/",
          "height": 334
        },
        "id": "eOr3E4YF-65N",
        "outputId": "0cf964a5-eeee-41a1-d5ea-986bf8273b13"
      },
      "outputs": [
        {
          "data": {
            "text/html": [
              "<div>\n",
              "<style scoped>\n",
              "    .dataframe tbody tr th:only-of-type {\n",
              "        vertical-align: middle;\n",
              "    }\n",
              "\n",
              "    .dataframe tbody tr th {\n",
              "        vertical-align: top;\n",
              "    }\n",
              "\n",
              "    .dataframe thead th {\n",
              "        text-align: right;\n",
              "    }\n",
              "</style>\n",
              "<table border=\"1\" class=\"dataframe\">\n",
              "  <thead>\n",
              "    <tr style=\"text-align: right;\">\n",
              "      <th></th>\n",
              "      <th>id</th>\n",
              "      <th>oper_type + oper_attr</th>\n",
              "      <th>index_oper</th>\n",
              "      <th>type</th>\n",
              "      <th>priority</th>\n",
              "      <th>is_privatecategory</th>\n",
              "      <th>class</th>\n",
              "      <th>is_in_yandex</th>\n",
              "      <th>is_return</th>\n",
              "      <th>weight</th>\n",
              "      <th>...</th>\n",
              "      <th>dist_qty_oper_login_1</th>\n",
              "      <th>total_qty_oper_login_1</th>\n",
              "      <th>total_qty_oper_login_0</th>\n",
              "      <th>total_qty_over_index_and_type</th>\n",
              "      <th>total_qty_over_index</th>\n",
              "      <th>is_wrong_sndr_name</th>\n",
              "      <th>is_wrong_rcpn_name</th>\n",
              "      <th>is_wrong_phone_number</th>\n",
              "      <th>is_wrong_address</th>\n",
              "      <th>label</th>\n",
              "    </tr>\n",
              "  </thead>\n",
              "  <tbody>\n",
              "    <tr>\n",
              "      <th>0</th>\n",
              "      <td>6818780</td>\n",
              "      <td>1043_-1</td>\n",
              "      <td>628629.0</td>\n",
              "      <td>Участок</td>\n",
              "      <td>7503.0</td>\n",
              "      <td>N</td>\n",
              "      <td>0.0</td>\n",
              "      <td>Y</td>\n",
              "      <td>N</td>\n",
              "      <td>87.0</td>\n",
              "      <td>...</td>\n",
              "      <td>42.0</td>\n",
              "      <td>720176.0</td>\n",
              "      <td>58950.0</td>\n",
              "      <td>779126.0</td>\n",
              "      <td>8290896.0</td>\n",
              "      <td>0</td>\n",
              "      <td>0</td>\n",
              "      <td>0</td>\n",
              "      <td>0</td>\n",
              "      <td>0</td>\n",
              "    </tr>\n",
              "    <tr>\n",
              "      <th>1</th>\n",
              "      <td>9907176</td>\n",
              "      <td>1023_-1</td>\n",
              "      <td>102976.0</td>\n",
              "      <td>ММПО</td>\n",
              "      <td>7503.0</td>\n",
              "      <td>N</td>\n",
              "      <td>0.0</td>\n",
              "      <td>N</td>\n",
              "      <td>N</td>\n",
              "      <td>107.0</td>\n",
              "      <td>...</td>\n",
              "      <td>914.0</td>\n",
              "      <td>48856658.0</td>\n",
              "      <td>83318932.0</td>\n",
              "      <td>132175590.0</td>\n",
              "      <td>136819803.0</td>\n",
              "      <td>0</td>\n",
              "      <td>0</td>\n",
              "      <td>0</td>\n",
              "      <td>0</td>\n",
              "      <td>0</td>\n",
              "    </tr>\n",
              "    <tr>\n",
              "      <th>2</th>\n",
              "      <td>3304275</td>\n",
              "      <td>1018_-1</td>\n",
              "      <td>620962.0</td>\n",
              "      <td>Цех</td>\n",
              "      <td>7503.0</td>\n",
              "      <td>N</td>\n",
              "      <td>0.0</td>\n",
              "      <td>Y</td>\n",
              "      <td>N</td>\n",
              "      <td>50.0</td>\n",
              "      <td>...</td>\n",
              "      <td>62.0</td>\n",
              "      <td>3246292.0</td>\n",
              "      <td>3233068.0</td>\n",
              "      <td>6479360.0</td>\n",
              "      <td>52708071.0</td>\n",
              "      <td>0</td>\n",
              "      <td>1</td>\n",
              "      <td>0</td>\n",
              "      <td>0</td>\n",
              "      <td>0</td>\n",
              "    </tr>\n",
              "    <tr>\n",
              "      <th>3</th>\n",
              "      <td>9020937</td>\n",
              "      <td>1019_-1</td>\n",
              "      <td>344964.0</td>\n",
              "      <td>Цех</td>\n",
              "      <td>7503.0</td>\n",
              "      <td>N</td>\n",
              "      <td>0.0</td>\n",
              "      <td>Y</td>\n",
              "      <td>N</td>\n",
              "      <td>416.0</td>\n",
              "      <td>...</td>\n",
              "      <td>55.0</td>\n",
              "      <td>2060928.0</td>\n",
              "      <td>653280.0</td>\n",
              "      <td>2714208.0</td>\n",
              "      <td>19562334.0</td>\n",
              "      <td>0</td>\n",
              "      <td>0</td>\n",
              "      <td>0</td>\n",
              "      <td>0</td>\n",
              "      <td>0</td>\n",
              "    </tr>\n",
              "    <tr>\n",
              "      <th>4</th>\n",
              "      <td>3082311</td>\n",
              "      <td>1020_-1</td>\n",
              "      <td>629819.0</td>\n",
              "      <td>Участок</td>\n",
              "      <td>7503.0</td>\n",
              "      <td>N</td>\n",
              "      <td>0.0</td>\n",
              "      <td>Y</td>\n",
              "      <td>N</td>\n",
              "      <td>795.0</td>\n",
              "      <td>...</td>\n",
              "      <td>16.0</td>\n",
              "      <td>316919.0</td>\n",
              "      <td>27911.0</td>\n",
              "      <td>344830.0</td>\n",
              "      <td>4719186.0</td>\n",
              "      <td>0</td>\n",
              "      <td>0</td>\n",
              "      <td>0</td>\n",
              "      <td>0</td>\n",
              "      <td>0</td>\n",
              "    </tr>\n",
              "  </tbody>\n",
              "</table>\n",
              "<p>5 rows × 29 columns</p>\n",
              "</div>"
            ],
            "text/plain": [
              "        id oper_type + oper_attr index_oper     type  priority  \\\n",
              "0  6818780               1043_-1   628629.0  Участок    7503.0   \n",
              "1  9907176               1023_-1   102976.0     ММПО    7503.0   \n",
              "2  3304275               1018_-1   620962.0      Цех    7503.0   \n",
              "3  9020937               1019_-1   344964.0      Цех    7503.0   \n",
              "4  3082311               1020_-1   629819.0  Участок    7503.0   \n",
              "\n",
              "  is_privatecategory  class is_in_yandex is_return  weight  ...  \\\n",
              "0                  N    0.0            Y         N    87.0  ...   \n",
              "1                  N    0.0            N         N   107.0  ...   \n",
              "2                  N    0.0            Y         N    50.0  ...   \n",
              "3                  N    0.0            Y         N   416.0  ...   \n",
              "4                  N    0.0            Y         N   795.0  ...   \n",
              "\n",
              "   dist_qty_oper_login_1  total_qty_oper_login_1  total_qty_oper_login_0  \\\n",
              "0                   42.0                720176.0                 58950.0   \n",
              "1                  914.0              48856658.0              83318932.0   \n",
              "2                   62.0               3246292.0               3233068.0   \n",
              "3                   55.0               2060928.0                653280.0   \n",
              "4                   16.0                316919.0                 27911.0   \n",
              "\n",
              "   total_qty_over_index_and_type  total_qty_over_index  is_wrong_sndr_name  \\\n",
              "0                       779126.0             8290896.0                   0   \n",
              "1                    132175590.0           136819803.0                   0   \n",
              "2                      6479360.0            52708071.0                   0   \n",
              "3                      2714208.0            19562334.0                   0   \n",
              "4                       344830.0             4719186.0                   0   \n",
              "\n",
              "  is_wrong_rcpn_name  is_wrong_phone_number  is_wrong_address  label  \n",
              "0                  0                      0                 0      0  \n",
              "1                  0                      0                 0      0  \n",
              "2                  1                      0                 0      0  \n",
              "3                  0                      0                 0      0  \n",
              "4                  0                      0                 0      0  \n",
              "\n",
              "[5 rows x 29 columns]"
            ]
          },
          "execution_count": 74,
          "metadata": {},
          "output_type": "execute_result"
        }
      ],
      "source": [
        "data.head()"
      ]
    },
    {
      "cell_type": "code",
      "execution_count": null,
      "metadata": {
        "id": "J9qZcYlh0t53",
        "outputId": "45953977-7fa0-4a3d-d33d-e81f1f2663ca"
      },
      "outputs": [
        {
          "data": {
            "text/plain": [
              "array(['1043_-1', '1023_-1', '1018_-1', '1019_-1', '1020_-1', '1001_-1',\n",
              "       '8_13', '1_-1', '1022_-1', '8_0', '8_3', '1041_-1', '1016_-1',\n",
              "       '11_-1', '8_2', '8_6', '183_-1', '1042_-1', '9_-1', '1004_-1',\n",
              "       '14_1', '1014_-1', '26_-1', '1044_-1', '29_-1', '0_-1', '184_-1',\n",
              "       '185_-1', '39_-1', '2_1', '131_-1', '12_9', '41_-1', '2_6',\n",
              "       '14_10', '12_1', '1026_-1', '1015_-1', '154_-1', '1025_-1',\n",
              "       '1017_-1', '1012_-1', '8_5', '12_8', '8_4', '8_20', '1021_-1',\n",
              "       '4_3', '14_1001', '14_18', '1027_-1', '6_3', '1017_1001', '114_-1',\n",
              "       '1045_-1', '3_1', '14_21', '1017_1000', '30_-1', '1005_-1', '4_1',\n",
              "       '184_1', '14_20', '8_182', '2_8', '11_0', '104_-1', '183_1',\n",
              "       '41_4', '12_11', '20_-1', '15_-1', '41_1', '14_16', '12_2',\n",
              "       '1013_-1', '12_10', '1002_-1', '3_9', '8_1', '12_4', '1003_-1',\n",
              "       '2_10', '6_1', '4_2', '14_6', '14_17', '8_22', '2_11', '10_-1',\n",
              "       '8_18', '41_3', '12_6', '3_10', '34_-1', '2_2'], dtype=object)"
            ]
          },
          "execution_count": 75,
          "metadata": {},
          "output_type": "execute_result"
        }
      ],
      "source": [
        "data['oper_type + oper_attr'].unique()"
      ]
    },
    {
      "cell_type": "code",
      "execution_count": null,
      "metadata": {
        "id": "E-0aVvEg0t55",
        "outputId": "90192c1d-2ec5-4d69-fe07-f992f9277f66"
      },
      "outputs": [
        {
          "data": {
            "text/plain": [
              "oper_type + oper_attr\n",
              "12_6       0.000000\n",
              "1043_-1    0.000129\n",
              "1020_-1    0.000561\n",
              "1044_-1    0.003799\n",
              "41_-1      0.067073\n",
              "1004_-1    0.357598\n",
              "2_1        0.401691\n",
              "2_6        0.455867\n",
              "2_8        0.600000\n",
              "8_182      0.816794\n",
              "2_11       1.000000\n",
              "2_2        1.000000\n",
              "34_-1      1.000000\n",
              "Name: label, dtype: float64"
            ]
          },
          "execution_count": 80,
          "metadata": {},
          "output_type": "execute_result"
        }
      ],
      "source": [
        "data.groupby('oper_type + oper_attr')['label'].mean().sort_values().tail(13)"
      ]
    },
    {
      "cell_type": "code",
      "execution_count": null,
      "metadata": {
        "id": "CL0eGo_20t55",
        "outputId": "063520a8-b0b9-49eb-de11-cf05c2ed69b9"
      },
      "outputs": [
        {
          "data": {
            "text/plain": [
              "oper_type + oper_attr\n",
              "8_6         44747\n",
              "1044_-1     44751\n",
              "1043_-1     46476\n",
              "8_2         47603\n",
              "1023_-1     71759\n",
              "1041_-1     96374\n",
              "1042_-1     97998\n",
              "1004_-1    103317\n",
              "1018_-1    105612\n",
              "1001_-1    117827\n",
              "1_-1       119543\n",
              "8_0        133878\n",
              "1019_-1    138029\n",
              "1022_-1    218709\n",
              "1020_-1    231599\n",
              "Name: label, dtype: int64"
            ]
          },
          "execution_count": 81,
          "metadata": {},
          "output_type": "execute_result"
        }
      ],
      "source": [
        "data.groupby('oper_type + oper_attr')['label'].count().sort_values().tail(15)"
      ]
    },
    {
      "cell_type": "code",
      "execution_count": null,
      "metadata": {
        "id": "QnUo7svK0t56",
        "outputId": "6da5c417-fb73-43ec-ff7e-e8bf9b76fe22"
      },
      "outputs": [
        {
          "data": {
            "text/plain": [
              "Index(['12_6', '1043_-1', '1020_-1', '1044_-1', '41_-1', '1004_-1', '2_1',\n",
              "       '2_6', '2_8', '8_182', '2_11', '2_2', '34_-1'],\n",
              "      dtype='object', name='oper_type + oper_attr')"
            ]
          },
          "execution_count": 84,
          "metadata": {},
          "output_type": "execute_result"
        }
      ],
      "source": [
        "max_label = data.groupby('oper_type + oper_attr')['label'].mean().sort_values().tail(13).index\n",
        "max_label"
      ]
    },
    {
      "cell_type": "code",
      "execution_count": null,
      "metadata": {
        "id": "jaWfBrDc0t57",
        "outputId": "3aba7719-110d-449f-84ea-d4a21ba05584"
      },
      "outputs": [
        {
          "data": {
            "text/plain": [
              "Index(['8_6', '1044_-1', '1043_-1', '8_2', '1023_-1', '1041_-1', '1042_-1',\n",
              "       '1004_-1', '1018_-1', '1001_-1', '1_-1', '8_0', '1019_-1', '1022_-1',\n",
              "       '1020_-1'],\n",
              "      dtype='object', name='oper_type + oper_attr')"
            ]
          },
          "execution_count": 85,
          "metadata": {},
          "output_type": "execute_result"
        }
      ],
      "source": [
        "max_ind = data.groupby('oper_type + oper_attr')['label'].count().sort_values().tail(15).index\n",
        "\n",
        "max_ind"
      ]
    },
    {
      "cell_type": "code",
      "execution_count": null,
      "metadata": {
        "id": "FCl0I7ku0t57",
        "outputId": "42632aac-db3a-4810-db73-1e6cedfddb13"
      },
      "outputs": [
        {
          "data": {
            "text/plain": [
              "oper_type + oper_attr\n",
              "1001_-1    0.000000\n",
              "1018_-1    0.000000\n",
              "1019_-1    0.000000\n",
              "1022_-1    0.000000\n",
              "1023_-1    0.000000\n",
              "1041_-1    0.000000\n",
              "1042_-1    0.000000\n",
              "1_-1       0.000000\n",
              "8_0        0.000000\n",
              "8_2        0.000000\n",
              "8_6        0.000000\n",
              "1043_-1    0.000129\n",
              "1020_-1    0.000561\n",
              "1044_-1    0.003799\n",
              "1004_-1    0.357598\n",
              "Name: label, dtype: float64"
            ]
          },
          "execution_count": 89,
          "metadata": {},
          "output_type": "execute_result"
        }
      ],
      "source": [
        "data[data['oper_type + oper_attr'].isin(max_ind)].groupby('oper_type + oper_attr')['label'].mean().sort_values()"
      ]
    },
    {
      "cell_type": "code",
      "execution_count": null,
      "metadata": {
        "id": "ZCoO_gYj0t58",
        "outputId": "25358f72-05d4-4f81-a926-986dfc7d9514"
      },
      "outputs": [
        {
          "data": {
            "text/plain": [
              "oper_type + oper_attr\n",
              "8_6         44747\n",
              "1044_-1     44751\n",
              "1043_-1     46476\n",
              "8_2         47603\n",
              "1023_-1     71759\n",
              "1041_-1     96374\n",
              "1042_-1     97998\n",
              "1004_-1    103317\n",
              "1018_-1    105612\n",
              "1001_-1    117827\n",
              "1_-1       119543\n",
              "8_0        133878\n",
              "1019_-1    138029\n",
              "1022_-1    218709\n",
              "1020_-1    231599\n",
              "Name: label, dtype: int64"
            ]
          },
          "execution_count": 90,
          "metadata": {},
          "output_type": "execute_result"
        }
      ],
      "source": [
        "data.groupby('oper_type + oper_attr')['label'].count().sort_values().tail(15)"
      ]
    },
    {
      "cell_type": "code",
      "execution_count": null,
      "metadata": {
        "id": "5vy5ekV30t59",
        "outputId": "71c1880e-d48b-4b66-d639-1e3bab698e2d"
      },
      "outputs": [
        {
          "data": {
            "text/plain": [
              "29528"
            ]
          },
          "execution_count": 87,
          "metadata": {},
          "output_type": "execute_result"
        }
      ],
      "source": [
        "data['index_oper'].unique().size"
      ]
    },
    {
      "cell_type": "code",
      "execution_count": null,
      "metadata": {
        "id": "UKtGe0BP0t5-"
      },
      "outputs": [],
      "source": [
        "data_v = pd.read_csv('test_dataset_test.csv')"
      ]
    },
    {
      "cell_type": "code",
      "execution_count": null,
      "metadata": {
        "scrolled": true,
        "id": "TX7ZVucs0t5-",
        "outputId": "bd72552a-b0f6-4713-9ebe-e2696288b643"
      },
      "outputs": [
        {
          "data": {
            "text/plain": [
              "oper_type + oper_attr\n",
              "1044_-1     90070\n",
              "8_6         90140\n",
              "1043_-1     92805\n",
              "8_2         95185\n",
              "1023_-1    143417\n",
              "1041_-1    192451\n",
              "1042_-1    196258\n",
              "1004_-1    205472\n",
              "1018_-1    212302\n",
              "1001_-1    236006\n",
              "1_-1       240459\n",
              "8_0        268559\n",
              "1019_-1    276312\n",
              "1022_-1    437702\n",
              "1020_-1    461403\n",
              "Name: index_oper, dtype: int64"
            ]
          },
          "execution_count": 94,
          "metadata": {},
          "output_type": "execute_result"
        }
      ],
      "source": [
        "data_v.groupby('oper_type + oper_attr')['index_oper'].count().sort_values().tail(15)"
      ]
    },
    {
      "cell_type": "code",
      "execution_count": null,
      "metadata": {
        "id": "0A3z24O40t5_",
        "outputId": "cd1052da-0de1-4b74-a924-cb03c8c16fa7"
      },
      "outputs": [
        {
          "data": {
            "text/plain": [
              "array(['1043_-1', '1023_-1', '1018_-1', '1019_-1', '1020_-1', '1001_-1',\n",
              "       '8_13', '1_-1', '1022_-1', '8_0', '8_3', '1041_-1', '1016_-1',\n",
              "       '11_-1', '8_2', '8_6', '183_-1', '1042_-1', '9_-1', '1004_-1',\n",
              "       '14_1', '1014_-1', '26_-1', '1044_-1', '29_-1', '0_-1', '184_-1',\n",
              "       '185_-1', '39_-1', '2_1', '131_-1', '12_9', '41_-1', '2_6',\n",
              "       '14_10', '12_1', '1026_-1', '1015_-1', '154_-1', '1025_-1',\n",
              "       '1017_-1', '1012_-1', '8_5', '12_8', '8_4', '8_20', '1021_-1',\n",
              "       '4_3', '14_1001', '14_18', '1027_-1', '6_3', '1017_1001', '114_-1',\n",
              "       '1045_-1', '3_1', '14_21', '1017_1000', '30_-1', '1005_-1', '4_1',\n",
              "       '184_1', '14_20', '8_182', '2_8', '11_0', '104_-1', '183_1',\n",
              "       '41_4', '12_11', '20_-1', '15_-1', '41_1', '14_16', '12_2',\n",
              "       '1013_-1', '12_10', '1002_-1', '3_9', '8_1', '12_4', '1003_-1',\n",
              "       '2_10', '6_1', '4_2', '14_6', '14_17', '8_22', '2_11', '10_-1',\n",
              "       '8_18', '41_3', '12_6', '3_10', '34_-1', '2_2', '6_5', '5_3',\n",
              "       '24_-1', '5_1', '8_15', '8_21', '8_51', '14_19', '128_-1', '12_7'],\n",
              "      dtype=object)"
            ]
          },
          "execution_count": 5,
          "metadata": {},
          "output_type": "execute_result"
        }
      ],
      "source": [
        "data['oper_type + oper_attr'].unique()"
      ]
    },
    {
      "cell_type": "code",
      "execution_count": null,
      "metadata": {
        "id": "10HC7xTm0t5_",
        "outputId": "f07258c0-5cf0-43bd-9bdc-3465025bb272"
      },
      "outputs": [
        {
          "data": {
            "text/plain": [
              "array([0., 3., 1., 2., 4., 5.])"
            ]
          },
          "execution_count": 95,
          "metadata": {},
          "output_type": "execute_result"
        }
      ],
      "source": [
        "data['class'].unique()"
      ]
    },
    {
      "cell_type": "code",
      "execution_count": null,
      "metadata": {
        "id": "kgUUBBVZ0t6A",
        "outputId": "e07ffeff-dca4-4717-f47c-c2a0a81be54c"
      },
      "outputs": [
        {
          "data": {
            "text/plain": [
              "2176"
            ]
          },
          "execution_count": 15,
          "metadata": {},
          "output_type": "execute_result"
        }
      ],
      "source": [
        "data['weight'].unique().size"
      ]
    },
    {
      "cell_type": "code",
      "execution_count": null,
      "metadata": {
        "id": "qRGa4eU90t6A",
        "outputId": "5bad9d2e-e50a-48cd-b97d-b7ee9e50ed9c"
      },
      "outputs": [
        {
          "data": {
            "text/plain": [
              "(3, 81)"
            ]
          },
          "execution_count": 17,
          "metadata": {},
          "output_type": "execute_result"
        }
      ],
      "source": [
        "data.loc[data['weight']==0, 'label'].sum(), data.loc[data['weight']==0, 'label'].count()"
      ]
    },
    {
      "cell_type": "code",
      "execution_count": null,
      "metadata": {
        "id": "O5p49yFC0t6B",
        "outputId": "f04a15d2-f041-4d80-cd51-f950d9eead02"
      },
      "outputs": [
        {
          "data": {
            "text/plain": [
              "(214, 13513)"
            ]
          },
          "execution_count": 18,
          "metadata": {},
          "output_type": "execute_result"
        }
      ],
      "source": [
        "data.loc[data['weight_mfi']==0, 'label'].sum(), data.loc[data['weight_mfi']==0, 'label'].count()"
      ]
    },
    {
      "cell_type": "code",
      "execution_count": null,
      "metadata": {
        "id": "pOWF6dJB0t6C",
        "outputId": "a933f007-7721-4df2-a976-db46d146f530"
      },
      "outputs": [
        {
          "data": {
            "text/plain": [
              "0          2.121951\n",
              "1          1.573529\n",
              "2          0.892857\n",
              "3         12.606061\n",
              "4          1.110335\n",
              "            ...    \n",
              "499995     1.111765\n",
              "499996     1.370370\n",
              "499997     0.604167\n",
              "499998          inf\n",
              "499999     1.113636\n",
              "Length: 500000, dtype: float64"
            ]
          },
          "execution_count": 16,
          "metadata": {},
          "output_type": "execute_result"
        }
      ],
      "source": [
        "data['weight'] / data['weight_mfi']"
      ]
    },
    {
      "cell_type": "code",
      "execution_count": null,
      "metadata": {
        "id": "HXbLwrlf0t6C",
        "outputId": "d427aeec-5b5b-457b-b709-b2182490247a"
      },
      "outputs": [
        {
          "data": {
            "text/plain": [
              "[0.0,\n",
              " 1.0,\n",
              " 2.0,\n",
              " 3.0,\n",
              " 4.0,\n",
              " 5.0,\n",
              " 6.0,\n",
              " 7.0,\n",
              " 8.0,\n",
              " 9.0,\n",
              " 10.0,\n",
              " 11.0,\n",
              " 12.0,\n",
              " 13.0,\n",
              " 14.0,\n",
              " 15.0,\n",
              " 16.0,\n",
              " 17.0,\n",
              " 18.0,\n",
              " 19.0,\n",
              " 20.0,\n",
              " 21.0,\n",
              " 22.0,\n",
              " 23.0,\n",
              " 24.0,\n",
              " 25.0,\n",
              " 26.0,\n",
              " 27.0,\n",
              " 28.0,\n",
              " 29.0,\n",
              " 30.0,\n",
              " 31.0,\n",
              " 32.0,\n",
              " 33.0,\n",
              " 34.0,\n",
              " 35.0,\n",
              " 36.0,\n",
              " 37.0,\n",
              " 38.0,\n",
              " 39.0,\n",
              " 40.0,\n",
              " 41.0,\n",
              " 42.0,\n",
              " 43.0,\n",
              " 44.0,\n",
              " 45.0,\n",
              " 46.0,\n",
              " 47.0,\n",
              " 48.0,\n",
              " 49.0,\n",
              " 50.0,\n",
              " 51.0,\n",
              " 52.0,\n",
              " 53.0,\n",
              " 54.0,\n",
              " 55.0,\n",
              " 56.0,\n",
              " 57.0,\n",
              " 58.0,\n",
              " 59.0,\n",
              " 60.0,\n",
              " 61.0,\n",
              " 62.0,\n",
              " 63.0,\n",
              " 64.0,\n",
              " 65.0,\n",
              " 66.0,\n",
              " 67.0,\n",
              " 68.0,\n",
              " 69.0,\n",
              " 70.0,\n",
              " 71.0,\n",
              " 72.0,\n",
              " 73.0,\n",
              " 74.0,\n",
              " 75.0,\n",
              " 76.0,\n",
              " 77.0,\n",
              " 78.0,\n",
              " 79.0,\n",
              " 80.0,\n",
              " 81.0,\n",
              " 82.0,\n",
              " 83.0,\n",
              " 84.0,\n",
              " 85.0,\n",
              " 86.0,\n",
              " 87.0,\n",
              " 88.0,\n",
              " 89.0,\n",
              " 90.0,\n",
              " 91.0,\n",
              " 92.0,\n",
              " 93.0,\n",
              " 94.0,\n",
              " 95.0,\n",
              " 96.0,\n",
              " 97.0,\n",
              " 98.0,\n",
              " 99.0,\n",
              " 100.0,\n",
              " 101.0,\n",
              " 102.0,\n",
              " 103.0,\n",
              " 104.0,\n",
              " 105.0,\n",
              " 106.0,\n",
              " 107.0,\n",
              " 108.0,\n",
              " 109.0,\n",
              " 110.0,\n",
              " 111.0,\n",
              " 112.0,\n",
              " 113.0,\n",
              " 114.0,\n",
              " 115.0,\n",
              " 116.0,\n",
              " 117.0,\n",
              " 118.0,\n",
              " 119.0,\n",
              " 120.0,\n",
              " 121.0,\n",
              " 122.0,\n",
              " 123.0,\n",
              " 124.0,\n",
              " 125.0,\n",
              " 126.0,\n",
              " 127.0,\n",
              " 128.0,\n",
              " 129.0,\n",
              " 130.0,\n",
              " 131.0,\n",
              " 132.0,\n",
              " 133.0,\n",
              " 134.0,\n",
              " 135.0,\n",
              " 136.0,\n",
              " 137.0,\n",
              " 138.0,\n",
              " 139.0,\n",
              " 140.0,\n",
              " 141.0,\n",
              " 142.0,\n",
              " 143.0,\n",
              " 144.0,\n",
              " 145.0,\n",
              " 146.0,\n",
              " 147.0,\n",
              " 148.0,\n",
              " 149.0,\n",
              " 150.0,\n",
              " 151.0,\n",
              " 152.0,\n",
              " 153.0,\n",
              " 154.0,\n",
              " 155.0,\n",
              " 156.0,\n",
              " 157.0,\n",
              " 158.0,\n",
              " 159.0,\n",
              " 160.0,\n",
              " 161.0,\n",
              " 162.0,\n",
              " 163.0,\n",
              " 164.0,\n",
              " 165.0,\n",
              " 166.0,\n",
              " 167.0,\n",
              " 168.0,\n",
              " 169.0,\n",
              " 170.0,\n",
              " 171.0,\n",
              " 172.0,\n",
              " 173.0,\n",
              " 174.0,\n",
              " 175.0,\n",
              " 176.0,\n",
              " 177.0,\n",
              " 178.0,\n",
              " 179.0,\n",
              " 180.0,\n",
              " 181.0,\n",
              " 182.0,\n",
              " 183.0,\n",
              " 184.0,\n",
              " 185.0,\n",
              " 186.0,\n",
              " 187.0,\n",
              " 188.0,\n",
              " 189.0,\n",
              " 190.0,\n",
              " 191.0,\n",
              " 192.0,\n",
              " 193.0,\n",
              " 194.0,\n",
              " 195.0,\n",
              " 196.0,\n",
              " 197.0,\n",
              " 198.0,\n",
              " 199.0,\n",
              " 200.0,\n",
              " 201.0,\n",
              " 202.0,\n",
              " 203.0,\n",
              " 204.0,\n",
              " 205.0,\n",
              " 206.0,\n",
              " 207.0,\n",
              " 208.0,\n",
              " 209.0,\n",
              " 210.0,\n",
              " 211.0,\n",
              " 212.0,\n",
              " 213.0,\n",
              " 214.0,\n",
              " 215.0,\n",
              " 216.0,\n",
              " 217.0,\n",
              " 218.0,\n",
              " 219.0,\n",
              " 220.0,\n",
              " 221.0,\n",
              " 222.0,\n",
              " 223.0,\n",
              " 224.0,\n",
              " 225.0,\n",
              " 226.0,\n",
              " 227.0,\n",
              " 228.0,\n",
              " 229.0,\n",
              " 230.0,\n",
              " 231.0,\n",
              " 232.0,\n",
              " 233.0,\n",
              " 234.0,\n",
              " 235.0,\n",
              " 236.0,\n",
              " 237.0,\n",
              " 238.0,\n",
              " 239.0,\n",
              " 240.0,\n",
              " 241.0,\n",
              " 242.0,\n",
              " 243.0,\n",
              " 244.0,\n",
              " 245.0,\n",
              " 246.0,\n",
              " 247.0,\n",
              " 248.0,\n",
              " 249.0,\n",
              " 250.0,\n",
              " 251.0,\n",
              " 252.0,\n",
              " 253.0,\n",
              " 254.0,\n",
              " 255.0,\n",
              " 256.0,\n",
              " 257.0,\n",
              " 258.0,\n",
              " 259.0,\n",
              " 260.0,\n",
              " 261.0,\n",
              " 262.0,\n",
              " 263.0,\n",
              " 264.0,\n",
              " 265.0,\n",
              " 266.0,\n",
              " 267.0,\n",
              " 268.0,\n",
              " 269.0,\n",
              " 270.0,\n",
              " 271.0,\n",
              " 272.0,\n",
              " 273.0,\n",
              " 274.0,\n",
              " 275.0,\n",
              " 276.0,\n",
              " 277.0,\n",
              " 278.0,\n",
              " 279.0,\n",
              " 280.0,\n",
              " 281.0,\n",
              " 282.0,\n",
              " 283.0,\n",
              " 284.0,\n",
              " 285.0,\n",
              " 286.0,\n",
              " 287.0,\n",
              " 288.0,\n",
              " 289.0,\n",
              " 290.0,\n",
              " 291.0,\n",
              " 292.0,\n",
              " 293.0,\n",
              " 294.0,\n",
              " 295.0,\n",
              " 296.0,\n",
              " 297.0,\n",
              " 298.0,\n",
              " 299.0,\n",
              " 300.0,\n",
              " 301.0,\n",
              " 302.0,\n",
              " 303.0,\n",
              " 304.0,\n",
              " 305.0,\n",
              " 306.0,\n",
              " 307.0,\n",
              " 308.0,\n",
              " 309.0,\n",
              " 310.0,\n",
              " 311.0,\n",
              " 312.0,\n",
              " 313.0,\n",
              " 314.0,\n",
              " 315.0,\n",
              " 316.0,\n",
              " 317.0,\n",
              " 318.0,\n",
              " 319.0,\n",
              " 320.0,\n",
              " 321.0,\n",
              " 322.0,\n",
              " 323.0,\n",
              " 324.0,\n",
              " 325.0,\n",
              " 326.0,\n",
              " 327.0,\n",
              " 328.0,\n",
              " 329.0,\n",
              " 330.0,\n",
              " 331.0,\n",
              " 332.0,\n",
              " 333.0,\n",
              " 334.0,\n",
              " 335.0,\n",
              " 336.0,\n",
              " 337.0,\n",
              " 338.0,\n",
              " 339.0,\n",
              " 340.0,\n",
              " 341.0,\n",
              " 342.0,\n",
              " 343.0,\n",
              " 344.0,\n",
              " 345.0,\n",
              " 346.0,\n",
              " 347.0,\n",
              " 348.0,\n",
              " 349.0,\n",
              " 350.0,\n",
              " 351.0,\n",
              " 352.0,\n",
              " 353.0,\n",
              " 354.0,\n",
              " 355.0,\n",
              " 356.0,\n",
              " 357.0,\n",
              " 358.0,\n",
              " 359.0,\n",
              " 360.0,\n",
              " 361.0,\n",
              " 362.0,\n",
              " 363.0,\n",
              " 364.0,\n",
              " 365.0,\n",
              " 366.0,\n",
              " 367.0,\n",
              " 368.0,\n",
              " 369.0,\n",
              " 370.0,\n",
              " 371.0,\n",
              " 372.0,\n",
              " 373.0,\n",
              " 374.0,\n",
              " 375.0,\n",
              " 376.0,\n",
              " 377.0,\n",
              " 378.0,\n",
              " 379.0,\n",
              " 380.0,\n",
              " 381.0,\n",
              " 382.0,\n",
              " 383.0,\n",
              " 384.0,\n",
              " 385.0,\n",
              " 386.0,\n",
              " 387.0,\n",
              " 388.0,\n",
              " 389.0,\n",
              " 390.0,\n",
              " 391.0,\n",
              " 392.0,\n",
              " 393.0,\n",
              " 394.0,\n",
              " 395.0,\n",
              " 396.0,\n",
              " 397.0,\n",
              " 398.0,\n",
              " 399.0,\n",
              " 400.0,\n",
              " 401.0,\n",
              " 402.0,\n",
              " 403.0,\n",
              " 404.0,\n",
              " 405.0,\n",
              " 406.0,\n",
              " 407.0,\n",
              " 408.0,\n",
              " 409.0,\n",
              " 410.0,\n",
              " 411.0,\n",
              " 412.0,\n",
              " 413.0,\n",
              " 414.0,\n",
              " 415.0,\n",
              " 416.0,\n",
              " 417.0,\n",
              " 418.0,\n",
              " 419.0,\n",
              " 420.0,\n",
              " 421.0,\n",
              " 422.0,\n",
              " 423.0,\n",
              " 424.0,\n",
              " 425.0,\n",
              " 426.0,\n",
              " 427.0,\n",
              " 428.0,\n",
              " 429.0,\n",
              " 430.0,\n",
              " 431.0,\n",
              " 432.0,\n",
              " 433.0,\n",
              " 434.0,\n",
              " 435.0,\n",
              " 436.0,\n",
              " 437.0,\n",
              " 438.0,\n",
              " 439.0,\n",
              " 440.0,\n",
              " 441.0,\n",
              " 442.0,\n",
              " 443.0,\n",
              " 444.0,\n",
              " 445.0,\n",
              " 446.0,\n",
              " 447.0,\n",
              " 448.0,\n",
              " 449.0,\n",
              " 450.0,\n",
              " 451.0,\n",
              " 452.0,\n",
              " 453.0,\n",
              " 454.0,\n",
              " 455.0,\n",
              " 456.0,\n",
              " 457.0,\n",
              " 458.0,\n",
              " 459.0,\n",
              " 460.0,\n",
              " 461.0,\n",
              " 462.0,\n",
              " 463.0,\n",
              " 464.0,\n",
              " 465.0,\n",
              " 466.0,\n",
              " 467.0,\n",
              " 468.0,\n",
              " 469.0,\n",
              " 470.0,\n",
              " 471.0,\n",
              " 472.0,\n",
              " 473.0,\n",
              " 474.0,\n",
              " 475.0,\n",
              " 476.0,\n",
              " 477.0,\n",
              " 478.0,\n",
              " 479.0,\n",
              " 480.0,\n",
              " 481.0,\n",
              " 482.0,\n",
              " 483.0,\n",
              " 484.0,\n",
              " 485.0,\n",
              " 486.0,\n",
              " 487.0,\n",
              " 488.0,\n",
              " 489.0,\n",
              " 490.0,\n",
              " 491.0,\n",
              " 492.0,\n",
              " 493.0,\n",
              " 494.0,\n",
              " 495.0,\n",
              " 496.0,\n",
              " 497.0,\n",
              " 498.0,\n",
              " 499.0,\n",
              " 500.0,\n",
              " 501.0,\n",
              " 502.0,\n",
              " 503.0,\n",
              " 504.0,\n",
              " 505.0,\n",
              " 506.0,\n",
              " 507.0,\n",
              " 508.0,\n",
              " 509.0,\n",
              " 510.0,\n",
              " 511.0,\n",
              " 512.0,\n",
              " 513.0,\n",
              " 514.0,\n",
              " 515.0,\n",
              " 516.0,\n",
              " 517.0,\n",
              " 518.0,\n",
              " 519.0,\n",
              " 520.0,\n",
              " 521.0,\n",
              " 522.0,\n",
              " 523.0,\n",
              " 524.0,\n",
              " 525.0,\n",
              " 526.0,\n",
              " 527.0,\n",
              " 528.0,\n",
              " 529.0,\n",
              " 530.0,\n",
              " 531.0,\n",
              " 532.0,\n",
              " 533.0,\n",
              " 534.0,\n",
              " 535.0,\n",
              " 536.0,\n",
              " 537.0,\n",
              " 538.0,\n",
              " 539.0,\n",
              " 540.0,\n",
              " 541.0,\n",
              " 542.0,\n",
              " 543.0,\n",
              " 544.0,\n",
              " 545.0,\n",
              " 546.0,\n",
              " 547.0,\n",
              " 548.0,\n",
              " 549.0,\n",
              " 550.0,\n",
              " 551.0,\n",
              " 552.0,\n",
              " 553.0,\n",
              " 554.0,\n",
              " 555.0,\n",
              " 556.0,\n",
              " 557.0,\n",
              " 558.0,\n",
              " 559.0,\n",
              " 560.0,\n",
              " 561.0,\n",
              " 562.0,\n",
              " 563.0,\n",
              " 564.0,\n",
              " 565.0,\n",
              " 566.0,\n",
              " 567.0,\n",
              " 568.0,\n",
              " 569.0,\n",
              " 570.0,\n",
              " 571.0,\n",
              " 572.0,\n",
              " 573.0,\n",
              " 574.0,\n",
              " 575.0,\n",
              " 576.0,\n",
              " 577.0,\n",
              " 578.0,\n",
              " 579.0,\n",
              " 580.0,\n",
              " 581.0,\n",
              " 582.0,\n",
              " 583.0,\n",
              " 584.0,\n",
              " 585.0,\n",
              " 586.0,\n",
              " 587.0,\n",
              " 588.0,\n",
              " 589.0,\n",
              " 590.0,\n",
              " 591.0,\n",
              " 592.0,\n",
              " 593.0,\n",
              " 594.0,\n",
              " 595.0,\n",
              " 596.0,\n",
              " 597.0,\n",
              " 598.0,\n",
              " 599.0,\n",
              " 600.0,\n",
              " 601.0,\n",
              " 602.0,\n",
              " 603.0,\n",
              " 604.0,\n",
              " 605.0,\n",
              " 606.0,\n",
              " 607.0,\n",
              " 608.0,\n",
              " 609.0,\n",
              " 610.0,\n",
              " 611.0,\n",
              " 612.0,\n",
              " 613.0,\n",
              " 614.0,\n",
              " 615.0,\n",
              " 616.0,\n",
              " 617.0,\n",
              " 618.0,\n",
              " 619.0,\n",
              " 620.0,\n",
              " 621.0,\n",
              " 622.0,\n",
              " 623.0,\n",
              " 624.0,\n",
              " 625.0,\n",
              " 626.0,\n",
              " 627.0,\n",
              " 628.0,\n",
              " 629.0,\n",
              " 630.0,\n",
              " 631.0,\n",
              " 632.0,\n",
              " 633.0,\n",
              " 634.0,\n",
              " 635.0,\n",
              " 636.0,\n",
              " 637.0,\n",
              " 638.0,\n",
              " 639.0,\n",
              " 640.0,\n",
              " 641.0,\n",
              " 642.0,\n",
              " 643.0,\n",
              " 644.0,\n",
              " 645.0,\n",
              " 646.0,\n",
              " 647.0,\n",
              " 648.0,\n",
              " 649.0,\n",
              " 650.0,\n",
              " 651.0,\n",
              " 652.0,\n",
              " 653.0,\n",
              " 654.0,\n",
              " 655.0,\n",
              " 656.0,\n",
              " 657.0,\n",
              " 658.0,\n",
              " 659.0,\n",
              " 660.0,\n",
              " 661.0,\n",
              " 662.0,\n",
              " 663.0,\n",
              " 664.0,\n",
              " 665.0,\n",
              " 666.0,\n",
              " 667.0,\n",
              " 668.0,\n",
              " 669.0,\n",
              " 670.0,\n",
              " 671.0,\n",
              " 672.0,\n",
              " 673.0,\n",
              " 674.0,\n",
              " 675.0,\n",
              " 676.0,\n",
              " 677.0,\n",
              " 678.0,\n",
              " 679.0,\n",
              " 680.0,\n",
              " 681.0,\n",
              " 682.0,\n",
              " 683.0,\n",
              " 684.0,\n",
              " 685.0,\n",
              " 686.0,\n",
              " 687.0,\n",
              " 688.0,\n",
              " 689.0,\n",
              " 690.0,\n",
              " 691.0,\n",
              " 692.0,\n",
              " 693.0,\n",
              " 694.0,\n",
              " 695.0,\n",
              " 696.0,\n",
              " 697.0,\n",
              " 698.0,\n",
              " 699.0,\n",
              " 700.0,\n",
              " 701.0,\n",
              " 702.0,\n",
              " 703.0,\n",
              " 704.0,\n",
              " 705.0,\n",
              " 706.0,\n",
              " 707.0,\n",
              " 708.0,\n",
              " 709.0,\n",
              " 710.0,\n",
              " 711.0,\n",
              " 712.0,\n",
              " 713.0,\n",
              " 714.0,\n",
              " 715.0,\n",
              " 716.0,\n",
              " 717.0,\n",
              " 718.0,\n",
              " 719.0,\n",
              " 720.0,\n",
              " 721.0,\n",
              " 722.0,\n",
              " 723.0,\n",
              " 724.0,\n",
              " 725.0,\n",
              " 726.0,\n",
              " 727.0,\n",
              " 728.0,\n",
              " 729.0,\n",
              " 730.0,\n",
              " 731.0,\n",
              " 732.0,\n",
              " 733.0,\n",
              " 734.0,\n",
              " 735.0,\n",
              " 736.0,\n",
              " 737.0,\n",
              " 738.0,\n",
              " 739.0,\n",
              " 740.0,\n",
              " 741.0,\n",
              " 742.0,\n",
              " 743.0,\n",
              " 744.0,\n",
              " 745.0,\n",
              " 746.0,\n",
              " 747.0,\n",
              " 748.0,\n",
              " 749.0,\n",
              " 750.0,\n",
              " 751.0,\n",
              " 752.0,\n",
              " 753.0,\n",
              " 754.0,\n",
              " 755.0,\n",
              " 756.0,\n",
              " 757.0,\n",
              " 758.0,\n",
              " 759.0,\n",
              " 760.0,\n",
              " 761.0,\n",
              " 762.0,\n",
              " 763.0,\n",
              " 764.0,\n",
              " 765.0,\n",
              " 766.0,\n",
              " 767.0,\n",
              " 768.0,\n",
              " 769.0,\n",
              " 770.0,\n",
              " 771.0,\n",
              " 772.0,\n",
              " 773.0,\n",
              " 774.0,\n",
              " 775.0,\n",
              " 776.0,\n",
              " 777.0,\n",
              " 778.0,\n",
              " 779.0,\n",
              " 780.0,\n",
              " 781.0,\n",
              " 782.0,\n",
              " 783.0,\n",
              " 784.0,\n",
              " 785.0,\n",
              " 786.0,\n",
              " 787.0,\n",
              " 788.0,\n",
              " 789.0,\n",
              " 790.0,\n",
              " 791.0,\n",
              " 792.0,\n",
              " 793.0,\n",
              " 794.0,\n",
              " 795.0,\n",
              " 796.0,\n",
              " 797.0,\n",
              " 798.0,\n",
              " 799.0,\n",
              " 800.0,\n",
              " 801.0,\n",
              " 802.0,\n",
              " 803.0,\n",
              " 804.0,\n",
              " 805.0,\n",
              " 806.0,\n",
              " 807.0,\n",
              " 808.0,\n",
              " 809.0,\n",
              " 810.0,\n",
              " 811.0,\n",
              " 812.0,\n",
              " 813.0,\n",
              " 814.0,\n",
              " 815.0,\n",
              " 816.0,\n",
              " 817.0,\n",
              " 818.0,\n",
              " 819.0,\n",
              " 820.0,\n",
              " 821.0,\n",
              " 822.0,\n",
              " 823.0,\n",
              " 824.0,\n",
              " 825.0,\n",
              " 826.0,\n",
              " 827.0,\n",
              " 828.0,\n",
              " 829.0,\n",
              " 830.0,\n",
              " 831.0,\n",
              " 832.0,\n",
              " 833.0,\n",
              " 834.0,\n",
              " 835.0,\n",
              " 836.0,\n",
              " 837.0,\n",
              " 838.0,\n",
              " 839.0,\n",
              " 840.0,\n",
              " 841.0,\n",
              " 842.0,\n",
              " 843.0,\n",
              " 844.0,\n",
              " 845.0,\n",
              " 846.0,\n",
              " 847.0,\n",
              " 848.0,\n",
              " 849.0,\n",
              " 850.0,\n",
              " 851.0,\n",
              " 852.0,\n",
              " 853.0,\n",
              " 854.0,\n",
              " 855.0,\n",
              " 856.0,\n",
              " 857.0,\n",
              " 858.0,\n",
              " 859.0,\n",
              " 860.0,\n",
              " 861.0,\n",
              " 862.0,\n",
              " 863.0,\n",
              " 864.0,\n",
              " 865.0,\n",
              " 866.0,\n",
              " 867.0,\n",
              " 868.0,\n",
              " 869.0,\n",
              " 870.0,\n",
              " 871.0,\n",
              " 872.0,\n",
              " 873.0,\n",
              " 874.0,\n",
              " 875.0,\n",
              " 876.0,\n",
              " 877.0,\n",
              " 878.0,\n",
              " 879.0,\n",
              " 880.0,\n",
              " 881.0,\n",
              " 882.0,\n",
              " 883.0,\n",
              " 884.0,\n",
              " 885.0,\n",
              " 886.0,\n",
              " 887.0,\n",
              " 888.0,\n",
              " 889.0,\n",
              " 890.0,\n",
              " 891.0,\n",
              " 892.0,\n",
              " 893.0,\n",
              " 894.0,\n",
              " 895.0,\n",
              " 896.0,\n",
              " 897.0,\n",
              " 898.0,\n",
              " 899.0,\n",
              " 900.0,\n",
              " 901.0,\n",
              " 902.0,\n",
              " 903.0,\n",
              " 904.0,\n",
              " 905.0,\n",
              " 906.0,\n",
              " 907.0,\n",
              " 908.0,\n",
              " 909.0,\n",
              " 910.0,\n",
              " 911.0,\n",
              " 912.0,\n",
              " 913.0,\n",
              " 914.0,\n",
              " 915.0,\n",
              " 916.0,\n",
              " 917.0,\n",
              " 918.0,\n",
              " 919.0,\n",
              " 920.0,\n",
              " 921.0,\n",
              " 922.0,\n",
              " 923.0,\n",
              " 924.0,\n",
              " 925.0,\n",
              " 926.0,\n",
              " 927.0,\n",
              " 928.0,\n",
              " 929.0,\n",
              " 930.0,\n",
              " 931.0,\n",
              " 932.0,\n",
              " 933.0,\n",
              " 934.0,\n",
              " 935.0,\n",
              " 936.0,\n",
              " 937.0,\n",
              " 938.0,\n",
              " 939.0,\n",
              " 940.0,\n",
              " 941.0,\n",
              " 942.0,\n",
              " 943.0,\n",
              " 944.0,\n",
              " 945.0,\n",
              " 946.0,\n",
              " 947.0,\n",
              " 948.0,\n",
              " 949.0,\n",
              " 950.0,\n",
              " 951.0,\n",
              " 952.0,\n",
              " 953.0,\n",
              " 954.0,\n",
              " 955.0,\n",
              " 956.0,\n",
              " 957.0,\n",
              " 958.0,\n",
              " 959.0,\n",
              " 960.0,\n",
              " 961.0,\n",
              " 962.0,\n",
              " 963.0,\n",
              " 964.0,\n",
              " 965.0,\n",
              " 966.0,\n",
              " 967.0,\n",
              " 968.0,\n",
              " 969.0,\n",
              " 970.0,\n",
              " 971.0,\n",
              " 972.0,\n",
              " 973.0,\n",
              " 974.0,\n",
              " 975.0,\n",
              " 976.0,\n",
              " 977.0,\n",
              " 978.0,\n",
              " 979.0,\n",
              " 980.0,\n",
              " 981.0,\n",
              " 982.0,\n",
              " 983.0,\n",
              " 984.0,\n",
              " 985.0,\n",
              " 986.0,\n",
              " 987.0,\n",
              " 988.0,\n",
              " 989.0,\n",
              " 990.0,\n",
              " 991.0,\n",
              " 992.0,\n",
              " 993.0,\n",
              " 994.0,\n",
              " 995.0,\n",
              " 996.0,\n",
              " 997.0,\n",
              " 998.0,\n",
              " 999.0,\n",
              " ...]"
            ]
          },
          "execution_count": 17,
          "metadata": {},
          "output_type": "execute_result"
        }
      ],
      "source": [
        "sorted(data['price_mfi'].unique())"
      ]
    },
    {
      "cell_type": "code",
      "execution_count": null,
      "metadata": {
        "id": "R3arN8bt0t6D",
        "outputId": "58630c37-bb58-4a33-ed83-601d565d04ee"
      },
      "outputs": [
        {
          "data": {
            "text/plain": [
              "(214, 13518)"
            ]
          },
          "execution_count": 19,
          "metadata": {},
          "output_type": "execute_result"
        }
      ],
      "source": [
        "data.loc[data['price_mfi']==0, 'label'].sum(), data.loc[data['price_mfi']==0, 'label'].count()"
      ]
    },
    {
      "cell_type": "code",
      "execution_count": null,
      "metadata": {
        "id": "3VD8EOb60t6D"
      },
      "outputs": [],
      "source": [
        "data.loc[data['price_mfi']==0, 'label']"
      ]
    },
    {
      "cell_type": "code",
      "execution_count": null,
      "metadata": {
        "id": "nBYHJylE0t6D",
        "outputId": "7792b553-9d9e-4389-ef4b-dacf4abcfffb"
      },
      "outputs": [
        {
          "data": {
            "text/html": [
              "<div>\n",
              "<style scoped>\n",
              "    .dataframe tbody tr th:only-of-type {\n",
              "        vertical-align: middle;\n",
              "    }\n",
              "\n",
              "    .dataframe tbody tr th {\n",
              "        vertical-align: top;\n",
              "    }\n",
              "\n",
              "    .dataframe thead th {\n",
              "        text-align: right;\n",
              "    }\n",
              "</style>\n",
              "<table border=\"1\" class=\"dataframe\">\n",
              "  <thead>\n",
              "    <tr style=\"text-align: right;\">\n",
              "      <th></th>\n",
              "      <th>price_mfi</th>\n",
              "      <th>weight</th>\n",
              "      <th>weight_mfi</th>\n",
              "    </tr>\n",
              "  </thead>\n",
              "  <tbody>\n",
              "    <tr>\n",
              "      <th>9</th>\n",
              "      <td>0.0</td>\n",
              "      <td>2201.0</td>\n",
              "      <td>0.0</td>\n",
              "    </tr>\n",
              "    <tr>\n",
              "      <th>11</th>\n",
              "      <td>0.0</td>\n",
              "      <td>846.0</td>\n",
              "      <td>0.0</td>\n",
              "    </tr>\n",
              "    <tr>\n",
              "      <th>15</th>\n",
              "      <td>0.0</td>\n",
              "      <td>134.0</td>\n",
              "      <td>0.0</td>\n",
              "    </tr>\n",
              "    <tr>\n",
              "      <th>46</th>\n",
              "      <td>0.0</td>\n",
              "      <td>934.0</td>\n",
              "      <td>0.0</td>\n",
              "    </tr>\n",
              "    <tr>\n",
              "      <th>67</th>\n",
              "      <td>0.0</td>\n",
              "      <td>180.0</td>\n",
              "      <td>0.0</td>\n",
              "    </tr>\n",
              "    <tr>\n",
              "      <th>...</th>\n",
              "      <td>...</td>\n",
              "      <td>...</td>\n",
              "      <td>...</td>\n",
              "    </tr>\n",
              "    <tr>\n",
              "      <th>99956</th>\n",
              "      <td>0.0</td>\n",
              "      <td>222.0</td>\n",
              "      <td>0.0</td>\n",
              "    </tr>\n",
              "    <tr>\n",
              "      <th>99959</th>\n",
              "      <td>0.0</td>\n",
              "      <td>656.0</td>\n",
              "      <td>0.0</td>\n",
              "    </tr>\n",
              "    <tr>\n",
              "      <th>99974</th>\n",
              "      <td>0.0</td>\n",
              "      <td>63.0</td>\n",
              "      <td>0.0</td>\n",
              "    </tr>\n",
              "    <tr>\n",
              "      <th>99979</th>\n",
              "      <td>0.0</td>\n",
              "      <td>866.0</td>\n",
              "      <td>0.0</td>\n",
              "    </tr>\n",
              "    <tr>\n",
              "      <th>99996</th>\n",
              "      <td>0.0</td>\n",
              "      <td>401.0</td>\n",
              "      <td>0.0</td>\n",
              "    </tr>\n",
              "  </tbody>\n",
              "</table>\n",
              "<p>13518 rows × 3 columns</p>\n",
              "</div>"
            ],
            "text/plain": [
              "       price_mfi  weight  weight_mfi\n",
              "9            0.0  2201.0         0.0\n",
              "11           0.0   846.0         0.0\n",
              "15           0.0   134.0         0.0\n",
              "46           0.0   934.0         0.0\n",
              "67           0.0   180.0         0.0\n",
              "...          ...     ...         ...\n",
              "99956        0.0   222.0         0.0\n",
              "99959        0.0   656.0         0.0\n",
              "99974        0.0    63.0         0.0\n",
              "99979        0.0   866.0         0.0\n",
              "99996        0.0   401.0         0.0\n",
              "\n",
              "[13518 rows x 3 columns]"
            ]
          },
          "execution_count": 24,
          "metadata": {},
          "output_type": "execute_result"
        }
      ],
      "source": [
        "data.loc[data['price_mfi']==0, ['price_mfi', 'weight', 'weight_mfi']]"
      ]
    },
    {
      "cell_type": "code",
      "execution_count": null,
      "metadata": {
        "colab": {
          "base_uri": "https://localhost:8080/"
        },
        "id": "vzeqf3hzFXVT",
        "outputId": "89d55827-828c-4f78-c70c-8a257ef5807c"
      },
      "outputs": [
        {
          "name": "stdout",
          "output_type": "stream",
          "text": [
            "<class 'pandas.core.frame.DataFrame'>\n",
            "RangeIndex: 500000 entries, 0 to 499999\n",
            "Data columns (total 29 columns):\n",
            " #   Column                         Non-Null Count   Dtype  \n",
            "---  ------                         --------------   -----  \n",
            " 0   id                             500000 non-null  int64  \n",
            " 1   oper_type + oper_attr          500000 non-null  object \n",
            " 2   index_oper                     500000 non-null  object \n",
            " 3   type                           500000 non-null  object \n",
            " 4   priority                       500000 non-null  float64\n",
            " 5   is_privatecategory             500000 non-null  object \n",
            " 6   class                          500000 non-null  float64\n",
            " 7   is_in_yandex                   500000 non-null  object \n",
            " 8   is_return                      500000 non-null  object \n",
            " 9   weight                         500000 non-null  float64\n",
            " 10  mailtype                       500000 non-null  float64\n",
            " 11  mailctg                        500000 non-null  float64\n",
            " 12  mailrank                       500000 non-null  float64\n",
            " 13  directctg                      500000 non-null  float64\n",
            " 14  transport_pay                  500000 non-null  float64\n",
            " 15  postmark                       500000 non-null  float64\n",
            " 16  name_mfi                       500000 non-null  object \n",
            " 17  weight_mfi                     500000 non-null  float64\n",
            " 18  price_mfi                      500000 non-null  float64\n",
            " 19  dist_qty_oper_login_1          500000 non-null  float64\n",
            " 20  total_qty_oper_login_1         500000 non-null  float64\n",
            " 21  total_qty_oper_login_0         500000 non-null  float64\n",
            " 22  total_qty_over_index_and_type  500000 non-null  float64\n",
            " 23  total_qty_over_index           500000 non-null  float64\n",
            " 24  is_wrong_sndr_name             500000 non-null  int64  \n",
            " 25  is_wrong_rcpn_name             500000 non-null  int64  \n",
            " 26  is_wrong_phone_number          500000 non-null  int64  \n",
            " 27  is_wrong_address               500000 non-null  int64  \n",
            " 28  label                          500000 non-null  int64  \n",
            "dtypes: float64(16), int64(6), object(7)\n",
            "memory usage: 110.6+ MB\n"
          ]
        }
      ],
      "source": [
        "data.info()"
      ]
    },
    {
      "cell_type": "code",
      "execution_count": null,
      "metadata": {
        "colab": {
          "base_uri": "https://localhost:8080/"
        },
        "id": "GHNEYkbvF5PR",
        "outputId": "752ad512-2293-40b4-f5a6-57805fd6d3e4"
      },
      "outputs": [
        {
          "data": {
            "text/plain": [
              "1"
            ]
          },
          "execution_count": 25,
          "metadata": {},
          "output_type": "execute_result"
        }
      ],
      "source": [
        "data['mailrank'].unique().size"
      ]
    },
    {
      "cell_type": "code",
      "execution_count": null,
      "metadata": {
        "colab": {
          "base_uri": "https://localhost:8080/"
        },
        "id": "Lq9dpDjtFXYn",
        "outputId": "676749b0-330a-4a50-a0bd-74f8893c4853"
      },
      "outputs": [
        {
          "data": {
            "text/plain": [
              "73"
            ]
          },
          "execution_count": 26,
          "metadata": {},
          "output_type": "execute_result"
        }
      ],
      "source": [
        "data['oper_type + oper_attr'].unique().size"
      ]
    },
    {
      "cell_type": "code",
      "execution_count": null,
      "metadata": {
        "colab": {
          "base_uri": "https://localhost:8080/",
          "height": 294
        },
        "id": "JGA2QfmKFXdk",
        "outputId": "6610a171-4173-44ea-882f-f1226e201d32"
      },
      "outputs": [
        {
          "data": {
            "text/plain": [
              "<AxesSubplot:>"
            ]
          },
          "execution_count": 27,
          "metadata": {},
          "output_type": "execute_result"
        },
        {
          "data": {
            "image/png": "[encoded data removed]",
            "text/plain": [
              "<Figure size 432x288 with 1 Axes>"
            ]
          },
          "metadata": {
            "needs_background": "light"
          },
          "output_type": "display_data"
        }
      ],
      "source": [
        "data['label'].hist()"
      ]
    },
    {
      "cell_type": "code",
      "execution_count": null,
      "metadata": {
        "colab": {
          "base_uri": "https://localhost:8080/",
          "height": 271
        },
        "id": "eHV4yGAZFX_u",
        "outputId": "5f15167d-e32c-4579-fc83-f69cd5360a85",
        "scrolled": true
      },
      "outputs": [
        {
          "data": {
            "text/html": [
              "<div>\n",
              "<style scoped>\n",
              "    .dataframe tbody tr th:only-of-type {\n",
              "        vertical-align: middle;\n",
              "    }\n",
              "\n",
              "    .dataframe tbody tr th {\n",
              "        vertical-align: top;\n",
              "    }\n",
              "\n",
              "    .dataframe thead th {\n",
              "        text-align: right;\n",
              "    }\n",
              "</style>\n",
              "<table border=\"1\" class=\"dataframe\">\n",
              "  <thead>\n",
              "    <tr style=\"text-align: right;\">\n",
              "      <th></th>\n",
              "      <th>id</th>\n",
              "      <th>oper_type + oper_attr</th>\n",
              "      <th>index_oper</th>\n",
              "      <th>type</th>\n",
              "      <th>priority</th>\n",
              "      <th>is_privatecategory</th>\n",
              "      <th>class</th>\n",
              "      <th>is_in_yandex</th>\n",
              "      <th>is_return</th>\n",
              "      <th>weight</th>\n",
              "      <th>...</th>\n",
              "      <th>dist_qty_oper_login_1</th>\n",
              "      <th>total_qty_oper_login_1</th>\n",
              "      <th>total_qty_oper_login_0</th>\n",
              "      <th>total_qty_over_index_and_type</th>\n",
              "      <th>total_qty_over_index</th>\n",
              "      <th>is_wrong_sndr_name</th>\n",
              "      <th>is_wrong_rcpn_name</th>\n",
              "      <th>is_wrong_phone_number</th>\n",
              "      <th>is_wrong_address</th>\n",
              "      <th>label</th>\n",
              "    </tr>\n",
              "  </thead>\n",
              "  <tbody>\n",
              "    <tr>\n",
              "      <th>0</th>\n",
              "      <td>6818780</td>\n",
              "      <td>1043_-1</td>\n",
              "      <td>628629.0</td>\n",
              "      <td>Участок</td>\n",
              "      <td>7503.0</td>\n",
              "      <td>N</td>\n",
              "      <td>0.0</td>\n",
              "      <td>Y</td>\n",
              "      <td>N</td>\n",
              "      <td>87.0</td>\n",
              "      <td>...</td>\n",
              "      <td>42.0</td>\n",
              "      <td>720176.0</td>\n",
              "      <td>58950.0</td>\n",
              "      <td>779126.0</td>\n",
              "      <td>8290896.0</td>\n",
              "      <td>0</td>\n",
              "      <td>0</td>\n",
              "      <td>0</td>\n",
              "      <td>0</td>\n",
              "      <td>0</td>\n",
              "    </tr>\n",
              "    <tr>\n",
              "      <th>1</th>\n",
              "      <td>9907176</td>\n",
              "      <td>1023_-1</td>\n",
              "      <td>102976.0</td>\n",
              "      <td>ММПО</td>\n",
              "      <td>7503.0</td>\n",
              "      <td>N</td>\n",
              "      <td>0.0</td>\n",
              "      <td>N</td>\n",
              "      <td>N</td>\n",
              "      <td>107.0</td>\n",
              "      <td>...</td>\n",
              "      <td>914.0</td>\n",
              "      <td>48856658.0</td>\n",
              "      <td>83318932.0</td>\n",
              "      <td>132175590.0</td>\n",
              "      <td>136819803.0</td>\n",
              "      <td>0</td>\n",
              "      <td>0</td>\n",
              "      <td>0</td>\n",
              "      <td>0</td>\n",
              "      <td>0</td>\n",
              "    </tr>\n",
              "    <tr>\n",
              "      <th>2</th>\n",
              "      <td>3304275</td>\n",
              "      <td>1018_-1</td>\n",
              "      <td>620962.0</td>\n",
              "      <td>Цех</td>\n",
              "      <td>7503.0</td>\n",
              "      <td>N</td>\n",
              "      <td>0.0</td>\n",
              "      <td>Y</td>\n",
              "      <td>N</td>\n",
              "      <td>50.0</td>\n",
              "      <td>...</td>\n",
              "      <td>62.0</td>\n",
              "      <td>3246292.0</td>\n",
              "      <td>3233068.0</td>\n",
              "      <td>6479360.0</td>\n",
              "      <td>52708071.0</td>\n",
              "      <td>0</td>\n",
              "      <td>1</td>\n",
              "      <td>0</td>\n",
              "      <td>0</td>\n",
              "      <td>0</td>\n",
              "    </tr>\n",
              "  </tbody>\n",
              "</table>\n",
              "<p>3 rows × 29 columns</p>\n",
              "</div>"
            ],
            "text/plain": [
              "        id oper_type + oper_attr index_oper     type  priority  \\\n",
              "0  6818780               1043_-1   628629.0  Участок    7503.0   \n",
              "1  9907176               1023_-1   102976.0     ММПО    7503.0   \n",
              "2  3304275               1018_-1   620962.0      Цех    7503.0   \n",
              "\n",
              "  is_privatecategory  class is_in_yandex is_return  weight  ...  \\\n",
              "0                  N    0.0            Y         N    87.0  ...   \n",
              "1                  N    0.0            N         N   107.0  ...   \n",
              "2                  N    0.0            Y         N    50.0  ...   \n",
              "\n",
              "   dist_qty_oper_login_1  total_qty_oper_login_1  total_qty_oper_login_0  \\\n",
              "0                   42.0                720176.0                 58950.0   \n",
              "1                  914.0              48856658.0              83318932.0   \n",
              "2                   62.0               3246292.0               3233068.0   \n",
              "\n",
              "   total_qty_over_index_and_type  total_qty_over_index  is_wrong_sndr_name  \\\n",
              "0                       779126.0             8290896.0                   0   \n",
              "1                    132175590.0           136819803.0                   0   \n",
              "2                      6479360.0            52708071.0                   0   \n",
              "\n",
              "  is_wrong_rcpn_name  is_wrong_phone_number  is_wrong_address  label  \n",
              "0                  0                      0                 0      0  \n",
              "1                  0                      0                 0      0  \n",
              "2                  1                      0                 0      0  \n",
              "\n",
              "[3 rows x 29 columns]"
            ]
          },
          "execution_count": 30,
          "metadata": {},
          "output_type": "execute_result"
        }
      ],
      "source": [
        "data.head(3)"
      ]
    },
    {
      "cell_type": "code",
      "execution_count": null,
      "metadata": {
        "id": "hO_dKDxB0t6P"
      },
      "outputs": [],
      "source": [
        "data['index_oper'] = data['index_oper'].astype(str)"
      ]
    },
    {
      "cell_type": "code",
      "execution_count": null,
      "metadata": {
        "id": "WfrOXGZl0t6Q",
        "outputId": "a5459a50-1e20-4c3b-9d44-0ce856635857"
      },
      "outputs": [
        {
          "data": {
            "text/plain": [
              "[' ',\n",
              " '0',\n",
              " '0.0',\n",
              " '101000',\n",
              " '102002',\n",
              " '102002.0',\n",
              " '102007',\n",
              " '102007.0',\n",
              " '102102',\n",
              " '102102.0',\n",
              " '102152',\n",
              " '102152.0',\n",
              " '102153',\n",
              " '102153.0',\n",
              " '102240',\n",
              " '102240.0',\n",
              " '102302',\n",
              " '102302.0',\n",
              " '102322',\n",
              " '102322.0',\n",
              " '102326',\n",
              " '102326.0',\n",
              " '102901.0',\n",
              " '102902',\n",
              " '102965.0',\n",
              " '102968',\n",
              " '102968.0',\n",
              " '102969',\n",
              " '102969.0',\n",
              " '102971',\n",
              " '102971.0',\n",
              " '102972',\n",
              " '102972.0',\n",
              " '102973',\n",
              " '102973.0',\n",
              " '102976',\n",
              " '102976.0',\n",
              " '102981',\n",
              " '102981.0',\n",
              " '102986',\n",
              " '102986.0',\n",
              " '102998',\n",
              " '102998.0',\n",
              " '104006',\n",
              " '104006.0',\n",
              " '104040',\n",
              " '104040.0',\n",
              " '105037',\n",
              " '105037.0',\n",
              " '105064.0',\n",
              " '105094.0',\n",
              " '105118',\n",
              " '105118.0',\n",
              " '105120.0',\n",
              " '105122',\n",
              " '105122.0',\n",
              " '105173.0',\n",
              " '105187',\n",
              " '105187.0',\n",
              " '105203',\n",
              " '105203.0',\n",
              " '105264.0',\n",
              " '105275.0',\n",
              " '105318',\n",
              " '105425',\n",
              " '105425.0',\n",
              " '105484.0',\n",
              " '105523',\n",
              " '105554',\n",
              " '105554.0',\n",
              " '105568',\n",
              " '105568.0',\n",
              " '107014.0',\n",
              " '107023',\n",
              " '107023.0',\n",
              " '107065',\n",
              " '107076',\n",
              " '107076.0',\n",
              " '107113.0',\n",
              " '107140.0',\n",
              " '107143',\n",
              " '107143.0',\n",
              " '107150.0',\n",
              " '107207.0',\n",
              " '107241',\n",
              " '107258',\n",
              " '107370.0',\n",
              " '107392.0',\n",
              " '107497',\n",
              " '107497.0',\n",
              " '107553',\n",
              " '107553.0',\n",
              " '107564',\n",
              " '107564.0',\n",
              " '107589.0',\n",
              " '108801',\n",
              " '108801.0',\n",
              " '108803',\n",
              " '108804',\n",
              " '108804.0',\n",
              " '108805',\n",
              " '108805.0',\n",
              " '108808.0',\n",
              " '108809.0',\n",
              " '108810.0',\n",
              " '108811',\n",
              " '108811.0',\n",
              " '108813',\n",
              " '108813.0',\n",
              " '108814',\n",
              " '108814.0',\n",
              " '108815.0',\n",
              " '108818',\n",
              " '108818.0',\n",
              " '108820',\n",
              " '108824',\n",
              " '108829.0',\n",
              " '108830',\n",
              " '108833.0',\n",
              " '108836',\n",
              " '108836.0',\n",
              " '108850',\n",
              " '108850.0',\n",
              " '108957',\n",
              " '108957.0',\n",
              " '108971',\n",
              " '108971.0',\n",
              " '108977',\n",
              " '108977.0',\n",
              " '108978',\n",
              " '108978.0',\n",
              " '108982.0',\n",
              " '109029.0',\n",
              " '109052.0',\n",
              " '109117',\n",
              " '109117.0',\n",
              " '109125',\n",
              " '109125.0',\n",
              " '109129',\n",
              " '109129.0',\n",
              " '109144',\n",
              " '109144.0',\n",
              " '109145.0',\n",
              " '109147',\n",
              " '109147.0',\n",
              " '109153.0',\n",
              " '109156',\n",
              " '109156.0',\n",
              " '109202',\n",
              " '109202.0',\n",
              " '109235.0',\n",
              " '109240.0',\n",
              " '109263',\n",
              " '109316.0',\n",
              " '109341.0',\n",
              " '109369',\n",
              " '109369.0',\n",
              " '109382',\n",
              " '109382.0',\n",
              " '109383.0',\n",
              " '109386',\n",
              " '109386.0',\n",
              " '109388',\n",
              " '109388.0',\n",
              " '109390.0',\n",
              " '109428',\n",
              " '109428.0',\n",
              " '109429',\n",
              " '109429.0',\n",
              " '109431.0',\n",
              " '109439.0',\n",
              " '109444.0',\n",
              " '109451',\n",
              " '109451.0',\n",
              " '109456',\n",
              " '109462',\n",
              " '109462.0',\n",
              " '109472',\n",
              " '109472.0',\n",
              " '109518',\n",
              " '109518.0',\n",
              " '109544.0',\n",
              " '109548.0',\n",
              " '109559',\n",
              " '109559.0',\n",
              " '109649',\n",
              " '109649.0',\n",
              " '109651',\n",
              " '109651.0',\n",
              " '109652',\n",
              " '109652.0',\n",
              " '111020',\n",
              " '111020.0',\n",
              " '111024',\n",
              " '111024.0',\n",
              " '111033.0',\n",
              " '111123',\n",
              " '111123.0',\n",
              " '111141',\n",
              " '111141.0',\n",
              " '111394',\n",
              " '111394.0',\n",
              " '111395',\n",
              " '111395.0',\n",
              " '111396',\n",
              " '111396.0',\n",
              " '111397',\n",
              " '111401.0',\n",
              " '111402',\n",
              " '111402.0',\n",
              " '111524',\n",
              " '111524.0',\n",
              " '111531',\n",
              " '111531.0',\n",
              " '111538',\n",
              " '111538.0',\n",
              " '111539.0',\n",
              " '111555',\n",
              " '111555.0',\n",
              " '111558',\n",
              " '111558.0',\n",
              " '111625.0',\n",
              " '111673.0',\n",
              " '111674',\n",
              " '111674.0',\n",
              " '111675.0',\n",
              " '111950',\n",
              " '111950.0',\n",
              " '115054',\n",
              " '115114.0',\n",
              " '115142',\n",
              " '115142.0',\n",
              " '115162.0',\n",
              " '115193.0',\n",
              " '115201.0',\n",
              " '115211',\n",
              " '115211.0',\n",
              " '115230',\n",
              " '115230.0',\n",
              " '115280.0',\n",
              " '115404',\n",
              " '115404.0',\n",
              " '115407.0',\n",
              " '115419.0',\n",
              " '115432.0',\n",
              " '115477',\n",
              " '115477.0',\n",
              " '115487.0',\n",
              " '115516',\n",
              " '115516.0',\n",
              " '115522.0',\n",
              " '115547',\n",
              " '115551.0',\n",
              " '115561.0',\n",
              " '115563',\n",
              " '115563.0',\n",
              " '115569.0',\n",
              " '115573',\n",
              " '115573.0',\n",
              " '115582',\n",
              " '115582.0',\n",
              " '115583',\n",
              " '115583.0',\n",
              " '115597.0',\n",
              " '115598',\n",
              " '115598.0',\n",
              " '115612.0',\n",
              " '115682.0',\n",
              " '117041.0',\n",
              " '117042.0',\n",
              " '117133',\n",
              " '117133.0',\n",
              " '117148',\n",
              " '117148.0',\n",
              " '117149',\n",
              " '117149.0',\n",
              " '117152',\n",
              " '117152.0',\n",
              " '117186',\n",
              " '117186.0',\n",
              " '117198.0',\n",
              " '117208',\n",
              " '117208.0',\n",
              " '117209.0',\n",
              " '117216',\n",
              " '117216.0',\n",
              " '117218',\n",
              " '117218.0',\n",
              " '117246.0',\n",
              " '117279',\n",
              " '117279.0',\n",
              " '117292',\n",
              " '117292.0',\n",
              " '117303',\n",
              " '117303.0',\n",
              " '117321',\n",
              " '117321.0',\n",
              " '117342.0',\n",
              " '117393.0',\n",
              " '117403',\n",
              " '117403.0',\n",
              " '117405',\n",
              " '117405.0',\n",
              " '117418',\n",
              " '117418.0',\n",
              " '117420.0',\n",
              " '117437',\n",
              " '117447',\n",
              " '117447.0',\n",
              " '117449',\n",
              " '117449.0',\n",
              " '117452.0',\n",
              " '117461',\n",
              " '117461.0',\n",
              " '117463.0',\n",
              " '117465',\n",
              " '117465.0',\n",
              " '117485',\n",
              " '117525',\n",
              " '117525.0',\n",
              " '117534',\n",
              " '117534.0',\n",
              " '117535',\n",
              " '117535.0',\n",
              " '117546.0',\n",
              " '117570',\n",
              " '117570.0',\n",
              " '117587',\n",
              " '117587.0',\n",
              " '117588',\n",
              " '117588.0',\n",
              " '117593',\n",
              " '117593.0',\n",
              " '117624',\n",
              " '117624.0',\n",
              " '117628',\n",
              " '117628.0',\n",
              " '117639.0',\n",
              " '117647.0',\n",
              " '119019.0',\n",
              " '119021',\n",
              " '119021.0',\n",
              " '119027',\n",
              " '119027.0',\n",
              " '119034.0',\n",
              " '119048.0',\n",
              " '119049.0',\n",
              " '119071.0',\n",
              " '119072',\n",
              " '119121',\n",
              " '119136.0',\n",
              " '119192',\n",
              " '119234.0',\n",
              " '119261.0',\n",
              " '119285.0',\n",
              " '119296.0',\n",
              " '119297.0',\n",
              " '119313.0',\n",
              " '119330.0',\n",
              " '119331',\n",
              " '119331.0',\n",
              " '119333.0',\n",
              " '119334.0',\n",
              " '119361',\n",
              " '119361.0',\n",
              " '119415',\n",
              " '119415.0',\n",
              " '119421',\n",
              " '119421.0',\n",
              " '119435',\n",
              " '119454',\n",
              " '119454.0',\n",
              " '119501',\n",
              " '119501.0',\n",
              " '119517.0',\n",
              " '119526.0',\n",
              " '119530',\n",
              " '119571',\n",
              " '119571.0',\n",
              " '119602',\n",
              " '119602.0',\n",
              " '119607',\n",
              " '119607.0',\n",
              " '119619',\n",
              " '119619.0',\n",
              " '119620',\n",
              " '119620.0',\n",
              " '119633',\n",
              " '119633.0',\n",
              " '119634',\n",
              " '119634.0',\n",
              " '121069.0',\n",
              " '121096.0',\n",
              " '121099',\n",
              " '121099.0',\n",
              " '121108',\n",
              " '121108.0',\n",
              " '121165.0',\n",
              " '121170.0',\n",
              " '121309',\n",
              " '121309.0',\n",
              " '121351',\n",
              " '121351.0',\n",
              " '121352.0',\n",
              " '121353.0',\n",
              " '121354.0',\n",
              " '121357',\n",
              " '121357.0',\n",
              " '121374.0',\n",
              " '121433.0',\n",
              " '121467.0',\n",
              " '121471',\n",
              " '121471.0',\n",
              " '121500',\n",
              " '121500.0',\n",
              " '121552',\n",
              " '121552.0',\n",
              " '121596',\n",
              " '121596.0',\n",
              " '121609',\n",
              " '121609.0',\n",
              " '121614',\n",
              " '121614.0',\n",
              " '123001',\n",
              " '123001.0',\n",
              " '123022.0',\n",
              " '123060',\n",
              " '123060.0',\n",
              " '123100',\n",
              " '123100.0',\n",
              " '123103',\n",
              " '123103.0',\n",
              " '123154',\n",
              " '123154.0',\n",
              " '123181',\n",
              " '123181.0',\n",
              " '123182',\n",
              " '123182.0',\n",
              " '123290.0',\n",
              " '123298.0',\n",
              " '123308.0',\n",
              " '123317',\n",
              " '123423.0',\n",
              " '123458.0',\n",
              " '123592',\n",
              " '123592.0',\n",
              " '124365',\n",
              " '124365.0',\n",
              " '124460',\n",
              " '124460.0',\n",
              " '124482',\n",
              " '124482.0',\n",
              " '124498',\n",
              " '124498.0',\n",
              " '124536',\n",
              " '124617.0',\n",
              " '124683',\n",
              " '124683.0',\n",
              " '125008',\n",
              " '125008.0',\n",
              " '125040.0',\n",
              " '125124.0',\n",
              " '125130.0',\n",
              " '125167',\n",
              " '125167.0',\n",
              " '125171.0',\n",
              " '125183',\n",
              " '125183.0',\n",
              " '125195',\n",
              " '125195.0',\n",
              " '125212.0',\n",
              " '125222',\n",
              " '125222.0',\n",
              " '125252',\n",
              " '125310',\n",
              " '125310.0',\n",
              " '125315',\n",
              " '125315.0',\n",
              " '125363',\n",
              " '125363.0',\n",
              " '125364',\n",
              " '125367',\n",
              " '125367.0',\n",
              " '125368.0',\n",
              " '125373',\n",
              " '125373.0',\n",
              " '125412.0',\n",
              " '125413.0',\n",
              " '125430',\n",
              " '125430.0',\n",
              " '125438.0',\n",
              " '125445',\n",
              " '125445.0',\n",
              " '125459',\n",
              " '125464.0',\n",
              " '125466.0',\n",
              " '125475',\n",
              " '125475.0',\n",
              " '125480',\n",
              " '125480.0',\n",
              " '125481.0',\n",
              " '125499.0',\n",
              " '125502',\n",
              " '125502.0',\n",
              " '125565.0',\n",
              " '125635.0',\n",
              " '127015.0',\n",
              " '127018',\n",
              " '127018.0',\n",
              " '127030',\n",
              " '127030.0',\n",
              " '127051.0',\n",
              " '127055',\n",
              " '127083',\n",
              " '127083.0',\n",
              " '127204',\n",
              " '127204.0',\n",
              " '127206.0',\n",
              " '127220.0',\n",
              " '127221.0',\n",
              " '127224',\n",
              " '127224.0',\n",
              " '127247',\n",
              " '127247.0',\n",
              " '127253',\n",
              " '127254',\n",
              " '127254.0',\n",
              " '127276.0',\n",
              " '127282',\n",
              " '127282.0',\n",
              " '127287',\n",
              " '127299',\n",
              " '127322',\n",
              " '127322.0',\n",
              " '127349.0',\n",
              " '127410.0',\n",
              " '127411',\n",
              " '127411.0',\n",
              " '127422.0',\n",
              " '127427.0',\n",
              " '127434',\n",
              " '127434.0',\n",
              " '127474',\n",
              " '127474.0',\n",
              " '127486.0',\n",
              " '127495',\n",
              " '127495.0',\n",
              " '127521.0',\n",
              " '127540.0',\n",
              " '127543',\n",
              " '127543.0',\n",
              " '127549',\n",
              " '127549.0',\n",
              " '127560',\n",
              " '127560.0',\n",
              " '127566',\n",
              " '127566.0',\n",
              " '127572',\n",
              " '127572.0',\n",
              " '127576',\n",
              " '127576.0',\n",
              " '127591',\n",
              " '127591.0',\n",
              " '127642',\n",
              " '127642.0',\n",
              " '129075',\n",
              " '129075.0',\n",
              " '129085.0',\n",
              " '129090.0',\n",
              " '129110.0',\n",
              " '129128',\n",
              " '129128.0',\n",
              " '129164',\n",
              " '129164.0',\n",
              " '129226',\n",
              " '129226.0',\n",
              " '129272',\n",
              " '129281',\n",
              " '129281.0',\n",
              " '129301.0',\n",
              " '129323.0',\n",
              " '129327.0',\n",
              " '129329.0',\n",
              " '129336',\n",
              " '129336.0',\n",
              " '129337',\n",
              " '129337.0',\n",
              " '129343',\n",
              " '129343.0',\n",
              " '129344',\n",
              " '129344.0',\n",
              " '129345.0',\n",
              " '129347',\n",
              " '129347.0',\n",
              " '129366',\n",
              " '129366.0',\n",
              " '129515',\n",
              " '129515.0',\n",
              " '129626.0',\n",
              " '130214',\n",
              " '130214.0',\n",
              " '131000',\n",
              " '131000.0',\n",
              " '140000',\n",
              " '140002',\n",
              " '140002.0',\n",
              " '140004.0',\n",
              " '140005.0',\n",
              " '140006',\n",
              " '140006.0',\n",
              " '140007',\n",
              " '140007.0',\n",
              " '140009',\n",
              " '140009.0',\n",
              " '140010.0',\n",
              " '140011.0',\n",
              " '140013',\n",
              " '140013.0',\n",
              " '140014.0',\n",
              " '140015',\n",
              " '140015.0',\n",
              " '140028',\n",
              " '140028.0',\n",
              " '140050.0',\n",
              " '140051.0',\n",
              " '140053.0',\n",
              " '140074.0',\n",
              " '140081',\n",
              " '140081.0',\n",
              " '140082',\n",
              " '140082.0',\n",
              " '140090',\n",
              " '140090.0',\n",
              " '140093.0',\n",
              " '140100.0',\n",
              " '140102',\n",
              " '140103.0',\n",
              " '140105.0',\n",
              " '140109',\n",
              " '140109.0',\n",
              " '140116',\n",
              " '140116.0',\n",
              " '140123',\n",
              " '140125',\n",
              " '140126',\n",
              " '140126.0',\n",
              " '140127.0',\n",
              " '140140.0',\n",
              " '140143.0',\n",
              " '140152.0',\n",
              " '140153',\n",
              " '140171.0',\n",
              " '140181',\n",
              " '140182',\n",
              " '140185.0',\n",
              " '140186.0',\n",
              " '140187',\n",
              " '140188',\n",
              " '140203.0',\n",
              " '140205',\n",
              " '140206.0',\n",
              " '140207',\n",
              " '140207.0',\n",
              " '140208.0',\n",
              " '140300.0',\n",
              " '140301',\n",
              " '140301.0',\n",
              " '140304.0',\n",
              " '140308',\n",
              " '140308.0',\n",
              " '140333.0',\n",
              " '140402.0',\n",
              " '140404',\n",
              " '140404.0',\n",
              " '140405',\n",
              " '140407',\n",
              " '140407.0',\n",
              " '140408.0',\n",
              " '140410.0',\n",
              " '140411.0',\n",
              " '140413',\n",
              " '140414.0',\n",
              " '140426',\n",
              " '140426.0',\n",
              " '140452',\n",
              " '140500',\n",
              " '140500.0',\n",
              " '140513',\n",
              " '140560.0',\n",
              " '140600.0',\n",
              " '140601',\n",
              " '140601.0',\n",
              " '140603',\n",
              " '140603.0',\n",
              " '140700.0',\n",
              " '140704.0',\n",
              " '140708',\n",
              " '140708.0',\n",
              " '140722.0',\n",
              " '140730.0',\n",
              " '140732.0',\n",
              " '140742',\n",
              " '140978',\n",
              " '140978.0',\n",
              " '140980',\n",
              " '140980.0',\n",
              " '140983',\n",
              " '140983.0',\n",
              " '140992.0',\n",
              " '141005',\n",
              " '141005.0',\n",
              " '141006.0',\n",
              " '141007.0',\n",
              " '141009',\n",
              " '141009.0',\n",
              " '141013.0',\n",
              " '141018.0',\n",
              " '141021',\n",
              " '141021.0',\n",
              " '141031.0',\n",
              " '141032.0',\n",
              " '141051.0',\n",
              " '141060.0',\n",
              " '141070.0',\n",
              " '141071.0',\n",
              " '141074',\n",
              " '141074.0',\n",
              " '141075',\n",
              " '141075.0',\n",
              " '141080',\n",
              " '141080.0',\n",
              " '141092.0',\n",
              " '141102',\n",
              " '141103',\n",
              " '141103.0',\n",
              " '141104.0',\n",
              " '141107.0',\n",
              " '141108',\n",
              " '141108.0',\n",
              " '141109',\n",
              " '141109.0',\n",
              " '141113.0',\n",
              " '141135.0',\n",
              " '141137.0',\n",
              " '141142',\n",
              " '141142.0',\n",
              " '141146.0',\n",
              " '141160.0',\n",
              " '141170',\n",
              " '141170.0',\n",
              " '141180',\n",
              " '141180.0',\n",
              " '141181.0',\n",
              " '141190',\n",
              " '141191',\n",
              " '141195.0',\n",
              " '141196',\n",
              " '141196.0',\n",
              " '141204.0',\n",
              " '141205',\n",
              " '141205.0',\n",
              " '141206',\n",
              " '141207.0',\n",
              " '141214.0',\n",
              " '141241.0',\n",
              " '141270',\n",
              " '141281.0',\n",
              " '141282.0',\n",
              " '141284',\n",
              " '141284.0',\n",
              " '141288',\n",
              " '141288.0',\n",
              " '141292',\n",
              " '141306.0',\n",
              " '141307',\n",
              " '141310',\n",
              " '141310.0',\n",
              " '141321',\n",
              " '141335.0',\n",
              " '141336',\n",
              " '141336.0',\n",
              " '141357.0',\n",
              " '141367.0',\n",
              " '141401.0',\n",
              " '141406',\n",
              " '141406.0',\n",
              " '141408',\n",
              " '141408.0',\n",
              " '141410.0',\n",
              " '141411.0',\n",
              " '141420.0',\n",
              " '141421',\n",
              " '141421.0',\n",
              " '141431',\n",
              " '141431.0',\n",
              " '141435',\n",
              " '141441.0',\n",
              " '141446.0',\n",
              " '141501',\n",
              " '141501.0',\n",
              " '141503',\n",
              " '141503.0',\n",
              " '141508.0',\n",
              " '141516',\n",
              " '141516.0',\n",
              " '141530',\n",
              " '141530.0',\n",
              " '141532.0',\n",
              " '141544',\n",
              " '141551',\n",
              " '141551.0',\n",
              " '141560',\n",
              " '141560.0',\n",
              " '141580.0',\n",
              " '141592.0',\n",
              " '141601',\n",
              " '141601.0',\n",
              " '141607',\n",
              " '141607.0',\n",
              " '141612.0',\n",
              " '141613.0',\n",
              " '141618.0',\n",
              " '141632',\n",
              " '141650.0',\n",
              " '141663',\n",
              " '141667.0',\n",
              " '141700',\n",
              " '141701',\n",
              " '141701.0',\n",
              " '141702',\n",
              " '141702.0',\n",
              " '141704',\n",
              " '141704.0',\n",
              " '141707',\n",
              " '141707.0',\n",
              " '141720.0',\n",
              " '141732',\n",
              " '141732.0',\n",
              " '141733.0',\n",
              " '141734.0',\n",
              " '141735.0',\n",
              " '141736.0',\n",
              " '141801.0',\n",
              " '141802',\n",
              " '141802.0',\n",
              " '141816',\n",
              " '141816.0',\n",
              " '141829.0',\n",
              " '141830.0',\n",
              " '141850.0',\n",
              " '141863.0',\n",
              " '141895',\n",
              " '141930.0',\n",
              " '141946',\n",
              " '141946.0',\n",
              " '141948',\n",
              " '141948.0',\n",
              " '141960',\n",
              " '141960.0',\n",
              " '141980',\n",
              " '141981',\n",
              " '141983.0',\n",
              " '142000',\n",
              " '142000.0',\n",
              " '142001.0',\n",
              " '142003',\n",
              " '142003.0',\n",
              " '142004.0',\n",
              " '142005.0',\n",
              " '142006.0',\n",
              " '142007.0',\n",
              " '142016',\n",
              " '142016.0',\n",
              " '142050',\n",
              " '142050.0',\n",
              " '142060.0',\n",
              " '142062.0',\n",
              " '142072.0',\n",
              " '142100',\n",
              " '142100.0',\n",
              " '142103.0',\n",
              " '142104.0',\n",
              " '142106',\n",
              " '142108',\n",
              " '142108.0',\n",
              " '142110.0',\n",
              " '142111',\n",
              " '142114',\n",
              " '142115.0',\n",
              " '142118.0',\n",
              " '142121.0',\n",
              " '142155.0',\n",
              " '142180.0',\n",
              " '142200',\n",
              " '142200.0',\n",
              " '142201.0',\n",
              " '142204',\n",
              " '142204.0',\n",
              " '142205',\n",
              " '142205.0',\n",
              " '142207.0',\n",
              " '142210',\n",
              " '142218',\n",
              " '142218.0',\n",
              " '142261',\n",
              " '142261.0',\n",
              " '142279.0',\n",
              " '142280.0',\n",
              " '142300',\n",
              " '142300.0',\n",
              " '142301',\n",
              " '142301.0',\n",
              " '142304.0',\n",
              " '142306',\n",
              " '142321.0',\n",
              " '142322.0',\n",
              " '142350',\n",
              " '142350.0',\n",
              " '142370.0',\n",
              " '142400',\n",
              " '142400.0',\n",
              " '142403',\n",
              " '142406',\n",
              " '142407',\n",
              " '142407.0',\n",
              " '142411',\n",
              " '142411.0',\n",
              " '142412.0',\n",
              " '142416',\n",
              " '142416.0',\n",
              " '142432.0',\n",
              " '142450.0',\n",
              " '142470.0',\n",
              " '142506.0',\n",
              " '142507.0',\n",
              " '142530.0',\n",
              " '142531.0',\n",
              " '142602.0',\n",
              " '142605.0',\n",
              " '142608.0',\n",
              " '142613.0',\n",
              " '142616',\n",
              " '142616.0',\n",
              " '142620.0',\n",
              " '142621.0',\n",
              " '142632',\n",
              " '142635.0',\n",
              " '142641.0',\n",
              " '142651',\n",
              " '142670.0',\n",
              " '142672.0',\n",
              " '142701',\n",
              " '142701.0',\n",
              " '142702.0',\n",
              " '142703',\n",
              " '142703.0',\n",
              " '142705.0',\n",
              " '142708',\n",
              " '142708.0',\n",
              " '142714',\n",
              " '142715',\n",
              " '142800',\n",
              " '142800.0',\n",
              " '142802.0',\n",
              " '142803.0',\n",
              " '142808',\n",
              " '142808.0',\n",
              " '142820.0',\n",
              " '142833.0',\n",
              " '142842.0',\n",
              " '142900',\n",
              " '142900.0',\n",
              " '142908.0',\n",
              " '142911',\n",
              " '142911.0',\n",
              " '142941.0',\n",
              " '142970.0',\n",
              " '143001',\n",
              " '143001.0',\n",
              " '143002.0',\n",
              " '143003',\n",
              " '143006',\n",
              " '143006.0',\n",
              " '143009.0',\n",
              " '143010.0',\n",
              " '143011.0',\n",
              " '143016',\n",
              " '143016.0',\n",
              " '143025',\n",
              " '143025.0',\n",
              " '143026.0',\n",
              " '143031',\n",
              " '143032.0',\n",
              " '143040.0',\n",
              " '143041.0',\n",
              " '143055',\n",
              " '143055.0',\n",
              " '143065',\n",
              " '143065.0',\n",
              " '143070.0',\n",
              " ...]"
            ]
          },
          "execution_count": 36,
          "metadata": {},
          "output_type": "execute_result"
        }
      ],
      "source": [
        "sorted(data['index_oper'].unique())"
      ]
    },
    {
      "cell_type": "markdown",
      "metadata": {
        "id": "_hV_E-6R0t6Q"
      },
      "source": [
        "## Вывод\n",
        "\n",
        "Данные характеризуются довольно сильным дисбалансом классов. При этом в данных есть ряд категориальных переменных из которых столбец **oper_type + oper_attr** очень сильно влияет на классы. Есть два варианта - исключить этот столбец полностью или разбить данные по этому столбцу и строить для каждой подгруппы отдельные модели."
      ]
    },
    {
      "cell_type": "markdown",
      "metadata": {
        "id": "pjSmhOCQ0t6R"
      },
      "source": [
        "# Предобработка данных"
      ]
    },
    {
      "cell_type": "code",
      "execution_count": null,
      "metadata": {
        "id": "p9oI24PB0t6R",
        "outputId": "4fb933f1-ba20-46b5-8b77-12c9090b8bc4"
      },
      "outputs": [
        {
          "data": {
            "text/plain": [
              "16672"
            ]
          },
          "execution_count": 56,
          "metadata": {},
          "output_type": "execute_result"
        }
      ],
      "source": [
        "del data\n",
        "del dat\n",
        "gc.collect()"
      ]
    },
    {
      "cell_type": "code",
      "execution_count": null,
      "metadata": {
        "id": "JU0vnFOJ0t6R"
      },
      "outputs": [],
      "source": [
        "def is_cat(data):\n",
        "    for i in data.dtypes[(data.dtypes == 'category') + (data.dtypes =='object')].index:\n",
        "        data[i] = pd.Categorical(data[i])\n",
        "        data[i].astype('category').cat.codes\n",
        "        data[i] = data[i].cat.codes\n",
        "    return data"
      ]
    },
    {
      "cell_type": "code",
      "execution_count": null,
      "metadata": {
        "id": "Ahz47c7c0t6S"
      },
      "outputs": [],
      "source": [
        "nam_dict = {'case' : 1, 'protector': 2, 'necklac': 3, 'ring':3, 'earr': 3, \n",
        "            'cable':4, 'glass':5, 'sticker':5, 'panties':6, 'car': 7, 'decor':8, 'sock':6, 'bra':6,\n",
        "            'beads':3, 'circuit':9, 'bracelet':3, \n",
        "           't-shirts':10, 'fishing':11, 'bumper':12, 'earphon':13, 'adapter':14, 'dress':6, 'toy':15,\n",
        "            'electronic':16, 'underwear':6, 'strap':17, \n",
        "           'hat':6, 'connector':14, 'brooch':3, 'stationer':18, 'jewelry':3, 'charger':19, 'pen':18,\n",
        "            'phone':20, 'hair':21, \n",
        "            'accum':19, 'part':22, 'cool':23, 'bag':24, 'accessor':25, 'baby':26, 'beanie':6, 'carnival':27, \n",
        "            'case':2, 'cover':2, 'decoration':28, 'furnish':28, 'tool':29, 'hat':6, 'holiday':27, 'laptop':30,\n",
        "            'lead':4,\n",
        "            'kid':12, 'mat':31, 'mounting':32, 'offic':33, 'ornament':28, 'sleev':34, 'plush':35, 'joke':23,\n",
        "            'rack':16, 'relay':16, \n",
        "            'yoga':36, 'xiaomi':20, 'bluetoo':39, 'ящик':32, 'электр':16, 'фен':37, 'сумка':24, 'спорт':36, 'смарт':20,\n",
        "            'очки':5, 'светод':38, 'рыб':11, 'рамка':12, 'наушн':13, 'носк':6, 'нож':40, 'кабель':4, 'набор':41,\n",
        "            'мыш':42, 'магнит':43, 'кух':44, 'женск':45, 'детс':26, 'автомоб':7, \"кольц\":3, \"бусы\":3}"
      ]
    },
    {
      "cell_type": "code",
      "execution_count": null,
      "metadata": {
        "id": "cWSzbOIQ0t6S"
      },
      "outputs": [],
      "source": [
        "def prepr_1(data):\n",
        "    data['oper_attr'] = data['oper_type + oper_attr'].str.extract('_(.+)').astype(int)\n",
        "    data['oper_type'] = data['oper_type + oper_attr'].str.extract('(.+)_').astype(int)\n",
        "    data['oper_code'] = data['oper_type'] + data['oper_attr']\n",
        "    data['t'] = data['total_qty_over_index'].apply(math.tan) #!!!!!!!!!!!!!!!!!!!!!!!!!!!!!!\n",
        "    data['error_sum'] = (data['is_wrong_sndr_name'] + data['is_wrong_rcpn_name'] \n",
        "                         + data['is_wrong_phone_number'] + data['is_wrong_address'])\n",
        "    data['mfi_cat'] = 0\n",
        "    data.loc[data['name_mfi'].str.count(r'[\\u2E80-\\u9FFF]') > 0, 'mfi_cat'] = 50\n",
        "    for nam in nam_dict:\n",
        "        data.loc[data['name_mfi'].str.contains(nam, case=False), 'mfi_cat'] = nam_dict[nam]\n",
        "    data['name_mfi_num'] = data['name_mfi'].str.count(',') + 1\n",
        "    data = data.drop(columns = ['name_mfi', 'mailrank', 'oper_type + oper_attr', 'oper_attr', 'oper_type'])\n",
        "    data['index_oper'] = data['index_oper'].astype(str)\n",
        "    data.loc[data['index_oper'] == ' ', 'index_oper'] = 0\n",
        "    data['index_oper'] = data['index_oper'].astype(float)\n",
        "    data['price_per_gram'] = (data['price_mfi']) /(data['weight'] +1)\n",
        "    data['price_per_num'] = (data['price_mfi']) /data['name_mfi_num']\n",
        "    return data"
      ]
    },
    {
      "cell_type": "code",
      "execution_count": null,
      "metadata": {
        "id": "SkPy-1rl0t6T"
      },
      "outputs": [],
      "source": [
        "dat = pd.read_csv('train_dataset_train.csv', nrows = 2000000)\n",
        "nam = dat.columns\n",
        "dat_t = pd.read_csv('train_dataset_train.csv', names = nam ,  skiprows = 2000000, nrows = 2000000)"
      ]
    },
    {
      "cell_type": "code",
      "execution_count": null,
      "metadata": {
        "id": "yG8RzpxC0t6T"
      },
      "outputs": [],
      "source": [
        "data = prepr_1(dat)\n",
        "data_t = prepr_1(dat_t)"
      ]
    },
    {
      "cell_type": "code",
      "execution_count": null,
      "metadata": {
        "id": "0RhL-4IW0t6T"
      },
      "outputs": [],
      "source": [
        "col_drop_1 = ['type',\n",
        " 'oper_type + oper_attr']"
      ]
    },
    {
      "cell_type": "code",
      "execution_count": null,
      "metadata": {
        "id": "r1eTW_5w0t6U"
      },
      "outputs": [],
      "source": [
        "data = data.drop(columns = col_drop_1)\n",
        "\n",
        "data_t = data_t.drop(columns = col_drop_1)"
      ]
    },
    {
      "cell_type": "code",
      "execution_count": null,
      "metadata": {
        "id": "rWc6TFSv0t6U"
      },
      "outputs": [],
      "source": [
        "data = is_cat(data)\n",
        "data_t = is_cat(data_t)"
      ]
    },
    {
      "cell_type": "code",
      "execution_count": null,
      "metadata": {
        "id": "JjhmmOIZ0t6U"
      },
      "outputs": [],
      "source": [
        "features_train = data.drop(columns = ['id', 'label']).sample(frac=1, random_state=123)\n",
        "target_train = data['label'].sample(frac=1, random_state=123)\n",
        "features_test, features_1, target_test, target_1 = train_test_split(data_t.drop(columns = ['id', 'label']), \n",
        "                                                                              data_t['label'], test_size=0.3, random_state=123)"
      ]
    },
    {
      "cell_type": "code",
      "execution_count": null,
      "metadata": {
        "id": "BRG-wQHq0t6V"
      },
      "outputs": [],
      "source": [
        "data_valid = pd.read_csv('test_dataset_test.csv')\n",
        "data_val = prepr_1(data_valid).drop(columns = col_drop_1)\n",
        "data_val = is_cat(data_val)\n"
      ]
    },
    {
      "cell_type": "markdown",
      "metadata": {
        "id": "YBkT5qy20t6V"
      },
      "source": [
        "## Вывод:\n",
        "\n",
        "Создал функции для обработки данных (разными способами) и перевода категориальных данных в численные.\n",
        "Разделил данные на тестовую и тренировочную часть."
      ]
    },
    {
      "cell_type": "markdown",
      "metadata": {
        "id": "w2O0i15-VRWz"
      },
      "source": [
        "# Обучение"
      ]
    },
    {
      "cell_type": "markdown",
      "metadata": {
        "id": "9xUPg4xf0t6W"
      },
      "source": [
        "## Обучение случайным лесом"
      ]
    },
    {
      "cell_type": "code",
      "execution_count": null,
      "metadata": {
        "id": "Z6BAYleZUveJ",
        "outputId": "8d081b5f-f40a-4576-a22c-ccb80b9a3c52"
      },
      "outputs": [
        {
          "data": {
            "text/plain": [
              "RandomForestClassifier(random_state=123)"
            ]
          },
          "execution_count": 44,
          "metadata": {},
          "output_type": "execute_result"
        }
      ],
      "source": [
        "r_f_c_1 = RandomForestClassifier(random_state = 123) #, class_weight='balanced', n_jobs = 3)\n",
        "r_f_c_1.fit(features_train, target_train)"
      ]
    },
    {
      "cell_type": "code",
      "execution_count": null,
      "metadata": {
        "id": "mHqrkSOA0t6W",
        "outputId": "42ab7b83-5e76-476c-cc05-889ba2bb15bd"
      },
      "outputs": [
        {
          "name": "stdout",
          "output_type": "stream",
          "text": [
            "metric_mod 0.85809732775795 f1_mod 0.587708626740366\n"
          ]
        }
      ],
      "source": [
        "metric_r_f_c_1 = (\n",
        "    0.1 * recall_score(target_test, r_f_c_1.predict(features_test), average='macro', pos_label = 0) +\n",
        "    roc_auc_score(target_test,  r_f_c_1.predict(features_test), average='macro', multi_class = 'ovo') * 0.9\n",
        ")\n",
        "print('metric_mod', \n",
        "      metric_r_f_c_1, \n",
        "      'f1_mod', \n",
        "      f1_score(target_test,  r_f_c_1.predict(features_test), average='macro'))"
      ]
    },
    {
      "cell_type": "code",
      "execution_count": null,
      "metadata": {
        "id": "DBCEuxLk0t6X"
      },
      "outputs": [],
      "source": [
        "вввв"
      ]
    },
    {
      "cell_type": "code",
      "execution_count": null,
      "metadata": {
        "id": "UarApyvg0t6Y"
      },
      "outputs": [],
      "source": [
        "pred_r_f_c_1 = r_f_c_1.predict(data_val.drop(columns = 'id'))                   \n",
        "out_r_f_c_1 = pd.DataFrame(pred_r_f_c_1, columns=['label'])\n",
        "out_r_f_c_1['id'] = data_val['id']\n",
        "out_r_f_c_1 = out_r_f_c_1.reindex(columns=['id', 'label'])\n",
        "out_r_f_c_1.to_csv('200_out_rfc_1_balanc.csv', line_terminator = '\\n', index=False)"
      ]
    },
    {
      "cell_type": "code",
      "execution_count": null,
      "metadata": {
        "id": "eiGDUPTT0t6Y"
      },
      "outputs": [],
      "source": []
    },
    {
      "cell_type": "code",
      "execution_count": null,
      "metadata": {
        "id": "4CZK_ESKVyHg"
      },
      "outputs": [],
      "source": [
        "r_f_c = RandomForestClassifier(random_state = 123,  class_weight='balanced', n_jobs = -1)\n",
        "parametrs = { 'max_depth': [3, 4, 5, 6],\n",
        "              'criterion' : ['gini', 'entropy'],\n",
        "              'n_estimators': [60, 100, 120],\n",
        "              'min_samples_leaf': [2, 3, 4, 5],\n",
        "              'min_samples_split': [2, 3, 4, 5],\n",
        "            }\n",
        "grid_r_f_c = GridSearchCV(r_f_c, parametrs, cv=4, scoring = 'f1')\n",
        "grid_r_f_c.fit(features_train.drop(columns = cat), target_train)"
      ]
    },
    {
      "cell_type": "code",
      "execution_count": null,
      "metadata": {
        "id": "YVqJB9LGVyHh"
      },
      "outputs": [],
      "source": [
        "grid_r_f_c.best_score_"
      ]
    },
    {
      "cell_type": "code",
      "execution_count": null,
      "metadata": {
        "id": "yBf0S7nVVyHh"
      },
      "outputs": [],
      "source": [
        "grid_r_f_c.best_params_"
      ]
    },
    {
      "cell_type": "code",
      "execution_count": null,
      "metadata": {
        "id": "pCMwmL-PVyHh"
      },
      "outputs": [],
      "source": [
        "metric_rfc_gr = (0.1 * recall_score(target_test, grid_r_f_c.predict(features_test.drop(columns = cat))) + roc_auc_score(target_test, grid_r_f_c.predict(features_test.drop(columns = cat))) * 0.9)\n",
        "metric_rfc_gr"
      ]
    },
    {
      "cell_type": "markdown",
      "metadata": {
        "id": "pIc_f4VuVyHj"
      },
      "source": [
        "## Катбуст"
      ]
    },
    {
      "cell_type": "code",
      "execution_count": null,
      "metadata": {
        "id": "Dm-V5TlnVyHj",
        "outputId": "3d44b1f9-b6f3-45eb-e778-372da7a3de2f"
      },
      "outputs": [
        {
          "data": {
            "text/plain": [
              "{0: 0.5146317526762137, 1: 17.58612806218455}"
            ]
          },
          "execution_count": 53,
          "metadata": {},
          "output_type": "execute_result"
        }
      ],
      "source": [
        "y_train = np.array(target_train)\n",
        "classes = np.unique(y_train)\n",
        "weights = compute_class_weight(class_weight='balanced', classes=classes, y=y_train)\n",
        "class_weights = dict(zip(classes, weights))\n",
        "class_weights"
      ]
    },
    {
      "cell_type": "code",
      "execution_count": null,
      "metadata": {
        "colab": {
          "base_uri": "https://localhost:8080/",
          "height": 244
        },
        "id": "TPbldJ6PVyHk",
        "outputId": "88f08e82-ed7d-45d4-8ea2-899460d8c24b",
        "scrolled": true
      },
      "outputs": [
        {
          "name": "stdout",
          "output_type": "stream",
          "text": [
            "время работы CatBoost:  18.084962320783333 мин\n"
          ]
        }
      ],
      "source": [
        "ti_3 = time.perf_counter()\n",
        "params = {'depth': [3, 4, 6, 7, 8, 9],\n",
        "          'learning_rate' : [0.01, 0.02, 0.03, 0.5],\n",
        "         'l2_leaf_reg': [2, 3, 4, 5, 6, 7, 8, 9],\n",
        "         'iterations': [220],\n",
        "         'bootstrap_type':['No', 'Bayesian', 'Bernoulli', 'MVS']}\n",
        "cb_c = cb.CatBoostClassifier(loss_function = 'Logloss', eval_metric='AUC', verbose=False,  \n",
        "                             random_state = 123, class_weights = class_weights, thread_count = 4) #, task_type=\"GPU\")\n",
        "cb_bayes = RandomizedSearchCV(cb_c, params, scoring=\"recall_macro\",  cv = 3, n_iter= 70)\n",
        "cb_bayes.fit(features_train, target_train, eval_set=(features_1, target_1))\n",
        "time_cb = (time.perf_counter() - ti_3) / 60\n",
        "print(f'время работы CatBoost:  {time_cb} мин')"
      ]
    },
    {
      "cell_type": "code",
      "execution_count": null,
      "metadata": {
        "id": "ymZTJTaq0t6b",
        "outputId": "9e4a210a-c1ba-401a-a649-40b05faa594e"
      },
      "outputs": [
        {
          "data": {
            "text/plain": [
              "{'learning_rate': 0.5,\n",
              " 'l2_leaf_reg': 6,\n",
              " 'iterations': 220,\n",
              " 'depth': 9,\n",
              " 'bootstrap_type': 'No'}"
            ]
          },
          "execution_count": 25,
          "metadata": {},
          "output_type": "execute_result"
        }
      ],
      "source": [
        "cb_bayes.best_params_"
      ]
    },
    {
      "cell_type": "code",
      "execution_count": null,
      "metadata": {
        "id": "kpaULoaJ0t6c",
        "outputId": "25ad533f-2810-43c6-e28b-402db8e6cead"
      },
      "outputs": [
        {
          "ename": "NameError",
          "evalue": "name 'cb_bayes' is not defined",
          "output_type": "error",
          "traceback": [
            "\u001b[1;31m---------------------------------------------------------------------------\u001b[0m",
            "\u001b[1;31mNameError\u001b[0m                                 Traceback (most recent call last)",
            "\u001b[1;32m<ipython-input-60-af5f4d2aacf0>\u001b[0m in \u001b[0;36m<module>\u001b[1;34m\u001b[0m\n\u001b[0;32m      1\u001b[0m print('recall_grid', \n\u001b[1;32m----> 2\u001b[1;33m       \u001b[0mrecall_score\u001b[0m\u001b[1;33m(\u001b[0m\u001b[0mtarget_test\u001b[0m\u001b[1;33m,\u001b[0m \u001b[0mcb_bayes\u001b[0m\u001b[1;33m.\u001b[0m\u001b[0mpredict\u001b[0m\u001b[1;33m(\u001b[0m\u001b[0mfeatures_test\u001b[0m\u001b[1;33m)\u001b[0m\u001b[1;33m,\u001b[0m \u001b[0maverage\u001b[0m\u001b[1;33m=\u001b[0m\u001b[1;34m'macro'\u001b[0m\u001b[1;33m)\u001b[0m\u001b[1;33m,\u001b[0m\u001b[1;33m\u001b[0m\u001b[1;33m\u001b[0m\u001b[0m\n\u001b[0m\u001b[0;32m      3\u001b[0m       \u001b[1;34m'f1_grid'\u001b[0m\u001b[1;33m,\u001b[0m\u001b[1;33m\u001b[0m\u001b[1;33m\u001b[0m\u001b[0m\n\u001b[0;32m      4\u001b[0m       f1_score(target_test, cb_bayes.predict(features_test), average='macro'))\n",
            "\u001b[1;31mNameError\u001b[0m: name 'cb_bayes' is not defined"
          ]
        }
      ],
      "source": [
        "print('recall_grid', \n",
        "      recall_score(target_test, cb_bayes.predict(features_test), average='macro'), \n",
        "      'f1_grid', \n",
        "      f1_score(target_test, cb_bayes.predict(features_test), average='macro'))"
      ]
    },
    {
      "cell_type": "code",
      "execution_count": null,
      "metadata": {
        "id": "jLJDlWJj0t6c",
        "outputId": "d6964e44-d38a-48e0-d902-9628c9b6da02",
        "colab": {
          "referenced_widgets": [
            "7b88c03bb9564b7c8f4328382b55f281"
          ]
        }
      },
      "outputs": [
        {
          "data": {
            "application/vnd.jupyter.widget-view+json": {
              "model_id": "7b88c03bb9564b7c8f4328382b55f281",
              "version_major": 2,
              "version_minor": 0
            },
            "text/plain": [
              "MetricVisualizer(layout=Layout(align_self='stretch', height='500px'))"
            ]
          },
          "metadata": {},
          "output_type": "display_data"
        },
        {
          "name": "stdout",
          "output_type": "stream",
          "text": [
            "время работы CatBoost:  1.2777028427333335 мин\n"
          ]
        }
      ],
      "source": [
        "ti_3 = time.perf_counter()\n",
        "cb_mod = cb.CatBoostClassifier(loss_function = 'Logloss', eval_metric='TotalF1',\n",
        "                               verbose=False, thread_count = 3, iterations = 1900, early_stopping_rounds=170,\n",
        "                               random_state = 123, l2_leaf_reg = 2, learning_rate = 0.02,\n",
        "                               depth= 7, class_weights = class_weights, task_type=\"GPU\") #, cat_features = ca)\n",
        "cb_mod.fit(features_train, target_train, plot=True, eval_set=(features_1, target_1))\n",
        "time_cb = (time.perf_counter() - ti_3) / 60\n",
        "print(f'время работы CatBoost:  {time_cb} мин')"
      ]
    },
    {
      "cell_type": "code",
      "execution_count": null,
      "metadata": {
        "id": "OvNh3Yzw0t6d",
        "outputId": "c457c92b-77eb-40e5-a678-98d46e8f809e"
      },
      "outputs": [
        {
          "name": "stdout",
          "output_type": "stream",
          "text": [
            "время работы CatBoost:  4.647502543116661 мин\n"
          ]
        }
      ],
      "source": [
        "ti_3 = time.perf_counter()\n",
        "cb_mod = cb.CatBoostClassifier(loss_function = 'Logloss',\n",
        "                               verbose=False, thread_count = 3, iterations = 1200, \n",
        "                               random_state = 123, l2_leaf_reg = 2, learning_rate = 0.03,\n",
        "                               depth= 7, class_weights = class_weights) #, task_type=\"GPU\")\n",
        "cb_mod.fit(features_train, target_train)\n",
        "time_cb = (time.perf_counter() - ti_3) / 60\n",
        "print(f'время работы CatBoost:  {time_cb} мин')"
      ]
    },
    {
      "cell_type": "code",
      "execution_count": null,
      "metadata": {
        "id": "eWZ-JLP70t6d",
        "outputId": "ada873f7-cb1b-495b-9637-5e63c8ebfefe"
      },
      "outputs": [
        {
          "data": {
            "text/plain": [
              "0.8807145434259909"
            ]
          },
          "execution_count": 62,
          "metadata": {},
          "output_type": "execute_result"
        }
      ],
      "source": [
        "roc_auc_score(target_test, cb_mod.predict(features_test))"
      ]
    },
    {
      "cell_type": "code",
      "execution_count": null,
      "metadata": {
        "id": "wrrpKrp70t6e"
      },
      "outputs": [],
      "source": [
        "0.8679264709412975"
      ]
    },
    {
      "cell_type": "code",
      "execution_count": null,
      "metadata": {
        "id": "e4QAFc7y0t6e"
      },
      "outputs": [],
      "source": [
        "pred_cb = cb_mod.predict_proba(features_test)"
      ]
    },
    {
      "cell_type": "code",
      "execution_count": null,
      "metadata": {
        "id": "OfPVibvq0t6e",
        "outputId": "f5713c0c-f775-437f-d7ce-7051e234f327"
      },
      "outputs": [
        {
          "name": "stdout",
          "output_type": "stream",
          "text": [
            "recall_grid 0.9749696273659514 f1_grid 0.7698225304048099\n"
          ]
        }
      ],
      "source": [
        "print('recall_grid', \n",
        "      recall_score(target_test, cb_mod.predict(features_test), average='macro'), \n",
        "      'f1_grid', \n",
        "      f1_score(target_test, cb_mod.predict(features_test), average='macro'))"
      ]
    },
    {
      "cell_type": "code",
      "execution_count": null,
      "metadata": {
        "colab": {
          "base_uri": "https://localhost:8080/",
          "height": 283
        },
        "id": "Cg-FjaH0VyHl",
        "outputId": "256d1e48-ad24-45fb-9f3c-9123458e2181"
      },
      "outputs": [
        {
          "data": {
            "text/plain": [
              "<AxesSubplot:ylabel='feature_names'>"
            ]
          },
          "execution_count": 58,
          "metadata": {},
          "output_type": "execute_result"
        },
        {
          "data": {
            "image/png": "[encoded data removed]",
            "text/plain": [
              "<Figure size 432x288 with 1 Axes>"
            ]
          },
          "metadata": {
            "needs_background": "light"
          },
          "output_type": "display_data"
        }
      ],
      "source": [
        "data = pd.DataFrame({'feature_importance': cb_mod.get_feature_importance(), \n",
        "              'feature_names': features_train.columns}).sort_values(by=['feature_importance'], \n",
        "                                                       ascending=False)\n",
        "data[:20].sort_values(by=['feature_importance'], ascending=True).plot.barh(x='feature_names', y='feature_importance')"
      ]
    },
    {
      "cell_type": "code",
      "execution_count": null,
      "metadata": {
        "id": "oAjZcLeq0t6f"
      },
      "outputs": [],
      "source": []
    },
    {
      "cell_type": "markdown",
      "metadata": {
        "id": "Sy4uNf5eVyHm"
      },
      "source": [
        "## LGBMClassifier"
      ]
    },
    {
      "cell_type": "code",
      "execution_count": null,
      "metadata": {
        "colab": {
          "base_uri": "https://localhost:8080/"
        },
        "id": "qH5QH3nXVyHm",
        "outputId": "ec42c28b-4aa2-4d80-f521-cdede3f1376c",
        "scrolled": true
      },
      "outputs": [
        {
          "name": "stdout",
          "output_type": "stream",
          "text": [
            "[LightGBM] [Warning] Unknown parameter: thread_count\n",
            "[LightGBM] [Warning] Unknown parameter: verbose_eval\n",
            "[LightGBM] [Warning] feature_fraction is set=0.7, colsample_bytree=1.0 will be ignored. Current value: feature_fraction=0.7\n",
            "[LightGBM] [Warning] bagging_fraction is set=0.99, subsample=1.0 will be ignored. Current value: bagging_fraction=0.99\n",
            "[LightGBM] [Warning] lambda_l2 is set=35, reg_lambda=0.0 will be ignored. Current value: lambda_l2=35\n",
            "[LightGBM] [Warning] Unknown parameter: thread_count\n",
            "[LightGBM] [Warning] Unknown parameter: verbose_eval\n",
            "[LightGBM] [Warning] feature_fraction is set=0.7, colsample_bytree=1.0 will be ignored. Current value: feature_fraction=0.7\n",
            "[LightGBM] [Warning] bagging_fraction is set=0.99, subsample=1.0 will be ignored. Current value: bagging_fraction=0.99\n",
            "[LightGBM] [Warning] lambda_l2 is set=35, reg_lambda=0.0 will be ignored. Current value: lambda_l2=35\n",
            "[LightGBM] [Warning] Unknown parameter: thread_count\n",
            "[LightGBM] [Warning] Unknown parameter: verbose_eval\n",
            "[LightGBM] [Warning] feature_fraction is set=0.7, colsample_bytree=1.0 will be ignored. Current value: feature_fraction=0.7\n",
            "[LightGBM] [Warning] bagging_fraction is set=0.99, subsample=1.0 will be ignored. Current value: bagging_fraction=0.99\n",
            "[LightGBM] [Warning] lambda_l2 is set=35, reg_lambda=0.0 will be ignored. Current value: lambda_l2=35\n",
            "[LightGBM] [Warning] Unknown parameter: thread_count\n",
            "[LightGBM] [Warning] Unknown parameter: verbose_eval\n",
            "[LightGBM] [Warning] feature_fraction is set=0.6, colsample_bytree=1.0 will be ignored. Current value: feature_fraction=0.6\n",
            "[LightGBM] [Warning] bagging_fraction is set=0.7, subsample=1.0 will be ignored. Current value: bagging_fraction=0.7\n",
            "[LightGBM] [Warning] lambda_l2 is set=30, reg_lambda=0.0 will be ignored. Current value: lambda_l2=30\n",
            "[LightGBM] [Warning] Unknown parameter: thread_count\n",
            "[LightGBM] [Warning] Unknown parameter: verbose_eval\n",
            "[LightGBM] [Warning] feature_fraction is set=0.6, colsample_bytree=1.0 will be ignored. Current value: feature_fraction=0.6\n",
            "[LightGBM] [Warning] bagging_fraction is set=0.7, subsample=1.0 will be ignored. Current value: bagging_fraction=0.7\n",
            "[LightGBM] [Warning] lambda_l2 is set=30, reg_lambda=0.0 will be ignored. Current value: lambda_l2=30\n",
            "[LightGBM] [Warning] Unknown parameter: thread_count\n",
            "[LightGBM] [Warning] Unknown parameter: verbose_eval\n",
            "[LightGBM] [Warning] feature_fraction is set=0.6, colsample_bytree=1.0 will be ignored. Current value: feature_fraction=0.6\n",
            "[LightGBM] [Warning] bagging_fraction is set=0.7, subsample=1.0 will be ignored. Current value: bagging_fraction=0.7\n",
            "[LightGBM] [Warning] lambda_l2 is set=30, reg_lambda=0.0 will be ignored. Current value: lambda_l2=30\n",
            "[LightGBM] [Warning] Unknown parameter: thread_count\n",
            "[LightGBM] [Warning] Unknown parameter: verbose_eval\n",
            "[LightGBM] [Warning] feature_fraction is set=0.8, colsample_bytree=1.0 will be ignored. Current value: feature_fraction=0.8\n",
            "[LightGBM] [Warning] bagging_fraction is set=0.95, subsample=1.0 will be ignored. Current value: bagging_fraction=0.95\n",
            "[LightGBM] [Warning] lambda_l2 is set=0, reg_lambda=0.0 will be ignored. Current value: lambda_l2=0\n",
            "[LightGBM] [Warning] Unknown parameter: thread_count\n",
            "[LightGBM] [Warning] Unknown parameter: verbose_eval\n",
            "[LightGBM] [Warning] feature_fraction is set=0.8, colsample_bytree=1.0 will be ignored. Current value: feature_fraction=0.8\n",
            "[LightGBM] [Warning] bagging_fraction is set=0.95, subsample=1.0 will be ignored. Current value: bagging_fraction=0.95\n",
            "[LightGBM] [Warning] lambda_l2 is set=0, reg_lambda=0.0 will be ignored. Current value: lambda_l2=0\n",
            "[LightGBM] [Warning] Unknown parameter: thread_count\n",
            "[LightGBM] [Warning] Unknown parameter: verbose_eval\n",
            "[LightGBM] [Warning] feature_fraction is set=0.8, colsample_bytree=1.0 will be ignored. Current value: feature_fraction=0.8\n",
            "[LightGBM] [Warning] bagging_fraction is set=0.95, subsample=1.0 will be ignored. Current value: bagging_fraction=0.95\n",
            "[LightGBM] [Warning] lambda_l2 is set=0, reg_lambda=0.0 will be ignored. Current value: lambda_l2=0\n",
            "[LightGBM] [Warning] Unknown parameter: thread_count\n",
            "[LightGBM] [Warning] Unknown parameter: verbose_eval\n",
            "[LightGBM] [Warning] feature_fraction is set=0.7, colsample_bytree=1.0 will be ignored. Current value: feature_fraction=0.7\n",
            "[LightGBM] [Warning] bagging_fraction is set=0.8, subsample=1.0 will be ignored. Current value: bagging_fraction=0.8\n",
            "[LightGBM] [Warning] lambda_l2 is set=35, reg_lambda=0.0 will be ignored. Current value: lambda_l2=35\n",
            "[LightGBM] [Warning] Unknown parameter: thread_count\n",
            "[LightGBM] [Warning] Unknown parameter: verbose_eval\n",
            "[LightGBM] [Warning] feature_fraction is set=0.7, colsample_bytree=1.0 will be ignored. Current value: feature_fraction=0.7\n",
            "[LightGBM] [Warning] bagging_fraction is set=0.8, subsample=1.0 will be ignored. Current value: bagging_fraction=0.8\n",
            "[LightGBM] [Warning] lambda_l2 is set=35, reg_lambda=0.0 will be ignored. Current value: lambda_l2=35\n",
            "[LightGBM] [Warning] Unknown parameter: thread_count\n",
            "[LightGBM] [Warning] Unknown parameter: verbose_eval\n",
            "[LightGBM] [Warning] feature_fraction is set=0.7, colsample_bytree=1.0 will be ignored. Current value: feature_fraction=0.7\n",
            "[LightGBM] [Warning] bagging_fraction is set=0.8, subsample=1.0 will be ignored. Current value: bagging_fraction=0.8\n",
            "[LightGBM] [Warning] lambda_l2 is set=35, reg_lambda=0.0 will be ignored. Current value: lambda_l2=35\n",
            "[LightGBM] [Warning] Unknown parameter: thread_count\n",
            "[LightGBM] [Warning] Unknown parameter: verbose_eval\n",
            "[LightGBM] [Warning] feature_fraction is set=0.7, colsample_bytree=1.0 will be ignored. Current value: feature_fraction=0.7\n",
            "[LightGBM] [Warning] bagging_fraction is set=0.99, subsample=1.0 will be ignored. Current value: bagging_fraction=0.99\n",
            "[LightGBM] [Warning] lambda_l2 is set=7, reg_lambda=0.0 will be ignored. Current value: lambda_l2=7\n",
            "[LightGBM] [Warning] Unknown parameter: thread_count\n",
            "[LightGBM] [Warning] Unknown parameter: verbose_eval\n",
            "[LightGBM] [Warning] feature_fraction is set=0.7, colsample_bytree=1.0 will be ignored. Current value: feature_fraction=0.7\n",
            "[LightGBM] [Warning] bagging_fraction is set=0.99, subsample=1.0 will be ignored. Current value: bagging_fraction=0.99\n",
            "[LightGBM] [Warning] lambda_l2 is set=7, reg_lambda=0.0 will be ignored. Current value: lambda_l2=7\n",
            "[LightGBM] [Warning] Unknown parameter: thread_count\n",
            "[LightGBM] [Warning] Unknown parameter: verbose_eval\n",
            "[LightGBM] [Warning] feature_fraction is set=0.7, colsample_bytree=1.0 will be ignored. Current value: feature_fraction=0.7\n",
            "[LightGBM] [Warning] bagging_fraction is set=0.99, subsample=1.0 will be ignored. Current value: bagging_fraction=0.99\n",
            "[LightGBM] [Warning] lambda_l2 is set=7, reg_lambda=0.0 will be ignored. Current value: lambda_l2=7\n",
            "[LightGBM] [Warning] Unknown parameter: thread_count\n",
            "[LightGBM] [Warning] Unknown parameter: verbose_eval\n",
            "[LightGBM] [Warning] feature_fraction is set=0.9, colsample_bytree=1.0 will be ignored. Current value: feature_fraction=0.9\n",
            "[LightGBM] [Warning] bagging_fraction is set=0.95, subsample=1.0 will be ignored. Current value: bagging_fraction=0.95\n",
            "[LightGBM] [Warning] lambda_l2 is set=0, reg_lambda=0.0 will be ignored. Current value: lambda_l2=0\n",
            "[LightGBM] [Warning] Unknown parameter: thread_count\n",
            "[LightGBM] [Warning] Unknown parameter: verbose_eval\n",
            "[LightGBM] [Warning] feature_fraction is set=0.9, colsample_bytree=1.0 will be ignored. Current value: feature_fraction=0.9\n",
            "[LightGBM] [Warning] bagging_fraction is set=0.95, subsample=1.0 will be ignored. Current value: bagging_fraction=0.95\n",
            "[LightGBM] [Warning] lambda_l2 is set=0, reg_lambda=0.0 will be ignored. Current value: lambda_l2=0\n",
            "[LightGBM] [Warning] Unknown parameter: thread_count\n",
            "[LightGBM] [Warning] Unknown parameter: verbose_eval\n",
            "[LightGBM] [Warning] feature_fraction is set=0.9, colsample_bytree=1.0 will be ignored. Current value: feature_fraction=0.9\n",
            "[LightGBM] [Warning] bagging_fraction is set=0.95, subsample=1.0 will be ignored. Current value: bagging_fraction=0.95\n",
            "[LightGBM] [Warning] lambda_l2 is set=0, reg_lambda=0.0 will be ignored. Current value: lambda_l2=0\n",
            "[LightGBM] [Warning] Unknown parameter: thread_count\n",
            "[LightGBM] [Warning] Unknown parameter: verbose_eval\n",
            "[LightGBM] [Warning] feature_fraction is set=0.7, colsample_bytree=1.0 will be ignored. Current value: feature_fraction=0.7\n",
            "[LightGBM] [Warning] bagging_fraction is set=0.7, subsample=1.0 will be ignored. Current value: bagging_fraction=0.7\n",
            "[LightGBM] [Warning] lambda_l2 is set=15, reg_lambda=0.0 will be ignored. Current value: lambda_l2=15\n",
            "[LightGBM] [Warning] Unknown parameter: thread_count\n",
            "[LightGBM] [Warning] Unknown parameter: verbose_eval\n",
            "[LightGBM] [Warning] feature_fraction is set=0.7, colsample_bytree=1.0 will be ignored. Current value: feature_fraction=0.7\n",
            "[LightGBM] [Warning] bagging_fraction is set=0.7, subsample=1.0 will be ignored. Current value: bagging_fraction=0.7\n",
            "[LightGBM] [Warning] lambda_l2 is set=15, reg_lambda=0.0 will be ignored. Current value: lambda_l2=15\n",
            "[LightGBM] [Warning] Unknown parameter: thread_count\n",
            "[LightGBM] [Warning] Unknown parameter: verbose_eval\n",
            "[LightGBM] [Warning] feature_fraction is set=0.7, colsample_bytree=1.0 will be ignored. Current value: feature_fraction=0.7\n",
            "[LightGBM] [Warning] bagging_fraction is set=0.7, subsample=1.0 will be ignored. Current value: bagging_fraction=0.7\n",
            "[LightGBM] [Warning] lambda_l2 is set=15, reg_lambda=0.0 will be ignored. Current value: lambda_l2=15\n",
            "[LightGBM] [Warning] Unknown parameter: thread_count\n",
            "[LightGBM] [Warning] Unknown parameter: verbose_eval\n",
            "[LightGBM] [Warning] feature_fraction is set=0.95, colsample_bytree=1.0 will be ignored. Current value: feature_fraction=0.95\n",
            "[LightGBM] [Warning] bagging_fraction is set=0.8, subsample=1.0 will be ignored. Current value: bagging_fraction=0.8\n",
            "[LightGBM] [Warning] lambda_l2 is set=15, reg_lambda=0.0 will be ignored. Current value: lambda_l2=15\n",
            "[LightGBM] [Warning] Unknown parameter: thread_count\n",
            "[LightGBM] [Warning] Unknown parameter: verbose_eval\n",
            "[LightGBM] [Warning] feature_fraction is set=0.95, colsample_bytree=1.0 will be ignored. Current value: feature_fraction=0.95\n",
            "[LightGBM] [Warning] bagging_fraction is set=0.8, subsample=1.0 will be ignored. Current value: bagging_fraction=0.8\n",
            "[LightGBM] [Warning] lambda_l2 is set=15, reg_lambda=0.0 will be ignored. Current value: lambda_l2=15\n",
            "[LightGBM] [Warning] Unknown parameter: thread_count\n",
            "[LightGBM] [Warning] Unknown parameter: verbose_eval\n",
            "[LightGBM] [Warning] feature_fraction is set=0.95, colsample_bytree=1.0 will be ignored. Current value: feature_fraction=0.95\n",
            "[LightGBM] [Warning] bagging_fraction is set=0.8, subsample=1.0 will be ignored. Current value: bagging_fraction=0.8\n",
            "[LightGBM] [Warning] lambda_l2 is set=15, reg_lambda=0.0 will be ignored. Current value: lambda_l2=15\n",
            "[LightGBM] [Warning] Unknown parameter: thread_count\n",
            "[LightGBM] [Warning] Unknown parameter: verbose_eval\n",
            "[LightGBM] [Warning] feature_fraction is set=0.6, colsample_bytree=1.0 will be ignored. Current value: feature_fraction=0.6\n",
            "[LightGBM] [Warning] bagging_fraction is set=0.99, subsample=1.0 will be ignored. Current value: bagging_fraction=0.99\n",
            "[LightGBM] [Warning] lambda_l2 is set=35, reg_lambda=0.0 will be ignored. Current value: lambda_l2=35\n",
            "[LightGBM] [Warning] Unknown parameter: thread_count\n",
            "[LightGBM] [Warning] Unknown parameter: verbose_eval\n",
            "[LightGBM] [Warning] feature_fraction is set=0.6, colsample_bytree=1.0 will be ignored. Current value: feature_fraction=0.6\n",
            "[LightGBM] [Warning] bagging_fraction is set=0.99, subsample=1.0 will be ignored. Current value: bagging_fraction=0.99\n",
            "[LightGBM] [Warning] lambda_l2 is set=35, reg_lambda=0.0 will be ignored. Current value: lambda_l2=35\n",
            "[LightGBM] [Warning] Unknown parameter: thread_count\n",
            "[LightGBM] [Warning] Unknown parameter: verbose_eval\n",
            "[LightGBM] [Warning] feature_fraction is set=0.6, colsample_bytree=1.0 will be ignored. Current value: feature_fraction=0.6\n",
            "[LightGBM] [Warning] bagging_fraction is set=0.99, subsample=1.0 will be ignored. Current value: bagging_fraction=0.99\n",
            "[LightGBM] [Warning] lambda_l2 is set=35, reg_lambda=0.0 will be ignored. Current value: lambda_l2=35\n",
            "[LightGBM] [Warning] Unknown parameter: thread_count\n",
            "[LightGBM] [Warning] Unknown parameter: verbose_eval\n",
            "[LightGBM] [Warning] feature_fraction is set=0.6, colsample_bytree=1.0 will be ignored. Current value: feature_fraction=0.6\n",
            "[LightGBM] [Warning] bagging_fraction is set=0.7, subsample=1.0 will be ignored. Current value: bagging_fraction=0.7\n",
            "[LightGBM] [Warning] lambda_l2 is set=30, reg_lambda=0.0 will be ignored. Current value: lambda_l2=30\n",
            "[LightGBM] [Warning] Unknown parameter: thread_count\n",
            "[LightGBM] [Warning] Unknown parameter: verbose_eval\n",
            "[LightGBM] [Warning] feature_fraction is set=0.6, colsample_bytree=1.0 will be ignored. Current value: feature_fraction=0.6\n",
            "[LightGBM] [Warning] bagging_fraction is set=0.7, subsample=1.0 will be ignored. Current value: bagging_fraction=0.7\n",
            "[LightGBM] [Warning] lambda_l2 is set=30, reg_lambda=0.0 will be ignored. Current value: lambda_l2=30\n",
            "[LightGBM] [Warning] Unknown parameter: thread_count\n",
            "[LightGBM] [Warning] Unknown parameter: verbose_eval\n",
            "[LightGBM] [Warning] feature_fraction is set=0.6, colsample_bytree=1.0 will be ignored. Current value: feature_fraction=0.6\n",
            "[LightGBM] [Warning] bagging_fraction is set=0.7, subsample=1.0 will be ignored. Current value: bagging_fraction=0.7\n",
            "[LightGBM] [Warning] lambda_l2 is set=30, reg_lambda=0.0 will be ignored. Current value: lambda_l2=30\n",
            "[LightGBM] [Warning] Unknown parameter: thread_count\n",
            "[LightGBM] [Warning] Unknown parameter: verbose_eval\n",
            "[LightGBM] [Warning] feature_fraction is set=0.7, colsample_bytree=1.0 will be ignored. Current value: feature_fraction=0.7\n",
            "[LightGBM] [Warning] bagging_fraction is set=0.6, subsample=1.0 will be ignored. Current value: bagging_fraction=0.6\n",
            "[LightGBM] [Warning] lambda_l2 is set=15, reg_lambda=0.0 will be ignored. Current value: lambda_l2=15\n",
            "[LightGBM] [Warning] Unknown parameter: thread_count\n",
            "[LightGBM] [Warning] Unknown parameter: verbose_eval\n",
            "[LightGBM] [Warning] feature_fraction is set=0.7, colsample_bytree=1.0 will be ignored. Current value: feature_fraction=0.7\n",
            "[LightGBM] [Warning] bagging_fraction is set=0.6, subsample=1.0 will be ignored. Current value: bagging_fraction=0.6\n",
            "[LightGBM] [Warning] lambda_l2 is set=15, reg_lambda=0.0 will be ignored. Current value: lambda_l2=15\n",
            "[LightGBM] [Warning] Unknown parameter: thread_count\n",
            "[LightGBM] [Warning] Unknown parameter: verbose_eval\n",
            "[LightGBM] [Warning] feature_fraction is set=0.7, colsample_bytree=1.0 will be ignored. Current value: feature_fraction=0.7\n",
            "[LightGBM] [Warning] bagging_fraction is set=0.6, subsample=1.0 will be ignored. Current value: bagging_fraction=0.6\n",
            "[LightGBM] [Warning] lambda_l2 is set=15, reg_lambda=0.0 will be ignored. Current value: lambda_l2=15\n",
            "[LightGBM] [Warning] Unknown parameter: thread_count\n",
            "[LightGBM] [Warning] Unknown parameter: verbose_eval\n",
            "[LightGBM] [Warning] feature_fraction is set=0.9, colsample_bytree=1.0 will be ignored. Current value: feature_fraction=0.9\n",
            "[LightGBM] [Warning] bagging_fraction is set=0.95, subsample=1.0 will be ignored. Current value: bagging_fraction=0.95\n",
            "[LightGBM] [Warning] lambda_l2 is set=30, reg_lambda=0.0 will be ignored. Current value: lambda_l2=30\n",
            "[LightGBM] [Warning] Unknown parameter: thread_count\n",
            "[LightGBM] [Warning] Unknown parameter: verbose_eval\n",
            "[LightGBM] [Warning] feature_fraction is set=0.9, colsample_bytree=1.0 will be ignored. Current value: feature_fraction=0.9\n",
            "[LightGBM] [Warning] bagging_fraction is set=0.95, subsample=1.0 will be ignored. Current value: bagging_fraction=0.95\n",
            "[LightGBM] [Warning] lambda_l2 is set=30, reg_lambda=0.0 will be ignored. Current value: lambda_l2=30\n",
            "[LightGBM] [Warning] Unknown parameter: thread_count\n",
            "[LightGBM] [Warning] Unknown parameter: verbose_eval\n",
            "[LightGBM] [Warning] feature_fraction is set=0.9, colsample_bytree=1.0 will be ignored. Current value: feature_fraction=0.9\n",
            "[LightGBM] [Warning] bagging_fraction is set=0.95, subsample=1.0 will be ignored. Current value: bagging_fraction=0.95\n",
            "[LightGBM] [Warning] lambda_l2 is set=30, reg_lambda=0.0 will be ignored. Current value: lambda_l2=30\n",
            "[LightGBM] [Warning] Unknown parameter: thread_count\n",
            "[LightGBM] [Warning] Unknown parameter: verbose_eval\n",
            "[LightGBM] [Warning] feature_fraction is set=0.9, colsample_bytree=1.0 will be ignored. Current value: feature_fraction=0.9\n",
            "[LightGBM] [Warning] bagging_fraction is set=0.8, subsample=1.0 will be ignored. Current value: bagging_fraction=0.8\n",
            "[LightGBM] [Warning] lambda_l2 is set=0, reg_lambda=0.0 will be ignored. Current value: lambda_l2=0\n",
            "[LightGBM] [Warning] Unknown parameter: thread_count\n",
            "[LightGBM] [Warning] Unknown parameter: verbose_eval\n",
            "[LightGBM] [Warning] feature_fraction is set=0.9, colsample_bytree=1.0 will be ignored. Current value: feature_fraction=0.9\n",
            "[LightGBM] [Warning] bagging_fraction is set=0.8, subsample=1.0 will be ignored. Current value: bagging_fraction=0.8\n",
            "[LightGBM] [Warning] lambda_l2 is set=0, reg_lambda=0.0 will be ignored. Current value: lambda_l2=0\n",
            "[LightGBM] [Warning] Unknown parameter: thread_count\n",
            "[LightGBM] [Warning] Unknown parameter: verbose_eval\n",
            "[LightGBM] [Warning] feature_fraction is set=0.9, colsample_bytree=1.0 will be ignored. Current value: feature_fraction=0.9\n",
            "[LightGBM] [Warning] bagging_fraction is set=0.8, subsample=1.0 will be ignored. Current value: bagging_fraction=0.8\n",
            "[LightGBM] [Warning] lambda_l2 is set=0, reg_lambda=0.0 will be ignored. Current value: lambda_l2=0\n",
            "[LightGBM] [Warning] Unknown parameter: thread_count\n",
            "[LightGBM] [Warning] Unknown parameter: verbose_eval\n",
            "[LightGBM] [Warning] feature_fraction is set=0.95, colsample_bytree=1.0 will be ignored. Current value: feature_fraction=0.95\n",
            "[LightGBM] [Warning] bagging_fraction is set=0.8, subsample=1.0 will be ignored. Current value: bagging_fraction=0.8\n",
            "[LightGBM] [Warning] lambda_l2 is set=0, reg_lambda=0.0 will be ignored. Current value: lambda_l2=0\n",
            "[LightGBM] [Warning] Unknown parameter: thread_count\n",
            "[LightGBM] [Warning] Unknown parameter: verbose_eval\n",
            "[LightGBM] [Warning] feature_fraction is set=0.95, colsample_bytree=1.0 will be ignored. Current value: feature_fraction=0.95\n",
            "[LightGBM] [Warning] bagging_fraction is set=0.8, subsample=1.0 will be ignored. Current value: bagging_fraction=0.8\n",
            "[LightGBM] [Warning] lambda_l2 is set=0, reg_lambda=0.0 will be ignored. Current value: lambda_l2=0\n",
            "[LightGBM] [Warning] Unknown parameter: thread_count\n",
            "[LightGBM] [Warning] Unknown parameter: verbose_eval\n",
            "[LightGBM] [Warning] feature_fraction is set=0.95, colsample_bytree=1.0 will be ignored. Current value: feature_fraction=0.95\n",
            "[LightGBM] [Warning] bagging_fraction is set=0.8, subsample=1.0 will be ignored. Current value: bagging_fraction=0.8\n",
            "[LightGBM] [Warning] lambda_l2 is set=0, reg_lambda=0.0 will be ignored. Current value: lambda_l2=0\n",
            "[LightGBM] [Warning] Unknown parameter: thread_count\n",
            "[LightGBM] [Warning] Unknown parameter: verbose_eval\n",
            "[LightGBM] [Warning] feature_fraction is set=0.6, colsample_bytree=1.0 will be ignored. Current value: feature_fraction=0.6\n",
            "[LightGBM] [Warning] bagging_fraction is set=0.6, subsample=1.0 will be ignored. Current value: bagging_fraction=0.6\n",
            "[LightGBM] [Warning] lambda_l2 is set=10, reg_lambda=0.0 will be ignored. Current value: lambda_l2=10\n",
            "[LightGBM] [Warning] Unknown parameter: thread_count\n",
            "[LightGBM] [Warning] Unknown parameter: verbose_eval\n",
            "[LightGBM] [Warning] feature_fraction is set=0.6, colsample_bytree=1.0 will be ignored. Current value: feature_fraction=0.6\n",
            "[LightGBM] [Warning] bagging_fraction is set=0.6, subsample=1.0 will be ignored. Current value: bagging_fraction=0.6\n",
            "[LightGBM] [Warning] lambda_l2 is set=10, reg_lambda=0.0 will be ignored. Current value: lambda_l2=10\n",
            "[LightGBM] [Warning] Unknown parameter: thread_count\n",
            "[LightGBM] [Warning] Unknown parameter: verbose_eval\n",
            "[LightGBM] [Warning] feature_fraction is set=0.6, colsample_bytree=1.0 will be ignored. Current value: feature_fraction=0.6\n",
            "[LightGBM] [Warning] bagging_fraction is set=0.6, subsample=1.0 will be ignored. Current value: bagging_fraction=0.6\n",
            "[LightGBM] [Warning] lambda_l2 is set=10, reg_lambda=0.0 will be ignored. Current value: lambda_l2=10\n",
            "[LightGBM] [Warning] Unknown parameter: thread_count\n",
            "[LightGBM] [Warning] Unknown parameter: verbose_eval\n",
            "[LightGBM] [Warning] feature_fraction is set=0.99, colsample_bytree=1.0 will be ignored. Current value: feature_fraction=0.99\n",
            "[LightGBM] [Warning] bagging_fraction is set=0.9, subsample=1.0 will be ignored. Current value: bagging_fraction=0.9\n",
            "[LightGBM] [Warning] lambda_l2 is set=20, reg_lambda=0.0 will be ignored. Current value: lambda_l2=20\n",
            "[LightGBM] [Warning] Unknown parameter: thread_count\n",
            "[LightGBM] [Warning] Unknown parameter: verbose_eval\n",
            "[LightGBM] [Warning] feature_fraction is set=0.99, colsample_bytree=1.0 will be ignored. Current value: feature_fraction=0.99\n",
            "[LightGBM] [Warning] bagging_fraction is set=0.9, subsample=1.0 will be ignored. Current value: bagging_fraction=0.9\n",
            "[LightGBM] [Warning] lambda_l2 is set=20, reg_lambda=0.0 will be ignored. Current value: lambda_l2=20\n",
            "[LightGBM] [Warning] Unknown parameter: thread_count\n",
            "[LightGBM] [Warning] Unknown parameter: verbose_eval\n",
            "[LightGBM] [Warning] feature_fraction is set=0.99, colsample_bytree=1.0 will be ignored. Current value: feature_fraction=0.99\n",
            "[LightGBM] [Warning] bagging_fraction is set=0.9, subsample=1.0 will be ignored. Current value: bagging_fraction=0.9\n",
            "[LightGBM] [Warning] lambda_l2 is set=20, reg_lambda=0.0 will be ignored. Current value: lambda_l2=20\n",
            "[LightGBM] [Warning] Unknown parameter: thread_count\n",
            "[LightGBM] [Warning] Unknown parameter: verbose_eval\n",
            "[LightGBM] [Warning] feature_fraction is set=0.99, colsample_bytree=1.0 will be ignored. Current value: feature_fraction=0.99\n",
            "[LightGBM] [Warning] bagging_fraction is set=0.6, subsample=1.0 will be ignored. Current value: bagging_fraction=0.6\n",
            "[LightGBM] [Warning] lambda_l2 is set=7, reg_lambda=0.0 will be ignored. Current value: lambda_l2=7\n",
            "[LightGBM] [Warning] Unknown parameter: thread_count\n",
            "[LightGBM] [Warning] Unknown parameter: verbose_eval\n",
            "[LightGBM] [Warning] feature_fraction is set=0.99, colsample_bytree=1.0 will be ignored. Current value: feature_fraction=0.99\n",
            "[LightGBM] [Warning] bagging_fraction is set=0.6, subsample=1.0 will be ignored. Current value: bagging_fraction=0.6\n",
            "[LightGBM] [Warning] lambda_l2 is set=7, reg_lambda=0.0 will be ignored. Current value: lambda_l2=7\n",
            "[LightGBM] [Warning] Unknown parameter: thread_count\n",
            "[LightGBM] [Warning] Unknown parameter: verbose_eval\n",
            "[LightGBM] [Warning] feature_fraction is set=0.99, colsample_bytree=1.0 will be ignored. Current value: feature_fraction=0.99\n",
            "[LightGBM] [Warning] bagging_fraction is set=0.6, subsample=1.0 will be ignored. Current value: bagging_fraction=0.6\n",
            "[LightGBM] [Warning] lambda_l2 is set=7, reg_lambda=0.0 will be ignored. Current value: lambda_l2=7\n",
            "[LightGBM] [Warning] Unknown parameter: thread_count\n",
            "[LightGBM] [Warning] Unknown parameter: verbose_eval\n",
            "[LightGBM] [Warning] feature_fraction is set=0.8, colsample_bytree=1.0 will be ignored. Current value: feature_fraction=0.8\n",
            "[LightGBM] [Warning] bagging_fraction is set=0.8, subsample=1.0 will be ignored. Current value: bagging_fraction=0.8\n",
            "[LightGBM] [Warning] lambda_l2 is set=10, reg_lambda=0.0 will be ignored. Current value: lambda_l2=10\n",
            "[LightGBM] [Warning] Unknown parameter: thread_count\n",
            "[LightGBM] [Warning] Unknown parameter: verbose_eval\n",
            "[LightGBM] [Warning] feature_fraction is set=0.8, colsample_bytree=1.0 will be ignored. Current value: feature_fraction=0.8\n",
            "[LightGBM] [Warning] bagging_fraction is set=0.8, subsample=1.0 will be ignored. Current value: bagging_fraction=0.8\n",
            "[LightGBM] [Warning] lambda_l2 is set=10, reg_lambda=0.0 will be ignored. Current value: lambda_l2=10\n",
            "[LightGBM] [Warning] Unknown parameter: thread_count\n",
            "[LightGBM] [Warning] Unknown parameter: verbose_eval\n",
            "[LightGBM] [Warning] feature_fraction is set=0.8, colsample_bytree=1.0 will be ignored. Current value: feature_fraction=0.8\n",
            "[LightGBM] [Warning] bagging_fraction is set=0.8, subsample=1.0 will be ignored. Current value: bagging_fraction=0.8\n",
            "[LightGBM] [Warning] lambda_l2 is set=10, reg_lambda=0.0 will be ignored. Current value: lambda_l2=10\n",
            "[LightGBM] [Warning] Unknown parameter: thread_count\n",
            "[LightGBM] [Warning] Unknown parameter: verbose_eval\n",
            "[LightGBM] [Warning] feature_fraction is set=0.8, colsample_bytree=1.0 will be ignored. Current value: feature_fraction=0.8\n",
            "[LightGBM] [Warning] bagging_fraction is set=0.7, subsample=1.0 will be ignored. Current value: bagging_fraction=0.7\n",
            "[LightGBM] [Warning] lambda_l2 is set=35, reg_lambda=0.0 will be ignored. Current value: lambda_l2=35\n",
            "[LightGBM] [Warning] Unknown parameter: thread_count\n",
            "[LightGBM] [Warning] Unknown parameter: verbose_eval\n",
            "[LightGBM] [Warning] feature_fraction is set=0.8, colsample_bytree=1.0 will be ignored. Current value: feature_fraction=0.8\n",
            "[LightGBM] [Warning] bagging_fraction is set=0.7, subsample=1.0 will be ignored. Current value: bagging_fraction=0.7\n",
            "[LightGBM] [Warning] lambda_l2 is set=35, reg_lambda=0.0 will be ignored. Current value: lambda_l2=35\n",
            "[LightGBM] [Warning] Unknown parameter: thread_count\n",
            "[LightGBM] [Warning] Unknown parameter: verbose_eval\n",
            "[LightGBM] [Warning] feature_fraction is set=0.8, colsample_bytree=1.0 will be ignored. Current value: feature_fraction=0.8\n",
            "[LightGBM] [Warning] bagging_fraction is set=0.7, subsample=1.0 will be ignored. Current value: bagging_fraction=0.7\n",
            "[LightGBM] [Warning] lambda_l2 is set=35, reg_lambda=0.0 will be ignored. Current value: lambda_l2=35\n",
            "[LightGBM] [Warning] Unknown parameter: thread_count\n",
            "[LightGBM] [Warning] Unknown parameter: verbose_eval\n",
            "[LightGBM] [Warning] feature_fraction is set=0.8, colsample_bytree=1.0 will be ignored. Current value: feature_fraction=0.8\n",
            "[LightGBM] [Warning] bagging_fraction is set=0.6, subsample=1.0 will be ignored. Current value: bagging_fraction=0.6\n",
            "[LightGBM] [Warning] lambda_l2 is set=15, reg_lambda=0.0 will be ignored. Current value: lambda_l2=15\n",
            "[LightGBM] [Warning] Unknown parameter: thread_count\n",
            "[LightGBM] [Warning] Unknown parameter: verbose_eval\n",
            "[LightGBM] [Warning] feature_fraction is set=0.8, colsample_bytree=1.0 will be ignored. Current value: feature_fraction=0.8\n",
            "[LightGBM] [Warning] bagging_fraction is set=0.6, subsample=1.0 will be ignored. Current value: bagging_fraction=0.6\n",
            "[LightGBM] [Warning] lambda_l2 is set=15, reg_lambda=0.0 will be ignored. Current value: lambda_l2=15\n",
            "[LightGBM] [Warning] Unknown parameter: thread_count\n",
            "[LightGBM] [Warning] Unknown parameter: verbose_eval\n",
            "[LightGBM] [Warning] feature_fraction is set=0.8, colsample_bytree=1.0 will be ignored. Current value: feature_fraction=0.8\n",
            "[LightGBM] [Warning] bagging_fraction is set=0.6, subsample=1.0 will be ignored. Current value: bagging_fraction=0.6\n",
            "[LightGBM] [Warning] lambda_l2 is set=15, reg_lambda=0.0 will be ignored. Current value: lambda_l2=15\n",
            "[LightGBM] [Warning] Unknown parameter: thread_count\n",
            "[LightGBM] [Warning] Unknown parameter: verbose_eval\n",
            "[LightGBM] [Warning] feature_fraction is set=0.8, colsample_bytree=1.0 will be ignored. Current value: feature_fraction=0.8\n",
            "[LightGBM] [Warning] bagging_fraction is set=0.8, subsample=1.0 will be ignored. Current value: bagging_fraction=0.8\n",
            "[LightGBM] [Warning] lambda_l2 is set=10, reg_lambda=0.0 will be ignored. Current value: lambda_l2=10\n"
          ]
        },
        {
          "data": {
            "text/plain": [
              "RandomizedSearchCV(cv=3,\n",
              "                   estimator=LGBMClassifier(class_weight='balanced',\n",
              "                                            random_state=123, thread_count=4,\n",
              "                                            verbose_eval=False),\n",
              "                   n_iter=20,\n",
              "                   param_distributions={'bagging_fraction': [0.6, 0.7, 0.8, 0.9,\n",
              "                                                             0.95, 0.99],\n",
              "                                        'cat_smooth': [1, 3, 5, 8, 10, 13, 15,\n",
              "                                                       20, 35],\n",
              "                                        'feature_fraction': [0.6, 0.7, 0.8, 0.9,\n",
              "                                                             0.95, 0.99],\n",
              "                                        'lambda_l2': [0, 7, 10, 12, 15, 20, 30,\n",
              "                                                      35],\n",
              "                                        'learning_rate': [0.01, 0.05, 0.1,\n",
              "                                                          0.15],\n",
              "                                        'max_depth': [3, 4, 5, 6, 7, 8, 10, 12,\n",
              "                                                      15, 18, 20, 25, 30, 35,\n",
              "                                                      40],\n",
              "                                        'n_estimators': [80, 100, 120, 150, 300,\n",
              "                                                         350]},\n",
              "                   scoring='recall_macro')"
            ]
          },
          "execution_count": 86,
          "metadata": {},
          "output_type": "execute_result"
        }
      ],
      "source": [
        "params = {'max_depth': [3, 4, 5, 6, 7, 8, 10, 12, 15, 18, 20, 25, 30, 35, 40],\n",
        "          'learning_rate' : [0.01, 0.05, 0.1, 0.15],\n",
        "         'lambda_l2': [0, 7, 10, 12, 15, 20, 30, 35],\n",
        "         'feature_fraction': [0.6, 0.7, 0.8, 0.9, 0.95, 0.99],\n",
        "          'n_estimators' : [80, 100, 120, 150, 300, 350],\n",
        "          'bagging_fraction': [0.6, 0.7, 0.8, 0.9, 0.95, 0.99],\n",
        "         'cat_smooth': [1, 3, 5, 8, 10, 13, 15, 20, 35]}\n",
        "\n",
        "lgb = LGBMClassifier(random_state = 123, verbose_eval = False, class_weight='balanced', thread_count = 4)\n",
        "lgb_bayes = RandomizedSearchCV(lgb, params, scoring=\"recall_macro\", cv = 3, n_iter = 20)\n",
        "lgb_bayes.fit(features_train, target_train)\n"
      ]
    },
    {
      "cell_type": "code",
      "execution_count": null,
      "metadata": {
        "colab": {
          "base_uri": "https://localhost:8080/"
        },
        "id": "_-En6_VkVyHm",
        "outputId": "d3869914-7c16-4054-be06-d8c7f852fe84"
      },
      "outputs": [
        {
          "data": {
            "text/plain": [
              "{'n_estimators': 100,\n",
              " 'max_depth': 18,\n",
              " 'learning_rate': 0.1,\n",
              " 'lambda_l2': 10,\n",
              " 'feature_fraction': 0.8,\n",
              " 'cat_smooth': 13,\n",
              " 'bagging_fraction': 0.8}"
            ]
          },
          "execution_count": 87,
          "metadata": {},
          "output_type": "execute_result"
        }
      ],
      "source": [
        "lgb_bayes.best_params_"
      ]
    },
    {
      "cell_type": "code",
      "execution_count": null,
      "metadata": {
        "colab": {
          "base_uri": "https://localhost:8080/"
        },
        "id": "ObSTwxgIVyHn",
        "outputId": "081ab6ec-97d7-47da-cfa1-87b2dff27dad"
      },
      "outputs": [
        {
          "data": {
            "text/plain": [
              "0.8834301056950261"
            ]
          },
          "execution_count": 88,
          "metadata": {},
          "output_type": "execute_result"
        }
      ],
      "source": [
        "lgb_bayes.best_score_"
      ]
    },
    {
      "cell_type": "code",
      "execution_count": null,
      "metadata": {
        "id": "I4z6Mcuz0t6i",
        "outputId": "87c95955-ecb8-4b6c-81c1-09a881707cc5"
      },
      "outputs": [
        {
          "name": "stdout",
          "output_type": "stream",
          "text": [
            "metric_lgb_bayes 0.8812165444934632 f1_lgb_bayes 0.5675489287198974\n"
          ]
        }
      ],
      "source": [
        "metric_lgb_bayes = (\n",
        "    0.1 * recall_score(target_test, lgb_bayes.predict(features_test), average='macro', pos_label = 0) +\n",
        "    roc_auc_score(target_test, lgb_bayes.predict(features_test), average='macro', multi_class = 'ovo') * 0.9\n",
        ")\n",
        "print('metric_lgb_bayes', \n",
        "      metric_lgb_bayes, \n",
        "      'f1_lgb_bayes', \n",
        "      f1_score(target_test, lgb_bayes.predict(features_test), average='macro'))"
      ]
    },
    {
      "cell_type": "code",
      "execution_count": null,
      "metadata": {
        "id": "uyBFRlh80t6i",
        "outputId": "a5ecf29e-646e-48d2-98f3-a64b2a60d06f"
      },
      "outputs": [
        {
          "name": "stdout",
          "output_type": "stream",
          "text": [
            "metric_lgb_bayes 0.9763978958399928 f1_lgb_bayes 0.7684648617926425\n"
          ]
        }
      ],
      "source": [
        "metric_lgb_bayes = (\n",
        "    0.1 * recall_score(data_test['label'], lgb_1.predict(data_test.drop(columns = 'label')), average='macro') +\n",
        "    roc_auc_score(data_test['label'], lgb_1.predict(data_test.drop(columns = 'label')), average='macro', multi_class = 'ovo') * 0.9\n",
        ")\n",
        "print('metric_lgb_bayes', \n",
        "      metric_lgb_bayes, \n",
        "      'f1_lgb_bayes', \n",
        "      f1_score(data_test['label'], lgb_1.predict(data_test.drop(columns = 'label')), average='macro'))"
      ]
    },
    {
      "cell_type": "code",
      "execution_count": null,
      "metadata": {
        "id": "4vLVCi220t6j"
      },
      "outputs": [],
      "source": []
    },
    {
      "cell_type": "code",
      "execution_count": null,
      "metadata": {
        "id": "RoDGwGoR0t6j"
      },
      "outputs": [],
      "source": [
        "pred_lgb_1 = lgb_1.predict(data_val.drop(columns = 'id'))\n",
        "out_lgb_1 = pd.DataFrame(pred_lgb_1, columns=['label'])\n",
        "out_lgb_1['id'] = data_val['id']\n",
        "out_lgb_1 = out_lgb_1.reindex(columns=['id', 'label'])\n",
        "out_lgb_1.to_csv('30_out_lgb_1.csv', line_terminator = '\\n', index=False)"
      ]
    },
    {
      "cell_type": "code",
      "execution_count": null,
      "metadata": {
        "id": "-8BkAfR30t6k"
      },
      "outputs": [],
      "source": []
    },
    {
      "cell_type": "code",
      "execution_count": null,
      "metadata": {
        "id": "znnpwD-g0t6k"
      },
      "outputs": [],
      "source": []
    },
    {
      "cell_type": "markdown",
      "metadata": {
        "id": "QFKEJbjf0t6k"
      },
      "source": [
        "#  Создание фичей перебором"
      ]
    },
    {
      "cell_type": "code",
      "execution_count": null,
      "metadata": {
        "id": "Fc8F_8790t6m",
        "outputId": "fdc7937a-72f2-400f-b8fb-304f03477a13"
      },
      "outputs": [
        {
          "name": "stdout",
          "output_type": "stream",
          "text": [
            "[LightGBM] [Warning] Unknown parameter: verbose_eval\n"
          ]
        },
        {
          "data": {
            "text/plain": [
              "0.8824820224976488"
            ]
          },
          "execution_count": 85,
          "metadata": {},
          "output_type": "execute_result"
        }
      ],
      "source": [
        "lgb_sel = LGBMClassifier(random_state = 123, n_estimators = 120, verbose_eval = False, class_weight='balanced')\n",
        "lgb_sel.fit(features_train, target_train)\n",
        "metric_lgb_sel = (0.1 * recall_score(target_test, lgb_sel.predict(features_test), average='macro') +\n",
        "                  roc_auc_score(target_test, lgb_sel.predict(features_test), average='macro') * 0.9)\n",
        "metric_lgb_sel"
      ]
    },
    {
      "cell_type": "code",
      "execution_count": null,
      "metadata": {
        "id": "_2Vwkani0t6m",
        "outputId": "296a2cfb-c4d7-43e2-b760-7ece04a571fc"
      },
      "outputs": [
        {
          "ename": "NameError",
          "evalue": "name 'features_train' is not defined",
          "output_type": "error",
          "traceback": [
            "\u001b[1;31m---------------------------------------------------------------------------\u001b[0m",
            "\u001b[1;31mNameError\u001b[0m                                 Traceback (most recent call last)",
            "\u001b[1;32m<ipython-input-54-88be1f67f4de>\u001b[0m in \u001b[0;36m<module>\u001b[1;34m\u001b[0m\n\u001b[0;32m      1\u001b[0m \u001b[0mou_2\u001b[0m \u001b[1;33m=\u001b[0m \u001b[1;33m[\u001b[0m\u001b[1;33m]\u001b[0m\u001b[1;33m\u001b[0m\u001b[1;33m\u001b[0m\u001b[0m\n\u001b[0;32m      2\u001b[0m \u001b[0mlgb_sel\u001b[0m \u001b[1;33m=\u001b[0m \u001b[0mLGBMClassifier\u001b[0m\u001b[1;33m(\u001b[0m\u001b[0mrandom_state\u001b[0m \u001b[1;33m=\u001b[0m \u001b[1;36m123\u001b[0m\u001b[1;33m,\u001b[0m \u001b[0mverbose_eval\u001b[0m \u001b[1;33m=\u001b[0m \u001b[1;32mFalse\u001b[0m\u001b[1;33m,\u001b[0m \u001b[0mclass_weight\u001b[0m\u001b[1;33m=\u001b[0m\u001b[1;34m'balanced'\u001b[0m\u001b[1;33m)\u001b[0m\u001b[1;33m\u001b[0m\u001b[1;33m\u001b[0m\u001b[0m\n\u001b[1;32m----> 3\u001b[1;33m \u001b[0mlgb_sel\u001b[0m\u001b[1;33m.\u001b[0m\u001b[0mfit\u001b[0m\u001b[1;33m(\u001b[0m\u001b[0mfeatures_train\u001b[0m\u001b[1;33m.\u001b[0m\u001b[0mdrop\u001b[0m\u001b[1;33m(\u001b[0m\u001b[0mcolumns\u001b[0m \u001b[1;33m=\u001b[0m \u001b[1;34m'oper_code'\u001b[0m\u001b[1;33m)\u001b[0m\u001b[1;33m,\u001b[0m \u001b[0mtarget_train\u001b[0m\u001b[1;33m)\u001b[0m\u001b[1;33m\u001b[0m\u001b[1;33m\u001b[0m\u001b[0m\n\u001b[0m\u001b[0;32m      4\u001b[0m \u001b[0mprint\u001b[0m\u001b[1;33m(\u001b[0m\u001b[0mf1_score\u001b[0m\u001b[1;33m(\u001b[0m\u001b[0mtarget_test\u001b[0m\u001b[1;33m,\u001b[0m \u001b[0mlgb_sel\u001b[0m\u001b[1;33m.\u001b[0m\u001b[0mpredict\u001b[0m\u001b[1;33m(\u001b[0m\u001b[0mfeatures_test\u001b[0m\u001b[1;33m.\u001b[0m\u001b[0mdrop\u001b[0m\u001b[1;33m(\u001b[0m\u001b[0mcolumns\u001b[0m \u001b[1;33m=\u001b[0m \u001b[1;34m'oper_code'\u001b[0m\u001b[1;33m)\u001b[0m\u001b[1;33m)\u001b[0m\u001b[1;33m,\u001b[0m \u001b[0maverage\u001b[0m\u001b[1;33m=\u001b[0m\u001b[1;34m'macro'\u001b[0m\u001b[1;33m)\u001b[0m\u001b[1;33m)\u001b[0m\u001b[1;33m\u001b[0m\u001b[1;33m\u001b[0m\u001b[0m\n\u001b[0;32m      5\u001b[0m \u001b[1;32mfor\u001b[0m \u001b[0mi\u001b[0m \u001b[1;32min\u001b[0m \u001b[0mdata_t\u001b[0m\u001b[1;33m[\u001b[0m\u001b[1;34m'oper_code'\u001b[0m\u001b[1;33m]\u001b[0m\u001b[1;33m.\u001b[0m\u001b[0munique\u001b[0m\u001b[1;33m(\u001b[0m\u001b[1;33m)\u001b[0m\u001b[1;33m:\u001b[0m\u001b[1;33m\u001b[0m\u001b[1;33m\u001b[0m\u001b[0m\n",
            "\u001b[1;31mNameError\u001b[0m: name 'features_train' is not defined"
          ]
        }
      ],
      "source": [
        "ou_2 = []\n",
        "lgb_sel = LGBMClassifier(random_state = 123, verbose_eval = False, class_weight='balanced')\n",
        "lgb_sel.fit(features_train.drop(columns = 'oper_code'), target_train)\n",
        "print(f1_score(target_test, lgb_sel.predict(features_test.drop(columns = 'oper_code')), average='macro'))\n",
        "for i in data_t['oper_code'].unique():\n",
        "    features_test_1 = data_t[data_t['oper_code'] == i].drop(columns = ['id', 'label', 'oper_code'])\n",
        "    target_test_1 = data_t.loc[data_t['oper_code'] == i, 'label']\n",
        "    metric_lgb_sel = (\n",
        "        f1_score(target_test_1, lgb_sel.predict(features_test_1), average='macro'))\n",
        "    ou_2.append([target_test_1.count(), metric_lgb_sel, i])\n"
      ]
    },
    {
      "cell_type": "code",
      "execution_count": null,
      "metadata": {
        "scrolled": true,
        "id": "h0Ji0Jf50t6n",
        "outputId": "a98ddbbe-372b-4f8e-ba05-a1ba9179d37a"
      },
      "outputs": [
        {
          "data": {
            "text/plain": [
              "[[1, 0.0, 35],\n",
              " [1, 0.0, 38],\n",
              " [1, 0.0, 101],\n",
              " [1, 0.0, 138],\n",
              " [1, 0.0, 208],\n",
              " [1, 0.0, 538],\n",
              " [1, 1.0, 25],\n",
              " [1, 1.0, 76],\n",
              " [1, 1.0, 248],\n",
              " [2, 0.3333333333333333, 72],\n",
              " [2, 1.0, 178],\n",
              " [3, 0.0, 123],\n",
              " [3, 1.0, 30],\n",
              " [4, 0.0, 132],\n",
              " [4, 0.0, 142],\n",
              " [4, 0.2, 71],\n",
              " [4, 1.0, 224],\n",
              " [5, 0.16666666666666669, 91],\n",
              " [5, 0.37499999999999994, 1013],\n",
              " [8, 0.4666666666666667, 1012],\n",
              " [8, 1.0, 1023],\n",
              " [9, 0.0, 113],\n",
              " [9, 0.6493506493506493, 102],\n",
              " [11, 0.15384615384615385, 34],\n",
              " [16, 0.1111111111111111, 52],\n",
              " [23, 1.0, 1015],\n",
              " [46, 0.4945054945054945, 114],\n",
              " [96, 0.04950495049504951, 33],\n",
              " [104, 0.045871559633027525, 31],\n",
              " [105, 0.08695652173913042, 213],\n",
              " [108, 0.0, 40],\n",
              " [114, 0.42131979695431476, 1848],\n",
              " [128, 0.09219858156028368, 56],\n",
              " [138, 1.0, 1055],\n",
              " [159, 0.45918367346938777, 234],\n",
              " [162, 1.0, 124],\n",
              " [167, 0.06179775280898877, 112],\n",
              " [174, 0.4897360703812317, 1022],\n",
              " [228, 0.46728971962616817, 244],\n",
              " [235, 0.49786324786324787, 1025],\n",
              " [313, 0.06355365402877478, 51],\n",
              " [341, 0.4918032786885246, 164],\n",
              " [462, 0.32158590308370044, 11037],\n",
              " [483, 0.37757731958762886, 214],\n",
              " [532, 0.06338028169014084, 122],\n",
              " [614, 0.08630952380952381, 228],\n",
              " [677, 0.4970282317979197, 1027],\n",
              " [705, 0.16370106761565836, 54],\n",
              " [766, 0.4038910505836576, 11047],\n",
              " [816, 0.3860045146726862, 10044],\n",
              " [878, 0.4898314933178385, 1031],\n",
              " [1118, 0.45754488112566716, 1035],\n",
              " [1193, 0.46454219030520644, 68],\n",
              " [1392, 0.49928057553956834, 36],\n",
              " [1538, 0.47935003385240355, 1037],\n",
              " [1772, 0.053924185798184726, 42],\n",
              " [2186, 0.48877455565949485, 141],\n",
              " [2779, 0.4996398991717681, 78],\n",
              " [3262, 0.4590381426202322, 134],\n",
              " [7223, 0.4999307671005262, 1036],\n",
              " [7712, 0.33427672572803624, 82],\n",
              " [13632, 1.0, 39],\n",
              " [19031, 0.4414147343704139, 193],\n",
              " [19136, 0.482573074115134, 49],\n",
              " [19273, 0.44271917649780246, 194],\n",
              " [19345, 0.4421052631578948, 195],\n",
              " [19402, 0.43926476113407126, 44],\n",
              " [23171, 0.44965916918034343, 10],\n",
              " [23222, 0.4448614663766106, 158],\n",
              " [23818, 0.4442188776105472, 19],\n",
              " [24655, 0.44954230855101585, 21],\n",
              " [25019, 0.4998000719740893, 1026],\n",
              " [34885, 0.3045671112174312, 1024],\n",
              " [38423, 0.4999219095712836, 58],\n",
              " [39250, 0.3788279681274535, 32],\n",
              " [44829, 0.5031473332848295, 1054],\n",
              " [45247, 0.44272975835652884, 88],\n",
              " [46735, 0.5341937165275967, 1053],\n",
              " [47635, 0.05249234196602617, 48],\n",
              " [71637, 0.4199433198380567, 1033],\n",
              " [96869, 0.49987092643839576, 1051],\n",
              " [97477, 0.49985633510862093, 1052],\n",
              " [102675, 0.6338450356735522, 1014],\n",
              " [106106, 0.4986107435829584, 1028],\n",
              " [117602, 0.4995254935505424, 1011],\n",
              " [119803, 0.49611157610501483, 11],\n",
              " [134779, 0.4963453187943289, 28],\n",
              " [137806, 0.3759379769134277, 1029],\n",
              " [219053, 0.4783247559555421, 1032],\n",
              " [230630, 0.41460544022507295, 1030]]"
            ]
          },
          "execution_count": 130,
          "metadata": {},
          "output_type": "execute_result"
        }
      ],
      "source": [
        "sorted(ou_2)"
      ]
    },
    {
      "cell_type": "code",
      "execution_count": null,
      "metadata": {
        "scrolled": true,
        "id": "PqHZy_HG0t6n",
        "outputId": "a87425d3-4d34-4c9b-8245-8e54bf50d998"
      },
      "outputs": [
        {
          "name": "stdout",
          "output_type": "stream",
          "text": [
            "[LightGBM] [Warning] Unknown parameter: verbose_eval\n",
            "[LightGBM] [Warning] Unknown parameter: verbose_eval\n",
            "[LightGBM] [Warning] Unknown parameter: verbose_eval\n",
            "[LightGBM] [Warning] Unknown parameter: verbose_eval\n",
            "[LightGBM] [Warning] Unknown parameter: verbose_eval\n",
            "[LightGBM] [Warning] Unknown parameter: verbose_eval\n",
            "[LightGBM] [Warning] Unknown parameter: verbose_eval\n",
            "[LightGBM] [Warning] Unknown parameter: verbose_eval\n",
            "[LightGBM] [Warning] Unknown parameter: verbose_eval\n",
            "[LightGBM] [Warning] Unknown parameter: verbose_eval\n",
            "[LightGBM] [Warning] Unknown parameter: verbose_eval\n",
            "[LightGBM] [Warning] Unknown parameter: verbose_eval\n",
            "[LightGBM] [Warning] Unknown parameter: verbose_eval\n",
            "[LightGBM] [Warning] Unknown parameter: verbose_eval\n",
            "[LightGBM] [Warning] Unknown parameter: verbose_eval\n",
            "[LightGBM] [Warning] Unknown parameter: verbose_eval\n",
            "[LightGBM] [Warning] Unknown parameter: verbose_eval\n",
            "[LightGBM] [Warning] Unknown parameter: verbose_eval\n",
            "[LightGBM] [Warning] Unknown parameter: verbose_eval\n",
            "[LightGBM] [Warning] Unknown parameter: verbose_eval\n",
            "[LightGBM] [Warning] Unknown parameter: verbose_eval\n",
            "[LightGBM] [Warning] Unknown parameter: verbose_eval\n",
            "[LightGBM] [Warning] Unknown parameter: verbose_eval\n",
            "[LightGBM] [Warning] Unknown parameter: verbose_eval\n",
            "[LightGBM] [Warning] Unknown parameter: verbose_eval\n",
            "[LightGBM] [Warning] Unknown parameter: verbose_eval\n",
            "[LightGBM] [Warning] Unknown parameter: verbose_eval\n",
            "[LightGBM] [Warning] Unknown parameter: verbose_eval\n",
            "[LightGBM] [Warning] Unknown parameter: verbose_eval\n",
            "[LightGBM] [Warning] Unknown parameter: verbose_eval\n",
            "[LightGBM] [Warning] Unknown parameter: verbose_eval\n",
            "[LightGBM] [Warning] Unknown parameter: verbose_eval\n",
            "[LightGBM] [Warning] Unknown parameter: verbose_eval\n",
            "[LightGBM] [Warning] Unknown parameter: verbose_eval\n",
            "[LightGBM] [Warning] Unknown parameter: verbose_eval\n",
            "[LightGBM] [Warning] Unknown parameter: verbose_eval\n",
            "[LightGBM] [Warning] Unknown parameter: verbose_eval\n",
            "[LightGBM] [Warning] Unknown parameter: verbose_eval\n",
            "[LightGBM] [Warning] Unknown parameter: verbose_eval\n",
            "[LightGBM] [Warning] Unknown parameter: verbose_eval\n",
            "[LightGBM] [Warning] Unknown parameter: verbose_eval\n",
            "[LightGBM] [Warning] Unknown parameter: verbose_eval\n",
            "[LightGBM] [Warning] Unknown parameter: verbose_eval\n",
            "[LightGBM] [Warning] Unknown parameter: verbose_eval\n",
            "[LightGBM] [Warning] Unknown parameter: verbose_eval\n",
            "[LightGBM] [Warning] Unknown parameter: verbose_eval\n",
            "[LightGBM] [Warning] Unknown parameter: verbose_eval\n",
            "[LightGBM] [Warning] Unknown parameter: verbose_eval\n",
            "[LightGBM] [Warning] Unknown parameter: verbose_eval\n",
            "[LightGBM] [Warning] Unknown parameter: verbose_eval\n",
            "[LightGBM] [Warning] Unknown parameter: verbose_eval\n",
            "[LightGBM] [Warning] Unknown parameter: verbose_eval\n",
            "[LightGBM] [Warning] Unknown parameter: verbose_eval\n",
            "[LightGBM] [Warning] Unknown parameter: verbose_eval\n",
            "[LightGBM] [Warning] Unknown parameter: verbose_eval\n",
            "[LightGBM] [Warning] Unknown parameter: verbose_eval\n",
            "[LightGBM] [Warning] Unknown parameter: verbose_eval\n",
            "[LightGBM] [Warning] Unknown parameter: verbose_eval\n",
            "[LightGBM] [Warning] Unknown parameter: verbose_eval\n",
            "[LightGBM] [Warning] Unknown parameter: verbose_eval\n",
            "[LightGBM] [Warning] Unknown parameter: verbose_eval\n",
            "[LightGBM] [Warning] Unknown parameter: verbose_eval\n",
            "[LightGBM] [Warning] Unknown parameter: verbose_eval\n",
            "[LightGBM] [Warning] Unknown parameter: verbose_eval\n",
            "[LightGBM] [Warning] Unknown parameter: verbose_eval\n",
            "[LightGBM] [Warning] Unknown parameter: verbose_eval\n",
            "[LightGBM] [Warning] Unknown parameter: verbose_eval\n",
            "[LightGBM] [Warning] Unknown parameter: verbose_eval\n",
            "[LightGBM] [Warning] Unknown parameter: verbose_eval\n",
            "[LightGBM] [Warning] Unknown parameter: verbose_eval\n",
            "[LightGBM] [Warning] Unknown parameter: verbose_eval\n",
            "[LightGBM] [Warning] Unknown parameter: verbose_eval\n",
            "[LightGBM] [Warning] Unknown parameter: verbose_eval\n",
            "[LightGBM] [Warning] Unknown parameter: verbose_eval\n",
            "[LightGBM] [Warning] Unknown parameter: verbose_eval\n",
            "25\n",
            "[LightGBM] [Warning] Unknown parameter: verbose_eval\n",
            "538\n",
            "208\n",
            "35\n",
            "[LightGBM] [Warning] Unknown parameter: verbose_eval\n",
            "138\n",
            "[LightGBM] [Warning] Unknown parameter: verbose_eval\n",
            "[LightGBM] [Warning] Unknown parameter: verbose_eval\n",
            "248\n",
            "101\n",
            "38\n",
            "[LightGBM] [Warning] Unknown parameter: verbose_eval\n",
            "[LightGBM] [Warning] Unknown parameter: verbose_eval\n",
            "76\n"
          ]
        }
      ],
      "source": [
        "ou_3 = []\n",
        "for i in data_t['oper_code'].unique():\n",
        "    try:\n",
        "        features_train_2, features_test_2, target_train_2, target_test_2 = train_test_split(data_t[data_t['oper_code'] == i].drop(columns = ['id', 'label', 'oper_code']),\n",
        "                                                                                             data_t.loc[data_t['oper_code'] == i, 'label'], test_size=0.3, random_state=123)\n",
        "        lgb_sel = LGBMClassifier(random_state = 123, verbose_eval = False, class_weight='balanced')\n",
        "        lgb_sel.fit(features_train_2, target_train_2)\n",
        "        metric_lgb_sel = (\n",
        "        f1_score(target_test_2, lgb_sel.predict(features_test_2), average='macro')  )\n",
        "        ou_3.append([target_test_2.count(), metric_lgb_sel, i])\n",
        "    except:\n",
        "        print(i)"
      ]
    },
    {
      "cell_type": "code",
      "execution_count": null,
      "metadata": {
        "scrolled": true,
        "id": "ZnRMYsaN0t6o",
        "outputId": "a47fdd9f-4a88-4711-ad7a-9609771560db"
      },
      "outputs": [
        {
          "data": {
            "text/plain": [
              "[[1, 1.0, 30],\n",
              " [1, 1.0, 72],\n",
              " [1, 1.0, 123],\n",
              " [1, 1.0, 178],\n",
              " [2, 0.3333333333333333, 71],\n",
              " [2, 1.0, 91],\n",
              " [2, 1.0, 132],\n",
              " [2, 1.0, 142],\n",
              " [2, 1.0, 224],\n",
              " [2, 1.0, 1013],\n",
              " [3, 0.25, 102],\n",
              " [3, 1.0, 113],\n",
              " [3, 1.0, 1012],\n",
              " [3, 1.0, 1023],\n",
              " [4, 1.0, 34],\n",
              " [5, 1.0, 52],\n",
              " [7, 1.0, 1015],\n",
              " [14, 1.0, 114],\n",
              " [29, 1.0, 33],\n",
              " [32, 1.0, 31],\n",
              " [32, 1.0, 213],\n",
              " [33, 1.0, 40],\n",
              " [35, 0.42721791559000866, 1848],\n",
              " [39, 1.0, 56],\n",
              " [42, 1.0, 1055],\n",
              " [48, 1.0, 234],\n",
              " [49, 1.0, 124],\n",
              " [51, 1.0, 112],\n",
              " [53, 1.0, 1022],\n",
              " [69, 1.0, 244],\n",
              " [71, 1.0, 1025],\n",
              " [94, 0.5290944123314066, 51],\n",
              " [103, 1.0, 164],\n",
              " [139, 1.0, 11037],\n",
              " [145, 1.0, 214],\n",
              " [160, 1.0, 122],\n",
              " [185, 1.0, 228],\n",
              " [204, 1.0, 1027],\n",
              " [212, 1.0, 54],\n",
              " [230, 1.0, 11047],\n",
              " [245, 1.0, 10044],\n",
              " [264, 1.0, 1031],\n",
              " [336, 1.0, 1035],\n",
              " [358, 1.0, 68],\n",
              " [418, 1.0, 36],\n",
              " [462, 1.0, 1037],\n",
              " [532, 1.0, 42],\n",
              " [656, 1.0, 141],\n",
              " [834, 1.0, 78],\n",
              " [979, 1.0, 134],\n",
              " [2167, 1.0, 1036],\n",
              " [2314, 0.6928452546127257, 82],\n",
              " [4090, 1.0, 39],\n",
              " [5710, 1.0, 193],\n",
              " [5741, 1.0, 49],\n",
              " [5782, 1.0, 194],\n",
              " [5804, 1.0, 195],\n",
              " [5821, 1.0, 44],\n",
              " [6952, 1.0, 10],\n",
              " [6967, 1.0, 158],\n",
              " [7146, 1.0, 19],\n",
              " [7397, 1.0, 21],\n",
              " [7506, 1.0, 1026],\n",
              " [10466, 1.0, 1024],\n",
              " [11527, 1.0, 58],\n",
              " [11775, 0.6714235330130296, 32],\n",
              " [13449, 0.5248180138624894, 1054],\n",
              " [13575, 1.0, 88],\n",
              " [14021, 0.8333155010283295, 1053],\n",
              " [14291, 1.0, 48],\n",
              " [21492, 1.0, 1033],\n",
              " [29061, 1.0, 1051],\n",
              " [29244, 1.0, 1052],\n",
              " [30803, 0.7784106487331319, 1014],\n",
              " [31832, 1.0, 1028],\n",
              " [35281, 1.0, 1011],\n",
              " [35941, 1.0, 11],\n",
              " [40434, 1.0, 28],\n",
              " [41342, 1.0, 1029],\n",
              " [65716, 1.0, 1032],\n",
              " [69189, 0.6236378448878621, 1030]]"
            ]
          },
          "execution_count": 132,
          "metadata": {},
          "output_type": "execute_result"
        }
      ],
      "source": [
        "sorted(ou_3)"
      ]
    },
    {
      "cell_type": "code",
      "execution_count": null,
      "metadata": {
        "id": "XfCF2N4Y0t6o"
      },
      "outputs": [],
      "source": [
        "oper_code_b_bed = [1032, 1029, 1028, 1014, 1052, 1051, 48, 1054, 32, 1024, 44, 82, 68, 51, 112, 1848]\n",
        "# Обучение на полном наборе данных с меткой oper_code с точностью менее 0,83 (0.5)\n",
        "oper_code_sort_bed = [1014, 1054, 32, 82, 51, 1848]\n",
        "#[30803, 0.7855917762251445, 1014],\n",
        "#[13449, 0.5351025775001292, 1054]\n",
        "#[11775, 0.6735607133615883, 32]\n",
        "#[2314, 0.6918857927786499, 82],\n",
        "#[94, 0.5378787878787878, 51]\n",
        "#[35, 0.44, 1848]\n",
        "oper_code_sort_cool = [1032, 1029, 1028, 1052, 1051, 48, 1024, 44, 68, 112]"
      ]
    },
    {
      "cell_type": "code",
      "execution_count": null,
      "metadata": {
        "id": "clsuJxKP0t6p"
      },
      "outputs": [],
      "source": [
        "oper_code_b_cool = [1030, 28, 11, 1011, 1033, 88, 58, 1026, 21, 19, 158, 10, 195, 194, 49, 193, 39,\n",
        "                   1036, 134, 78, 141, 42, 1037, 36, 1035]"
      ]
    },
    {
      "cell_type": "code",
      "execution_count": null,
      "metadata": {
        "id": "whM-ePRF0t6p",
        "outputId": "10d6d1d7-b4a0-4e47-fcb8-b382dd8aaaf9"
      },
      "outputs": [
        {
          "name": "stdout",
          "output_type": "stream",
          "text": [
            "[LightGBM] [Warning] Unknown parameter: verbose_eval\n"
          ]
        }
      ],
      "source": [
        "ou_4 = []\n",
        "features_train_b = data[data['oper_code'].isin(oper_code_sort_bed)].drop(columns = ['id', 'label', 'oper_code']).sample(frac=1, random_state=123)\n",
        "target_train_b = data.loc[data['oper_code'].isin(oper_code_sort_bed), 'label'].sample(frac=1, random_state=123)\n",
        "lgb_sel = LGBMClassifier(random_state = 123, verbose_eval = False, class_weight='balanced')\n",
        "lgb_sel.fit(features_train_b, target_train_b)\n",
        "for i in oper_code_sort_bed:    \n",
        "    features_test_2 = data_t[data_t['oper_code'] == i].drop(columns = ['id', 'label', 'oper_code'])\n",
        "    target_test_2 = data_t.loc[data_t['oper_code'] == i, 'label']\n",
        "    metric_lgb_sel = (\n",
        "        f1_score(target_test_2, lgb_sel.predict(features_test_2), average='macro'))\n",
        "    ou_4.append([target_test_2.count(), metric_lgb_sel, i])"
      ]
    },
    {
      "cell_type": "code",
      "execution_count": null,
      "metadata": {
        "id": "7xax1TZd0t6q",
        "outputId": "bcc56eb2-7a99-4581-c1b8-8cccc4d2ebd7"
      },
      "outputs": [
        {
          "data": {
            "text/plain": [
              "[[114, 0.42131979695431476, 1848],\n",
              " [313, 0.5139751552795031, 51],\n",
              " [7712, 0.4584233266639538, 82],\n",
              " [39250, 0.5301801811590048, 32],\n",
              " [44829, 0.49896616856481846, 1054],\n",
              " [102675, 0.7726494723944461, 1014]]"
            ]
          },
          "execution_count": 134,
          "metadata": {},
          "output_type": "execute_result"
        }
      ],
      "source": [
        "sorted(ou_4)"
      ]
    },
    {
      "cell_type": "code",
      "execution_count": null,
      "metadata": {
        "id": "5a9nFIf10t6q",
        "outputId": "4a96e942-cb6a-40b9-e321-2cced995a1df"
      },
      "outputs": [
        {
          "name": "stdout",
          "output_type": "stream",
          "text": [
            "[LightGBM] [Warning] Unknown parameter: verbose_eval\n",
            "1.0\n"
          ]
        }
      ],
      "source": [
        "features_train_b2 = data[data['oper_code'].isin(oper_code_sort_cool)].drop(columns = ['id', 'label', 'oper_code']).sample(frac=1, random_state=123)\n",
        "target_train_b2 = data.loc[data['oper_code'].isin(oper_code_sort_cool), 'label'].sample(frac=1, random_state=123)\n",
        "\n",
        "features_test_22 = data_t[data_t['oper_code'].isin(oper_code_sort_cool)].drop(columns = ['id', 'label', 'oper_code']).sample(frac=1, random_state=123)\n",
        "target_test_22 = data_t.loc[data_t['oper_code'].isin(oper_code_sort_cool), 'label'].sample(frac=1, random_state=123)\n",
        "lgb_sel = LGBMClassifier(random_state = 123, verbose_eval = False, class_weight='balanced')\n",
        "lgb_sel.fit(features_train_b2, target_train_b2)\n",
        "\n",
        "print(f1_score(target_test_22, lgb_sel.predict(features_test_22), average='macro'))\n"
      ]
    },
    {
      "cell_type": "code",
      "execution_count": null,
      "metadata": {
        "id": "gPQ6jNo30t6u",
        "outputId": "95274113-25fc-4d39-ef33-0f19b45c1c99"
      },
      "outputs": [
        {
          "name": "stdout",
          "output_type": "stream",
          "text": [
            "[LightGBM] [Warning] Unknown parameter: verbose_eval\n",
            "0.6710418891675072\n"
          ]
        }
      ],
      "source": [
        "features_train_b5 = data.drop(columns = ['id', 'label']).sample(frac=1, random_state=123)\n",
        "target_train_b5 = data['label'].sample(frac=1, random_state=123)\n",
        "\n",
        "features_test_25 = data_t[data_t['oper_code'].isin(oper_code_b_cool)].drop(columns = ['id', 'label']).sample(frac=1, random_state=123)\n",
        "target_test_25 = data_t.loc[data_t['oper_code'].isin(oper_code_b_cool), 'label'].sample(frac=1, random_state=123)\n",
        "lgb_sel = LGBMClassifier(random_state = 123, verbose_eval = False, class_weight='balanced')\n",
        "lgb_sel.fit(features_train_b5, target_train_b5)\n",
        "\n",
        "print(f1_score(target_test_25, lgb_sel.predict(features_test_25), average='macro'))"
      ]
    },
    {
      "cell_type": "code",
      "execution_count": null,
      "metadata": {
        "id": "6qATJwxb0t6u",
        "outputId": "b4d768b8-32e3-440b-e0af-ce9fa65ea0b9"
      },
      "outputs": [
        {
          "data": {
            "text/plain": [
              "0.0979865"
            ]
          },
          "execution_count": 38,
          "metadata": {},
          "output_type": "execute_result"
        }
      ],
      "source": [
        "data.loc[data['oper_code'].isin(oper_code_sort_bed), 'label'].count() / data['label'].count()"
      ]
    },
    {
      "cell_type": "code",
      "execution_count": null,
      "metadata": {
        "id": "LJbsv_K00t6v",
        "outputId": "9c0f6d65-a3cc-4573-bd18-702c4b9b4b97"
      },
      "outputs": [
        {
          "data": {
            "text/plain": [
              "2000000"
            ]
          },
          "execution_count": 39,
          "metadata": {},
          "output_type": "execute_result"
        }
      ],
      "source": [
        "data['label'].count()"
      ]
    },
    {
      "cell_type": "code",
      "execution_count": null,
      "metadata": {
        "id": "6PQ6UuSx0t6v"
      },
      "outputs": [],
      "source": [
        "oper_code_b_cool = [1030, 28, 11, 1011, 1033, 88, 58, 1026, 21, 19, 158, 10, 195, 194, 49, 193, 39,\n",
        "                   1036, 134, 78, 141, 42, 1037, 36, 1035]\n",
        "# Обрабатывать на полном наборе данных одной группой с сохранением столбца oper_code"
      ]
    },
    {
      "cell_type": "code",
      "execution_count": null,
      "metadata": {
        "id": "YXrIrQ5h0t6w"
      },
      "outputs": [],
      "source": [
        "oper_code_sort_cool = [1032, 1029, 1028, 1052, 1051, 48, 1024, 44, 68, 112]\n",
        "\n",
        "# Обрабатывать на этом же наборе одной группой без столбца oper_code"
      ]
    },
    {
      "cell_type": "code",
      "execution_count": null,
      "metadata": {
        "id": "KQW-QvdW0t6w"
      },
      "outputs": [],
      "source": [
        "oper_code_sort_bed = [1014, 1054, 32, 82, 51, 1848]\n",
        "\n",
        "# Обрабатывать на раздельных наборах данных \n",
        "# самое низкое качество 0.0979865 от всего числа значений точность примерно 0.7"
      ]
    },
    {
      "cell_type": "markdown",
      "metadata": {
        "id": "jiIVEmVl0t6x"
      },
      "source": [
        "# РАСЧЁТ ПО ЧАСТЯМ"
      ]
    },
    {
      "cell_type": "code",
      "execution_count": null,
      "metadata": {
        "id": "9Tspylmi0t6x"
      },
      "outputs": [],
      "source": [
        "dat = pd.read_csv('train_dataset_train.csv', nrows = 100)\n",
        "nam = dat.columns\n",
        "data_valid = pd.read_csv('train_dataset_train.csv', names = nam ,  skiprows = 4000000, nrows = 1000000)\n",
        "data_val = prepr_1(data_valid)\n",
        "data_val = is_cat(data_val)"
      ]
    },
    {
      "cell_type": "code",
      "execution_count": null,
      "metadata": {
        "id": "emz3F0Dy0t6x"
      },
      "outputs": [],
      "source": [
        "data_val_val = data_val[['id', 'label']]\n",
        "data_val_zzz = data_val.copy()\n",
        "data_val = data_val.drop(columns = 'label')"
      ]
    },
    {
      "cell_type": "code",
      "execution_count": null,
      "metadata": {
        "id": "k8rXmbAz0t6x"
      },
      "outputs": [],
      "source": []
    },
    {
      "cell_type": "code",
      "execution_count": null,
      "metadata": {
        "id": "s5re9VRy0t6y"
      },
      "outputs": [],
      "source": [
        "data_big_index = data_val.loc[data_val['oper_code'].isin(oper_code_b_cool), 'id']"
      ]
    },
    {
      "cell_type": "code",
      "execution_count": null,
      "metadata": {
        "id": "R4MqsY7K0t6y"
      },
      "outputs": [],
      "source": [
        "data_sort_index =  data_val.loc[data_val['oper_code'].isin(oper_code_sort_cool), 'id'] "
      ]
    },
    {
      "cell_type": "code",
      "execution_count": null,
      "metadata": {
        "id": "EB1EKQqD0t6y"
      },
      "outputs": [],
      "source": [
        "data_bed_index =  data_val.loc[data_val['oper_code'].isin(oper_code_sort_bed), 'id'] "
      ]
    },
    {
      "cell_type": "code",
      "execution_count": null,
      "metadata": {
        "id": "LC8JNbVS0t6z"
      },
      "outputs": [],
      "source": [
        "data_out_index =  data_val.loc[~data_val['oper_code'].isin(oper_code_max), 'id'] "
      ]
    },
    {
      "cell_type": "code",
      "execution_count": null,
      "metadata": {
        "id": "Cx0dUnwO0t6z"
      },
      "outputs": [],
      "source": [
        "data_all_index = data_val['id'] "
      ]
    },
    {
      "cell_type": "code",
      "execution_count": null,
      "metadata": {
        "id": "jb6NEus_0t6z"
      },
      "outputs": [],
      "source": [
        "oper_code_b_cool = [1030, 28, 11, 1011, 1033, 88, 58, 1026, 21, 19, 158, 10, 195, 194, 49, 193, 39,\n",
        "                   1036, 134, 78, 141, 42, 1037, 36, 1035]\n",
        "# Обрабатывать на полном наборе данных одной группой с сохранением столбца oper_code\n",
        "\n",
        "oper_code_sort_cool = [1032, 1029, 1028, 1052, 1051, 48, 1024, 44, 68, 112]\n",
        "# Обрабатывать на этом же наборе одной группой без столбца oper_code\n",
        "\n",
        "oper_code_sort_bed = [1014, 1054, 32, 82, 51, 1848]\n",
        "# Обрабатывать на раздельных наборах данных \n",
        "# самое низкое качество 0.0979865 от всего числа значений точность примерно 0.7\n",
        "\n",
        "oper_code_max = oper_code_b_cool + oper_code_sort_cool + oper_code_sort_bed "
      ]
    },
    {
      "cell_type": "code",
      "execution_count": null,
      "metadata": {
        "id": "0ynkEFgS0t60"
      },
      "outputs": [],
      "source": [
        "def prepr_1(data):\n",
        "    data['oper_attr'] = data['oper_type + oper_attr'].str.extract('_(.+)').astype(int)\n",
        "    data['oper_type'] = data['oper_type + oper_attr'].str.extract('(.+)_').astype(int)\n",
        "    data['oper_code'] = data['oper_type'] + ((data['oper_attr'] + 2) * 10)\n",
        "    data['t_total_qty_over_index'] = data['total_qty_over_index'].apply(math.tan) \n",
        "    data['t_total_qty_oper_login_1'] = data['total_qty_oper_login_1'].apply(math.tan) \n",
        "    data['t_transport_pay'] = data['transport_pay'].apply(math.tan) \n",
        "    data['t_class'] = data['class'].apply(math.tan) \n",
        "    data['error_sum'] = (data['is_wrong_sndr_name'] + data['is_wrong_rcpn_name'] \n",
        "                         + data['is_wrong_phone_number'] + data['is_wrong_address'])\n",
        "    data['name_mfi_num'] = data['name_mfi'].str.count(',') + 1\n",
        "    data['index_oper'] = data['index_oper'].astype(str)\n",
        "    data.loc[data['index_oper'] == ' ', 'index_oper'] = 0\n",
        "    data['index_oper'] = data['index_oper'].astype(float)\n",
        "    data['price_per_gram'] = (data['price_mfi']) /(data['weight'] +1)\n",
        "    data['price_per_num'] = (data['price_mfi']) /data['name_mfi_num']\n",
        "    return data.drop(columns = ['name_mfi', 'mailrank', 'oper_type + oper_attr', 'oper_attr', 'oper_type'])"
      ]
    },
    {
      "cell_type": "code",
      "execution_count": null,
      "metadata": {
        "id": "IBJIICTO0t61"
      },
      "outputs": [],
      "source": [
        "def is_cat(data):\n",
        "    for i in data.dtypes[(data.dtypes == 'category') + (data.dtypes =='object')].index:\n",
        "        data[i] = pd.Categorical(data[i])\n",
        "        data[i].astype('category').cat.codes\n",
        "        data[i] = data[i].cat.codes\n",
        "    return data"
      ]
    },
    {
      "cell_type": "code",
      "execution_count": null,
      "metadata": {
        "id": "LkpoIhyf0t61"
      },
      "outputs": [],
      "source": []
    },
    {
      "cell_type": "code",
      "execution_count": null,
      "metadata": {
        "id": "jWYm3k5t0t61"
      },
      "outputs": [],
      "source": [
        "dat = pd.read_csv('train_dataset_train.csv', nrows = 3000000)\n",
        "data = prepr_1(dat)\n",
        "data = is_cat(data)"
      ]
    },
    {
      "cell_type": "code",
      "execution_count": null,
      "metadata": {
        "id": "VAtBIR4O0t62"
      },
      "outputs": [],
      "source": [
        "data_valid = pd.read_csv('test_dataset_test.csv')\n",
        "data_val = prepr_1(data_valid)\n",
        "data_val = is_cat(data_val)"
      ]
    },
    {
      "cell_type": "code",
      "execution_count": null,
      "metadata": {
        "id": "nyVgZbgR0t62"
      },
      "outputs": [],
      "source": []
    },
    {
      "cell_type": "code",
      "execution_count": null,
      "metadata": {
        "id": "sv9IJRm70t62",
        "outputId": "221c48ef-2da0-453a-82fa-826278d3296b"
      },
      "outputs": [
        {
          "name": "stdout",
          "output_type": "stream",
          "text": [
            "[LightGBM] [Warning] Unknown parameter: verbose_eval\n"
          ]
        },
        {
          "data": {
            "text/plain": [
              "LGBMClassifier(class_weight='balanced', random_state=123, verbose_eval=False)"
            ]
          },
          "execution_count": 9,
          "metadata": {},
          "output_type": "execute_result"
        }
      ],
      "source": [
        "lgb_b_cool = LGBMClassifier(random_state = 123, verbose_eval = False, class_weight='balanced')\n",
        "lgb_b_cool.fit(data.drop(columns = ['id', 'label']), data['label'])"
      ]
    },
    {
      "cell_type": "code",
      "execution_count": null,
      "metadata": {
        "id": "R-3ii1JF0t63"
      },
      "outputs": [],
      "source": [
        "pred_b_cool = pd.DataFrame(lgb_b_cool.predict(data_val[data_val['oper_code'].isin(oper_code_b_cool)].drop(columns = 'id')), \n",
        "                           index = data_val.loc[data_val['oper_code'].isin(oper_code_b_cool), 'id'], columns=['label'])"
      ]
    },
    {
      "cell_type": "code",
      "execution_count": null,
      "metadata": {
        "id": "QppdA9WN0t63"
      },
      "outputs": [],
      "source": []
    },
    {
      "cell_type": "code",
      "execution_count": null,
      "metadata": {
        "id": "ej759myL0t63",
        "outputId": "febcccda-7c93-4c84-9a40-2e41ab48a868"
      },
      "outputs": [
        {
          "name": "stdout",
          "output_type": "stream",
          "text": [
            "[LightGBM] [Warning] Unknown parameter: verbose_eval\n"
          ]
        },
        {
          "data": {
            "text/plain": [
              "LGBMClassifier(class_weight='balanced', random_state=123, verbose_eval=False)"
            ]
          },
          "execution_count": 11,
          "metadata": {},
          "output_type": "execute_result"
        }
      ],
      "source": [
        "lgb_sort_cool = LGBMClassifier(random_state = 123, verbose_eval = False, class_weight='balanced')\n",
        "lgb_sort_cool.fit(\n",
        "    data[data['oper_code'].isin(oper_code_sort_cool)].drop(columns = ['id', 'label', 'oper_code']).sample(frac=1, random_state=123), \n",
        "    data.loc[data['oper_code'].isin(oper_code_sort_cool), 'label'].sample(frac=1, random_state=123))"
      ]
    },
    {
      "cell_type": "code",
      "execution_count": null,
      "metadata": {
        "id": "RdAiG3cG0t64"
      },
      "outputs": [],
      "source": [
        "pred_sort_cool = pd.DataFrame(lgb_sort_cool.predict(data_val[data_val['oper_code'].isin(oper_code_sort_cool)].drop(columns = ['id', 'oper_code'])), \n",
        "                           index = data_val.loc[data_val['oper_code'].isin(oper_code_sort_cool), 'id'], columns=['label'])"
      ]
    },
    {
      "cell_type": "code",
      "execution_count": null,
      "metadata": {
        "id": "C0C3ft950t64"
      },
      "outputs": [],
      "source": []
    },
    {
      "cell_type": "code",
      "execution_count": null,
      "metadata": {
        "id": "WV0ytBn80t64",
        "outputId": "61a0c745-8149-462a-c9ef-c24146e34186"
      },
      "outputs": [
        {
          "name": "stdout",
          "output_type": "stream",
          "text": [
            "[LightGBM] [Warning] Unknown parameter: verbose_eval\n",
            "[LightGBM] [Warning] Unknown parameter: verbose_eval\n",
            "[LightGBM] [Warning] Unknown parameter: verbose_eval\n",
            "[LightGBM] [Warning] Unknown parameter: verbose_eval\n",
            "[LightGBM] [Warning] Unknown parameter: verbose_eval\n"
          ]
        }
      ],
      "source": [
        "rez_bed = []\n",
        "for i in oper_code_sort_bed:\n",
        "    lgb_sort_bed = LGBMClassifier(random_state = 123, verbose_eval = False, class_weight='balanced')\n",
        "    lgb_sort_bed.fit(\n",
        "        data[data['oper_code']==i].drop(columns = ['id', 'label']).sample(frac=1, random_state=123), \n",
        "        data.loc[data['oper_code']==i, 'label'].sample(frac=1, random_state=123))\n",
        "    pred_sort_bed = pd.DataFrame(lgb_sort_bed.predict(data_val[data_val['oper_code']==i].drop(columns = ['id'])), \n",
        "                                 index = data_val.loc[data_val['oper_code']==i, 'id'], columns=['label'])\n",
        "    rez_bed.append(pred_sort_bed)"
      ]
    },
    {
      "cell_type": "code",
      "execution_count": null,
      "metadata": {
        "id": "l56V5h1F0t65"
      },
      "outputs": [],
      "source": [
        "pred_lgb_rez_z = rez_bed[0]\n",
        "for i in range(1, len(oper_code_sort_bed)+1):\n",
        "    pred_lgb_rez_z = pd.concat([rez_bed[i],  pred_lgb_rez_z])"
      ]
    },
    {
      "cell_type": "code",
      "execution_count": null,
      "metadata": {
        "id": "C51vLkgz0t65"
      },
      "outputs": [],
      "source": [
        "pred_lgb_rez = pd.concat([pred_b_cool,\n",
        "                           pred_sort_cool,\n",
        "                           pred_sort_out,\n",
        "                           pred_lgb_rez_z])"
      ]
    },
    {
      "cell_type": "code",
      "execution_count": null,
      "metadata": {
        "id": "_TfAz2KX0t65"
      },
      "outputs": [],
      "source": []
    },
    {
      "cell_type": "code",
      "execution_count": null,
      "metadata": {
        "id": "Ta6Em4pU0t66"
      },
      "outputs": [],
      "source": [
        "pred_lgb_rez['id'] = pred_lgb_rez.index\n",
        "pred_lgb_rez = pred_lgb_rez.reindex(columns=['id', 'label'])\n",
        "pred_lgb_rez.to_csv('out_2.csv', line_terminator = '\\n', index=False)"
      ]
    },
    {
      "cell_type": "code",
      "execution_count": null,
      "metadata": {
        "id": "3D49gKoY0t66"
      },
      "outputs": [],
      "source": []
    },
    {
      "cell_type": "code",
      "execution_count": null,
      "metadata": {
        "id": "4AXuLcKP0t66"
      },
      "outputs": [],
      "source": [
        "pred_lgb_rez['id'] = pred_lgb_rez.index\n",
        "pred_lgb_rez = pred_lgb_rez.reindex(columns=['id', 'label'])"
      ]
    },
    {
      "cell_type": "code",
      "execution_count": null,
      "metadata": {
        "id": "BsrjWZ1T0t66"
      },
      "outputs": [],
      "source": [
        "data_big_index, data_sort_index, data_bed_index, data_out_index, data_all_index"
      ]
    },
    {
      "cell_type": "code",
      "execution_count": null,
      "metadata": {
        "id": "EUD8o7P60t66"
      },
      "outputs": [],
      "source": [
        "data_08 = pd.read_csv('sum_069.csv').set_index('id')\n",
        "data_06 = pd.read_csv('sum_084.csv').set_index('id')"
      ]
    },
    {
      "cell_type": "code",
      "execution_count": null,
      "metadata": {
        "id": "sp4osKC00t67"
      },
      "outputs": [],
      "source": [
        "data_n = set(data_all_index) - set(data_big_index)"
      ]
    },
    {
      "cell_type": "code",
      "execution_count": null,
      "metadata": {
        "id": "XUqvMWHC0t67"
      },
      "outputs": [],
      "source": [
        "rez_06_big = pd.concat([data_08.loc[data_n, :], data_06.loc[data_big_index, :]])"
      ]
    },
    {
      "cell_type": "code",
      "execution_count": null,
      "metadata": {
        "id": "_65a72bH0t67"
      },
      "outputs": [],
      "source": [
        "data_n2 = set(data_all_index) - set(data_sort_index)\n",
        "rez_06_sort = pd.concat([data_08.loc[data_n2, :], data_06.loc[data_sort_index, :]])\n",
        "rez_06_sort['id'] = rez_06_sort.index\n",
        "rez_06_sort = rez_06_sort.reindex(columns=['id', 'label'])\n",
        "rez_06_sort.to_csv('rez_06_sort.csv', line_terminator = '\\n', index=False)"
      ]
    },
    {
      "cell_type": "code",
      "execution_count": null,
      "metadata": {
        "id": "t7aGiDdA0t67"
      },
      "outputs": [],
      "source": [
        "data_n3 = set(data_all_index) - set(data_bed_index)\n",
        "rez_06_bed = pd.concat([data_08.loc[data_n3, :], data_06.loc[data_bed_index, :]])\n",
        "rez_06_bed['id'] = rez_06_sort.index\n",
        "rez_06_bed = rez_06_bed.reindex(columns=['id', 'label'])\n",
        "rez_06_bed.to_csv('rez_06_bed.csv', line_terminator = '\\n', index=False)"
      ]
    },
    {
      "cell_type": "code",
      "execution_count": null,
      "metadata": {
        "id": "y7XPxe8P0t68"
      },
      "outputs": [],
      "source": []
    }
  ],
  "metadata": {
    "ExecuteTimeLog": [
      {
        "duration": 55,
        "start_time": "2022-07-28T13:34:31.831Z"
      },
      {
        "duration": 447,
        "start_time": "2022-07-28T13:35:04.338Z"
      },
      {
        "duration": 390,
        "start_time": "2022-07-28T13:35:05.558Z"
      },
      {
        "duration": 25,
        "start_time": "2022-07-28T13:35:06.496Z"
      },
      {
        "duration": 4,
        "start_time": "2022-07-28T13:51:37.563Z"
      },
      {
        "duration": 31,
        "start_time": "2022-07-28T13:51:42.717Z"
      },
      {
        "duration": 4,
        "start_time": "2022-07-28T13:51:47.028Z"
      },
      {
        "duration": 21,
        "start_time": "2022-07-28T13:53:20.797Z"
      },
      {
        "duration": 105,
        "start_time": "2022-07-28T13:55:46.963Z"
      },
      {
        "duration": 15,
        "start_time": "2022-07-28T13:55:47.787Z"
      },
      {
        "duration": 14,
        "start_time": "2022-07-28T13:55:48.479Z"
      },
      {
        "duration": 15,
        "start_time": "2022-07-28T13:55:49.392Z"
      },
      {
        "duration": 13,
        "start_time": "2022-07-28T13:57:23.023Z"
      },
      {
        "duration": 105,
        "start_time": "2022-07-28T14:04:38.132Z"
      },
      {
        "duration": 15,
        "start_time": "2022-07-28T14:04:39.464Z"
      },
      {
        "duration": 18,
        "start_time": "2022-07-28T14:04:43.972Z"
      },
      {
        "duration": 13,
        "start_time": "2022-07-28T14:06:28.619Z"
      },
      {
        "duration": 13,
        "start_time": "2022-07-28T14:06:29.720Z"
      },
      {
        "duration": 14,
        "start_time": "2022-07-28T14:06:30.359Z"
      },
      {
        "duration": 13,
        "start_time": "2022-07-28T14:06:49.009Z"
      },
      {
        "duration": 13,
        "start_time": "2022-07-28T14:06:50.468Z"
      },
      {
        "duration": 16,
        "start_time": "2022-07-28T14:06:56.232Z"
      },
      {
        "duration": 115,
        "start_time": "2022-07-28T14:54:06.170Z"
      },
      {
        "duration": 18,
        "start_time": "2022-07-28T14:54:07.590Z"
      },
      {
        "duration": 16,
        "start_time": "2022-07-28T14:54:08.990Z"
      },
      {
        "duration": 19,
        "start_time": "2022-07-28T14:54:12.293Z"
      },
      {
        "duration": 14,
        "start_time": "2022-07-28T14:54:13.745Z"
      },
      {
        "duration": 14,
        "start_time": "2022-07-28T14:54:22.610Z"
      },
      {
        "duration": 12,
        "start_time": "2022-07-28T14:56:12.460Z"
      },
      {
        "duration": 8,
        "start_time": "2022-07-28T14:58:06.626Z"
      },
      {
        "duration": 34,
        "start_time": "2022-07-28T14:58:12.002Z"
      },
      {
        "duration": 14,
        "start_time": "2022-07-28T14:58:46.192Z"
      },
      {
        "duration": 13,
        "start_time": "2022-07-28T14:59:01.487Z"
      },
      {
        "duration": 15,
        "start_time": "2022-07-28T14:59:03.095Z"
      },
      {
        "duration": 7,
        "start_time": "2022-07-28T14:59:04.198Z"
      },
      {
        "duration": 15,
        "start_time": "2022-07-28T14:59:22.160Z"
      },
      {
        "duration": 14,
        "start_time": "2022-07-28T14:59:39.237Z"
      },
      {
        "duration": 9,
        "start_time": "2022-07-28T15:00:11.071Z"
      },
      {
        "duration": 14,
        "start_time": "2022-07-28T15:00:16.886Z"
      },
      {
        "duration": 13,
        "start_time": "2022-07-28T15:00:25.921Z"
      },
      {
        "duration": 26,
        "start_time": "2022-07-28T15:00:26.691Z"
      },
      {
        "duration": 20,
        "start_time": "2022-07-28T15:04:20.325Z"
      },
      {
        "duration": 113,
        "start_time": "2022-07-28T16:27:25.477Z"
      },
      {
        "duration": 16,
        "start_time": "2022-07-28T16:27:26.044Z"
      },
      {
        "duration": 8,
        "start_time": "2022-07-28T16:28:12.373Z"
      },
      {
        "duration": 6,
        "start_time": "2022-07-28T16:28:31.257Z"
      },
      {
        "duration": 13,
        "start_time": "2022-07-28T16:28:43.559Z"
      },
      {
        "duration": 14,
        "start_time": "2022-07-28T16:30:50.577Z"
      },
      {
        "duration": 13,
        "start_time": "2022-07-28T16:31:17.745Z"
      },
      {
        "duration": 6,
        "start_time": "2022-07-28T16:33:58.583Z"
      },
      {
        "duration": 5,
        "start_time": "2022-07-28T16:34:11.791Z"
      },
      {
        "duration": 5,
        "start_time": "2022-07-28T16:34:52.021Z"
      },
      {
        "duration": 22,
        "start_time": "2022-07-28T16:34:57.638Z"
      },
      {
        "duration": 8,
        "start_time": "2022-07-28T16:35:31.886Z"
      },
      {
        "duration": 12,
        "start_time": "2022-07-28T16:35:49.448Z"
      },
      {
        "duration": 16,
        "start_time": "2022-07-28T16:36:01.493Z"
      },
      {
        "duration": 7,
        "start_time": "2022-07-28T17:36:30.407Z"
      },
      {
        "duration": 537,
        "start_time": "2022-07-28T17:37:56.876Z"
      },
      {
        "duration": 10,
        "start_time": "2022-07-28T17:40:33.796Z"
      },
      {
        "duration": 4,
        "start_time": "2022-07-28T17:41:48.401Z"
      },
      {
        "duration": 6,
        "start_time": "2022-07-28T17:41:54.234Z"
      },
      {
        "duration": 18,
        "start_time": "2022-07-28T17:42:23.643Z"
      },
      {
        "duration": 13,
        "start_time": "2022-07-28T17:42:38.920Z"
      },
      {
        "duration": 6,
        "start_time": "2022-07-28T17:43:48.586Z"
      },
      {
        "duration": 6,
        "start_time": "2022-07-28T17:44:04.368Z"
      },
      {
        "duration": 9,
        "start_time": "2022-07-28T17:44:25.157Z"
      },
      {
        "duration": 7,
        "start_time": "2022-07-28T17:44:36.226Z"
      },
      {
        "duration": 6,
        "start_time": "2022-07-28T17:45:00.372Z"
      },
      {
        "duration": 9,
        "start_time": "2022-07-28T17:45:50.373Z"
      },
      {
        "duration": 12,
        "start_time": "2022-07-28T17:49:20.880Z"
      },
      {
        "duration": 9,
        "start_time": "2022-07-28T17:49:28.699Z"
      },
      {
        "duration": 9,
        "start_time": "2022-07-28T17:49:46.766Z"
      },
      {
        "duration": 6,
        "start_time": "2022-07-28T17:50:01.288Z"
      },
      {
        "duration": 6,
        "start_time": "2022-07-28T17:54:56.717Z"
      },
      {
        "duration": 7,
        "start_time": "2022-07-28T17:55:56.282Z"
      },
      {
        "duration": 7,
        "start_time": "2022-07-28T17:56:24.914Z"
      },
      {
        "duration": 114,
        "start_time": "2022-07-28T17:56:46.995Z"
      },
      {
        "duration": 216,
        "start_time": "2022-07-28T17:57:31.493Z"
      },
      {
        "duration": 208,
        "start_time": "2022-07-28T17:57:46.648Z"
      },
      {
        "duration": 197,
        "start_time": "2022-07-28T18:00:29.272Z"
      },
      {
        "duration": 201,
        "start_time": "2022-07-28T18:00:47.949Z"
      },
      {
        "duration": 184,
        "start_time": "2022-07-28T18:02:36.683Z"
      },
      {
        "duration": 167,
        "start_time": "2022-07-28T18:02:46.075Z"
      },
      {
        "duration": 176,
        "start_time": "2022-07-28T18:04:23.186Z"
      },
      {
        "duration": 3,
        "start_time": "2022-07-28T18:11:46.508Z"
      },
      {
        "duration": 242,
        "start_time": "2022-07-28T18:11:48.208Z"
      },
      {
        "duration": 8,
        "start_time": "2022-07-28T18:12:39.779Z"
      },
      {
        "duration": 9,
        "start_time": "2022-07-28T18:17:01.841Z"
      },
      {
        "duration": 2099,
        "start_time": "2022-07-28T18:17:34.967Z"
      },
      {
        "duration": 1072,
        "start_time": "2022-07-28T18:17:51.935Z"
      },
      {
        "duration": 174,
        "start_time": "2022-07-28T18:18:16.582Z"
      },
      {
        "duration": 1115,
        "start_time": "2022-07-28T18:18:58.663Z"
      },
      {
        "duration": 9,
        "start_time": "2022-07-28T18:20:58.410Z"
      },
      {
        "duration": 2,
        "start_time": "2022-07-28T18:23:29.906Z"
      },
      {
        "duration": 124,
        "start_time": "2022-07-28T18:27:05.194Z"
      },
      {
        "duration": 13,
        "start_time": "2022-07-28T18:29:37.340Z"
      },
      {
        "duration": 12,
        "start_time": "2022-07-28T18:30:07.081Z"
      },
      {
        "duration": 194,
        "start_time": "2022-07-28T18:32:56.821Z"
      },
      {
        "duration": 12,
        "start_time": "2022-07-28T18:33:45.790Z"
      },
      {
        "duration": 11,
        "start_time": "2022-07-28T18:34:24.393Z"
      },
      {
        "duration": 4,
        "start_time": "2022-07-28T18:37:07.973Z"
      },
      {
        "duration": 11,
        "start_time": "2022-07-28T18:37:31.394Z"
      },
      {
        "duration": 101,
        "start_time": "2022-07-28T18:45:30.790Z"
      },
      {
        "duration": 52,
        "start_time": "2022-07-28T18:45:40.403Z"
      },
      {
        "duration": 8,
        "start_time": "2022-07-28T18:45:55.411Z"
      },
      {
        "duration": 11,
        "start_time": "2022-07-28T18:46:06.321Z"
      },
      {
        "duration": 12,
        "start_time": "2022-07-28T18:46:14.375Z"
      },
      {
        "duration": 9,
        "start_time": "2022-07-28T18:46:37.354Z"
      },
      {
        "duration": 7,
        "start_time": "2022-07-28T18:46:48.375Z"
      },
      {
        "duration": 3,
        "start_time": "2022-07-28T18:47:40.605Z"
      },
      {
        "duration": 12,
        "start_time": "2022-07-28T18:47:51.856Z"
      },
      {
        "duration": 12,
        "start_time": "2022-07-28T18:48:10.502Z"
      },
      {
        "duration": 3,
        "start_time": "2022-07-28T18:52:54.638Z"
      },
      {
        "duration": 8,
        "start_time": "2022-07-28T18:57:33.402Z"
      },
      {
        "duration": 7,
        "start_time": "2022-07-28T18:58:45.272Z"
      },
      {
        "duration": 9,
        "start_time": "2022-07-28T18:59:42.589Z"
      },
      {
        "duration": 17,
        "start_time": "2022-07-28T19:00:01.856Z"
      },
      {
        "duration": 11,
        "start_time": "2022-07-28T19:02:36.621Z"
      },
      {
        "duration": 12,
        "start_time": "2022-07-28T19:02:56.496Z"
      },
      {
        "duration": 12,
        "start_time": "2022-07-28T19:14:45.874Z"
      },
      {
        "duration": 12,
        "start_time": "2022-07-28T19:14:58.733Z"
      },
      {
        "duration": 7,
        "start_time": "2022-07-28T19:28:19.444Z"
      },
      {
        "duration": 3,
        "start_time": "2022-07-28T19:31:10.920Z"
      },
      {
        "duration": 104,
        "start_time": "2022-07-28T19:31:11.681Z"
      },
      {
        "duration": 11,
        "start_time": "2022-07-28T19:31:12.507Z"
      },
      {
        "duration": 13,
        "start_time": "2022-07-28T19:31:12.937Z"
      },
      {
        "duration": 7,
        "start_time": "2022-07-28T19:31:13.851Z"
      },
      {
        "duration": 15,
        "start_time": "2022-07-28T19:31:14.324Z"
      },
      {
        "duration": 6,
        "start_time": "2022-07-28T19:31:14.821Z"
      },
      {
        "duration": 5,
        "start_time": "2022-07-28T19:31:16.198Z"
      },
      {
        "duration": 6,
        "start_time": "2022-07-28T19:31:16.758Z"
      },
      {
        "duration": 9,
        "start_time": "2022-07-28T19:31:17.223Z"
      },
      {
        "duration": 4,
        "start_time": "2022-07-28T19:31:17.693Z"
      },
      {
        "duration": 4,
        "start_time": "2022-07-28T19:31:18.138Z"
      },
      {
        "duration": 268,
        "start_time": "2022-07-28T19:31:18.617Z"
      },
      {
        "duration": 103,
        "start_time": "2022-07-28T19:31:19.789Z"
      },
      {
        "duration": 95,
        "start_time": "2022-07-28T19:31:20.614Z"
      },
      {
        "duration": 16,
        "start_time": "2022-07-28T19:31:25.007Z"
      },
      {
        "duration": 5,
        "start_time": "2022-07-28T19:36:30.470Z"
      },
      {
        "duration": 4,
        "start_time": "2022-07-28T19:36:52.337Z"
      },
      {
        "duration": 24,
        "start_time": "2022-07-28T19:36:57.630Z"
      },
      {
        "duration": 14,
        "start_time": "2022-07-28T19:37:49.986Z"
      },
      {
        "duration": 13,
        "start_time": "2022-07-28T19:40:31.875Z"
      },
      {
        "duration": 8,
        "start_time": "2022-07-28T19:40:46.643Z"
      },
      {
        "duration": 11,
        "start_time": "2022-07-28T19:41:16.189Z"
      },
      {
        "duration": 12,
        "start_time": "2022-07-28T19:42:37.552Z"
      },
      {
        "duration": 9,
        "start_time": "2022-07-28T19:42:44.829Z"
      },
      {
        "duration": 7,
        "start_time": "2022-07-28T19:43:14.628Z"
      },
      {
        "duration": 9,
        "start_time": "2022-07-28T19:43:29.605Z"
      },
      {
        "duration": 12,
        "start_time": "2022-07-28T19:43:30.984Z"
      },
      {
        "duration": 29,
        "start_time": "2022-07-28T19:45:20.022Z"
      },
      {
        "duration": 18,
        "start_time": "2022-07-28T19:46:22.486Z"
      },
      {
        "duration": 13,
        "start_time": "2022-07-28T19:49:03.579Z"
      },
      {
        "duration": 11,
        "start_time": "2022-07-28T19:49:22.340Z"
      },
      {
        "duration": 9,
        "start_time": "2022-07-28T19:51:20.347Z"
      },
      {
        "duration": 26,
        "start_time": "2022-07-28T19:51:27.966Z"
      },
      {
        "duration": 5,
        "start_time": "2022-07-28T19:54:07.503Z"
      },
      {
        "duration": 7,
        "start_time": "2022-07-28T19:55:48.810Z"
      },
      {
        "duration": 4,
        "start_time": "2022-07-28T19:55:54.985Z"
      },
      {
        "duration": 46,
        "start_time": "2022-07-28T19:56:33.971Z"
      },
      {
        "duration": 16,
        "start_time": "2022-07-28T19:56:34.831Z"
      },
      {
        "duration": 3086,
        "start_time": "2022-07-28T19:59:36.475Z"
      },
      {
        "duration": 996,
        "start_time": "2022-07-28T20:02:28.553Z"
      },
      {
        "duration": 10,
        "start_time": "2022-07-28T20:08:05.637Z"
      },
      {
        "duration": 92,
        "start_time": "2022-07-28T20:08:40.038Z"
      },
      {
        "duration": 3,
        "start_time": "2022-07-28T20:09:22.525Z"
      },
      {
        "duration": 8,
        "start_time": "2022-07-28T20:09:46.698Z"
      },
      {
        "duration": 20,
        "start_time": "2022-07-28T20:11:36.246Z"
      },
      {
        "duration": 12,
        "start_time": "2022-07-28T20:13:40.142Z"
      },
      {
        "duration": 2750,
        "start_time": "2022-07-29T17:58:10.632Z"
      },
      {
        "duration": 1169,
        "start_time": "2022-07-29T17:58:13.384Z"
      },
      {
        "duration": 292,
        "start_time": "2022-07-29T17:58:14.555Z"
      },
      {
        "duration": 21,
        "start_time": "2022-07-29T17:58:14.849Z"
      },
      {
        "duration": 16,
        "start_time": "2022-07-29T17:58:14.873Z"
      },
      {
        "duration": 9,
        "start_time": "2022-07-29T17:58:14.931Z"
      },
      {
        "duration": 14,
        "start_time": "2022-07-29T17:58:15.364Z"
      },
      {
        "duration": 5,
        "start_time": "2022-07-29T17:58:15.643Z"
      },
      {
        "duration": 5,
        "start_time": "2022-07-29T17:58:16.459Z"
      },
      {
        "duration": 5,
        "start_time": "2022-07-29T17:58:16.725Z"
      },
      {
        "duration": 7,
        "start_time": "2022-07-29T17:58:17.027Z"
      },
      {
        "duration": 3,
        "start_time": "2022-07-29T17:58:17.354Z"
      },
      {
        "duration": 4,
        "start_time": "2022-07-29T17:58:17.631Z"
      },
      {
        "duration": 476,
        "start_time": "2022-07-29T17:58:17.888Z"
      },
      {
        "duration": 99,
        "start_time": "2022-07-29T17:58:18.366Z"
      },
      {
        "duration": 177,
        "start_time": "2022-07-29T17:58:18.467Z"
      },
      {
        "duration": 14,
        "start_time": "2022-07-29T17:58:18.653Z"
      },
      {
        "duration": 5,
        "start_time": "2022-07-29T17:58:18.902Z"
      },
      {
        "duration": 8,
        "start_time": "2022-07-29T17:58:19.140Z"
      },
      {
        "duration": 11,
        "start_time": "2022-07-29T17:58:21.405Z"
      },
      {
        "duration": 10,
        "start_time": "2022-07-29T17:58:22.799Z"
      },
      {
        "duration": 6,
        "start_time": "2022-07-29T17:58:23.587Z"
      },
      {
        "duration": 7,
        "start_time": "2022-07-29T17:58:24.490Z"
      },
      {
        "duration": 12,
        "start_time": "2022-07-29T17:58:25.110Z"
      },
      {
        "duration": 14,
        "start_time": "2022-07-29T17:58:26.547Z"
      },
      {
        "duration": 14,
        "start_time": "2022-07-29T17:58:40.532Z"
      },
      {
        "duration": 12,
        "start_time": "2022-07-29T18:08:18.068Z"
      },
      {
        "duration": 18,
        "start_time": "2022-07-29T18:08:18.530Z"
      },
      {
        "duration": 17,
        "start_time": "2022-07-29T18:08:29.286Z"
      },
      {
        "duration": 6,
        "start_time": "2022-07-30T06:25:17.821Z"
      },
      {
        "duration": 5,
        "start_time": "2022-07-30T06:25:19.165Z"
      },
      {
        "duration": 25,
        "start_time": "2022-07-30T06:25:27.828Z"
      },
      {
        "duration": 12,
        "start_time": "2022-07-30T06:26:04.358Z"
      },
      {
        "duration": 43,
        "start_time": "2022-07-30T06:26:18.177Z"
      },
      {
        "duration": 14,
        "start_time": "2022-07-30T06:26:18.951Z"
      },
      {
        "duration": 19,
        "start_time": "2022-07-30T06:26:50.661Z"
      },
      {
        "duration": 1903,
        "start_time": "2022-07-30T06:27:59.175Z"
      },
      {
        "duration": 1182,
        "start_time": "2022-07-30T06:28:01.081Z"
      },
      {
        "duration": 100,
        "start_time": "2022-07-30T06:28:02.264Z"
      },
      {
        "duration": 20,
        "start_time": "2022-07-30T06:28:02.365Z"
      },
      {
        "duration": 14,
        "start_time": "2022-07-30T06:28:02.387Z"
      },
      {
        "duration": 10,
        "start_time": "2022-07-30T06:28:02.402Z"
      },
      {
        "duration": 15,
        "start_time": "2022-07-30T06:28:02.413Z"
      },
      {
        "duration": 20,
        "start_time": "2022-07-30T06:28:02.429Z"
      },
      {
        "duration": 8,
        "start_time": "2022-07-30T06:28:02.450Z"
      },
      {
        "duration": 6,
        "start_time": "2022-07-30T06:28:02.459Z"
      },
      {
        "duration": 10,
        "start_time": "2022-07-30T06:28:02.466Z"
      },
      {
        "duration": 5,
        "start_time": "2022-07-30T06:28:02.478Z"
      },
      {
        "duration": 4,
        "start_time": "2022-07-30T06:28:02.485Z"
      },
      {
        "duration": 306,
        "start_time": "2022-07-30T06:28:02.492Z"
      },
      {
        "duration": 99,
        "start_time": "2022-07-30T06:28:02.800Z"
      },
      {
        "duration": 105,
        "start_time": "2022-07-30T06:28:02.901Z"
      },
      {
        "duration": 30,
        "start_time": "2022-07-30T06:28:03.008Z"
      },
      {
        "duration": 4,
        "start_time": "2022-07-30T06:28:03.040Z"
      },
      {
        "duration": 7,
        "start_time": "2022-07-30T06:28:03.048Z"
      },
      {
        "duration": 13,
        "start_time": "2022-07-30T06:28:03.057Z"
      },
      {
        "duration": 11,
        "start_time": "2022-07-30T06:28:03.071Z"
      },
      {
        "duration": 8,
        "start_time": "2022-07-30T06:28:03.084Z"
      },
      {
        "duration": 9,
        "start_time": "2022-07-30T06:28:03.093Z"
      },
      {
        "duration": 96,
        "start_time": "2022-07-30T06:28:03.104Z"
      },
      {
        "duration": 15,
        "start_time": "2022-07-30T06:28:03.202Z"
      },
      {
        "duration": 34,
        "start_time": "2022-07-30T06:28:03.219Z"
      },
      {
        "duration": 18,
        "start_time": "2022-07-30T06:28:03.254Z"
      },
      {
        "duration": 6,
        "start_time": "2022-07-30T06:28:03.274Z"
      },
      {
        "duration": 5,
        "start_time": "2022-07-30T06:28:03.282Z"
      },
      {
        "duration": 14,
        "start_time": "2022-07-30T06:28:03.289Z"
      },
      {
        "duration": 2,
        "start_time": "2022-07-30T06:28:03.304Z"
      },
      {
        "duration": 33,
        "start_time": "2022-07-30T06:28:03.308Z"
      },
      {
        "duration": 25,
        "start_time": "2022-07-30T06:28:03.342Z"
      },
      {
        "duration": 4,
        "start_time": "2022-07-30T06:28:03.369Z"
      },
      {
        "duration": 13,
        "start_time": "2022-07-30T06:28:03.374Z"
      },
      {
        "duration": 6,
        "start_time": "2022-07-30T06:28:03.389Z"
      },
      {
        "duration": 15,
        "start_time": "2022-07-30T06:33:55.123Z"
      },
      {
        "duration": 5,
        "start_time": "2022-07-30T06:34:22.545Z"
      },
      {
        "duration": 3,
        "start_time": "2022-07-30T06:47:12.945Z"
      },
      {
        "duration": 104,
        "start_time": "2022-07-30T06:57:43.305Z"
      },
      {
        "duration": 11,
        "start_time": "2022-07-30T06:59:21.942Z"
      },
      {
        "duration": 18,
        "start_time": "2022-07-30T07:00:13.929Z"
      },
      {
        "duration": 10,
        "start_time": "2022-07-30T07:04:14.982Z"
      },
      {
        "duration": 3,
        "start_time": "2022-07-30T07:04:49.929Z"
      },
      {
        "duration": 15,
        "start_time": "2022-07-30T07:05:06.937Z"
      },
      {
        "duration": 10367,
        "start_time": "2022-07-30T07:07:06.787Z"
      },
      {
        "duration": 3,
        "start_time": "2022-07-30T07:12:55.842Z"
      },
      {
        "duration": 79,
        "start_time": "2022-07-30T07:13:01.343Z"
      },
      {
        "duration": 84,
        "start_time": "2022-07-30T07:13:15.001Z"
      },
      {
        "duration": 37238,
        "start_time": "2022-07-30T07:13:34.894Z"
      },
      {
        "duration": 37969,
        "start_time": "2022-07-30T07:22:51.649Z"
      },
      {
        "duration": 20,
        "start_time": "2022-07-30T07:26:41.814Z"
      },
      {
        "duration": 14,
        "start_time": "2022-07-30T07:26:42.885Z"
      },
      {
        "duration": 22,
        "start_time": "2022-07-30T07:26:47.177Z"
      },
      {
        "duration": 4,
        "start_time": "2022-07-30T07:26:47.538Z"
      },
      {
        "duration": 7,
        "start_time": "2022-07-30T07:26:48.464Z"
      },
      {
        "duration": 11,
        "start_time": "2022-07-30T07:26:48.933Z"
      },
      {
        "duration": 3,
        "start_time": "2022-07-30T07:26:50.646Z"
      },
      {
        "duration": 160032,
        "start_time": "2022-07-30T07:26:52.387Z"
      },
      {
        "duration": 11,
        "start_time": "2022-07-30T07:31:10.049Z"
      },
      {
        "duration": 4,
        "start_time": "2022-07-30T07:32:05.392Z"
      },
      {
        "duration": 4,
        "start_time": "2022-07-30T07:32:57.645Z"
      },
      {
        "duration": 4,
        "start_time": "2022-07-30T07:33:10.613Z"
      },
      {
        "duration": 17,
        "start_time": "2022-07-30T07:56:42.488Z"
      },
      {
        "duration": 4,
        "start_time": "2022-07-30T08:00:39.057Z"
      },
      {
        "duration": 7,
        "start_time": "2022-07-30T08:00:40.748Z"
      },
      {
        "duration": 11,
        "start_time": "2022-07-30T08:00:41.768Z"
      },
      {
        "duration": 3,
        "start_time": "2022-07-30T08:00:44.429Z"
      },
      {
        "duration": 116484,
        "start_time": "2022-07-30T08:00:52.199Z"
      },
      {
        "duration": 4,
        "start_time": "2022-07-30T08:02:56.866Z"
      },
      {
        "duration": 10,
        "start_time": "2022-07-30T08:02:58.073Z"
      },
      {
        "duration": 5,
        "start_time": "2022-07-30T11:07:46.812Z"
      },
      {
        "duration": 5,
        "start_time": "2022-07-30T11:07:47.464Z"
      },
      {
        "duration": 12,
        "start_time": "2022-07-30T11:07:48.540Z"
      },
      {
        "duration": 12,
        "start_time": "2022-07-30T11:07:49.124Z"
      },
      {
        "duration": 3,
        "start_time": "2022-07-30T11:07:50.623Z"
      },
      {
        "duration": 126594,
        "start_time": "2022-07-30T11:07:51.635Z"
      },
      {
        "duration": 3,
        "start_time": "2022-07-30T11:09:58.231Z"
      },
      {
        "duration": 30,
        "start_time": "2022-07-30T11:09:58.236Z"
      },
      {
        "duration": 75,
        "start_time": "2022-07-30T11:12:10.031Z"
      },
      {
        "duration": 4,
        "start_time": "2022-07-30T11:12:10.405Z"
      },
      {
        "duration": 12,
        "start_time": "2022-07-30T11:12:10.784Z"
      },
      {
        "duration": 9961,
        "start_time": "2022-07-30T11:12:20.660Z"
      },
      {
        "duration": 0,
        "start_time": "2022-07-30T11:12:30.623Z"
      },
      {
        "duration": 0,
        "start_time": "2022-07-30T11:12:30.624Z"
      },
      {
        "duration": 102928,
        "start_time": "2022-07-30T11:13:05.651Z"
      },
      {
        "duration": 3,
        "start_time": "2022-07-30T11:14:58.711Z"
      },
      {
        "duration": 10,
        "start_time": "2022-07-30T11:14:59.502Z"
      },
      {
        "duration": 5,
        "start_time": "2022-07-30T11:27:27.115Z"
      },
      {
        "duration": 9,
        "start_time": "2022-07-30T11:27:34.526Z"
      },
      {
        "duration": 11,
        "start_time": "2022-07-30T11:27:55.163Z"
      },
      {
        "duration": 7,
        "start_time": "2022-07-30T11:27:56.326Z"
      },
      {
        "duration": 10,
        "start_time": "2022-07-30T11:31:51.946Z"
      },
      {
        "duration": 5,
        "start_time": "2022-07-30T17:16:09.157Z"
      },
      {
        "duration": 8,
        "start_time": "2022-07-30T17:16:21.473Z"
      },
      {
        "duration": 4,
        "start_time": "2022-07-30T17:17:32.115Z"
      },
      {
        "duration": 7,
        "start_time": "2022-07-30T17:18:52.660Z"
      },
      {
        "duration": 6,
        "start_time": "2022-07-30T17:23:23.267Z"
      },
      {
        "duration": 3,
        "start_time": "2022-07-30T17:23:24.064Z"
      },
      {
        "duration": 6,
        "start_time": "2022-07-30T17:23:51.661Z"
      },
      {
        "duration": 17,
        "start_time": "2022-07-30T17:24:31.640Z"
      },
      {
        "duration": 12,
        "start_time": "2022-07-30T17:24:32.599Z"
      },
      {
        "duration": 28,
        "start_time": "2022-07-30T17:24:45.000Z"
      },
      {
        "duration": 11,
        "start_time": "2022-07-30T17:25:57.963Z"
      },
      {
        "duration": 5,
        "start_time": "2022-07-30T17:26:00.317Z"
      },
      {
        "duration": 13,
        "start_time": "2022-07-30T17:26:01.201Z"
      },
      {
        "duration": 1391,
        "start_time": "2022-07-30T17:26:19.329Z"
      },
      {
        "duration": 11,
        "start_time": "2022-07-30T17:29:09.394Z"
      },
      {
        "duration": 22,
        "start_time": "2022-07-30T17:29:16.153Z"
      },
      {
        "duration": 4,
        "start_time": "2022-07-30T17:29:34.716Z"
      },
      {
        "duration": 39,
        "start_time": "2022-07-30T17:30:31.464Z"
      },
      {
        "duration": 16,
        "start_time": "2022-07-30T17:30:38.058Z"
      },
      {
        "duration": 26,
        "start_time": "2022-07-30T17:30:40.860Z"
      },
      {
        "duration": 6,
        "start_time": "2022-07-30T17:31:30.584Z"
      },
      {
        "duration": 5,
        "start_time": "2022-07-30T17:31:31.861Z"
      },
      {
        "duration": 15,
        "start_time": "2022-07-30T17:31:40.153Z"
      },
      {
        "duration": 10,
        "start_time": "2022-07-30T17:31:42.579Z"
      },
      {
        "duration": 11,
        "start_time": "2022-07-30T17:33:35.875Z"
      },
      {
        "duration": 13,
        "start_time": "2022-07-30T17:33:36.695Z"
      },
      {
        "duration": 40,
        "start_time": "2022-07-30T17:33:39.424Z"
      },
      {
        "duration": 5,
        "start_time": "2022-07-30T17:33:40.278Z"
      },
      {
        "duration": 7,
        "start_time": "2022-07-30T17:33:41.468Z"
      },
      {
        "duration": 14,
        "start_time": "2022-07-30T17:33:42.068Z"
      },
      {
        "duration": 15,
        "start_time": "2022-07-30T17:33:43.447Z"
      },
      {
        "duration": 17,
        "start_time": "2022-07-30T17:33:45.677Z"
      },
      {
        "duration": 11,
        "start_time": "2022-07-30T17:33:46.400Z"
      },
      {
        "duration": 9,
        "start_time": "2022-07-30T17:34:09.749Z"
      },
      {
        "duration": 5,
        "start_time": "2022-07-30T17:34:11.216Z"
      },
      {
        "duration": 9,
        "start_time": "2022-07-30T17:34:12.947Z"
      },
      {
        "duration": 11,
        "start_time": "2022-07-30T17:34:13.677Z"
      },
      {
        "duration": 3,
        "start_time": "2022-07-30T17:35:38.651Z"
      },
      {
        "duration": 156923,
        "start_time": "2022-07-30T17:35:40.483Z"
      },
      {
        "duration": 3,
        "start_time": "2022-07-30T17:38:17.407Z"
      },
      {
        "duration": 10,
        "start_time": "2022-07-30T17:38:17.412Z"
      },
      {
        "duration": 17,
        "start_time": "2022-07-30T17:52:20.351Z"
      },
      {
        "duration": 11,
        "start_time": "2022-07-30T17:52:35.882Z"
      },
      {
        "duration": 8165,
        "start_time": "2022-07-30T17:54:17.332Z"
      },
      {
        "duration": 9,
        "start_time": "2022-07-30T17:54:31.055Z"
      },
      {
        "duration": 4,
        "start_time": "2022-07-30T17:54:34.460Z"
      },
      {
        "duration": 15,
        "start_time": "2022-07-30T17:57:37.921Z"
      },
      {
        "duration": 4,
        "start_time": "2022-07-30T17:57:59.203Z"
      },
      {
        "duration": 5,
        "start_time": "2022-07-30T17:58:35.946Z"
      },
      {
        "duration": 16,
        "start_time": "2022-07-30T17:58:39.684Z"
      },
      {
        "duration": 3,
        "start_time": "2022-07-30T17:59:10.088Z"
      },
      {
        "duration": 17,
        "start_time": "2022-07-30T17:59:16.785Z"
      },
      {
        "duration": 6,
        "start_time": "2022-07-30T18:01:13.131Z"
      },
      {
        "duration": 237,
        "start_time": "2022-07-30T18:01:13.789Z"
      },
      {
        "duration": 3,
        "start_time": "2022-07-30T18:06:19.465Z"
      },
      {
        "duration": 5,
        "start_time": "2022-07-30T18:06:53.678Z"
      },
      {
        "duration": 17,
        "start_time": "2022-07-30T18:06:57.645Z"
      },
      {
        "duration": 14,
        "start_time": "2022-07-30T18:06:58.597Z"
      },
      {
        "duration": 5,
        "start_time": "2022-07-30T18:07:11.469Z"
      },
      {
        "duration": 148713,
        "start_time": "2022-07-30T18:07:12.650Z"
      },
      {
        "duration": 10,
        "start_time": "2022-07-30T18:09:41.365Z"
      },
      {
        "duration": 15,
        "start_time": "2022-07-30T18:09:41.377Z"
      },
      {
        "duration": 9384,
        "start_time": "2022-07-30T18:09:41.394Z"
      },
      {
        "duration": 7,
        "start_time": "2022-07-30T18:09:50.782Z"
      },
      {
        "duration": 4,
        "start_time": "2022-07-30T18:09:50.790Z"
      },
      {
        "duration": 6,
        "start_time": "2022-07-30T18:09:50.796Z"
      },
      {
        "duration": 306,
        "start_time": "2022-07-30T18:09:50.804Z"
      },
      {
        "duration": 24,
        "start_time": "2022-07-30T18:14:38.932Z"
      },
      {
        "duration": 4,
        "start_time": "2022-07-30T18:14:58.966Z"
      },
      {
        "duration": 10,
        "start_time": "2022-07-30T18:14:59.800Z"
      },
      {
        "duration": 4,
        "start_time": "2022-07-30T18:15:00.781Z"
      },
      {
        "duration": 10,
        "start_time": "2022-07-30T18:15:01.131Z"
      },
      {
        "duration": 12,
        "start_time": "2022-07-30T18:15:01.527Z"
      },
      {
        "duration": 11,
        "start_time": "2022-07-30T18:15:01.962Z"
      },
      {
        "duration": 6,
        "start_time": "2022-07-30T18:15:04.149Z"
      },
      {
        "duration": 238,
        "start_time": "2022-07-30T18:15:05.469Z"
      },
      {
        "duration": 3,
        "start_time": "2022-07-30T18:15:06.673Z"
      },
      {
        "duration": 14,
        "start_time": "2022-07-30T18:15:07.279Z"
      },
      {
        "duration": 21,
        "start_time": "2022-07-30T18:15:07.692Z"
      },
      {
        "duration": 3,
        "start_time": "2022-07-30T18:15:24.261Z"
      },
      {
        "duration": 116722,
        "start_time": "2022-07-30T18:15:25.460Z"
      },
      {
        "duration": 3,
        "start_time": "2022-07-30T18:17:22.184Z"
      },
      {
        "duration": 10,
        "start_time": "2022-07-30T18:17:22.189Z"
      },
      {
        "duration": 8052,
        "start_time": "2022-07-30T18:17:22.201Z"
      },
      {
        "duration": 10,
        "start_time": "2022-07-30T18:17:30.254Z"
      },
      {
        "duration": 8,
        "start_time": "2022-07-30T18:17:30.266Z"
      },
      {
        "duration": 19,
        "start_time": "2022-07-30T18:17:30.275Z"
      },
      {
        "duration": 206,
        "start_time": "2022-07-30T18:17:30.296Z"
      },
      {
        "duration": 4,
        "start_time": "2022-07-30T18:24:04.685Z"
      },
      {
        "duration": 38,
        "start_time": "2022-07-30T18:24:05.503Z"
      },
      {
        "duration": 5,
        "start_time": "2022-07-30T18:24:30.169Z"
      },
      {
        "duration": 8,
        "start_time": "2022-07-30T18:24:30.854Z"
      },
      {
        "duration": 6,
        "start_time": "2022-07-30T18:24:31.457Z"
      },
      {
        "duration": 6,
        "start_time": "2022-07-30T18:24:31.961Z"
      },
      {
        "duration": 11,
        "start_time": "2022-07-30T18:24:32.409Z"
      },
      {
        "duration": 15,
        "start_time": "2022-07-30T18:24:33.693Z"
      },
      {
        "duration": 4,
        "start_time": "2022-07-30T18:24:35.538Z"
      },
      {
        "duration": 3295049,
        "start_time": "2022-07-30T18:24:37.001Z"
      },
      {
        "duration": 6,
        "start_time": "2022-07-30T19:19:32.055Z"
      },
      {
        "duration": 31,
        "start_time": "2022-07-30T19:19:32.062Z"
      },
      {
        "duration": 8734,
        "start_time": "2022-07-30T19:19:32.095Z"
      },
      {
        "duration": 15,
        "start_time": "2022-07-30T19:19:40.830Z"
      },
      {
        "duration": 24,
        "start_time": "2022-07-30T19:19:40.851Z"
      },
      {
        "duration": 7,
        "start_time": "2022-07-30T19:19:40.877Z"
      },
      {
        "duration": 199,
        "start_time": "2022-07-30T19:19:40.886Z"
      },
      {
        "duration": 219,
        "start_time": "2022-07-30T19:33:52.274Z"
      },
      {
        "duration": 10,
        "start_time": "2022-07-30T19:35:59.174Z"
      },
      {
        "duration": 6,
        "start_time": "2022-07-30T19:37:25.154Z"
      },
      {
        "duration": 205,
        "start_time": "2022-07-30T19:37:25.969Z"
      },
      {
        "duration": 302,
        "start_time": "2022-07-30T19:37:48.905Z"
      },
      {
        "duration": 216,
        "start_time": "2022-07-30T19:38:03.356Z"
      },
      {
        "duration": 246,
        "start_time": "2022-07-30T19:38:25.308Z"
      },
      {
        "duration": 234,
        "start_time": "2022-07-30T19:39:18.526Z"
      },
      {
        "duration": 213,
        "start_time": "2022-07-30T19:39:30.660Z"
      },
      {
        "duration": 6,
        "start_time": "2022-07-30T19:41:24.461Z"
      },
      {
        "duration": 3,
        "start_time": "2022-07-30T19:41:49.680Z"
      },
      {
        "duration": 96,
        "start_time": "2022-07-30T19:45:26.611Z"
      },
      {
        "duration": 4,
        "start_time": "2022-07-30T19:46:52.059Z"
      },
      {
        "duration": 4,
        "start_time": "2022-07-30T19:47:01.162Z"
      },
      {
        "duration": 4,
        "start_time": "2022-07-30T19:47:26.380Z"
      },
      {
        "duration": 111,
        "start_time": "2022-07-30T19:48:26.088Z"
      },
      {
        "duration": 11,
        "start_time": "2022-07-30T19:48:27.299Z"
      },
      {
        "duration": 13,
        "start_time": "2022-07-30T19:48:28.058Z"
      },
      {
        "duration": 7,
        "start_time": "2022-07-30T19:48:30.557Z"
      },
      {
        "duration": 14,
        "start_time": "2022-07-30T19:48:30.970Z"
      },
      {
        "duration": 5,
        "start_time": "2022-07-30T19:48:31.492Z"
      },
      {
        "duration": 11,
        "start_time": "2022-07-30T19:48:33.835Z"
      },
      {
        "duration": 4,
        "start_time": "2022-07-30T19:48:34.224Z"
      },
      {
        "duration": 7,
        "start_time": "2022-07-30T19:48:34.660Z"
      },
      {
        "duration": 4,
        "start_time": "2022-07-30T19:48:35.348Z"
      },
      {
        "duration": 5,
        "start_time": "2022-07-30T19:48:49.066Z"
      },
      {
        "duration": 9,
        "start_time": "2022-07-30T20:01:15.757Z"
      },
      {
        "duration": 6,
        "start_time": "2022-07-30T20:01:24.927Z"
      },
      {
        "duration": 9,
        "start_time": "2022-07-30T20:01:32.030Z"
      },
      {
        "duration": 17,
        "start_time": "2022-07-30T20:02:33.062Z"
      },
      {
        "duration": 12,
        "start_time": "2022-07-30T20:02:49.309Z"
      },
      {
        "duration": 26,
        "start_time": "2022-07-30T20:03:15.462Z"
      },
      {
        "duration": 118,
        "start_time": "2022-07-30T20:03:32.180Z"
      },
      {
        "duration": 40,
        "start_time": "2022-07-30T20:03:43.709Z"
      },
      {
        "duration": 17,
        "start_time": "2022-07-30T20:04:19.927Z"
      },
      {
        "duration": 18,
        "start_time": "2022-07-30T20:04:47.811Z"
      },
      {
        "duration": 15,
        "start_time": "2022-07-30T20:05:02.249Z"
      },
      {
        "duration": 15,
        "start_time": "2022-07-30T20:05:08.006Z"
      },
      {
        "duration": 22,
        "start_time": "2022-07-30T20:05:23.932Z"
      },
      {
        "duration": 41,
        "start_time": "2022-07-30T20:08:54.408Z"
      },
      {
        "duration": 12,
        "start_time": "2022-07-30T20:09:55.448Z"
      },
      {
        "duration": 8,
        "start_time": "2022-07-30T20:11:40.948Z"
      },
      {
        "duration": 9,
        "start_time": "2022-07-30T20:11:42.610Z"
      },
      {
        "duration": 4,
        "start_time": "2022-07-30T20:12:09.057Z"
      },
      {
        "duration": 7,
        "start_time": "2022-07-30T20:12:22.229Z"
      },
      {
        "duration": 17,
        "start_time": "2022-07-30T20:13:21.928Z"
      },
      {
        "duration": 6,
        "start_time": "2022-07-30T20:14:08.764Z"
      },
      {
        "duration": 1948,
        "start_time": "2022-07-30T20:15:29.771Z"
      },
      {
        "duration": 1266,
        "start_time": "2022-07-30T20:15:31.721Z"
      },
      {
        "duration": 119,
        "start_time": "2022-07-30T20:15:32.989Z"
      },
      {
        "duration": 18,
        "start_time": "2022-07-30T20:15:33.110Z"
      },
      {
        "duration": 16,
        "start_time": "2022-07-30T20:15:33.129Z"
      },
      {
        "duration": 22,
        "start_time": "2022-07-30T20:15:33.148Z"
      },
      {
        "duration": 13,
        "start_time": "2022-07-30T20:15:33.171Z"
      },
      {
        "duration": 5,
        "start_time": "2022-07-30T20:15:33.186Z"
      },
      {
        "duration": 6,
        "start_time": "2022-07-30T20:15:33.193Z"
      },
      {
        "duration": 4,
        "start_time": "2022-07-30T20:15:33.201Z"
      },
      {
        "duration": 8,
        "start_time": "2022-07-30T20:15:33.207Z"
      },
      {
        "duration": 5,
        "start_time": "2022-07-30T20:15:33.216Z"
      },
      {
        "duration": 5,
        "start_time": "2022-07-30T20:15:33.222Z"
      },
      {
        "duration": 27,
        "start_time": "2022-07-30T20:15:33.233Z"
      },
      {
        "duration": 351,
        "start_time": "2022-07-30T20:15:33.262Z"
      },
      {
        "duration": 101,
        "start_time": "2022-07-30T20:15:33.615Z"
      },
      {
        "duration": 112,
        "start_time": "2022-07-30T20:15:33.717Z"
      },
      {
        "duration": 24,
        "start_time": "2022-07-30T20:15:33.830Z"
      },
      {
        "duration": 8,
        "start_time": "2022-07-30T20:15:33.856Z"
      },
      {
        "duration": 8,
        "start_time": "2022-07-30T20:15:33.866Z"
      },
      {
        "duration": 10,
        "start_time": "2022-07-30T20:15:33.876Z"
      },
      {
        "duration": 8,
        "start_time": "2022-07-30T20:15:33.887Z"
      },
      {
        "duration": 13,
        "start_time": "2022-07-30T20:15:33.897Z"
      },
      {
        "duration": 7,
        "start_time": "2022-07-30T20:15:33.911Z"
      },
      {
        "duration": 82,
        "start_time": "2022-07-30T20:15:33.932Z"
      },
      {
        "duration": 6,
        "start_time": "2022-07-30T20:15:34.015Z"
      },
      {
        "duration": 26,
        "start_time": "2022-07-30T20:15:34.032Z"
      },
      {
        "duration": 4,
        "start_time": "2022-07-30T20:15:34.062Z"
      },
      {
        "duration": 7,
        "start_time": "2022-07-30T20:15:34.067Z"
      },
      {
        "duration": 3,
        "start_time": "2022-07-30T20:15:34.075Z"
      },
      {
        "duration": 8,
        "start_time": "2022-07-30T20:15:34.079Z"
      },
      {
        "duration": 8,
        "start_time": "2022-07-30T20:15:34.088Z"
      },
      {
        "duration": 11,
        "start_time": "2022-07-30T20:15:34.097Z"
      },
      {
        "duration": 25,
        "start_time": "2022-07-30T20:15:34.109Z"
      },
      {
        "duration": 15,
        "start_time": "2022-07-30T20:15:34.139Z"
      },
      {
        "duration": 26,
        "start_time": "2022-07-30T20:15:34.155Z"
      },
      {
        "duration": 4,
        "start_time": "2022-07-30T20:15:34.183Z"
      },
      {
        "duration": 4,
        "start_time": "2022-07-30T20:15:34.189Z"
      },
      {
        "duration": 11,
        "start_time": "2022-07-30T20:15:34.195Z"
      },
      {
        "duration": 4,
        "start_time": "2022-07-30T20:15:34.207Z"
      },
      {
        "duration": 38,
        "start_time": "2022-07-30T20:15:34.212Z"
      },
      {
        "duration": 11,
        "start_time": "2022-07-30T20:15:34.255Z"
      },
      {
        "duration": 29,
        "start_time": "2022-07-30T20:15:34.267Z"
      },
      {
        "duration": 5,
        "start_time": "2022-07-30T20:15:34.297Z"
      },
      {
        "duration": 4,
        "start_time": "2022-07-30T20:15:34.303Z"
      },
      {
        "duration": 40,
        "start_time": "2022-07-30T20:15:34.308Z"
      },
      {
        "duration": 17,
        "start_time": "2022-07-30T20:15:34.350Z"
      },
      {
        "duration": 6,
        "start_time": "2022-07-30T20:15:34.369Z"
      },
      {
        "duration": 5,
        "start_time": "2022-07-30T20:15:34.376Z"
      },
      {
        "duration": 4,
        "start_time": "2022-07-30T20:15:34.382Z"
      },
      {
        "duration": 7,
        "start_time": "2022-07-30T20:15:34.388Z"
      },
      {
        "duration": 12,
        "start_time": "2022-07-30T20:15:34.397Z"
      },
      {
        "duration": 3,
        "start_time": "2022-07-30T20:15:34.411Z"
      },
      {
        "duration": 2922011,
        "start_time": "2022-07-30T20:15:34.415Z"
      },
      {
        "duration": 7,
        "start_time": "2022-07-30T21:04:16.428Z"
      },
      {
        "duration": 19,
        "start_time": "2022-07-30T21:04:16.436Z"
      },
      {
        "duration": 7231,
        "start_time": "2022-07-30T21:04:16.457Z"
      },
      {
        "duration": 6,
        "start_time": "2022-07-30T21:04:23.689Z"
      },
      {
        "duration": 5,
        "start_time": "2022-07-30T21:04:23.696Z"
      },
      {
        "duration": 6,
        "start_time": "2022-07-30T21:04:23.702Z"
      },
      {
        "duration": 195,
        "start_time": "2022-07-30T21:04:23.709Z"
      },
      {
        "duration": 1912,
        "start_time": "2022-07-30T21:09:11.457Z"
      },
      {
        "duration": 1217,
        "start_time": "2022-07-30T21:09:13.371Z"
      },
      {
        "duration": 117,
        "start_time": "2022-07-30T21:09:14.589Z"
      },
      {
        "duration": 17,
        "start_time": "2022-07-30T21:09:14.708Z"
      },
      {
        "duration": 14,
        "start_time": "2022-07-30T21:09:14.727Z"
      },
      {
        "duration": 28,
        "start_time": "2022-07-30T21:09:14.742Z"
      },
      {
        "duration": 15,
        "start_time": "2022-07-30T21:09:14.771Z"
      },
      {
        "duration": 7,
        "start_time": "2022-07-30T21:09:14.787Z"
      },
      {
        "duration": 7,
        "start_time": "2022-07-30T21:09:14.795Z"
      },
      {
        "duration": 5,
        "start_time": "2022-07-30T21:09:14.804Z"
      },
      {
        "duration": 9,
        "start_time": "2022-07-30T21:09:14.810Z"
      },
      {
        "duration": 5,
        "start_time": "2022-07-30T21:09:14.820Z"
      },
      {
        "duration": 4,
        "start_time": "2022-07-30T21:09:14.832Z"
      },
      {
        "duration": 18,
        "start_time": "2022-07-30T21:09:14.843Z"
      },
      {
        "duration": 355,
        "start_time": "2022-07-30T21:09:14.862Z"
      },
      {
        "duration": 98,
        "start_time": "2022-07-30T21:09:15.219Z"
      },
      {
        "duration": 91,
        "start_time": "2022-07-30T21:09:15.318Z"
      },
      {
        "duration": 41,
        "start_time": "2022-07-30T21:09:15.410Z"
      },
      {
        "duration": 6,
        "start_time": "2022-07-30T21:09:15.452Z"
      },
      {
        "duration": 11,
        "start_time": "2022-07-30T21:09:15.461Z"
      },
      {
        "duration": 11,
        "start_time": "2022-07-30T21:09:15.473Z"
      },
      {
        "duration": 8,
        "start_time": "2022-07-30T21:09:15.486Z"
      },
      {
        "duration": 12,
        "start_time": "2022-07-30T21:09:15.495Z"
      },
      {
        "duration": 6,
        "start_time": "2022-07-30T21:09:15.509Z"
      },
      {
        "duration": 101,
        "start_time": "2022-07-30T21:09:15.517Z"
      },
      {
        "duration": 4,
        "start_time": "2022-07-30T21:09:15.620Z"
      },
      {
        "duration": 30,
        "start_time": "2022-07-30T21:09:15.632Z"
      },
      {
        "duration": 6,
        "start_time": "2022-07-30T21:09:15.666Z"
      },
      {
        "duration": 9,
        "start_time": "2022-07-30T21:09:15.673Z"
      },
      {
        "duration": 5,
        "start_time": "2022-07-30T21:09:15.684Z"
      },
      {
        "duration": 9,
        "start_time": "2022-07-30T21:09:15.691Z"
      },
      {
        "duration": 9,
        "start_time": "2022-07-30T21:09:15.702Z"
      },
      {
        "duration": 10,
        "start_time": "2022-07-30T21:09:15.712Z"
      },
      {
        "duration": 18,
        "start_time": "2022-07-30T21:09:15.723Z"
      },
      {
        "duration": 19,
        "start_time": "2022-07-30T21:09:15.752Z"
      },
      {
        "duration": 21,
        "start_time": "2022-07-30T21:09:15.773Z"
      },
      {
        "duration": 5,
        "start_time": "2022-07-30T21:09:15.796Z"
      },
      {
        "duration": 5,
        "start_time": "2022-07-30T21:09:15.802Z"
      },
      {
        "duration": 13,
        "start_time": "2022-07-30T21:09:15.808Z"
      },
      {
        "duration": 14,
        "start_time": "2022-07-30T21:09:15.822Z"
      },
      {
        "duration": 21,
        "start_time": "2022-07-30T21:09:15.837Z"
      },
      {
        "duration": 15,
        "start_time": "2022-07-30T21:09:15.860Z"
      },
      {
        "duration": 27,
        "start_time": "2022-07-30T21:09:15.876Z"
      },
      {
        "duration": 5,
        "start_time": "2022-07-30T21:09:15.904Z"
      },
      {
        "duration": 3,
        "start_time": "2022-07-30T21:09:15.910Z"
      },
      {
        "duration": 48,
        "start_time": "2022-07-30T21:09:15.914Z"
      },
      {
        "duration": 4,
        "start_time": "2022-07-30T21:09:15.963Z"
      },
      {
        "duration": 5,
        "start_time": "2022-07-30T21:09:15.969Z"
      },
      {
        "duration": 4,
        "start_time": "2022-07-30T21:09:15.976Z"
      },
      {
        "duration": 4,
        "start_time": "2022-07-30T21:09:15.981Z"
      },
      {
        "duration": 7,
        "start_time": "2022-07-30T21:09:15.986Z"
      },
      {
        "duration": 10,
        "start_time": "2022-07-30T21:09:15.994Z"
      },
      {
        "duration": 2,
        "start_time": "2022-07-30T21:09:16.006Z"
      },
      {
        "duration": 968726,
        "start_time": "2022-07-30T21:09:16.009Z"
      },
      {
        "duration": 7,
        "start_time": "2022-07-30T21:25:24.740Z"
      },
      {
        "duration": 16,
        "start_time": "2022-07-30T21:25:24.751Z"
      },
      {
        "duration": 6974,
        "start_time": "2022-07-30T21:25:24.768Z"
      },
      {
        "duration": 8,
        "start_time": "2022-07-30T21:25:31.750Z"
      },
      {
        "duration": 5,
        "start_time": "2022-07-30T21:25:31.759Z"
      },
      {
        "duration": 7,
        "start_time": "2022-07-30T21:25:31.765Z"
      },
      {
        "duration": 191,
        "start_time": "2022-07-30T21:25:31.773Z"
      },
      {
        "duration": 5,
        "start_time": "2022-07-30T21:32:56.809Z"
      },
      {
        "duration": 5,
        "start_time": "2022-07-30T21:33:27.355Z"
      },
      {
        "duration": 8,
        "start_time": "2022-07-30T21:34:24.761Z"
      },
      {
        "duration": 17,
        "start_time": "2022-07-30T21:34:58.128Z"
      },
      {
        "duration": 6,
        "start_time": "2022-07-30T21:35:12.458Z"
      },
      {
        "duration": 9,
        "start_time": "2022-07-30T21:35:24.053Z"
      },
      {
        "duration": 8,
        "start_time": "2022-07-30T21:35:40.958Z"
      },
      {
        "duration": 110,
        "start_time": "2022-07-30T21:51:48.794Z"
      },
      {
        "duration": 10,
        "start_time": "2022-07-30T21:52:11.073Z"
      },
      {
        "duration": 1641736,
        "start_time": "2022-07-30T21:52:23.148Z"
      },
      {
        "duration": 9,
        "start_time": "2022-07-30T22:19:44.885Z"
      },
      {
        "duration": 4,
        "start_time": "2022-07-30T22:19:44.896Z"
      },
      {
        "duration": 191,
        "start_time": "2022-07-30T22:19:44.901Z"
      },
      {
        "duration": 1596165,
        "start_time": "2022-07-30T22:19:45.094Z"
      },
      {
        "duration": 9,
        "start_time": "2022-07-30T22:46:21.260Z"
      },
      {
        "duration": 0,
        "start_time": "2022-07-30T22:46:21.270Z"
      },
      {
        "duration": 0,
        "start_time": "2022-07-30T22:46:21.271Z"
      },
      {
        "duration": 13,
        "start_time": "2022-07-30T22:49:37.617Z"
      },
      {
        "duration": 9,
        "start_time": "2022-07-30T22:49:49.372Z"
      },
      {
        "duration": 5,
        "start_time": "2022-07-30T22:49:55.042Z"
      },
      {
        "duration": 180,
        "start_time": "2022-07-30T22:49:58.427Z"
      },
      {
        "duration": 4,
        "start_time": "2022-07-30T22:50:43.972Z"
      },
      {
        "duration": 3342,
        "start_time": "2022-07-31T06:34:32.259Z"
      },
      {
        "duration": 1405,
        "start_time": "2022-07-31T06:34:35.604Z"
      },
      {
        "duration": 435,
        "start_time": "2022-07-31T06:34:37.011Z"
      },
      {
        "duration": 19,
        "start_time": "2022-07-31T06:34:37.448Z"
      },
      {
        "duration": 19,
        "start_time": "2022-07-31T06:34:37.469Z"
      },
      {
        "duration": 8,
        "start_time": "2022-07-31T06:34:37.490Z"
      },
      {
        "duration": 39,
        "start_time": "2022-07-31T06:34:37.499Z"
      },
      {
        "duration": 9,
        "start_time": "2022-07-31T06:34:37.540Z"
      },
      {
        "duration": 15,
        "start_time": "2022-07-31T06:34:37.551Z"
      },
      {
        "duration": 17,
        "start_time": "2022-07-31T06:34:37.568Z"
      },
      {
        "duration": 24,
        "start_time": "2022-07-31T06:34:37.586Z"
      },
      {
        "duration": 30,
        "start_time": "2022-07-31T06:34:37.612Z"
      },
      {
        "duration": 12,
        "start_time": "2022-07-31T06:34:37.643Z"
      },
      {
        "duration": 15,
        "start_time": "2022-07-31T06:34:37.657Z"
      },
      {
        "duration": 610,
        "start_time": "2022-07-31T06:34:37.674Z"
      },
      {
        "duration": 167,
        "start_time": "2022-07-31T06:34:38.286Z"
      },
      {
        "duration": 235,
        "start_time": "2022-07-31T06:34:38.454Z"
      },
      {
        "duration": 30,
        "start_time": "2022-07-31T06:34:38.691Z"
      },
      {
        "duration": 4,
        "start_time": "2022-07-31T06:34:38.723Z"
      },
      {
        "duration": 12,
        "start_time": "2022-07-31T06:34:38.730Z"
      },
      {
        "duration": 12,
        "start_time": "2022-07-31T06:34:39.302Z"
      },
      {
        "duration": 11,
        "start_time": "2022-07-31T06:34:39.857Z"
      },
      {
        "duration": 15,
        "start_time": "2022-07-31T06:34:40.178Z"
      },
      {
        "duration": 10,
        "start_time": "2022-07-31T06:34:40.475Z"
      },
      {
        "duration": 13,
        "start_time": "2022-07-31T06:34:40.800Z"
      },
      {
        "duration": 6,
        "start_time": "2022-07-31T06:34:41.043Z"
      },
      {
        "duration": 7,
        "start_time": "2022-07-31T06:34:41.312Z"
      },
      {
        "duration": 6,
        "start_time": "2022-07-31T06:34:41.567Z"
      },
      {
        "duration": 7,
        "start_time": "2022-07-31T06:34:41.777Z"
      },
      {
        "duration": 4,
        "start_time": "2022-07-31T06:34:41.966Z"
      },
      {
        "duration": 7,
        "start_time": "2022-07-31T06:34:42.440Z"
      },
      {
        "duration": 9,
        "start_time": "2022-07-31T06:34:42.698Z"
      },
      {
        "duration": 13,
        "start_time": "2022-07-31T06:34:42.893Z"
      },
      {
        "duration": 17,
        "start_time": "2022-07-31T06:34:43.447Z"
      },
      {
        "duration": 15,
        "start_time": "2022-07-31T06:34:43.744Z"
      },
      {
        "duration": 26,
        "start_time": "2022-07-31T06:34:43.993Z"
      },
      {
        "duration": 6,
        "start_time": "2022-07-31T06:34:44.290Z"
      },
      {
        "duration": 5,
        "start_time": "2022-07-31T06:34:44.909Z"
      },
      {
        "duration": 16,
        "start_time": "2022-07-31T06:34:45.293Z"
      },
      {
        "duration": 4,
        "start_time": "2022-07-31T06:34:45.556Z"
      },
      {
        "duration": 20,
        "start_time": "2022-07-31T06:34:46.141Z"
      },
      {
        "duration": 15,
        "start_time": "2022-07-31T06:34:46.435Z"
      },
      {
        "duration": 34,
        "start_time": "2022-07-31T06:34:46.887Z"
      },
      {
        "duration": 6,
        "start_time": "2022-07-31T06:34:47.143Z"
      },
      {
        "duration": 5,
        "start_time": "2022-07-31T06:34:47.475Z"
      },
      {
        "duration": 46,
        "start_time": "2022-07-31T06:34:47.739Z"
      },
      {
        "duration": 6,
        "start_time": "2022-07-31T06:34:48.213Z"
      },
      {
        "duration": 6,
        "start_time": "2022-07-31T06:34:48.720Z"
      },
      {
        "duration": 3,
        "start_time": "2022-07-31T06:34:49.313Z"
      },
      {
        "duration": 2,
        "start_time": "2022-07-31T06:34:49.713Z"
      },
      {
        "duration": 3,
        "start_time": "2022-07-31T06:34:50.081Z"
      },
      {
        "duration": 7,
        "start_time": "2022-07-31T06:34:50.710Z"
      },
      {
        "duration": 13,
        "start_time": "2022-07-31T06:34:51.585Z"
      },
      {
        "duration": 3,
        "start_time": "2022-07-31T06:34:53.052Z"
      },
      {
        "duration": 6416606,
        "start_time": "2022-07-31T06:34:54.334Z"
      },
      {
        "duration": 4,
        "start_time": "2022-07-31T08:21:50.942Z"
      },
      {
        "duration": 10,
        "start_time": "2022-07-31T08:21:50.948Z"
      },
      {
        "duration": 120,
        "start_time": "2022-07-31T08:21:50.960Z"
      },
      {
        "duration": 12,
        "start_time": "2022-07-31T08:23:35.986Z"
      },
      {
        "duration": 4,
        "start_time": "2022-07-31T08:24:57.037Z"
      },
      {
        "duration": 110,
        "start_time": "2022-07-31T08:28:08.927Z"
      },
      {
        "duration": 3,
        "start_time": "2022-07-31T08:28:28.125Z"
      },
      {
        "duration": 975,
        "start_time": "2022-07-31T08:28:29.952Z"
      },
      {
        "duration": 274,
        "start_time": "2022-07-31T08:28:35.378Z"
      },
      {
        "duration": 11,
        "start_time": "2022-07-31T08:29:30.532Z"
      },
      {
        "duration": 3,
        "start_time": "2022-07-31T08:32:16.692Z"
      },
      {
        "duration": 17,
        "start_time": "2022-07-31T08:32:17.618Z"
      },
      {
        "duration": 3,
        "start_time": "2022-07-31T08:32:39.022Z"
      },
      {
        "duration": 4,
        "start_time": "2022-07-31T08:32:39.826Z"
      },
      {
        "duration": 9,
        "start_time": "2022-07-31T08:32:41.452Z"
      },
      {
        "duration": 13,
        "start_time": "2022-07-31T08:32:41.761Z"
      },
      {
        "duration": 4,
        "start_time": "2022-07-31T08:32:43.575Z"
      },
      {
        "duration": 3,
        "start_time": "2022-07-31T08:32:53.990Z"
      },
      {
        "duration": 1241,
        "start_time": "2022-07-31T08:32:54.475Z"
      },
      {
        "duration": 10,
        "start_time": "2022-07-31T08:32:56.426Z"
      },
      {
        "duration": 273,
        "start_time": "2022-07-31T08:32:59.833Z"
      },
      {
        "duration": 21,
        "start_time": "2022-07-31T08:35:02.063Z"
      },
      {
        "duration": 4,
        "start_time": "2022-07-31T08:35:25.351Z"
      },
      {
        "duration": 8,
        "start_time": "2022-07-31T08:35:29.194Z"
      },
      {
        "duration": 12,
        "start_time": "2022-07-31T08:35:29.948Z"
      },
      {
        "duration": 4,
        "start_time": "2022-07-31T08:35:31.914Z"
      },
      {
        "duration": 3,
        "start_time": "2022-07-31T08:35:43.445Z"
      },
      {
        "duration": 19,
        "start_time": "2022-07-31T08:35:43.885Z"
      },
      {
        "duration": 13,
        "start_time": "2022-07-31T08:35:45.144Z"
      },
      {
        "duration": 2,
        "start_time": "2022-07-31T08:37:16.476Z"
      },
      {
        "duration": 4,
        "start_time": "2022-07-31T08:37:17.072Z"
      },
      {
        "duration": 889,
        "start_time": "2022-07-31T08:37:18.190Z"
      },
      {
        "duration": 9,
        "start_time": "2022-07-31T08:37:19.817Z"
      },
      {
        "duration": 222,
        "start_time": "2022-07-31T08:37:20.644Z"
      },
      {
        "duration": 50447,
        "start_time": "2022-07-31T08:40:21.099Z"
      },
      {
        "duration": 10,
        "start_time": "2022-07-31T08:41:11.548Z"
      },
      {
        "duration": 12,
        "start_time": "2022-07-31T08:43:51.698Z"
      },
      {
        "duration": 8331,
        "start_time": "2022-07-31T08:44:37.171Z"
      },
      {
        "duration": 13,
        "start_time": "2022-07-31T08:48:39.159Z"
      },
      {
        "duration": 15,
        "start_time": "2022-07-31T08:48:39.581Z"
      },
      {
        "duration": 27,
        "start_time": "2022-07-31T08:48:39.905Z"
      },
      {
        "duration": 8,
        "start_time": "2022-07-31T08:48:40.182Z"
      },
      {
        "duration": 6,
        "start_time": "2022-07-31T08:48:40.883Z"
      },
      {
        "duration": 14,
        "start_time": "2022-07-31T08:48:41.187Z"
      },
      {
        "duration": 5,
        "start_time": "2022-07-31T08:48:41.503Z"
      },
      {
        "duration": 21,
        "start_time": "2022-07-31T08:48:41.791Z"
      },
      {
        "duration": 14,
        "start_time": "2022-07-31T08:48:42.151Z"
      },
      {
        "duration": 35,
        "start_time": "2022-07-31T08:48:42.510Z"
      },
      {
        "duration": 6,
        "start_time": "2022-07-31T08:48:43.261Z"
      },
      {
        "duration": 4,
        "start_time": "2022-07-31T08:48:43.756Z"
      },
      {
        "duration": 5,
        "start_time": "2022-07-31T08:48:44.135Z"
      },
      {
        "duration": 27,
        "start_time": "2022-07-31T08:48:44.596Z"
      },
      {
        "duration": 6,
        "start_time": "2022-07-31T08:48:45.552Z"
      },
      {
        "duration": 5,
        "start_time": "2022-07-31T08:48:46.441Z"
      },
      {
        "duration": 9,
        "start_time": "2022-07-31T08:48:54.673Z"
      },
      {
        "duration": 15,
        "start_time": "2022-07-31T08:48:55.042Z"
      },
      {
        "duration": 3,
        "start_time": "2022-07-31T08:48:56.879Z"
      },
      {
        "duration": 3,
        "start_time": "2022-07-31T08:49:06.838Z"
      },
      {
        "duration": 1095,
        "start_time": "2022-07-31T08:49:07.759Z"
      },
      {
        "duration": 10,
        "start_time": "2022-07-31T08:49:08.857Z"
      },
      {
        "duration": 263,
        "start_time": "2022-07-31T08:49:09.183Z"
      },
      {
        "duration": 53394,
        "start_time": "2022-07-31T08:49:42.801Z"
      },
      {
        "duration": 9,
        "start_time": "2022-07-31T08:50:36.197Z"
      },
      {
        "duration": 8980,
        "start_time": "2022-07-31T08:50:36.208Z"
      },
      {
        "duration": 46530,
        "start_time": "2022-07-31T08:53:10.418Z"
      },
      {
        "duration": 9,
        "start_time": "2022-07-31T08:53:56.951Z"
      },
      {
        "duration": 9002,
        "start_time": "2022-07-31T08:53:56.962Z"
      },
      {
        "duration": 14,
        "start_time": "2022-07-31T08:56:30.366Z"
      },
      {
        "duration": 16,
        "start_time": "2022-07-31T08:56:30.670Z"
      },
      {
        "duration": 25,
        "start_time": "2022-07-31T08:56:30.954Z"
      },
      {
        "duration": 6,
        "start_time": "2022-07-31T08:56:31.181Z"
      },
      {
        "duration": 4,
        "start_time": "2022-07-31T08:56:31.667Z"
      },
      {
        "duration": 18,
        "start_time": "2022-07-31T08:56:31.937Z"
      },
      {
        "duration": 4,
        "start_time": "2022-07-31T08:56:32.195Z"
      },
      {
        "duration": 22,
        "start_time": "2022-07-31T08:56:32.463Z"
      },
      {
        "duration": 13,
        "start_time": "2022-07-31T08:56:32.738Z"
      },
      {
        "duration": 123,
        "start_time": "2022-07-31T08:56:33.051Z"
      },
      {
        "duration": 5,
        "start_time": "2022-07-31T08:56:33.330Z"
      },
      {
        "duration": 2,
        "start_time": "2022-07-31T08:56:33.698Z"
      },
      {
        "duration": 5,
        "start_time": "2022-07-31T08:56:34.901Z"
      },
      {
        "duration": 28,
        "start_time": "2022-07-31T08:56:35.377Z"
      },
      {
        "duration": 6,
        "start_time": "2022-07-31T08:56:35.824Z"
      },
      {
        "duration": 5,
        "start_time": "2022-07-31T08:56:36.446Z"
      },
      {
        "duration": 8,
        "start_time": "2022-07-31T08:56:47.903Z"
      },
      {
        "duration": 12,
        "start_time": "2022-07-31T08:56:48.343Z"
      },
      {
        "duration": 3,
        "start_time": "2022-07-31T08:56:49.738Z"
      },
      {
        "duration": 3,
        "start_time": "2022-07-31T08:57:02.134Z"
      },
      {
        "duration": 782,
        "start_time": "2022-07-31T08:57:03.140Z"
      },
      {
        "duration": 10,
        "start_time": "2022-07-31T08:57:03.937Z"
      },
      {
        "duration": 242,
        "start_time": "2022-07-31T08:57:04.694Z"
      },
      {
        "duration": 38527,
        "start_time": "2022-07-31T08:57:46.602Z"
      },
      {
        "duration": 9,
        "start_time": "2022-07-31T08:58:25.131Z"
      },
      {
        "duration": 8713,
        "start_time": "2022-07-31T08:58:25.142Z"
      },
      {
        "duration": 3,
        "start_time": "2022-07-31T09:01:55.609Z"
      },
      {
        "duration": 7,
        "start_time": "2022-07-31T09:02:01.535Z"
      },
      {
        "duration": 6,
        "start_time": "2022-07-31T09:02:01.829Z"
      },
      {
        "duration": 8,
        "start_time": "2022-07-31T09:02:06.614Z"
      },
      {
        "duration": 13,
        "start_time": "2022-07-31T09:02:06.945Z"
      },
      {
        "duration": 3,
        "start_time": "2022-07-31T09:02:09.075Z"
      },
      {
        "duration": 3,
        "start_time": "2022-07-31T09:02:18.543Z"
      },
      {
        "duration": 1009,
        "start_time": "2022-07-31T09:02:19.021Z"
      },
      {
        "duration": 10,
        "start_time": "2022-07-31T09:02:20.032Z"
      },
      {
        "duration": 130,
        "start_time": "2022-07-31T09:17:07.707Z"
      },
      {
        "duration": 12,
        "start_time": "2022-07-31T09:17:08.605Z"
      },
      {
        "duration": 18,
        "start_time": "2022-07-31T09:17:08.982Z"
      },
      {
        "duration": 12,
        "start_time": "2022-07-31T09:17:09.690Z"
      },
      {
        "duration": 23,
        "start_time": "2022-07-31T09:17:09.977Z"
      },
      {
        "duration": 8,
        "start_time": "2022-07-31T09:17:10.321Z"
      },
      {
        "duration": 14,
        "start_time": "2022-07-31T09:17:13.006Z"
      },
      {
        "duration": 5,
        "start_time": "2022-07-31T09:17:13.470Z"
      },
      {
        "duration": 8,
        "start_time": "2022-07-31T09:17:13.827Z"
      },
      {
        "duration": 4,
        "start_time": "2022-07-31T09:17:14.211Z"
      },
      {
        "duration": 3,
        "start_time": "2022-07-31T09:17:14.674Z"
      },
      {
        "duration": 4,
        "start_time": "2022-07-31T09:17:15.023Z"
      },
      {
        "duration": 273,
        "start_time": "2022-07-31T09:17:15.626Z"
      },
      {
        "duration": 110,
        "start_time": "2022-07-31T09:17:17.142Z"
      },
      {
        "duration": 108,
        "start_time": "2022-07-31T09:17:17.650Z"
      },
      {
        "duration": 16,
        "start_time": "2022-07-31T09:17:18.340Z"
      },
      {
        "duration": 5,
        "start_time": "2022-07-31T09:17:18.775Z"
      },
      {
        "duration": 9,
        "start_time": "2022-07-31T09:17:19.285Z"
      },
      {
        "duration": 10,
        "start_time": "2022-07-31T09:17:21.026Z"
      },
      {
        "duration": 12,
        "start_time": "2022-07-31T09:17:23.030Z"
      },
      {
        "duration": 12,
        "start_time": "2022-07-31T09:17:34.596Z"
      },
      {
        "duration": 15,
        "start_time": "2022-07-31T09:17:34.930Z"
      },
      {
        "duration": 10,
        "start_time": "2022-07-31T09:17:35.229Z"
      },
      {
        "duration": 17,
        "start_time": "2022-07-31T09:17:35.509Z"
      },
      {
        "duration": 6,
        "start_time": "2022-07-31T09:17:35.773Z"
      },
      {
        "duration": 8,
        "start_time": "2022-07-31T09:17:36.087Z"
      },
      {
        "duration": 5,
        "start_time": "2022-07-31T09:17:36.354Z"
      },
      {
        "duration": 8,
        "start_time": "2022-07-31T09:17:36.624Z"
      },
      {
        "duration": 3,
        "start_time": "2022-07-31T09:17:36.889Z"
      },
      {
        "duration": 7,
        "start_time": "2022-07-31T09:17:37.166Z"
      },
      {
        "duration": 8,
        "start_time": "2022-07-31T09:17:37.446Z"
      },
      {
        "duration": 15,
        "start_time": "2022-07-31T09:17:37.717Z"
      },
      {
        "duration": 15,
        "start_time": "2022-07-31T09:17:38.287Z"
      },
      {
        "duration": 14,
        "start_time": "2022-07-31T09:17:38.601Z"
      },
      {
        "duration": 32,
        "start_time": "2022-07-31T09:17:38.897Z"
      },
      {
        "duration": 7,
        "start_time": "2022-07-31T09:17:39.934Z"
      },
      {
        "duration": 7,
        "start_time": "2022-07-31T09:17:41.983Z"
      },
      {
        "duration": 18,
        "start_time": "2022-07-31T09:17:42.609Z"
      },
      {
        "duration": 5,
        "start_time": "2022-07-31T09:17:43.273Z"
      },
      {
        "duration": 20,
        "start_time": "2022-07-31T09:17:44.343Z"
      },
      {
        "duration": 15,
        "start_time": "2022-07-31T09:17:44.946Z"
      },
      {
        "duration": 32,
        "start_time": "2022-07-31T09:17:45.943Z"
      },
      {
        "duration": 7,
        "start_time": "2022-07-31T09:17:46.364Z"
      },
      {
        "duration": 5,
        "start_time": "2022-07-31T09:17:47.945Z"
      },
      {
        "duration": 4,
        "start_time": "2022-07-31T09:17:48.589Z"
      },
      {
        "duration": 26,
        "start_time": "2022-07-31T09:17:48.955Z"
      },
      {
        "duration": 5,
        "start_time": "2022-07-31T09:17:49.317Z"
      },
      {
        "duration": 5,
        "start_time": "2022-07-31T09:17:49.794Z"
      },
      {
        "duration": 4,
        "start_time": "2022-07-31T09:17:51.815Z"
      },
      {
        "duration": 3,
        "start_time": "2022-07-31T09:17:52.225Z"
      },
      {
        "duration": 3,
        "start_time": "2022-07-31T09:17:52.587Z"
      },
      {
        "duration": 9,
        "start_time": "2022-07-31T09:17:53.899Z"
      },
      {
        "duration": 14,
        "start_time": "2022-07-31T09:17:54.256Z"
      },
      {
        "duration": 3,
        "start_time": "2022-07-31T09:18:11.356Z"
      },
      {
        "duration": 4,
        "start_time": "2022-07-31T09:18:12.152Z"
      },
      {
        "duration": 1132,
        "start_time": "2022-07-31T09:18:13.662Z"
      },
      {
        "duration": 9,
        "start_time": "2022-07-31T09:18:14.796Z"
      },
      {
        "duration": 292,
        "start_time": "2022-07-31T09:18:15.264Z"
      },
      {
        "duration": 48547,
        "start_time": "2022-07-31T09:18:36.499Z"
      },
      {
        "duration": 9,
        "start_time": "2022-07-31T09:19:25.048Z"
      },
      {
        "duration": 8750,
        "start_time": "2022-07-31T09:19:25.059Z"
      },
      {
        "duration": 5,
        "start_time": "2022-07-31T09:19:33.811Z"
      },
      {
        "duration": 5,
        "start_time": "2022-07-31T09:29:23.186Z"
      },
      {
        "duration": 43202,
        "start_time": "2022-07-31T09:30:20.278Z"
      },
      {
        "duration": 5,
        "start_time": "2022-07-31T09:31:03.483Z"
      },
      {
        "duration": 15,
        "start_time": "2022-07-31T09:31:03.490Z"
      },
      {
        "duration": 8694,
        "start_time": "2022-07-31T09:31:03.508Z"
      },
      {
        "duration": 48957,
        "start_time": "2022-07-31T09:33:58.610Z"
      },
      {
        "duration": 4,
        "start_time": "2022-07-31T09:34:47.569Z"
      },
      {
        "duration": 16,
        "start_time": "2022-07-31T09:34:47.575Z"
      },
      {
        "duration": 46663,
        "start_time": "2022-07-31T09:37:18.862Z"
      },
      {
        "duration": 4,
        "start_time": "2022-07-31T09:38:05.528Z"
      },
      {
        "duration": 12,
        "start_time": "2022-07-31T09:38:05.533Z"
      },
      {
        "duration": 9857,
        "start_time": "2022-07-31T09:38:05.547Z"
      },
      {
        "duration": 118,
        "start_time": "2022-07-31T09:44:11.147Z"
      },
      {
        "duration": 15,
        "start_time": "2022-07-31T09:44:11.787Z"
      },
      {
        "duration": 15,
        "start_time": "2022-07-31T09:44:12.161Z"
      },
      {
        "duration": 15,
        "start_time": "2022-07-31T09:44:12.711Z"
      },
      {
        "duration": 16,
        "start_time": "2022-07-31T09:44:12.966Z"
      },
      {
        "duration": 6,
        "start_time": "2022-07-31T09:44:13.185Z"
      },
      {
        "duration": 6,
        "start_time": "2022-07-31T09:44:13.929Z"
      },
      {
        "duration": 5,
        "start_time": "2022-07-31T09:44:14.155Z"
      },
      {
        "duration": 10,
        "start_time": "2022-07-31T09:44:14.395Z"
      },
      {
        "duration": 5,
        "start_time": "2022-07-31T09:44:14.642Z"
      },
      {
        "duration": 3,
        "start_time": "2022-07-31T09:44:14.872Z"
      },
      {
        "duration": 4,
        "start_time": "2022-07-31T09:44:15.138Z"
      },
      {
        "duration": 280,
        "start_time": "2022-07-31T09:44:15.382Z"
      },
      {
        "duration": 118,
        "start_time": "2022-07-31T09:44:16.554Z"
      },
      {
        "duration": 114,
        "start_time": "2022-07-31T09:44:16.968Z"
      },
      {
        "duration": 18,
        "start_time": "2022-07-31T09:44:17.323Z"
      },
      {
        "duration": 5,
        "start_time": "2022-07-31T09:44:17.934Z"
      },
      {
        "duration": 10,
        "start_time": "2022-07-31T09:44:18.311Z"
      },
      {
        "duration": 10,
        "start_time": "2022-07-31T09:44:19.945Z"
      },
      {
        "duration": 15,
        "start_time": "2022-07-31T09:44:21.987Z"
      },
      {
        "duration": 11,
        "start_time": "2022-07-31T09:44:23.170Z"
      },
      {
        "duration": 15,
        "start_time": "2022-07-31T09:44:23.642Z"
      },
      {
        "duration": 9,
        "start_time": "2022-07-31T09:44:24.054Z"
      },
      {
        "duration": 13,
        "start_time": "2022-07-31T09:44:24.435Z"
      },
      {
        "duration": 6,
        "start_time": "2022-07-31T09:44:24.861Z"
      },
      {
        "duration": 8,
        "start_time": "2022-07-31T09:44:25.247Z"
      },
      {
        "duration": 5,
        "start_time": "2022-07-31T09:44:25.739Z"
      },
      {
        "duration": 9,
        "start_time": "2022-07-31T09:44:26.170Z"
      },
      {
        "duration": 4,
        "start_time": "2022-07-31T09:44:26.546Z"
      },
      {
        "duration": 5,
        "start_time": "2022-07-31T09:44:26.897Z"
      },
      {
        "duration": 8,
        "start_time": "2022-07-31T09:44:27.324Z"
      },
      {
        "duration": 8,
        "start_time": "2022-07-31T09:44:27.922Z"
      },
      {
        "duration": 14,
        "start_time": "2022-07-31T09:44:28.429Z"
      },
      {
        "duration": 16,
        "start_time": "2022-07-31T09:44:29.493Z"
      },
      {
        "duration": 14,
        "start_time": "2022-07-31T09:44:30.084Z"
      },
      {
        "duration": 24,
        "start_time": "2022-07-31T09:44:30.644Z"
      },
      {
        "duration": 8,
        "start_time": "2022-07-31T09:44:31.343Z"
      },
      {
        "duration": 5,
        "start_time": "2022-07-31T09:44:32.639Z"
      },
      {
        "duration": 20,
        "start_time": "2022-07-31T09:44:32.900Z"
      },
      {
        "duration": 4,
        "start_time": "2022-07-31T09:44:33.249Z"
      },
      {
        "duration": 23,
        "start_time": "2022-07-31T09:44:33.616Z"
      },
      {
        "duration": 17,
        "start_time": "2022-07-31T09:44:34.207Z"
      },
      {
        "duration": 46,
        "start_time": "2022-07-31T09:44:34.994Z"
      },
      {
        "duration": 5,
        "start_time": "2022-07-31T09:44:35.590Z"
      },
      {
        "duration": 5,
        "start_time": "2022-07-31T09:44:35.970Z"
      },
      {
        "duration": 5,
        "start_time": "2022-07-31T09:44:36.393Z"
      },
      {
        "duration": 26,
        "start_time": "2022-07-31T09:44:36.645Z"
      },
      {
        "duration": 6,
        "start_time": "2022-07-31T09:44:37.143Z"
      },
      {
        "duration": 5,
        "start_time": "2022-07-31T09:44:37.525Z"
      },
      {
        "duration": 3,
        "start_time": "2022-07-31T09:44:39.264Z"
      },
      {
        "duration": 2,
        "start_time": "2022-07-31T09:44:39.686Z"
      },
      {
        "duration": 2,
        "start_time": "2022-07-31T09:44:40.482Z"
      },
      {
        "duration": 13,
        "start_time": "2022-07-31T09:44:41.818Z"
      },
      {
        "duration": 13,
        "start_time": "2022-07-31T09:44:42.748Z"
      },
      {
        "duration": 3,
        "start_time": "2022-07-31T09:44:52.843Z"
      },
      {
        "duration": 3,
        "start_time": "2022-07-31T09:44:53.397Z"
      },
      {
        "duration": 1083,
        "start_time": "2022-07-31T09:44:54.013Z"
      },
      {
        "duration": 10,
        "start_time": "2022-07-31T09:44:55.098Z"
      },
      {
        "duration": 296,
        "start_time": "2022-07-31T09:44:55.367Z"
      },
      {
        "duration": 44906,
        "start_time": "2022-07-31T09:45:20.641Z"
      },
      {
        "duration": 4,
        "start_time": "2022-07-31T09:46:05.550Z"
      },
      {
        "duration": 17,
        "start_time": "2022-07-31T09:46:05.556Z"
      },
      {
        "duration": 9484,
        "start_time": "2022-07-31T09:46:05.575Z"
      },
      {
        "duration": 109,
        "start_time": "2022-07-31T10:07:54.491Z"
      },
      {
        "duration": 13,
        "start_time": "2022-07-31T10:07:55.246Z"
      },
      {
        "duration": 14,
        "start_time": "2022-07-31T10:07:55.483Z"
      },
      {
        "duration": 8,
        "start_time": "2022-07-31T10:07:55.973Z"
      },
      {
        "duration": 16,
        "start_time": "2022-07-31T10:07:56.203Z"
      },
      {
        "duration": 5,
        "start_time": "2022-07-31T10:07:56.446Z"
      },
      {
        "duration": 6,
        "start_time": "2022-07-31T10:07:57.166Z"
      },
      {
        "duration": 5,
        "start_time": "2022-07-31T10:07:57.377Z"
      },
      {
        "duration": 9,
        "start_time": "2022-07-31T10:07:57.671Z"
      },
      {
        "duration": 4,
        "start_time": "2022-07-31T10:07:57.892Z"
      },
      {
        "duration": 3,
        "start_time": "2022-07-31T10:07:58.139Z"
      },
      {
        "duration": 4,
        "start_time": "2022-07-31T10:07:58.417Z"
      },
      {
        "duration": 258,
        "start_time": "2022-07-31T10:07:58.653Z"
      },
      {
        "duration": 112,
        "start_time": "2022-07-31T10:07:59.736Z"
      },
      {
        "duration": 102,
        "start_time": "2022-07-31T10:08:00.066Z"
      },
      {
        "duration": 20,
        "start_time": "2022-07-31T10:08:00.370Z"
      },
      {
        "duration": 5,
        "start_time": "2022-07-31T10:08:00.698Z"
      },
      {
        "duration": 11,
        "start_time": "2022-07-31T10:08:01.076Z"
      },
      {
        "duration": 2,
        "start_time": "2022-07-31T10:08:01.758Z"
      },
      {
        "duration": 12,
        "start_time": "2022-07-31T10:08:03.171Z"
      },
      {
        "duration": 10,
        "start_time": "2022-07-31T10:08:04.247Z"
      },
      {
        "duration": 16,
        "start_time": "2022-07-31T10:08:04.649Z"
      },
      {
        "duration": 9,
        "start_time": "2022-07-31T10:08:04.971Z"
      },
      {
        "duration": 12,
        "start_time": "2022-07-31T10:08:05.325Z"
      },
      {
        "duration": 5,
        "start_time": "2022-07-31T10:08:05.753Z"
      },
      {
        "duration": 9,
        "start_time": "2022-07-31T10:08:06.394Z"
      },
      {
        "duration": 6,
        "start_time": "2022-07-31T10:08:06.997Z"
      },
      {
        "duration": 3,
        "start_time": "2022-07-31T10:08:07.477Z"
      },
      {
        "duration": 2,
        "start_time": "2022-07-31T10:08:08.002Z"
      },
      {
        "duration": 3,
        "start_time": "2022-07-31T10:08:08.636Z"
      },
      {
        "duration": 8,
        "start_time": "2022-07-31T10:08:09.067Z"
      },
      {
        "duration": 9,
        "start_time": "2022-07-31T10:08:09.624Z"
      },
      {
        "duration": 14,
        "start_time": "2022-07-31T10:08:10.099Z"
      },
      {
        "duration": 16,
        "start_time": "2022-07-31T10:08:11.759Z"
      },
      {
        "duration": 10,
        "start_time": "2022-07-31T10:08:13.118Z"
      },
      {
        "duration": 15,
        "start_time": "2022-07-31T10:08:13.745Z"
      },
      {
        "duration": 25,
        "start_time": "2022-07-31T10:08:14.351Z"
      },
      {
        "duration": 9,
        "start_time": "2022-07-31T10:08:15.321Z"
      },
      {
        "duration": 6,
        "start_time": "2022-07-31T10:08:18.069Z"
      },
      {
        "duration": 14,
        "start_time": "2022-07-31T10:08:18.624Z"
      },
      {
        "duration": 5,
        "start_time": "2022-07-31T10:08:19.153Z"
      },
      {
        "duration": 22,
        "start_time": "2022-07-31T10:08:22.642Z"
      },
      {
        "duration": 14,
        "start_time": "2022-07-31T10:08:23.664Z"
      },
      {
        "duration": 40,
        "start_time": "2022-07-31T10:08:24.199Z"
      },
      {
        "duration": 7,
        "start_time": "2022-07-31T10:08:25.224Z"
      },
      {
        "duration": 4,
        "start_time": "2022-07-31T10:08:25.772Z"
      },
      {
        "duration": 5,
        "start_time": "2022-07-31T10:08:26.167Z"
      },
      {
        "duration": 31,
        "start_time": "2022-07-31T10:08:26.818Z"
      },
      {
        "duration": 6,
        "start_time": "2022-07-31T10:08:27.788Z"
      },
      {
        "duration": 5,
        "start_time": "2022-07-31T10:08:28.170Z"
      },
      {
        "duration": 4,
        "start_time": "2022-07-31T10:08:29.696Z"
      },
      {
        "duration": 3,
        "start_time": "2022-07-31T10:08:30.026Z"
      },
      {
        "duration": 3,
        "start_time": "2022-07-31T10:08:30.583Z"
      },
      {
        "duration": 10,
        "start_time": "2022-07-31T10:08:31.856Z"
      },
      {
        "duration": 17,
        "start_time": "2022-07-31T10:08:32.427Z"
      },
      {
        "duration": 4,
        "start_time": "2022-07-31T10:08:34.625Z"
      },
      {
        "duration": 3,
        "start_time": "2022-07-31T10:08:45.193Z"
      },
      {
        "duration": 1108,
        "start_time": "2022-07-31T10:08:45.522Z"
      },
      {
        "duration": 9,
        "start_time": "2022-07-31T10:08:46.633Z"
      },
      {
        "duration": 302,
        "start_time": "2022-07-31T10:08:46.644Z"
      },
      {
        "duration": 41981,
        "start_time": "2022-07-31T10:09:09.125Z"
      },
      {
        "duration": 10,
        "start_time": "2022-07-31T10:09:51.108Z"
      },
      {
        "duration": 35,
        "start_time": "2022-07-31T10:09:51.120Z"
      },
      {
        "duration": 10575,
        "start_time": "2022-07-31T10:09:51.158Z"
      },
      {
        "duration": 130,
        "start_time": "2022-07-31T10:11:08.397Z"
      },
      {
        "duration": 13,
        "start_time": "2022-07-31T10:11:08.952Z"
      },
      {
        "duration": 15,
        "start_time": "2022-07-31T10:11:09.218Z"
      },
      {
        "duration": 8,
        "start_time": "2022-07-31T10:11:09.746Z"
      },
      {
        "duration": 16,
        "start_time": "2022-07-31T10:11:10.077Z"
      },
      {
        "duration": 6,
        "start_time": "2022-07-31T10:11:10.345Z"
      },
      {
        "duration": 6,
        "start_time": "2022-07-31T10:11:11.053Z"
      },
      {
        "duration": 6,
        "start_time": "2022-07-31T10:11:11.277Z"
      },
      {
        "duration": 8,
        "start_time": "2022-07-31T10:11:11.551Z"
      },
      {
        "duration": 5,
        "start_time": "2022-07-31T10:11:11.803Z"
      },
      {
        "duration": 4,
        "start_time": "2022-07-31T10:11:12.089Z"
      },
      {
        "duration": 5,
        "start_time": "2022-07-31T10:11:12.372Z"
      },
      {
        "duration": 264,
        "start_time": "2022-07-31T10:11:12.617Z"
      },
      {
        "duration": 255,
        "start_time": "2022-07-31T10:11:13.463Z"
      },
      {
        "duration": 124,
        "start_time": "2022-07-31T10:11:13.721Z"
      },
      {
        "duration": 16,
        "start_time": "2022-07-31T10:11:13.947Z"
      },
      {
        "duration": 5,
        "start_time": "2022-07-31T10:11:14.175Z"
      },
      {
        "duration": 10,
        "start_time": "2022-07-31T10:11:14.403Z"
      },
      {
        "duration": 2,
        "start_time": "2022-07-31T10:11:14.981Z"
      },
      {
        "duration": 12,
        "start_time": "2022-07-31T10:11:16.258Z"
      },
      {
        "duration": 11,
        "start_time": "2022-07-31T10:11:16.977Z"
      },
      {
        "duration": 16,
        "start_time": "2022-07-31T10:11:17.422Z"
      },
      {
        "duration": 9,
        "start_time": "2022-07-31T10:11:17.886Z"
      },
      {
        "duration": 14,
        "start_time": "2022-07-31T10:11:18.463Z"
      },
      {
        "duration": 7,
        "start_time": "2022-07-31T10:11:18.993Z"
      },
      {
        "duration": 8,
        "start_time": "2022-07-31T10:11:19.523Z"
      },
      {
        "duration": 5,
        "start_time": "2022-07-31T10:11:19.868Z"
      },
      {
        "duration": 7,
        "start_time": "2022-07-31T10:11:20.292Z"
      },
      {
        "duration": 1438,
        "start_time": "2022-07-31T10:11:20.795Z"
      },
      {
        "duration": 0,
        "start_time": "2022-07-31T10:11:22.235Z"
      },
      {
        "duration": 0,
        "start_time": "2022-07-31T10:11:22.236Z"
      },
      {
        "duration": 0,
        "start_time": "2022-07-31T10:11:22.237Z"
      },
      {
        "duration": 0,
        "start_time": "2022-07-31T10:11:22.238Z"
      },
      {
        "duration": 6,
        "start_time": "2022-07-31T10:12:22.362Z"
      },
      {
        "duration": 2,
        "start_time": "2022-07-31T10:12:23.786Z"
      },
      {
        "duration": 8,
        "start_time": "2022-07-31T10:12:24.128Z"
      },
      {
        "duration": 8,
        "start_time": "2022-07-31T10:12:24.567Z"
      },
      {
        "duration": 13,
        "start_time": "2022-07-31T10:12:24.873Z"
      },
      {
        "duration": 15,
        "start_time": "2022-07-31T10:12:25.550Z"
      },
      {
        "duration": 1281,
        "start_time": "2022-07-31T10:12:25.831Z"
      },
      {
        "duration": 0,
        "start_time": "2022-07-31T10:12:27.114Z"
      },
      {
        "duration": 0,
        "start_time": "2022-07-31T10:12:27.121Z"
      },
      {
        "duration": 0,
        "start_time": "2022-07-31T10:12:27.123Z"
      },
      {
        "duration": 5,
        "start_time": "2022-07-31T10:12:27.330Z"
      },
      {
        "duration": 14,
        "start_time": "2022-07-31T10:12:27.556Z"
      },
      {
        "duration": 4,
        "start_time": "2022-07-31T10:12:27.891Z"
      },
      {
        "duration": 21,
        "start_time": "2022-07-31T10:12:28.328Z"
      },
      {
        "duration": 13,
        "start_time": "2022-07-31T10:12:28.654Z"
      },
      {
        "duration": 34,
        "start_time": "2022-07-31T10:12:29.059Z"
      },
      {
        "duration": 6,
        "start_time": "2022-07-31T10:12:29.463Z"
      },
      {
        "duration": 4,
        "start_time": "2022-07-31T10:12:29.752Z"
      },
      {
        "duration": 4,
        "start_time": "2022-07-31T10:12:30.094Z"
      },
      {
        "duration": 35,
        "start_time": "2022-07-31T10:12:30.401Z"
      },
      {
        "duration": 6,
        "start_time": "2022-07-31T10:12:30.749Z"
      },
      {
        "duration": 4,
        "start_time": "2022-07-31T10:12:31.204Z"
      },
      {
        "duration": 3,
        "start_time": "2022-07-31T10:12:32.699Z"
      },
      {
        "duration": 2,
        "start_time": "2022-07-31T10:12:33.000Z"
      },
      {
        "duration": 3,
        "start_time": "2022-07-31T10:12:33.368Z"
      },
      {
        "duration": 9,
        "start_time": "2022-07-31T10:12:34.447Z"
      },
      {
        "duration": 14,
        "start_time": "2022-07-31T10:12:35.047Z"
      },
      {
        "duration": 3,
        "start_time": "2022-07-31T10:12:37.387Z"
      },
      {
        "duration": 3,
        "start_time": "2022-07-31T10:12:43.047Z"
      },
      {
        "duration": 1043,
        "start_time": "2022-07-31T10:12:43.595Z"
      },
      {
        "duration": 10,
        "start_time": "2022-07-31T10:12:44.641Z"
      },
      {
        "duration": 271,
        "start_time": "2022-07-31T10:12:44.653Z"
      },
      {
        "duration": 40752,
        "start_time": "2022-07-31T10:13:18.961Z"
      },
      {
        "duration": 4,
        "start_time": "2022-07-31T10:13:59.715Z"
      },
      {
        "duration": 12,
        "start_time": "2022-07-31T10:13:59.720Z"
      },
      {
        "duration": 9023,
        "start_time": "2022-07-31T10:13:59.734Z"
      },
      {
        "duration": 4,
        "start_time": "2022-07-31T10:41:15.470Z"
      },
      {
        "duration": 114,
        "start_time": "2022-07-31T10:41:16.257Z"
      },
      {
        "duration": 13,
        "start_time": "2022-07-31T10:41:16.794Z"
      },
      {
        "duration": 13,
        "start_time": "2022-07-31T10:41:17.060Z"
      },
      {
        "duration": 8,
        "start_time": "2022-07-31T10:41:17.552Z"
      },
      {
        "duration": 23,
        "start_time": "2022-07-31T10:41:17.786Z"
      },
      {
        "duration": 6,
        "start_time": "2022-07-31T10:41:18.061Z"
      },
      {
        "duration": 5,
        "start_time": "2022-07-31T10:41:18.773Z"
      },
      {
        "duration": 8,
        "start_time": "2022-07-31T10:41:19.010Z"
      },
      {
        "duration": 11,
        "start_time": "2022-07-31T10:41:19.227Z"
      },
      {
        "duration": 4,
        "start_time": "2022-07-31T10:41:19.438Z"
      },
      {
        "duration": 3,
        "start_time": "2022-07-31T10:41:19.637Z"
      },
      {
        "duration": 5,
        "start_time": "2022-07-31T10:41:19.822Z"
      },
      {
        "duration": 245,
        "start_time": "2022-07-31T10:41:20.040Z"
      },
      {
        "duration": 119,
        "start_time": "2022-07-31T10:41:20.677Z"
      },
      {
        "duration": 114,
        "start_time": "2022-07-31T10:41:20.906Z"
      },
      {
        "duration": 18,
        "start_time": "2022-07-31T10:41:21.164Z"
      },
      {
        "duration": 6,
        "start_time": "2022-07-31T10:41:21.389Z"
      },
      {
        "duration": 10,
        "start_time": "2022-07-31T10:41:21.625Z"
      },
      {
        "duration": 2,
        "start_time": "2022-07-31T10:41:22.365Z"
      },
      {
        "duration": 14,
        "start_time": "2022-07-31T10:41:23.686Z"
      },
      {
        "duration": 12,
        "start_time": "2022-07-31T10:41:24.362Z"
      },
      {
        "duration": 15,
        "start_time": "2022-07-31T10:41:24.681Z"
      },
      {
        "duration": 17,
        "start_time": "2022-07-31T10:41:25.009Z"
      },
      {
        "duration": 16,
        "start_time": "2022-07-31T10:41:25.321Z"
      },
      {
        "duration": 7,
        "start_time": "2022-07-31T10:41:25.621Z"
      },
      {
        "duration": 7,
        "start_time": "2022-07-31T10:41:25.936Z"
      },
      {
        "duration": 6,
        "start_time": "2022-07-31T10:41:26.296Z"
      },
      {
        "duration": 7,
        "start_time": "2022-07-31T10:41:26.623Z"
      },
      {
        "duration": 6,
        "start_time": "2022-07-31T10:41:26.942Z"
      },
      {
        "duration": 3,
        "start_time": "2022-07-31T10:41:27.398Z"
      },
      {
        "duration": 8,
        "start_time": "2022-07-31T10:41:28.159Z"
      },
      {
        "duration": 9,
        "start_time": "2022-07-31T10:41:28.569Z"
      },
      {
        "duration": 14,
        "start_time": "2022-07-31T10:41:28.990Z"
      },
      {
        "duration": 16,
        "start_time": "2022-07-31T10:41:30.159Z"
      },
      {
        "duration": 20,
        "start_time": "2022-07-31T10:41:30.502Z"
      },
      {
        "duration": 30,
        "start_time": "2022-07-31T10:41:30.804Z"
      },
      {
        "duration": 7,
        "start_time": "2022-07-31T10:41:31.242Z"
      },
      {
        "duration": 6,
        "start_time": "2022-07-31T10:41:31.963Z"
      },
      {
        "duration": 15,
        "start_time": "2022-07-31T10:41:32.260Z"
      },
      {
        "duration": 4,
        "start_time": "2022-07-31T10:41:32.701Z"
      },
      {
        "duration": 24,
        "start_time": "2022-07-31T10:41:33.339Z"
      },
      {
        "duration": 15,
        "start_time": "2022-07-31T10:41:33.760Z"
      },
      {
        "duration": 34,
        "start_time": "2022-07-31T10:41:34.039Z"
      },
      {
        "duration": 7,
        "start_time": "2022-07-31T10:41:34.322Z"
      },
      {
        "duration": 4,
        "start_time": "2022-07-31T10:41:34.638Z"
      },
      {
        "duration": 4,
        "start_time": "2022-07-31T10:41:34.941Z"
      },
      {
        "duration": 36,
        "start_time": "2022-07-31T10:41:35.207Z"
      },
      {
        "duration": 6,
        "start_time": "2022-07-31T10:41:35.478Z"
      },
      {
        "duration": 6,
        "start_time": "2022-07-31T10:41:35.771Z"
      },
      {
        "duration": 3,
        "start_time": "2022-07-31T10:41:38.851Z"
      },
      {
        "duration": 2,
        "start_time": "2022-07-31T10:41:39.387Z"
      },
      {
        "duration": 2,
        "start_time": "2022-07-31T10:41:40.158Z"
      },
      {
        "duration": 5,
        "start_time": "2022-07-31T10:41:43.375Z"
      },
      {
        "duration": 8,
        "start_time": "2022-07-31T10:41:45.035Z"
      },
      {
        "duration": 14,
        "start_time": "2022-07-31T10:41:45.593Z"
      },
      {
        "duration": 3,
        "start_time": "2022-07-31T10:41:49.047Z"
      },
      {
        "duration": 4,
        "start_time": "2022-07-31T10:41:56.488Z"
      },
      {
        "duration": 793,
        "start_time": "2022-07-31T10:41:57.158Z"
      },
      {
        "duration": 9,
        "start_time": "2022-07-31T10:41:57.953Z"
      },
      {
        "duration": 235,
        "start_time": "2022-07-31T10:41:57.968Z"
      },
      {
        "duration": 36323,
        "start_time": "2022-07-31T10:42:13.540Z"
      },
      {
        "duration": 5,
        "start_time": "2022-07-31T10:42:49.865Z"
      },
      {
        "duration": 14,
        "start_time": "2022-07-31T10:42:49.871Z"
      },
      {
        "duration": 8701,
        "start_time": "2022-07-31T10:42:49.887Z"
      },
      {
        "duration": 4,
        "start_time": "2022-07-31T10:42:58.589Z"
      },
      {
        "duration": 128,
        "start_time": "2022-07-31T10:49:23.426Z"
      },
      {
        "duration": 12,
        "start_time": "2022-07-31T10:49:24.167Z"
      },
      {
        "duration": 28,
        "start_time": "2022-07-31T10:49:24.410Z"
      },
      {
        "duration": 8,
        "start_time": "2022-07-31T10:49:24.973Z"
      },
      {
        "duration": 30,
        "start_time": "2022-07-31T10:49:25.209Z"
      },
      {
        "duration": 7,
        "start_time": "2022-07-31T10:49:25.523Z"
      },
      {
        "duration": 16,
        "start_time": "2022-07-31T10:49:26.307Z"
      },
      {
        "duration": 5,
        "start_time": "2022-07-31T10:49:26.582Z"
      },
      {
        "duration": 8,
        "start_time": "2022-07-31T10:49:26.789Z"
      },
      {
        "duration": 4,
        "start_time": "2022-07-31T10:49:27.054Z"
      },
      {
        "duration": 3,
        "start_time": "2022-07-31T10:49:27.269Z"
      },
      {
        "duration": 4,
        "start_time": "2022-07-31T10:49:27.567Z"
      },
      {
        "duration": 293,
        "start_time": "2022-07-31T10:49:27.753Z"
      },
      {
        "duration": 112,
        "start_time": "2022-07-31T10:49:28.470Z"
      },
      {
        "duration": 109,
        "start_time": "2022-07-31T10:49:28.679Z"
      },
      {
        "duration": 17,
        "start_time": "2022-07-31T10:49:28.961Z"
      },
      {
        "duration": 6,
        "start_time": "2022-07-31T10:49:29.193Z"
      },
      {
        "duration": 12,
        "start_time": "2022-07-31T10:49:29.386Z"
      },
      {
        "duration": 2,
        "start_time": "2022-07-31T10:49:29.867Z"
      },
      {
        "duration": 12,
        "start_time": "2022-07-31T10:49:30.996Z"
      },
      {
        "duration": 11,
        "start_time": "2022-07-31T10:49:31.669Z"
      },
      {
        "duration": 18,
        "start_time": "2022-07-31T10:49:32.023Z"
      },
      {
        "duration": 10,
        "start_time": "2022-07-31T10:49:32.323Z"
      },
      {
        "duration": 12,
        "start_time": "2022-07-31T10:49:32.622Z"
      },
      {
        "duration": 2,
        "start_time": "2022-07-31T10:49:32.976Z"
      },
      {
        "duration": 2,
        "start_time": "2022-07-31T10:49:33.269Z"
      },
      {
        "duration": 3,
        "start_time": "2022-07-31T10:49:33.623Z"
      },
      {
        "duration": 7,
        "start_time": "2022-07-31T10:49:34.123Z"
      },
      {
        "duration": 5,
        "start_time": "2022-07-31T10:49:34.470Z"
      },
      {
        "duration": 7,
        "start_time": "2022-07-31T10:49:34.766Z"
      },
      {
        "duration": 7,
        "start_time": "2022-07-31T10:49:35.097Z"
      },
      {
        "duration": 2,
        "start_time": "2022-07-31T10:49:35.369Z"
      },
      {
        "duration": 7,
        "start_time": "2022-07-31T10:49:36.070Z"
      },
      {
        "duration": 7,
        "start_time": "2022-07-31T10:49:36.367Z"
      },
      {
        "duration": 11,
        "start_time": "2022-07-31T10:49:37.971Z"
      },
      {
        "duration": 16,
        "start_time": "2022-07-31T10:49:39.491Z"
      },
      {
        "duration": 15,
        "start_time": "2022-07-31T10:49:40.075Z"
      },
      {
        "duration": 19,
        "start_time": "2022-07-31T10:49:40.837Z"
      },
      {
        "duration": 8,
        "start_time": "2022-07-31T10:49:41.628Z"
      },
      {
        "duration": 5,
        "start_time": "2022-07-31T10:49:44.037Z"
      },
      {
        "duration": 24,
        "start_time": "2022-07-31T10:49:44.363Z"
      },
      {
        "duration": 5,
        "start_time": "2022-07-31T10:49:44.922Z"
      },
      {
        "duration": 26,
        "start_time": "2022-07-31T10:49:45.326Z"
      },
      {
        "duration": 15,
        "start_time": "2022-07-31T10:49:45.841Z"
      },
      {
        "duration": 34,
        "start_time": "2022-07-31T10:49:46.727Z"
      },
      {
        "duration": 6,
        "start_time": "2022-07-31T10:49:47.069Z"
      },
      {
        "duration": 20,
        "start_time": "2022-07-31T10:49:47.466Z"
      },
      {
        "duration": 5,
        "start_time": "2022-07-31T10:49:47.923Z"
      },
      {
        "duration": 6,
        "start_time": "2022-07-31T10:49:48.367Z"
      },
      {
        "duration": 4,
        "start_time": "2022-07-31T10:49:55.439Z"
      },
      {
        "duration": 9,
        "start_time": "2022-07-31T10:49:56.297Z"
      },
      {
        "duration": 15,
        "start_time": "2022-07-31T10:49:56.611Z"
      },
      {
        "duration": 3,
        "start_time": "2022-07-31T10:49:59.486Z"
      },
      {
        "duration": 6,
        "start_time": "2022-07-31T10:50:05.571Z"
      },
      {
        "duration": 861,
        "start_time": "2022-07-31T10:50:07.283Z"
      },
      {
        "duration": 11,
        "start_time": "2022-07-31T10:50:08.146Z"
      },
      {
        "duration": 259,
        "start_time": "2022-07-31T10:50:08.311Z"
      },
      {
        "duration": 35875,
        "start_time": "2022-07-31T10:50:11.523Z"
      },
      {
        "duration": 4,
        "start_time": "2022-07-31T10:50:47.400Z"
      },
      {
        "duration": 25,
        "start_time": "2022-07-31T10:50:47.406Z"
      },
      {
        "duration": 8694,
        "start_time": "2022-07-31T10:50:47.434Z"
      },
      {
        "duration": 117,
        "start_time": "2022-07-31T10:54:24.922Z"
      },
      {
        "duration": 13,
        "start_time": "2022-07-31T10:54:25.421Z"
      },
      {
        "duration": 13,
        "start_time": "2022-07-31T10:54:25.668Z"
      },
      {
        "duration": 9,
        "start_time": "2022-07-31T10:54:26.122Z"
      },
      {
        "duration": 17,
        "start_time": "2022-07-31T10:54:26.377Z"
      },
      {
        "duration": 7,
        "start_time": "2022-07-31T10:54:26.677Z"
      },
      {
        "duration": 11,
        "start_time": "2022-07-31T10:54:27.415Z"
      },
      {
        "duration": 4,
        "start_time": "2022-07-31T10:54:27.634Z"
      },
      {
        "duration": 9,
        "start_time": "2022-07-31T10:54:27.885Z"
      },
      {
        "duration": 4,
        "start_time": "2022-07-31T10:54:28.141Z"
      },
      {
        "duration": 5,
        "start_time": "2022-07-31T10:54:28.421Z"
      },
      {
        "duration": 3,
        "start_time": "2022-07-31T10:54:28.669Z"
      },
      {
        "duration": 262,
        "start_time": "2022-07-31T10:54:28.883Z"
      },
      {
        "duration": 280,
        "start_time": "2022-07-31T10:54:29.742Z"
      },
      {
        "duration": 111,
        "start_time": "2022-07-31T10:54:30.024Z"
      },
      {
        "duration": 23,
        "start_time": "2022-07-31T10:54:30.199Z"
      },
      {
        "duration": 6,
        "start_time": "2022-07-31T10:54:30.477Z"
      },
      {
        "duration": 13,
        "start_time": "2022-07-31T10:54:30.711Z"
      },
      {
        "duration": 5,
        "start_time": "2022-07-31T10:54:31.239Z"
      },
      {
        "duration": 14,
        "start_time": "2022-07-31T10:54:32.385Z"
      },
      {
        "duration": 11,
        "start_time": "2022-07-31T10:54:32.869Z"
      },
      {
        "duration": 2,
        "start_time": "2022-07-31T10:54:33.145Z"
      },
      {
        "duration": 11,
        "start_time": "2022-07-31T10:54:33.382Z"
      },
      {
        "duration": 13,
        "start_time": "2022-07-31T10:54:33.623Z"
      },
      {
        "duration": 2,
        "start_time": "2022-07-31T10:54:33.875Z"
      },
      {
        "duration": 2,
        "start_time": "2022-07-31T10:54:34.101Z"
      },
      {
        "duration": 3,
        "start_time": "2022-07-31T10:54:34.372Z"
      },
      {
        "duration": 9,
        "start_time": "2022-07-31T10:54:34.817Z"
      },
      {
        "duration": 5,
        "start_time": "2022-07-31T10:54:35.042Z"
      },
      {
        "duration": 7,
        "start_time": "2022-07-31T10:54:35.298Z"
      },
      {
        "duration": 6,
        "start_time": "2022-07-31T10:54:35.593Z"
      },
      {
        "duration": 3,
        "start_time": "2022-07-31T10:54:35.880Z"
      },
      {
        "duration": 8,
        "start_time": "2022-07-31T10:54:36.398Z"
      },
      {
        "duration": 8,
        "start_time": "2022-07-31T10:54:36.681Z"
      },
      {
        "duration": 18,
        "start_time": "2022-07-31T10:54:36.909Z"
      },
      {
        "duration": 15,
        "start_time": "2022-07-31T10:54:37.476Z"
      },
      {
        "duration": 18,
        "start_time": "2022-07-31T10:54:37.702Z"
      },
      {
        "duration": 20,
        "start_time": "2022-07-31T10:54:37.968Z"
      },
      {
        "duration": 6,
        "start_time": "2022-07-31T10:54:38.183Z"
      },
      {
        "duration": 10,
        "start_time": "2022-07-31T10:54:38.814Z"
      },
      {
        "duration": 16,
        "start_time": "2022-07-31T10:54:39.170Z"
      },
      {
        "duration": 15,
        "start_time": "2022-07-31T10:54:39.410Z"
      },
      {
        "duration": 25,
        "start_time": "2022-07-31T10:54:39.719Z"
      },
      {
        "duration": 17,
        "start_time": "2022-07-31T10:54:40.189Z"
      },
      {
        "duration": 28,
        "start_time": "2022-07-31T10:54:40.423Z"
      },
      {
        "duration": 5,
        "start_time": "2022-07-31T10:54:40.683Z"
      },
      {
        "duration": 19,
        "start_time": "2022-07-31T10:54:40.987Z"
      },
      {
        "duration": 6,
        "start_time": "2022-07-31T10:54:41.292Z"
      },
      {
        "duration": 6,
        "start_time": "2022-07-31T10:54:41.582Z"
      },
      {
        "duration": 3,
        "start_time": "2022-07-31T10:54:43.590Z"
      },
      {
        "duration": 5,
        "start_time": "2022-07-31T10:54:43.827Z"
      },
      {
        "duration": 2,
        "start_time": "2022-07-31T10:54:44.073Z"
      },
      {
        "duration": 5,
        "start_time": "2022-07-31T10:54:44.341Z"
      },
      {
        "duration": 8,
        "start_time": "2022-07-31T10:54:45.680Z"
      },
      {
        "duration": 13,
        "start_time": "2022-07-31T10:54:46.184Z"
      },
      {
        "duration": 3,
        "start_time": "2022-07-31T10:54:48.283Z"
      },
      {
        "duration": 4,
        "start_time": "2022-07-31T10:54:55.809Z"
      },
      {
        "duration": 4,
        "start_time": "2022-07-31T10:54:56.268Z"
      },
      {
        "duration": 2804,
        "start_time": "2022-07-31T10:54:57.085Z"
      },
      {
        "duration": 0,
        "start_time": "2022-07-31T10:54:59.891Z"
      },
      {
        "duration": 0,
        "start_time": "2022-07-31T10:54:59.892Z"
      },
      {
        "duration": 3,
        "start_time": "2022-07-31T10:55:08.722Z"
      },
      {
        "duration": 3,
        "start_time": "2022-07-31T10:55:15.091Z"
      },
      {
        "duration": 879,
        "start_time": "2022-07-31T10:55:16.122Z"
      },
      {
        "duration": 11,
        "start_time": "2022-07-31T10:55:17.379Z"
      },
      {
        "duration": 222,
        "start_time": "2022-07-31T10:55:20.781Z"
      },
      {
        "duration": 36433,
        "start_time": "2022-07-31T10:55:45.393Z"
      },
      {
        "duration": 5,
        "start_time": "2022-07-31T10:56:21.829Z"
      },
      {
        "duration": 28,
        "start_time": "2022-07-31T10:56:21.835Z"
      },
      {
        "duration": 15865,
        "start_time": "2022-07-31T10:56:21.869Z"
      },
      {
        "duration": 50003,
        "start_time": "2022-07-31T10:57:45.640Z"
      },
      {
        "duration": 4,
        "start_time": "2022-07-31T10:58:35.645Z"
      },
      {
        "duration": 13,
        "start_time": "2022-07-31T10:58:35.651Z"
      },
      {
        "duration": 16016,
        "start_time": "2022-07-31T10:58:35.666Z"
      },
      {
        "duration": 61762,
        "start_time": "2022-07-31T11:00:16.473Z"
      },
      {
        "duration": 4,
        "start_time": "2022-07-31T11:01:18.237Z"
      },
      {
        "duration": 15,
        "start_time": "2022-07-31T11:01:18.243Z"
      },
      {
        "duration": 16264,
        "start_time": "2022-07-31T11:01:18.260Z"
      },
      {
        "duration": 60584,
        "start_time": "2022-07-31T11:07:35.481Z"
      },
      {
        "duration": 4,
        "start_time": "2022-07-31T11:08:36.067Z"
      },
      {
        "duration": 18,
        "start_time": "2022-07-31T11:08:36.073Z"
      },
      {
        "duration": 15964,
        "start_time": "2022-07-31T11:08:36.093Z"
      },
      {
        "duration": 48540,
        "start_time": "2022-07-31T11:11:12.501Z"
      },
      {
        "duration": 6,
        "start_time": "2022-07-31T11:12:01.043Z"
      },
      {
        "duration": 51,
        "start_time": "2022-07-31T11:12:01.051Z"
      },
      {
        "duration": 17162,
        "start_time": "2022-07-31T11:12:01.104Z"
      },
      {
        "duration": 20154,
        "start_time": "2022-07-31T11:13:55.768Z"
      },
      {
        "duration": 11,
        "start_time": "2022-07-31T11:14:15.923Z"
      },
      {
        "duration": 30,
        "start_time": "2022-07-31T11:14:15.941Z"
      },
      {
        "duration": 16487,
        "start_time": "2022-07-31T11:14:15.973Z"
      },
      {
        "duration": 23362,
        "start_time": "2022-07-31T11:17:02.877Z"
      },
      {
        "duration": 4,
        "start_time": "2022-07-31T11:17:26.242Z"
      },
      {
        "duration": 13,
        "start_time": "2022-07-31T11:17:26.248Z"
      },
      {
        "duration": 16571,
        "start_time": "2022-07-31T11:17:26.263Z"
      },
      {
        "duration": 92064,
        "start_time": "2022-07-31T11:20:08.404Z"
      },
      {
        "duration": 5,
        "start_time": "2022-07-31T11:21:40.470Z"
      },
      {
        "duration": 17,
        "start_time": "2022-07-31T11:21:40.477Z"
      },
      {
        "duration": 17121,
        "start_time": "2022-07-31T11:21:40.496Z"
      },
      {
        "duration": 23685,
        "start_time": "2022-07-31T11:26:36.324Z"
      },
      {
        "duration": 7,
        "start_time": "2022-07-31T11:27:00.019Z"
      },
      {
        "duration": 17,
        "start_time": "2022-07-31T11:27:00.029Z"
      },
      {
        "duration": 16547,
        "start_time": "2022-07-31T11:27:00.049Z"
      },
      {
        "duration": 115,
        "start_time": "2022-07-31T11:34:35.435Z"
      },
      {
        "duration": 18,
        "start_time": "2022-07-31T11:34:35.905Z"
      },
      {
        "duration": 22,
        "start_time": "2022-07-31T11:34:36.109Z"
      },
      {
        "duration": 11,
        "start_time": "2022-07-31T11:34:36.507Z"
      },
      {
        "duration": 29,
        "start_time": "2022-07-31T11:34:36.695Z"
      },
      {
        "duration": 6,
        "start_time": "2022-07-31T11:34:36.896Z"
      },
      {
        "duration": 6,
        "start_time": "2022-07-31T11:34:37.489Z"
      },
      {
        "duration": 4,
        "start_time": "2022-07-31T11:34:37.680Z"
      },
      {
        "duration": 9,
        "start_time": "2022-07-31T11:34:37.872Z"
      },
      {
        "duration": 4,
        "start_time": "2022-07-31T11:34:38.050Z"
      },
      {
        "duration": 3,
        "start_time": "2022-07-31T11:34:38.245Z"
      },
      {
        "duration": 11,
        "start_time": "2022-07-31T11:34:38.417Z"
      },
      {
        "duration": 269,
        "start_time": "2022-07-31T11:34:38.588Z"
      },
      {
        "duration": 117,
        "start_time": "2022-07-31T11:34:39.246Z"
      },
      {
        "duration": 106,
        "start_time": "2022-07-31T11:34:39.445Z"
      },
      {
        "duration": 22,
        "start_time": "2022-07-31T11:34:39.702Z"
      },
      {
        "duration": 6,
        "start_time": "2022-07-31T11:34:40.266Z"
      },
      {
        "duration": 14,
        "start_time": "2022-07-31T11:34:40.509Z"
      },
      {
        "duration": 2,
        "start_time": "2022-07-31T11:34:41.024Z"
      },
      {
        "duration": 16,
        "start_time": "2022-07-31T11:34:42.144Z"
      },
      {
        "duration": 14,
        "start_time": "2022-07-31T11:34:42.710Z"
      },
      {
        "duration": 2,
        "start_time": "2022-07-31T11:34:42.997Z"
      },
      {
        "duration": 11,
        "start_time": "2022-07-31T11:34:43.294Z"
      },
      {
        "duration": 13,
        "start_time": "2022-07-31T11:34:43.581Z"
      },
      {
        "duration": 3,
        "start_time": "2022-07-31T11:34:43.865Z"
      },
      {
        "duration": 2,
        "start_time": "2022-07-31T11:34:44.157Z"
      },
      {
        "duration": 3,
        "start_time": "2022-07-31T11:34:44.425Z"
      },
      {
        "duration": 7,
        "start_time": "2022-07-31T11:34:44.992Z"
      },
      {
        "duration": 6,
        "start_time": "2022-07-31T11:34:45.280Z"
      },
      {
        "duration": 2,
        "start_time": "2022-07-31T11:34:45.574Z"
      },
      {
        "duration": 2,
        "start_time": "2022-07-31T11:34:45.969Z"
      },
      {
        "duration": 2,
        "start_time": "2022-07-31T11:34:46.368Z"
      },
      {
        "duration": 7,
        "start_time": "2022-07-31T11:34:47.025Z"
      },
      {
        "duration": 9,
        "start_time": "2022-07-31T11:34:47.363Z"
      },
      {
        "duration": 14,
        "start_time": "2022-07-31T11:34:47.666Z"
      },
      {
        "duration": 16,
        "start_time": "2022-07-31T11:34:48.397Z"
      },
      {
        "duration": 5,
        "start_time": "2022-07-31T11:34:48.847Z"
      },
      {
        "duration": 16,
        "start_time": "2022-07-31T11:34:49.390Z"
      },
      {
        "duration": 17,
        "start_time": "2022-07-31T11:34:49.783Z"
      },
      {
        "duration": 7,
        "start_time": "2022-07-31T11:34:50.787Z"
      },
      {
        "duration": 5,
        "start_time": "2022-07-31T11:34:53.964Z"
      },
      {
        "duration": 18,
        "start_time": "2022-07-31T11:34:54.330Z"
      },
      {
        "duration": 4,
        "start_time": "2022-07-31T11:34:57.028Z"
      },
      {
        "duration": 25,
        "start_time": "2022-07-31T11:34:57.380Z"
      },
      {
        "duration": 19,
        "start_time": "2022-07-31T11:34:57.847Z"
      },
      {
        "duration": 5,
        "start_time": "2022-07-31T11:34:58.203Z"
      },
      {
        "duration": 19,
        "start_time": "2022-07-31T11:34:58.471Z"
      },
      {
        "duration": 6,
        "start_time": "2022-07-31T11:34:58.746Z"
      },
      {
        "duration": 5,
        "start_time": "2022-07-31T11:34:58.971Z"
      },
      {
        "duration": 3,
        "start_time": "2022-07-31T11:35:00.370Z"
      },
      {
        "duration": 2,
        "start_time": "2022-07-31T11:35:00.673Z"
      },
      {
        "duration": 2,
        "start_time": "2022-07-31T11:35:00.968Z"
      },
      {
        "duration": 5,
        "start_time": "2022-07-31T11:35:01.204Z"
      },
      {
        "duration": 10,
        "start_time": "2022-07-31T11:35:02.047Z"
      },
      {
        "duration": 14,
        "start_time": "2022-07-31T11:35:02.367Z"
      },
      {
        "duration": 3,
        "start_time": "2022-07-31T11:35:03.871Z"
      },
      {
        "duration": 30253,
        "start_time": "2022-07-31T11:35:31.476Z"
      },
      {
        "duration": 4,
        "start_time": "2022-07-31T11:36:01.732Z"
      },
      {
        "duration": 14,
        "start_time": "2022-07-31T11:36:01.738Z"
      },
      {
        "duration": 17520,
        "start_time": "2022-07-31T11:36:01.755Z"
      },
      {
        "duration": 22,
        "start_time": "2022-07-31T11:37:16.371Z"
      },
      {
        "duration": 9,
        "start_time": "2022-07-31T11:37:16.954Z"
      },
      {
        "duration": 7,
        "start_time": "2022-07-31T11:37:21.607Z"
      },
      {
        "duration": 11,
        "start_time": "2022-07-31T11:37:36.395Z"
      },
      {
        "duration": 13,
        "start_time": "2022-07-31T11:37:41.268Z"
      },
      {
        "duration": 15,
        "start_time": "2022-07-31T11:37:42.691Z"
      },
      {
        "duration": 6,
        "start_time": "2022-07-31T11:37:42.995Z"
      },
      {
        "duration": 18,
        "start_time": "2022-07-31T11:37:43.263Z"
      },
      {
        "duration": 27,
        "start_time": "2022-07-31T11:37:43.567Z"
      },
      {
        "duration": 8,
        "start_time": "2022-07-31T11:37:45.983Z"
      },
      {
        "duration": 5,
        "start_time": "2022-07-31T11:37:49.967Z"
      },
      {
        "duration": 28,
        "start_time": "2022-07-31T11:37:50.498Z"
      },
      {
        "duration": 5,
        "start_time": "2022-07-31T11:37:50.902Z"
      },
      {
        "duration": 22,
        "start_time": "2022-07-31T11:37:51.637Z"
      },
      {
        "duration": 19,
        "start_time": "2022-07-31T11:37:52.387Z"
      },
      {
        "duration": 5,
        "start_time": "2022-07-31T11:37:52.746Z"
      },
      {
        "duration": 23,
        "start_time": "2022-07-31T11:37:53.507Z"
      },
      {
        "duration": 6,
        "start_time": "2022-07-31T11:37:53.823Z"
      },
      {
        "duration": 6,
        "start_time": "2022-07-31T11:37:54.204Z"
      },
      {
        "duration": 3,
        "start_time": "2022-07-31T11:37:55.863Z"
      },
      {
        "duration": 3,
        "start_time": "2022-07-31T11:37:56.068Z"
      },
      {
        "duration": 13,
        "start_time": "2022-07-31T11:37:56.412Z"
      },
      {
        "duration": 5,
        "start_time": "2022-07-31T11:37:56.887Z"
      },
      {
        "duration": 9,
        "start_time": "2022-07-31T11:37:59.136Z"
      },
      {
        "duration": 15,
        "start_time": "2022-07-31T11:37:59.767Z"
      },
      {
        "duration": 7684,
        "start_time": "2022-07-31T11:38:09.266Z"
      },
      {
        "duration": 0,
        "start_time": "2022-07-31T11:38:16.952Z"
      },
      {
        "duration": 0,
        "start_time": "2022-07-31T11:38:16.954Z"
      },
      {
        "duration": 0,
        "start_time": "2022-07-31T11:38:16.955Z"
      },
      {
        "duration": 17,
        "start_time": "2022-07-31T14:02:17.834Z"
      },
      {
        "duration": 15,
        "start_time": "2022-07-31T14:09:25.251Z"
      },
      {
        "duration": 9,
        "start_time": "2022-07-31T14:11:30.978Z"
      },
      {
        "duration": 10,
        "start_time": "2022-07-31T14:12:42.538Z"
      },
      {
        "duration": 4,
        "start_time": "2022-07-31T14:17:20.986Z"
      },
      {
        "duration": 112,
        "start_time": "2022-07-31T14:17:21.373Z"
      },
      {
        "duration": 12,
        "start_time": "2022-07-31T14:17:22.156Z"
      },
      {
        "duration": 14,
        "start_time": "2022-07-31T14:17:22.411Z"
      },
      {
        "duration": 8,
        "start_time": "2022-07-31T14:17:23.087Z"
      },
      {
        "duration": 16,
        "start_time": "2022-07-31T14:17:23.431Z"
      },
      {
        "duration": 5,
        "start_time": "2022-07-31T14:17:23.751Z"
      },
      {
        "duration": 8,
        "start_time": "2022-07-31T14:17:24.373Z"
      },
      {
        "duration": 5,
        "start_time": "2022-07-31T14:17:24.646Z"
      },
      {
        "duration": 8,
        "start_time": "2022-07-31T14:17:24.984Z"
      },
      {
        "duration": 5,
        "start_time": "2022-07-31T14:17:25.259Z"
      },
      {
        "duration": 4,
        "start_time": "2022-07-31T14:17:25.555Z"
      },
      {
        "duration": 4,
        "start_time": "2022-07-31T14:17:25.858Z"
      },
      {
        "duration": 244,
        "start_time": "2022-07-31T14:17:26.220Z"
      },
      {
        "duration": 114,
        "start_time": "2022-07-31T14:17:26.633Z"
      },
      {
        "duration": 100,
        "start_time": "2022-07-31T14:17:27.059Z"
      },
      {
        "duration": 16,
        "start_time": "2022-07-31T14:17:27.410Z"
      },
      {
        "duration": 6,
        "start_time": "2022-07-31T14:17:27.756Z"
      },
      {
        "duration": 5,
        "start_time": "2022-07-31T14:17:28.116Z"
      },
      {
        "duration": 13,
        "start_time": "2022-07-31T14:17:28.462Z"
      },
      {
        "duration": 9,
        "start_time": "2022-07-31T14:17:29.003Z"
      },
      {
        "duration": 13,
        "start_time": "2022-07-31T14:17:29.284Z"
      },
      {
        "duration": 11,
        "start_time": "2022-07-31T14:17:29.863Z"
      },
      {
        "duration": 13,
        "start_time": "2022-07-31T14:17:30.178Z"
      },
      {
        "duration": 7,
        "start_time": "2022-07-31T14:17:30.699Z"
      },
      {
        "duration": 11,
        "start_time": "2022-07-31T14:17:30.964Z"
      },
      {
        "duration": 8,
        "start_time": "2022-07-31T14:17:31.584Z"
      },
      {
        "duration": 19,
        "start_time": "2022-07-31T14:17:31.897Z"
      },
      {
        "duration": 17,
        "start_time": "2022-07-31T14:17:32.513Z"
      },
      {
        "duration": 17,
        "start_time": "2022-07-31T14:17:32.961Z"
      },
      {
        "duration": 10,
        "start_time": "2022-07-31T14:20:16.993Z"
      },
      {
        "duration": 10,
        "start_time": "2022-07-31T14:20:22.438Z"
      },
      {
        "duration": 3,
        "start_time": "2022-07-31T14:21:39.651Z"
      },
      {
        "duration": 73,
        "start_time": "2022-07-31T14:25:07.973Z"
      },
      {
        "duration": 236,
        "start_time": "2022-07-31T14:25:18.881Z"
      },
      {
        "duration": 21,
        "start_time": "2022-07-31T14:25:51.829Z"
      },
      {
        "duration": 6,
        "start_time": "2022-07-31T14:26:47.301Z"
      },
      {
        "duration": 27,
        "start_time": "2022-07-31T14:26:47.880Z"
      },
      {
        "duration": 17,
        "start_time": "2022-07-31T14:26:48.388Z"
      },
      {
        "duration": 4,
        "start_time": "2022-07-31T14:27:09.994Z"
      },
      {
        "duration": 29,
        "start_time": "2022-07-31T14:27:10.364Z"
      },
      {
        "duration": 17,
        "start_time": "2022-07-31T14:27:10.888Z"
      },
      {
        "duration": 4,
        "start_time": "2022-07-31T14:47:23.592Z"
      },
      {
        "duration": 5,
        "start_time": "2022-07-31T14:47:24.566Z"
      },
      {
        "duration": 24,
        "start_time": "2022-07-31T14:47:25.604Z"
      },
      {
        "duration": 20,
        "start_time": "2022-07-31T14:47:26.467Z"
      },
      {
        "duration": 5,
        "start_time": "2022-07-31T14:47:30.334Z"
      },
      {
        "duration": 4,
        "start_time": "2022-07-31T14:47:31.988Z"
      },
      {
        "duration": 6,
        "start_time": "2022-07-31T14:47:51.966Z"
      },
      {
        "duration": 4,
        "start_time": "2022-07-31T14:50:43.166Z"
      },
      {
        "duration": 6,
        "start_time": "2022-07-31T14:50:43.891Z"
      },
      {
        "duration": 23,
        "start_time": "2022-07-31T14:50:45.477Z"
      },
      {
        "duration": 13,
        "start_time": "2022-07-31T14:51:19.937Z"
      },
      {
        "duration": 55,
        "start_time": "2022-07-31T14:51:53.578Z"
      },
      {
        "duration": 27,
        "start_time": "2022-07-31T14:52:07.615Z"
      },
      {
        "duration": 27,
        "start_time": "2022-07-31T14:53:38.411Z"
      },
      {
        "duration": 4,
        "start_time": "2022-07-31T15:02:03.261Z"
      },
      {
        "duration": 113,
        "start_time": "2022-07-31T15:02:03.563Z"
      },
      {
        "duration": 12,
        "start_time": "2022-07-31T15:02:04.307Z"
      },
      {
        "duration": 14,
        "start_time": "2022-07-31T15:02:04.527Z"
      },
      {
        "duration": 9,
        "start_time": "2022-07-31T15:02:04.962Z"
      },
      {
        "duration": 21,
        "start_time": "2022-07-31T15:02:05.186Z"
      },
      {
        "duration": 6,
        "start_time": "2022-07-31T15:02:05.386Z"
      },
      {
        "duration": 7,
        "start_time": "2022-07-31T15:02:05.813Z"
      },
      {
        "duration": 5,
        "start_time": "2022-07-31T15:02:06.021Z"
      },
      {
        "duration": 9,
        "start_time": "2022-07-31T15:02:06.223Z"
      },
      {
        "duration": 4,
        "start_time": "2022-07-31T15:02:06.420Z"
      },
      {
        "duration": 3,
        "start_time": "2022-07-31T15:02:06.626Z"
      },
      {
        "duration": 5,
        "start_time": "2022-07-31T15:02:06.837Z"
      },
      {
        "duration": 248,
        "start_time": "2022-07-31T15:02:07.063Z"
      },
      {
        "duration": 140,
        "start_time": "2022-07-31T15:02:07.314Z"
      },
      {
        "duration": 109,
        "start_time": "2022-07-31T15:02:07.465Z"
      },
      {
        "duration": 16,
        "start_time": "2022-07-31T15:02:07.679Z"
      },
      {
        "duration": 5,
        "start_time": "2022-07-31T15:02:07.897Z"
      },
      {
        "duration": 5,
        "start_time": "2022-07-31T15:02:08.112Z"
      },
      {
        "duration": 15,
        "start_time": "2022-07-31T15:02:08.329Z"
      },
      {
        "duration": 9,
        "start_time": "2022-07-31T15:02:08.789Z"
      },
      {
        "duration": 15,
        "start_time": "2022-07-31T15:02:09.027Z"
      },
      {
        "duration": 12,
        "start_time": "2022-07-31T15:02:09.501Z"
      },
      {
        "duration": 14,
        "start_time": "2022-07-31T15:02:09.777Z"
      },
      {
        "duration": 10,
        "start_time": "2022-07-31T15:02:10.234Z"
      },
      {
        "duration": 13,
        "start_time": "2022-07-31T15:02:10.463Z"
      },
      {
        "duration": 9,
        "start_time": "2022-07-31T15:02:10.887Z"
      },
      {
        "duration": 14,
        "start_time": "2022-07-31T15:02:11.098Z"
      },
      {
        "duration": 6,
        "start_time": "2022-07-31T15:02:11.298Z"
      },
      {
        "duration": 18,
        "start_time": "2022-07-31T15:02:11.729Z"
      },
      {
        "duration": 22,
        "start_time": "2022-07-31T15:02:11.988Z"
      },
      {
        "duration": 4,
        "start_time": "2022-07-31T15:02:12.191Z"
      },
      {
        "duration": 6,
        "start_time": "2022-07-31T15:02:12.414Z"
      },
      {
        "duration": 24,
        "start_time": "2022-07-31T15:02:12.665Z"
      },
      {
        "duration": 20,
        "start_time": "2022-07-31T15:02:12.887Z"
      },
      {
        "duration": 5,
        "start_time": "2022-07-31T15:02:13.129Z"
      },
      {
        "duration": 5,
        "start_time": "2022-07-31T15:02:13.407Z"
      },
      {
        "duration": 4,
        "start_time": "2022-07-31T15:02:13.883Z"
      },
      {
        "duration": 31,
        "start_time": "2022-07-31T15:02:14.110Z"
      },
      {
        "duration": 6,
        "start_time": "2022-07-31T15:02:14.356Z"
      },
      {
        "duration": 9,
        "start_time": "2022-07-31T15:02:15.085Z"
      },
      {
        "duration": 224,
        "start_time": "2022-07-31T15:02:15.363Z"
      },
      {
        "duration": 15,
        "start_time": "2022-07-31T15:02:15.601Z"
      },
      {
        "duration": 11,
        "start_time": "2022-07-31T15:02:15.885Z"
      },
      {
        "duration": 10,
        "start_time": "2022-07-31T15:03:26.819Z"
      },
      {
        "duration": 10,
        "start_time": "2022-07-31T15:03:37.263Z"
      },
      {
        "duration": 3,
        "start_time": "2022-07-31T15:04:02.665Z"
      },
      {
        "duration": 4,
        "start_time": "2022-07-31T15:04:03.327Z"
      },
      {
        "duration": 93526,
        "start_time": "2022-07-31T15:04:09.354Z"
      },
      {
        "duration": 14,
        "start_time": "2022-07-31T15:05:42.882Z"
      },
      {
        "duration": 12,
        "start_time": "2022-07-31T15:05:42.898Z"
      },
      {
        "duration": 14,
        "start_time": "2022-07-31T15:06:37.207Z"
      },
      {
        "duration": 4,
        "start_time": "2022-07-31T15:10:41.124Z"
      },
      {
        "duration": 75,
        "start_time": "2022-07-31T15:11:50.952Z"
      },
      {
        "duration": 10,
        "start_time": "2022-07-31T15:12:09.659Z"
      },
      {
        "duration": 17565,
        "start_time": "2022-07-31T15:12:20.288Z"
      },
      {
        "duration": 26,
        "start_time": "2022-07-31T15:12:57.206Z"
      },
      {
        "duration": 260,
        "start_time": "2022-07-31T15:13:05.750Z"
      },
      {
        "duration": 5,
        "start_time": "2022-07-31T15:13:32.809Z"
      },
      {
        "duration": 12,
        "start_time": "2022-07-31T15:13:35.291Z"
      },
      {
        "duration": 4,
        "start_time": "2022-07-31T15:13:39.983Z"
      },
      {
        "duration": 88126,
        "start_time": "2022-07-31T15:13:42.004Z"
      },
      {
        "duration": 5,
        "start_time": "2022-07-31T15:15:10.132Z"
      },
      {
        "duration": 15,
        "start_time": "2022-07-31T15:15:10.138Z"
      },
      {
        "duration": 16192,
        "start_time": "2022-07-31T15:15:10.155Z"
      },
      {
        "duration": 17,
        "start_time": "2022-07-31T15:15:26.349Z"
      },
      {
        "duration": 266,
        "start_time": "2022-07-31T15:15:26.367Z"
      },
      {
        "duration": 4,
        "start_time": "2022-07-31T15:20:59.179Z"
      },
      {
        "duration": 5,
        "start_time": "2022-07-31T15:20:59.839Z"
      },
      {
        "duration": 25,
        "start_time": "2022-07-31T15:21:01.325Z"
      },
      {
        "duration": 17,
        "start_time": "2022-07-31T15:21:04.503Z"
      },
      {
        "duration": 8,
        "start_time": "2022-07-31T15:23:24.641Z"
      },
      {
        "duration": 34,
        "start_time": "2022-07-31T15:23:29.751Z"
      },
      {
        "duration": 5,
        "start_time": "2022-07-31T15:25:36.371Z"
      },
      {
        "duration": 10,
        "start_time": "2022-07-31T15:25:37.584Z"
      },
      {
        "duration": 24,
        "start_time": "2022-07-31T15:25:38.435Z"
      },
      {
        "duration": 1253,
        "start_time": "2022-07-31T15:27:08.620Z"
      },
      {
        "duration": 1300,
        "start_time": "2022-07-31T15:30:12.303Z"
      },
      {
        "duration": 22,
        "start_time": "2022-07-31T15:30:50.445Z"
      },
      {
        "duration": 1246,
        "start_time": "2022-07-31T15:31:22.770Z"
      },
      {
        "duration": 1260,
        "start_time": "2022-07-31T15:31:41.268Z"
      },
      {
        "duration": 21,
        "start_time": "2022-07-31T15:31:56.829Z"
      },
      {
        "duration": 7,
        "start_time": "2022-07-31T15:32:28.860Z"
      },
      {
        "duration": 17,
        "start_time": "2022-07-31T15:32:48.934Z"
      },
      {
        "duration": 4,
        "start_time": "2022-07-31T15:36:43.869Z"
      },
      {
        "duration": 7,
        "start_time": "2022-07-31T15:36:44.404Z"
      },
      {
        "duration": 26,
        "start_time": "2022-07-31T15:36:44.820Z"
      },
      {
        "duration": 18,
        "start_time": "2022-07-31T15:36:45.518Z"
      },
      {
        "duration": 5,
        "start_time": "2022-07-31T15:36:53.144Z"
      },
      {
        "duration": 4,
        "start_time": "2022-07-31T15:36:53.516Z"
      },
      {
        "duration": 4,
        "start_time": "2022-07-31T15:36:54.784Z"
      },
      {
        "duration": 33,
        "start_time": "2022-07-31T15:36:55.200Z"
      },
      {
        "duration": 6,
        "start_time": "2022-07-31T15:36:55.575Z"
      },
      {
        "duration": 5,
        "start_time": "2022-07-31T15:38:01.774Z"
      },
      {
        "duration": 8,
        "start_time": "2022-07-31T15:38:04.441Z"
      },
      {
        "duration": 26,
        "start_time": "2022-07-31T15:38:05.458Z"
      },
      {
        "duration": 7,
        "start_time": "2022-07-31T15:38:07.656Z"
      },
      {
        "duration": 1305,
        "start_time": "2022-07-31T15:38:08.724Z"
      },
      {
        "duration": 1309,
        "start_time": "2022-07-31T15:38:27.792Z"
      },
      {
        "duration": 1166,
        "start_time": "2022-07-31T15:39:06.024Z"
      },
      {
        "duration": 15,
        "start_time": "2022-07-31T15:39:21.594Z"
      },
      {
        "duration": 10,
        "start_time": "2022-07-31T15:39:41.348Z"
      },
      {
        "duration": 15,
        "start_time": "2022-07-31T15:40:10.810Z"
      },
      {
        "duration": 33,
        "start_time": "2022-07-31T15:40:16.917Z"
      },
      {
        "duration": 26,
        "start_time": "2022-07-31T15:40:52.786Z"
      },
      {
        "duration": 16,
        "start_time": "2022-07-31T15:41:41.153Z"
      },
      {
        "duration": 26,
        "start_time": "2022-07-31T15:41:42.119Z"
      },
      {
        "duration": 3,
        "start_time": "2022-07-31T15:42:05.281Z"
      },
      {
        "duration": 90302,
        "start_time": "2022-07-31T15:42:05.756Z"
      },
      {
        "duration": 5,
        "start_time": "2022-07-31T15:43:36.061Z"
      },
      {
        "duration": 15,
        "start_time": "2022-07-31T15:43:36.068Z"
      },
      {
        "duration": 17044,
        "start_time": "2022-07-31T15:43:36.086Z"
      },
      {
        "duration": 19,
        "start_time": "2022-07-31T15:43:53.132Z"
      },
      {
        "duration": 280,
        "start_time": "2022-07-31T15:43:53.153Z"
      },
      {
        "duration": 3,
        "start_time": "2022-07-31T15:44:54.282Z"
      },
      {
        "duration": 6,
        "start_time": "2022-07-31T15:44:54.610Z"
      },
      {
        "duration": 24,
        "start_time": "2022-07-31T15:44:54.875Z"
      },
      {
        "duration": 16,
        "start_time": "2022-07-31T15:44:55.101Z"
      },
      {
        "duration": 7,
        "start_time": "2022-07-31T15:44:55.365Z"
      },
      {
        "duration": 6,
        "start_time": "2022-07-31T15:44:55.581Z"
      },
      {
        "duration": 4,
        "start_time": "2022-07-31T15:44:56.059Z"
      },
      {
        "duration": 43,
        "start_time": "2022-07-31T15:44:56.274Z"
      },
      {
        "duration": 5,
        "start_time": "2022-07-31T15:44:56.502Z"
      },
      {
        "duration": 5,
        "start_time": "2022-07-31T15:44:57.628Z"
      },
      {
        "duration": 8,
        "start_time": "2022-07-31T15:44:57.947Z"
      },
      {
        "duration": 3,
        "start_time": "2022-07-31T15:44:58.221Z"
      },
      {
        "duration": 3,
        "start_time": "2022-07-31T15:44:58.507Z"
      },
      {
        "duration": 81925,
        "start_time": "2022-07-31T15:44:58.828Z"
      },
      {
        "duration": 5,
        "start_time": "2022-07-31T15:46:20.755Z"
      },
      {
        "duration": 17,
        "start_time": "2022-07-31T15:46:20.762Z"
      },
      {
        "duration": 15813,
        "start_time": "2022-07-31T15:46:20.782Z"
      },
      {
        "duration": 24,
        "start_time": "2022-07-31T15:46:36.598Z"
      },
      {
        "duration": 235,
        "start_time": "2022-07-31T15:46:36.625Z"
      },
      {
        "duration": 4,
        "start_time": "2022-07-31T15:49:16.674Z"
      },
      {
        "duration": 6,
        "start_time": "2022-07-31T15:49:16.960Z"
      },
      {
        "duration": 23,
        "start_time": "2022-07-31T15:49:17.191Z"
      },
      {
        "duration": 16,
        "start_time": "2022-07-31T15:49:17.506Z"
      },
      {
        "duration": 5,
        "start_time": "2022-07-31T15:49:17.680Z"
      },
      {
        "duration": 5,
        "start_time": "2022-07-31T15:49:17.916Z"
      },
      {
        "duration": 4,
        "start_time": "2022-07-31T15:49:18.387Z"
      },
      {
        "duration": 29,
        "start_time": "2022-07-31T15:49:18.638Z"
      },
      {
        "duration": 5,
        "start_time": "2022-07-31T15:49:18.858Z"
      },
      {
        "duration": 5,
        "start_time": "2022-07-31T15:49:19.899Z"
      },
      {
        "duration": 5,
        "start_time": "2022-07-31T15:49:20.252Z"
      },
      {
        "duration": 8,
        "start_time": "2022-07-31T15:49:20.608Z"
      },
      {
        "duration": 3,
        "start_time": "2022-07-31T15:49:20.974Z"
      },
      {
        "duration": 3,
        "start_time": "2022-07-31T15:49:21.362Z"
      },
      {
        "duration": 80243,
        "start_time": "2022-07-31T15:49:21.851Z"
      },
      {
        "duration": 4,
        "start_time": "2022-07-31T15:50:42.096Z"
      },
      {
        "duration": 16,
        "start_time": "2022-07-31T15:50:42.102Z"
      },
      {
        "duration": 15525,
        "start_time": "2022-07-31T15:50:42.121Z"
      },
      {
        "duration": 15,
        "start_time": "2022-07-31T15:50:57.648Z"
      },
      {
        "duration": 245,
        "start_time": "2022-07-31T15:50:57.665Z"
      },
      {
        "duration": 6,
        "start_time": "2022-07-31T15:58:25.313Z"
      },
      {
        "duration": 5,
        "start_time": "2022-07-31T15:58:26.041Z"
      },
      {
        "duration": 307,
        "start_time": "2022-07-31T15:58:27.026Z"
      },
      {
        "duration": 4,
        "start_time": "2022-07-31T15:59:53.488Z"
      },
      {
        "duration": 6,
        "start_time": "2022-07-31T15:59:53.954Z"
      },
      {
        "duration": 12,
        "start_time": "2022-07-31T15:59:56.275Z"
      },
      {
        "duration": 293,
        "start_time": "2022-07-31T15:59:57.158Z"
      },
      {
        "duration": 25,
        "start_time": "2022-07-31T16:00:20.807Z"
      },
      {
        "duration": 14,
        "start_time": "2022-07-31T16:00:40.937Z"
      },
      {
        "duration": 13,
        "start_time": "2022-07-31T16:00:51.414Z"
      },
      {
        "duration": 13,
        "start_time": "2022-07-31T16:00:52.116Z"
      },
      {
        "duration": 13,
        "start_time": "2022-07-31T16:01:30.553Z"
      },
      {
        "duration": 16,
        "start_time": "2022-07-31T16:01:30.997Z"
      },
      {
        "duration": 351,
        "start_time": "2022-07-31T16:01:32.037Z"
      },
      {
        "duration": 4,
        "start_time": "2022-07-31T16:02:38.166Z"
      },
      {
        "duration": 6,
        "start_time": "2022-07-31T16:02:38.589Z"
      },
      {
        "duration": 29,
        "start_time": "2022-07-31T16:02:39.264Z"
      },
      {
        "duration": 20,
        "start_time": "2022-07-31T16:02:39.808Z"
      },
      {
        "duration": 17,
        "start_time": "2022-07-31T16:03:03.540Z"
      },
      {
        "duration": 7,
        "start_time": "2022-07-31T16:03:48.984Z"
      },
      {
        "duration": 4,
        "start_time": "2022-07-31T16:03:55.464Z"
      },
      {
        "duration": 6,
        "start_time": "2022-07-31T16:03:56.211Z"
      },
      {
        "duration": 27,
        "start_time": "2022-07-31T16:04:08.360Z"
      },
      {
        "duration": 18,
        "start_time": "2022-07-31T16:04:09.307Z"
      },
      {
        "duration": 18,
        "start_time": "2022-07-31T16:04:39.818Z"
      },
      {
        "duration": 18,
        "start_time": "2022-07-31T16:05:16.809Z"
      },
      {
        "duration": 7,
        "start_time": "2022-07-31T16:05:17.415Z"
      },
      {
        "duration": 9,
        "start_time": "2022-07-31T16:05:17.669Z"
      },
      {
        "duration": 5,
        "start_time": "2022-07-31T16:05:18.215Z"
      },
      {
        "duration": 29,
        "start_time": "2022-07-31T16:05:18.462Z"
      },
      {
        "duration": 6,
        "start_time": "2022-07-31T16:05:18.705Z"
      },
      {
        "duration": 6,
        "start_time": "2022-07-31T16:05:19.851Z"
      },
      {
        "duration": 5,
        "start_time": "2022-07-31T16:05:20.364Z"
      },
      {
        "duration": 9,
        "start_time": "2022-07-31T16:05:20.739Z"
      },
      {
        "duration": 3,
        "start_time": "2022-07-31T16:05:21.140Z"
      },
      {
        "duration": 3,
        "start_time": "2022-07-31T16:05:21.540Z"
      },
      {
        "duration": 22055,
        "start_time": "2022-07-31T16:05:21.854Z"
      },
      {
        "duration": 0,
        "start_time": "2022-07-31T16:05:43.911Z"
      },
      {
        "duration": 0,
        "start_time": "2022-07-31T16:05:43.912Z"
      },
      {
        "duration": 0,
        "start_time": "2022-07-31T16:05:43.914Z"
      },
      {
        "duration": 0,
        "start_time": "2022-07-31T16:05:43.915Z"
      },
      {
        "duration": 0,
        "start_time": "2022-07-31T16:05:43.916Z"
      },
      {
        "duration": 4,
        "start_time": "2022-07-31T16:08:18.001Z"
      },
      {
        "duration": 16,
        "start_time": "2022-07-31T16:08:24.676Z"
      },
      {
        "duration": 35,
        "start_time": "2022-07-31T16:09:27.622Z"
      },
      {
        "duration": 3,
        "start_time": "2022-07-31T16:10:03.482Z"
      },
      {
        "duration": 5,
        "start_time": "2022-07-31T16:10:03.978Z"
      },
      {
        "duration": 30,
        "start_time": "2022-07-31T16:10:04.361Z"
      },
      {
        "duration": 19,
        "start_time": "2022-07-31T16:10:04.860Z"
      },
      {
        "duration": 6,
        "start_time": "2022-07-31T16:10:05.550Z"
      },
      {
        "duration": 2,
        "start_time": "2022-07-31T16:10:06.272Z"
      },
      {
        "duration": 6,
        "start_time": "2022-07-31T16:10:07.054Z"
      },
      {
        "duration": 7,
        "start_time": "2022-07-31T16:10:09.044Z"
      },
      {
        "duration": 26,
        "start_time": "2022-07-31T16:10:10.239Z"
      },
      {
        "duration": 17,
        "start_time": "2022-07-31T16:10:10.792Z"
      },
      {
        "duration": 8,
        "start_time": "2022-07-31T16:10:13.338Z"
      },
      {
        "duration": 4,
        "start_time": "2022-07-31T16:10:13.645Z"
      },
      {
        "duration": 4,
        "start_time": "2022-07-31T16:10:14.062Z"
      },
      {
        "duration": 28,
        "start_time": "2022-07-31T16:10:14.290Z"
      },
      {
        "duration": 5,
        "start_time": "2022-07-31T16:10:14.513Z"
      },
      {
        "duration": 5,
        "start_time": "2022-07-31T16:10:15.411Z"
      },
      {
        "duration": 4,
        "start_time": "2022-07-31T16:10:15.650Z"
      },
      {
        "duration": 9,
        "start_time": "2022-07-31T16:10:15.851Z"
      },
      {
        "duration": 3,
        "start_time": "2022-07-31T16:10:16.093Z"
      },
      {
        "duration": 3,
        "start_time": "2022-07-31T16:10:16.384Z"
      },
      {
        "duration": 22109,
        "start_time": "2022-07-31T16:10:16.671Z"
      },
      {
        "duration": 0,
        "start_time": "2022-07-31T16:10:38.783Z"
      },
      {
        "duration": 0,
        "start_time": "2022-07-31T16:10:38.785Z"
      },
      {
        "duration": 0,
        "start_time": "2022-07-31T16:10:38.786Z"
      },
      {
        "duration": 0,
        "start_time": "2022-07-31T16:10:38.787Z"
      },
      {
        "duration": 0,
        "start_time": "2022-07-31T16:10:38.789Z"
      },
      {
        "duration": 5,
        "start_time": "2022-07-31T16:12:24.590Z"
      },
      {
        "duration": 17,
        "start_time": "2022-07-31T16:12:50.790Z"
      },
      {
        "duration": 27,
        "start_time": "2022-07-31T16:13:45.208Z"
      },
      {
        "duration": 5,
        "start_time": "2022-07-31T16:42:34.405Z"
      },
      {
        "duration": 4,
        "start_time": "2022-07-31T16:44:31.120Z"
      },
      {
        "duration": 7,
        "start_time": "2022-07-31T16:44:31.722Z"
      },
      {
        "duration": 3,
        "start_time": "2022-07-31T16:44:32.628Z"
      },
      {
        "duration": 3,
        "start_time": "2022-07-31T16:44:34.388Z"
      },
      {
        "duration": 2,
        "start_time": "2022-07-31T16:44:34.708Z"
      },
      {
        "duration": 3,
        "start_time": "2022-07-31T16:44:35.328Z"
      },
      {
        "duration": 3,
        "start_time": "2022-07-31T16:44:36.024Z"
      },
      {
        "duration": 37,
        "start_time": "2022-07-31T16:44:36.522Z"
      },
      {
        "duration": 225,
        "start_time": "2022-07-31T16:44:37.043Z"
      },
      {
        "duration": 26,
        "start_time": "2022-07-31T16:44:38.633Z"
      },
      {
        "duration": 18,
        "start_time": "2022-07-31T16:44:39.417Z"
      },
      {
        "duration": 14,
        "start_time": "2022-07-31T16:44:40.916Z"
      },
      {
        "duration": 6,
        "start_time": "2022-07-31T16:44:42.925Z"
      },
      {
        "duration": 42,
        "start_time": "2022-07-31T16:44:43.404Z"
      },
      {
        "duration": 6,
        "start_time": "2022-07-31T16:44:43.677Z"
      },
      {
        "duration": 11,
        "start_time": "2022-07-31T16:44:44.619Z"
      },
      {
        "duration": 11,
        "start_time": "2022-07-31T16:44:44.991Z"
      },
      {
        "duration": 2,
        "start_time": "2022-07-31T16:44:45.368Z"
      },
      {
        "duration": 3,
        "start_time": "2022-07-31T16:44:46.256Z"
      },
      {
        "duration": 5,
        "start_time": "2022-07-31T16:44:46.753Z"
      },
      {
        "duration": 35,
        "start_time": "2022-07-31T16:44:47.566Z"
      },
      {
        "duration": 93830,
        "start_time": "2022-07-31T16:44:49.204Z"
      },
      {
        "duration": 4,
        "start_time": "2022-07-31T16:46:23.037Z"
      },
      {
        "duration": 16,
        "start_time": "2022-07-31T16:46:23.043Z"
      },
      {
        "duration": 17570,
        "start_time": "2022-07-31T16:46:23.061Z"
      },
      {
        "duration": 24,
        "start_time": "2022-07-31T16:46:40.633Z"
      },
      {
        "duration": 302,
        "start_time": "2022-07-31T16:46:40.659Z"
      },
      {
        "duration": 4,
        "start_time": "2022-07-31T16:49:21.767Z"
      },
      {
        "duration": 7,
        "start_time": "2022-07-31T16:49:22.114Z"
      },
      {
        "duration": 6,
        "start_time": "2022-07-31T16:49:22.415Z"
      },
      {
        "duration": 33,
        "start_time": "2022-07-31T16:49:22.663Z"
      },
      {
        "duration": 163,
        "start_time": "2022-07-31T16:49:22.865Z"
      },
      {
        "duration": 5,
        "start_time": "2022-07-31T16:49:23.080Z"
      },
      {
        "duration": 17,
        "start_time": "2022-07-31T16:49:23.291Z"
      },
      {
        "duration": 6,
        "start_time": "2022-07-31T16:49:23.514Z"
      },
      {
        "duration": 5,
        "start_time": "2022-07-31T16:49:23.757Z"
      },
      {
        "duration": 4,
        "start_time": "2022-07-31T16:49:24.297Z"
      },
      {
        "duration": 44,
        "start_time": "2022-07-31T16:49:24.513Z"
      },
      {
        "duration": 7,
        "start_time": "2022-07-31T16:49:24.729Z"
      },
      {
        "duration": 6,
        "start_time": "2022-07-31T16:49:25.835Z"
      },
      {
        "duration": 11,
        "start_time": "2022-07-31T16:49:26.228Z"
      },
      {
        "duration": 3,
        "start_time": "2022-07-31T16:49:27.372Z"
      },
      {
        "duration": 3,
        "start_time": "2022-07-31T16:49:30.112Z"
      },
      {
        "duration": 17434,
        "start_time": "2022-07-31T16:49:50.632Z"
      },
      {
        "duration": 26,
        "start_time": "2022-07-31T16:50:08.068Z"
      },
      {
        "duration": 275,
        "start_time": "2022-07-31T16:50:08.096Z"
      },
      {
        "duration": 5,
        "start_time": "2022-07-31T16:51:18.172Z"
      },
      {
        "duration": 6,
        "start_time": "2022-07-31T16:51:18.417Z"
      },
      {
        "duration": 4,
        "start_time": "2022-07-31T16:51:18.672Z"
      },
      {
        "duration": 25,
        "start_time": "2022-07-31T16:51:18.874Z"
      },
      {
        "duration": 161,
        "start_time": "2022-07-31T16:51:19.085Z"
      },
      {
        "duration": 6,
        "start_time": "2022-07-31T16:51:19.296Z"
      },
      {
        "duration": 18,
        "start_time": "2022-07-31T16:51:19.493Z"
      },
      {
        "duration": 7,
        "start_time": "2022-07-31T16:51:19.691Z"
      },
      {
        "duration": 6,
        "start_time": "2022-07-31T16:51:19.909Z"
      },
      {
        "duration": 5,
        "start_time": "2022-07-31T16:51:20.344Z"
      },
      {
        "duration": 42,
        "start_time": "2022-07-31T16:51:20.629Z"
      },
      {
        "duration": 5,
        "start_time": "2022-07-31T16:51:20.843Z"
      },
      {
        "duration": 6,
        "start_time": "2022-07-31T16:51:21.787Z"
      },
      {
        "duration": 12,
        "start_time": "2022-07-31T16:51:22.181Z"
      },
      {
        "duration": 2,
        "start_time": "2022-07-31T16:51:23.498Z"
      },
      {
        "duration": 3,
        "start_time": "2022-07-31T16:51:24.373Z"
      },
      {
        "duration": 5,
        "start_time": "2022-07-31T16:51:25.016Z"
      },
      {
        "duration": 33,
        "start_time": "2022-07-31T16:51:26.425Z"
      },
      {
        "duration": 16475,
        "start_time": "2022-07-31T16:51:34.063Z"
      },
      {
        "duration": 20,
        "start_time": "2022-07-31T16:51:50.540Z"
      },
      {
        "duration": 253,
        "start_time": "2022-07-31T16:51:50.562Z"
      },
      {
        "duration": 4,
        "start_time": "2022-07-31T16:53:12.531Z"
      },
      {
        "duration": 6,
        "start_time": "2022-07-31T16:53:12.842Z"
      },
      {
        "duration": 5,
        "start_time": "2022-07-31T16:53:13.054Z"
      },
      {
        "duration": 33,
        "start_time": "2022-07-31T16:53:13.303Z"
      },
      {
        "duration": 155,
        "start_time": "2022-07-31T16:53:13.523Z"
      },
      {
        "duration": 15,
        "start_time": "2022-07-31T16:53:13.775Z"
      },
      {
        "duration": 7,
        "start_time": "2022-07-31T16:53:14.013Z"
      },
      {
        "duration": 5,
        "start_time": "2022-07-31T16:53:14.135Z"
      },
      {
        "duration": 4,
        "start_time": "2022-07-31T16:53:14.475Z"
      },
      {
        "duration": 28,
        "start_time": "2022-07-31T16:53:14.695Z"
      },
      {
        "duration": 5,
        "start_time": "2022-07-31T16:53:14.901Z"
      },
      {
        "duration": 5,
        "start_time": "2022-07-31T16:53:16.191Z"
      },
      {
        "duration": 8,
        "start_time": "2022-07-31T16:53:16.456Z"
      },
      {
        "duration": 2,
        "start_time": "2022-07-31T16:53:17.378Z"
      },
      {
        "duration": 3,
        "start_time": "2022-07-31T16:53:18.161Z"
      },
      {
        "duration": 4,
        "start_time": "2022-07-31T16:53:18.526Z"
      },
      {
        "duration": 4,
        "start_time": "2022-07-31T16:53:33.587Z"
      },
      {
        "duration": 13,
        "start_time": "2022-07-31T16:53:33.979Z"
      },
      {
        "duration": 16330,
        "start_time": "2022-07-31T16:53:34.526Z"
      },
      {
        "duration": 18,
        "start_time": "2022-07-31T16:53:50.858Z"
      },
      {
        "duration": 270,
        "start_time": "2022-07-31T16:53:50.878Z"
      },
      {
        "duration": 3,
        "start_time": "2022-07-31T16:56:11.634Z"
      },
      {
        "duration": 19,
        "start_time": "2022-07-31T16:56:11.902Z"
      },
      {
        "duration": 6,
        "start_time": "2022-07-31T16:56:12.140Z"
      },
      {
        "duration": 4,
        "start_time": "2022-07-31T16:56:12.360Z"
      },
      {
        "duration": 25,
        "start_time": "2022-07-31T16:56:12.586Z"
      },
      {
        "duration": 5,
        "start_time": "2022-07-31T16:56:58.102Z"
      },
      {
        "duration": 19,
        "start_time": "2022-07-31T16:56:58.542Z"
      },
      {
        "duration": 6,
        "start_time": "2022-07-31T16:56:58.789Z"
      },
      {
        "duration": 5,
        "start_time": "2022-07-31T16:56:59.026Z"
      },
      {
        "duration": 3,
        "start_time": "2022-07-31T16:57:21.006Z"
      },
      {
        "duration": 5,
        "start_time": "2022-07-31T16:57:21.749Z"
      },
      {
        "duration": 5,
        "start_time": "2022-07-31T16:57:22.502Z"
      },
      {
        "duration": 4,
        "start_time": "2022-07-31T16:57:22.817Z"
      },
      {
        "duration": 22,
        "start_time": "2022-07-31T16:57:23.041Z"
      },
      {
        "duration": 157,
        "start_time": "2022-07-31T16:57:23.255Z"
      },
      {
        "duration": 16,
        "start_time": "2022-07-31T16:57:23.463Z"
      },
      {
        "duration": 6,
        "start_time": "2022-07-31T16:57:23.677Z"
      },
      {
        "duration": 4,
        "start_time": "2022-07-31T16:57:23.887Z"
      },
      {
        "duration": 4,
        "start_time": "2022-07-31T16:57:24.309Z"
      },
      {
        "duration": 29,
        "start_time": "2022-07-31T16:57:24.517Z"
      },
      {
        "duration": 5,
        "start_time": "2022-07-31T16:57:24.724Z"
      },
      {
        "duration": 5,
        "start_time": "2022-07-31T16:57:25.636Z"
      },
      {
        "duration": 8,
        "start_time": "2022-07-31T16:57:25.852Z"
      },
      {
        "duration": 3,
        "start_time": "2022-07-31T16:57:26.144Z"
      },
      {
        "duration": 4,
        "start_time": "2022-07-31T16:57:26.453Z"
      },
      {
        "duration": 5,
        "start_time": "2022-07-31T16:57:27.624Z"
      },
      {
        "duration": 31,
        "start_time": "2022-07-31T16:57:28.670Z"
      },
      {
        "duration": 16089,
        "start_time": "2022-07-31T16:57:43.447Z"
      },
      {
        "duration": 16,
        "start_time": "2022-07-31T16:57:59.538Z"
      },
      {
        "duration": 249,
        "start_time": "2022-07-31T16:57:59.555Z"
      },
      {
        "duration": 5,
        "start_time": "2022-07-31T17:03:31.168Z"
      },
      {
        "duration": 6,
        "start_time": "2022-07-31T17:03:31.424Z"
      },
      {
        "duration": 4,
        "start_time": "2022-07-31T17:03:31.665Z"
      },
      {
        "duration": 36,
        "start_time": "2022-07-31T17:03:31.889Z"
      },
      {
        "duration": 162,
        "start_time": "2022-07-31T17:03:32.097Z"
      },
      {
        "duration": 17,
        "start_time": "2022-07-31T17:03:32.307Z"
      },
      {
        "duration": 6,
        "start_time": "2022-07-31T17:03:32.514Z"
      },
      {
        "duration": 4,
        "start_time": "2022-07-31T17:03:32.732Z"
      },
      {
        "duration": 3,
        "start_time": "2022-07-31T17:03:33.129Z"
      },
      {
        "duration": 28,
        "start_time": "2022-07-31T17:03:33.367Z"
      },
      {
        "duration": 5,
        "start_time": "2022-07-31T17:03:33.591Z"
      },
      {
        "duration": 5,
        "start_time": "2022-07-31T17:03:34.500Z"
      },
      {
        "duration": 8,
        "start_time": "2022-07-31T17:03:34.779Z"
      },
      {
        "duration": 3,
        "start_time": "2022-07-31T17:03:34.989Z"
      },
      {
        "duration": 2,
        "start_time": "2022-07-31T17:03:35.234Z"
      },
      {
        "duration": 2532906,
        "start_time": "2022-07-31T17:03:35.541Z"
      },
      {
        "duration": 4,
        "start_time": "2022-07-31T17:45:48.449Z"
      },
      {
        "duration": 52,
        "start_time": "2022-07-31T17:45:48.455Z"
      },
      {
        "duration": 16231,
        "start_time": "2022-07-31T17:45:48.509Z"
      },
      {
        "duration": 17,
        "start_time": "2022-07-31T17:46:04.742Z"
      },
      {
        "duration": 232,
        "start_time": "2022-07-31T17:46:04.761Z"
      },
      {
        "duration": 4,
        "start_time": "2022-07-31T17:46:04.995Z"
      },
      {
        "duration": 11,
        "start_time": "2022-07-31T17:49:13.910Z"
      },
      {
        "duration": 8,
        "start_time": "2022-07-31T17:50:11.760Z"
      },
      {
        "duration": 160,
        "start_time": "2022-07-31T17:50:12.526Z"
      },
      {
        "duration": 20,
        "start_time": "2022-07-31T17:51:30.032Z"
      },
      {
        "duration": 13,
        "start_time": "2022-07-31T17:51:43.466Z"
      },
      {
        "duration": 18,
        "start_time": "2022-07-31T17:53:19.472Z"
      },
      {
        "duration": 4,
        "start_time": "2022-07-31T17:53:54.625Z"
      },
      {
        "duration": 8,
        "start_time": "2022-07-31T17:53:55.927Z"
      },
      {
        "duration": 11,
        "start_time": "2022-07-31T17:53:56.767Z"
      },
      {
        "duration": 6341,
        "start_time": "2022-07-31T17:54:00.088Z"
      },
      {
        "duration": 3,
        "start_time": "2022-07-31T17:54:06.431Z"
      },
      {
        "duration": 7,
        "start_time": "2022-07-31T17:54:06.436Z"
      },
      {
        "duration": 35,
        "start_time": "2022-07-31T17:54:06.445Z"
      },
      {
        "duration": 4,
        "start_time": "2022-07-31T17:55:59.620Z"
      },
      {
        "duration": 5,
        "start_time": "2022-07-31T17:56:08.258Z"
      },
      {
        "duration": 10,
        "start_time": "2022-07-31T17:56:25.461Z"
      },
      {
        "duration": 75,
        "start_time": "2022-07-31T17:56:42.010Z"
      },
      {
        "duration": 4,
        "start_time": "2022-07-31T17:56:48.031Z"
      },
      {
        "duration": 67030,
        "start_time": "2022-07-31T17:57:48.177Z"
      },
      {
        "duration": 5,
        "start_time": "2022-07-31T17:58:55.210Z"
      },
      {
        "duration": 49,
        "start_time": "2022-07-31T17:58:55.217Z"
      },
      {
        "duration": 35,
        "start_time": "2022-07-31T17:58:55.269Z"
      },
      {
        "duration": 63,
        "start_time": "2022-07-31T17:58:55.306Z"
      },
      {
        "duration": 79219,
        "start_time": "2022-07-31T18:03:42.675Z"
      },
      {
        "duration": 14,
        "start_time": "2022-07-31T18:05:01.896Z"
      },
      {
        "duration": 23,
        "start_time": "2022-07-31T18:05:01.912Z"
      },
      {
        "duration": 15,
        "start_time": "2022-07-31T18:05:01.938Z"
      },
      {
        "duration": 71,
        "start_time": "2022-07-31T18:05:01.955Z"
      },
      {
        "duration": 3,
        "start_time": "2022-07-31T18:08:27.729Z"
      },
      {
        "duration": 169,
        "start_time": "2022-07-31T18:08:28.207Z"
      },
      {
        "duration": 28,
        "start_time": "2022-07-31T18:08:29.217Z"
      },
      {
        "duration": 6,
        "start_time": "2022-07-31T18:08:30.361Z"
      },
      {
        "duration": 5,
        "start_time": "2022-07-31T18:08:31.359Z"
      },
      {
        "duration": 4,
        "start_time": "2022-07-31T18:08:50.214Z"
      },
      {
        "duration": 9,
        "start_time": "2022-07-31T18:08:50.913Z"
      },
      {
        "duration": 4,
        "start_time": "2022-07-31T18:08:52.018Z"
      },
      {
        "duration": 12,
        "start_time": "2022-07-31T18:08:53.725Z"
      },
      {
        "duration": 41517,
        "start_time": "2022-07-31T18:08:54.478Z"
      },
      {
        "duration": 4,
        "start_time": "2022-07-31T18:09:35.997Z"
      },
      {
        "duration": 11,
        "start_time": "2022-07-31T18:09:36.011Z"
      },
      {
        "duration": 27,
        "start_time": "2022-07-31T18:09:36.024Z"
      },
      {
        "duration": 4,
        "start_time": "2022-07-31T18:10:42.723Z"
      },
      {
        "duration": 61168,
        "start_time": "2022-07-31T18:11:24.679Z"
      },
      {
        "duration": 4,
        "start_time": "2022-07-31T18:12:25.848Z"
      },
      {
        "duration": 8,
        "start_time": "2022-07-31T18:12:25.853Z"
      },
      {
        "duration": 7,
        "start_time": "2022-07-31T18:12:25.863Z"
      },
      {
        "duration": 24,
        "start_time": "2022-07-31T18:12:25.872Z"
      },
      {
        "duration": 4,
        "start_time": "2022-07-31T18:12:57.666Z"
      },
      {
        "duration": 396,
        "start_time": "2022-07-31T18:12:58.389Z"
      },
      {
        "duration": 28,
        "start_time": "2022-07-31T18:12:58.961Z"
      },
      {
        "duration": 5,
        "start_time": "2022-07-31T18:13:00.592Z"
      },
      {
        "duration": 5,
        "start_time": "2022-07-31T18:13:11.408Z"
      },
      {
        "duration": 9,
        "start_time": "2022-07-31T18:13:12.097Z"
      },
      {
        "duration": 3,
        "start_time": "2022-07-31T18:13:13.202Z"
      },
      {
        "duration": 13,
        "start_time": "2022-07-31T18:13:14.157Z"
      },
      {
        "duration": 62540,
        "start_time": "2022-07-31T18:13:14.762Z"
      },
      {
        "duration": 12,
        "start_time": "2022-07-31T18:14:17.304Z"
      },
      {
        "duration": 20,
        "start_time": "2022-07-31T18:14:17.325Z"
      },
      {
        "duration": 10,
        "start_time": "2022-07-31T18:14:17.348Z"
      },
      {
        "duration": 40,
        "start_time": "2022-07-31T18:14:17.361Z"
      },
      {
        "duration": 3,
        "start_time": "2022-07-31T18:19:32.181Z"
      },
      {
        "duration": 166,
        "start_time": "2022-07-31T18:19:32.673Z"
      },
      {
        "duration": 29,
        "start_time": "2022-07-31T18:19:33.133Z"
      },
      {
        "duration": 5,
        "start_time": "2022-07-31T18:19:33.629Z"
      },
      {
        "duration": 5,
        "start_time": "2022-07-31T18:19:34.177Z"
      },
      {
        "duration": 4,
        "start_time": "2022-07-31T18:19:52.370Z"
      },
      {
        "duration": 8,
        "start_time": "2022-07-31T18:19:53.025Z"
      },
      {
        "duration": 3,
        "start_time": "2022-07-31T18:19:53.685Z"
      },
      {
        "duration": 12,
        "start_time": "2022-07-31T18:19:54.261Z"
      },
      {
        "duration": 79,
        "start_time": "2022-07-31T18:19:54.998Z"
      },
      {
        "duration": 4,
        "start_time": "2022-07-31T18:19:55.658Z"
      },
      {
        "duration": 111455,
        "start_time": "2022-07-31T18:20:14.061Z"
      },
      {
        "duration": 4,
        "start_time": "2022-07-31T18:22:05.518Z"
      },
      {
        "duration": 9,
        "start_time": "2022-07-31T18:22:05.524Z"
      },
      {
        "duration": 9,
        "start_time": "2022-07-31T18:22:05.535Z"
      },
      {
        "duration": 27,
        "start_time": "2022-07-31T18:22:05.546Z"
      },
      {
        "duration": 28,
        "start_time": "2022-07-31T18:30:06.104Z"
      },
      {
        "duration": 34,
        "start_time": "2022-07-31T18:31:00.109Z"
      },
      {
        "duration": 27,
        "start_time": "2022-07-31T18:31:05.066Z"
      },
      {
        "duration": 39,
        "start_time": "2022-07-31T18:31:15.562Z"
      },
      {
        "duration": 2604,
        "start_time": "2022-07-31T18:32:30.615Z"
      },
      {
        "duration": 5,
        "start_time": "2022-07-31T18:32:38.884Z"
      },
      {
        "duration": 4,
        "start_time": "2022-07-31T18:32:39.892Z"
      },
      {
        "duration": 24,
        "start_time": "2022-07-31T18:32:41.304Z"
      },
      {
        "duration": 4,
        "start_time": "2022-07-31T18:33:26.562Z"
      },
      {
        "duration": 5,
        "start_time": "2022-07-31T18:33:27.819Z"
      },
      {
        "duration": 13,
        "start_time": "2022-07-31T18:33:29.018Z"
      },
      {
        "duration": 1723,
        "start_time": "2022-07-31T18:34:24.289Z"
      },
      {
        "duration": 5,
        "start_time": "2022-07-31T18:34:26.970Z"
      },
      {
        "duration": 4,
        "start_time": "2022-07-31T18:34:27.768Z"
      },
      {
        "duration": 14,
        "start_time": "2022-07-31T18:34:28.775Z"
      },
      {
        "duration": 5559,
        "start_time": "2022-07-31T18:35:01.262Z"
      },
      {
        "duration": 93,
        "start_time": "2022-07-31T18:35:06.825Z"
      },
      {
        "duration": 11,
        "start_time": "2022-07-31T18:35:07.009Z"
      },
      {
        "duration": 15,
        "start_time": "2022-07-31T18:35:07.022Z"
      },
      {
        "duration": 11,
        "start_time": "2022-07-31T18:36:06.186Z"
      },
      {
        "duration": 5,
        "start_time": "2022-07-31T18:37:02.172Z"
      },
      {
        "duration": 5,
        "start_time": "2022-07-31T18:37:05.299Z"
      },
      {
        "duration": 4,
        "start_time": "2022-07-31T18:37:06.860Z"
      },
      {
        "duration": 190,
        "start_time": "2022-07-31T18:37:07.996Z"
      },
      {
        "duration": 38,
        "start_time": "2022-07-31T18:37:08.410Z"
      },
      {
        "duration": 6,
        "start_time": "2022-07-31T18:37:08.794Z"
      },
      {
        "duration": 5,
        "start_time": "2022-07-31T18:37:09.303Z"
      },
      {
        "duration": 4,
        "start_time": "2022-07-31T18:37:16.553Z"
      },
      {
        "duration": 8,
        "start_time": "2022-07-31T18:37:17.459Z"
      },
      {
        "duration": 3,
        "start_time": "2022-07-31T18:37:18.852Z"
      },
      {
        "duration": 14,
        "start_time": "2022-07-31T18:37:19.510Z"
      },
      {
        "duration": 108397,
        "start_time": "2022-07-31T18:37:20.017Z"
      },
      {
        "duration": 4,
        "start_time": "2022-07-31T18:39:08.416Z"
      },
      {
        "duration": 23,
        "start_time": "2022-07-31T18:39:08.422Z"
      },
      {
        "duration": 50,
        "start_time": "2022-07-31T18:39:08.448Z"
      },
      {
        "duration": 24,
        "start_time": "2022-07-31T18:39:08.499Z"
      },
      {
        "duration": 0,
        "start_time": "2022-07-31T18:39:08.524Z"
      },
      {
        "duration": 0,
        "start_time": "2022-07-31T18:39:08.526Z"
      },
      {
        "duration": 0,
        "start_time": "2022-07-31T18:39:08.527Z"
      },
      {
        "duration": 0,
        "start_time": "2022-07-31T18:39:08.528Z"
      },
      {
        "duration": 4952,
        "start_time": "2022-07-31T18:42:42.259Z"
      },
      {
        "duration": 4,
        "start_time": "2022-07-31T18:42:47.214Z"
      },
      {
        "duration": 97,
        "start_time": "2022-07-31T18:42:47.220Z"
      },
      {
        "duration": 16,
        "start_time": "2022-07-31T18:42:47.319Z"
      },
      {
        "duration": 15472,
        "start_time": "2022-07-31T18:43:39.350Z"
      },
      {
        "duration": 92,
        "start_time": "2022-07-31T18:43:54.825Z"
      },
      {
        "duration": 93,
        "start_time": "2022-07-31T18:43:54.919Z"
      },
      {
        "duration": 19,
        "start_time": "2022-07-31T18:43:55.015Z"
      },
      {
        "duration": 20539,
        "start_time": "2022-07-31T18:46:06.881Z"
      },
      {
        "duration": 6,
        "start_time": "2022-07-31T18:46:27.512Z"
      },
      {
        "duration": 103,
        "start_time": "2022-07-31T18:46:27.521Z"
      },
      {
        "duration": 90,
        "start_time": "2022-07-31T18:46:27.626Z"
      },
      {
        "duration": 5,
        "start_time": "2022-07-31T19:06:31.287Z"
      },
      {
        "duration": 202,
        "start_time": "2022-07-31T19:06:32.045Z"
      },
      {
        "duration": 28,
        "start_time": "2022-07-31T19:06:32.798Z"
      },
      {
        "duration": 6,
        "start_time": "2022-07-31T19:06:33.621Z"
      },
      {
        "duration": 2,
        "start_time": "2022-07-31T19:06:34.973Z"
      },
      {
        "duration": 4,
        "start_time": "2022-07-31T19:06:56.937Z"
      },
      {
        "duration": 9,
        "start_time": "2022-07-31T19:06:58.398Z"
      },
      {
        "duration": 3,
        "start_time": "2022-07-31T19:06:59.154Z"
      },
      {
        "duration": 15,
        "start_time": "2022-07-31T19:06:59.701Z"
      },
      {
        "duration": 119267,
        "start_time": "2022-07-31T19:07:00.202Z"
      },
      {
        "duration": 4,
        "start_time": "2022-07-31T19:08:59.471Z"
      },
      {
        "duration": 8,
        "start_time": "2022-07-31T19:08:59.476Z"
      },
      {
        "duration": 46,
        "start_time": "2022-07-31T19:08:59.486Z"
      },
      {
        "duration": 7,
        "start_time": "2022-07-31T19:10:31.127Z"
      },
      {
        "duration": 28,
        "start_time": "2022-07-31T19:10:41.774Z"
      },
      {
        "duration": 7,
        "start_time": "2022-07-31T19:12:51.108Z"
      },
      {
        "duration": 44749,
        "start_time": "2022-07-31T19:12:51.761Z"
      },
      {
        "duration": 7,
        "start_time": "2022-07-31T19:13:36.514Z"
      },
      {
        "duration": 8,
        "start_time": "2022-07-31T19:13:36.610Z"
      },
      {
        "duration": 12,
        "start_time": "2022-07-31T19:13:36.620Z"
      },
      {
        "duration": 10775,
        "start_time": "2022-07-31T19:14:14.266Z"
      },
      {
        "duration": 5,
        "start_time": "2022-07-31T19:14:25.043Z"
      },
      {
        "duration": 11,
        "start_time": "2022-07-31T19:14:25.050Z"
      },
      {
        "duration": 48,
        "start_time": "2022-07-31T19:14:25.064Z"
      },
      {
        "duration": 4,
        "start_time": "2022-07-31T19:15:40.377Z"
      },
      {
        "duration": 163,
        "start_time": "2022-07-31T19:15:40.703Z"
      },
      {
        "duration": 30,
        "start_time": "2022-07-31T19:15:40.990Z"
      },
      {
        "duration": 6,
        "start_time": "2022-07-31T19:15:41.251Z"
      },
      {
        "duration": 5,
        "start_time": "2022-07-31T19:15:41.650Z"
      },
      {
        "duration": 4,
        "start_time": "2022-07-31T19:15:51.678Z"
      },
      {
        "duration": 11,
        "start_time": "2022-07-31T19:15:52.017Z"
      },
      {
        "duration": 3,
        "start_time": "2022-07-31T19:15:52.318Z"
      },
      {
        "duration": 14,
        "start_time": "2022-07-31T19:15:52.875Z"
      },
      {
        "duration": 656726,
        "start_time": "2022-07-31T19:15:53.227Z"
      },
      {
        "duration": 5,
        "start_time": "2022-07-31T19:26:49.955Z"
      },
      {
        "duration": 7,
        "start_time": "2022-07-31T19:26:49.962Z"
      },
      {
        "duration": 57,
        "start_time": "2022-07-31T19:26:49.971Z"
      },
      {
        "duration": 95449,
        "start_time": "2022-07-31T19:29:44.955Z"
      },
      {
        "duration": 6,
        "start_time": "2022-07-31T19:31:20.406Z"
      },
      {
        "duration": 11,
        "start_time": "2022-07-31T19:31:20.414Z"
      },
      {
        "duration": 25,
        "start_time": "2022-07-31T19:31:20.427Z"
      },
      {
        "duration": 4,
        "start_time": "2022-07-31T19:32:52.066Z"
      },
      {
        "duration": 383,
        "start_time": "2022-07-31T19:32:52.417Z"
      },
      {
        "duration": 32,
        "start_time": "2022-07-31T19:32:52.802Z"
      },
      {
        "duration": 5,
        "start_time": "2022-07-31T19:32:53.179Z"
      },
      {
        "duration": 7,
        "start_time": "2022-07-31T19:32:55.223Z"
      },
      {
        "duration": 4,
        "start_time": "2022-07-31T19:33:03.285Z"
      },
      {
        "duration": 7,
        "start_time": "2022-07-31T19:33:03.577Z"
      },
      {
        "duration": 3,
        "start_time": "2022-07-31T19:33:03.863Z"
      },
      {
        "duration": 12,
        "start_time": "2022-07-31T19:33:04.164Z"
      },
      {
        "duration": 93935,
        "start_time": "2022-07-31T19:33:04.576Z"
      },
      {
        "duration": 4,
        "start_time": "2022-07-31T19:34:38.513Z"
      },
      {
        "duration": 11,
        "start_time": "2022-07-31T19:34:38.518Z"
      },
      {
        "duration": 31,
        "start_time": "2022-07-31T19:34:38.531Z"
      },
      {
        "duration": 4,
        "start_time": "2022-07-31T19:35:51.105Z"
      },
      {
        "duration": 156,
        "start_time": "2022-07-31T19:35:51.416Z"
      },
      {
        "duration": 28,
        "start_time": "2022-07-31T19:35:51.689Z"
      },
      {
        "duration": 6,
        "start_time": "2022-07-31T19:35:52.063Z"
      },
      {
        "duration": 2,
        "start_time": "2022-07-31T19:35:52.489Z"
      },
      {
        "duration": 3,
        "start_time": "2022-07-31T19:36:00.722Z"
      },
      {
        "duration": 7,
        "start_time": "2022-07-31T19:36:00.971Z"
      },
      {
        "duration": 3,
        "start_time": "2022-07-31T19:36:01.226Z"
      },
      {
        "duration": 12,
        "start_time": "2022-07-31T19:36:01.461Z"
      },
      {
        "duration": 99747,
        "start_time": "2022-07-31T19:36:01.810Z"
      },
      {
        "duration": 4,
        "start_time": "2022-07-31T19:37:41.559Z"
      },
      {
        "duration": 8,
        "start_time": "2022-07-31T19:37:41.565Z"
      },
      {
        "duration": 43,
        "start_time": "2022-07-31T19:37:41.575Z"
      },
      {
        "duration": 34339,
        "start_time": "2022-07-31T19:40:24.029Z"
      },
      {
        "duration": 5,
        "start_time": "2022-07-31T19:40:58.370Z"
      },
      {
        "duration": 18,
        "start_time": "2022-07-31T19:40:58.377Z"
      },
      {
        "duration": 33,
        "start_time": "2022-07-31T19:40:58.398Z"
      },
      {
        "duration": 4,
        "start_time": "2022-07-31T19:42:47.759Z"
      },
      {
        "duration": 163,
        "start_time": "2022-07-31T19:42:48.211Z"
      },
      {
        "duration": 4,
        "start_time": "2022-07-31T19:42:48.760Z"
      },
      {
        "duration": 30,
        "start_time": "2022-07-31T19:42:49.263Z"
      },
      {
        "duration": 6,
        "start_time": "2022-07-31T19:42:49.805Z"
      },
      {
        "duration": 4,
        "start_time": "2022-07-31T19:42:56.585Z"
      },
      {
        "duration": 8,
        "start_time": "2022-07-31T19:42:56.908Z"
      },
      {
        "duration": 3,
        "start_time": "2022-07-31T19:42:57.300Z"
      },
      {
        "duration": 13,
        "start_time": "2022-07-31T19:42:57.764Z"
      },
      {
        "duration": 33983,
        "start_time": "2022-07-31T19:42:58.186Z"
      },
      {
        "duration": 4,
        "start_time": "2022-07-31T19:43:32.171Z"
      },
      {
        "duration": 10,
        "start_time": "2022-07-31T19:43:32.177Z"
      },
      {
        "duration": 38,
        "start_time": "2022-07-31T19:43:32.189Z"
      },
      {
        "duration": 3,
        "start_time": "2022-07-31T19:44:02.134Z"
      },
      {
        "duration": 2,
        "start_time": "2022-07-31T19:44:02.471Z"
      },
      {
        "duration": 2,
        "start_time": "2022-07-31T19:44:02.761Z"
      },
      {
        "duration": 28,
        "start_time": "2022-07-31T19:44:03.059Z"
      },
      {
        "duration": 5,
        "start_time": "2022-07-31T19:44:03.476Z"
      },
      {
        "duration": 4,
        "start_time": "2022-07-31T19:44:12.114Z"
      },
      {
        "duration": 8,
        "start_time": "2022-07-31T19:44:12.460Z"
      },
      {
        "duration": 3,
        "start_time": "2022-07-31T19:44:12.739Z"
      },
      {
        "duration": 13,
        "start_time": "2022-07-31T19:44:13.038Z"
      },
      {
        "duration": 34093,
        "start_time": "2022-07-31T19:44:13.381Z"
      },
      {
        "duration": 4,
        "start_time": "2022-07-31T19:44:47.477Z"
      },
      {
        "duration": 18,
        "start_time": "2022-07-31T19:44:47.484Z"
      },
      {
        "duration": 22,
        "start_time": "2022-07-31T19:44:47.510Z"
      },
      {
        "duration": 4,
        "start_time": "2022-07-31T19:45:40.189Z"
      },
      {
        "duration": 171,
        "start_time": "2022-07-31T19:45:40.759Z"
      },
      {
        "duration": 29,
        "start_time": "2022-07-31T19:45:41.181Z"
      },
      {
        "duration": 5,
        "start_time": "2022-07-31T19:45:41.763Z"
      },
      {
        "duration": 4,
        "start_time": "2022-07-31T19:45:48.697Z"
      },
      {
        "duration": 7,
        "start_time": "2022-07-31T19:45:49.033Z"
      },
      {
        "duration": 3,
        "start_time": "2022-07-31T19:45:49.328Z"
      },
      {
        "duration": 14,
        "start_time": "2022-07-31T19:45:49.739Z"
      },
      {
        "duration": 34187,
        "start_time": "2022-07-31T19:45:50.122Z"
      },
      {
        "duration": 4,
        "start_time": "2022-07-31T19:46:24.312Z"
      },
      {
        "duration": 7,
        "start_time": "2022-07-31T19:46:24.318Z"
      },
      {
        "duration": 28,
        "start_time": "2022-07-31T19:46:24.327Z"
      },
      {
        "duration": 48400,
        "start_time": "2022-07-31T19:47:22.372Z"
      },
      {
        "duration": 4,
        "start_time": "2022-07-31T19:48:10.774Z"
      },
      {
        "duration": 6,
        "start_time": "2022-07-31T19:48:10.780Z"
      },
      {
        "duration": 44,
        "start_time": "2022-07-31T19:48:10.788Z"
      },
      {
        "duration": 94695,
        "start_time": "2022-07-31T19:48:46.676Z"
      },
      {
        "duration": 4,
        "start_time": "2022-07-31T19:50:21.374Z"
      },
      {
        "duration": 8,
        "start_time": "2022-07-31T19:50:21.380Z"
      },
      {
        "duration": 99,
        "start_time": "2022-07-31T19:50:21.391Z"
      },
      {
        "duration": 25224,
        "start_time": "2022-07-31T19:52:50.774Z"
      },
      {
        "duration": 9,
        "start_time": "2022-07-31T19:53:16.001Z"
      },
      {
        "duration": 10,
        "start_time": "2022-07-31T19:53:16.013Z"
      },
      {
        "duration": 95,
        "start_time": "2022-07-31T19:53:16.026Z"
      },
      {
        "duration": 94436,
        "start_time": "2022-07-31T19:54:34.672Z"
      },
      {
        "duration": 4,
        "start_time": "2022-07-31T19:56:09.111Z"
      },
      {
        "duration": 6,
        "start_time": "2022-07-31T19:56:09.117Z"
      },
      {
        "duration": 24,
        "start_time": "2022-07-31T19:56:09.126Z"
      },
      {
        "duration": 38358,
        "start_time": "2022-07-31T19:56:44.169Z"
      },
      {
        "duration": 4,
        "start_time": "2022-07-31T19:57:22.530Z"
      },
      {
        "duration": 11,
        "start_time": "2022-07-31T19:57:22.535Z"
      },
      {
        "duration": 37,
        "start_time": "2022-07-31T19:57:22.548Z"
      },
      {
        "duration": 5,
        "start_time": "2022-07-31T20:17:34.369Z"
      },
      {
        "duration": 6,
        "start_time": "2022-07-31T20:17:44.127Z"
      },
      {
        "duration": 25,
        "start_time": "2022-07-31T20:17:48.491Z"
      },
      {
        "duration": 161,
        "start_time": "2022-07-31T20:17:50.017Z"
      },
      {
        "duration": 16,
        "start_time": "2022-07-31T20:17:50.774Z"
      },
      {
        "duration": 6,
        "start_time": "2022-07-31T20:17:52.077Z"
      },
      {
        "duration": 5,
        "start_time": "2022-07-31T20:17:53.841Z"
      },
      {
        "duration": 8,
        "start_time": "2022-07-31T20:18:04.484Z"
      },
      {
        "duration": 3,
        "start_time": "2022-07-31T20:18:06.779Z"
      },
      {
        "duration": 16566,
        "start_time": "2022-07-31T20:18:18.786Z"
      },
      {
        "duration": 17,
        "start_time": "2022-07-31T20:18:35.354Z"
      },
      {
        "duration": 230,
        "start_time": "2022-07-31T20:18:35.372Z"
      },
      {
        "duration": 4,
        "start_time": "2022-07-31T20:19:16.769Z"
      },
      {
        "duration": 6,
        "start_time": "2022-07-31T20:19:17.230Z"
      },
      {
        "duration": 4,
        "start_time": "2022-07-31T20:19:17.531Z"
      },
      {
        "duration": 27,
        "start_time": "2022-07-31T20:19:17.830Z"
      },
      {
        "duration": 153,
        "start_time": "2022-07-31T20:19:18.177Z"
      },
      {
        "duration": 16,
        "start_time": "2022-07-31T20:19:18.533Z"
      },
      {
        "duration": 6,
        "start_time": "2022-07-31T20:19:19.104Z"
      },
      {
        "duration": 5,
        "start_time": "2022-07-31T20:19:20.030Z"
      },
      {
        "duration": 8,
        "start_time": "2022-07-31T20:19:27.366Z"
      },
      {
        "duration": 2,
        "start_time": "2022-07-31T20:19:27.930Z"
      },
      {
        "duration": 15033,
        "start_time": "2022-07-31T20:19:43.277Z"
      },
      {
        "duration": 16,
        "start_time": "2022-07-31T20:19:58.312Z"
      },
      {
        "duration": 5,
        "start_time": "2022-07-31T20:20:31.731Z"
      },
      {
        "duration": 8,
        "start_time": "2022-07-31T20:20:32.129Z"
      },
      {
        "duration": 4,
        "start_time": "2022-07-31T20:20:32.428Z"
      },
      {
        "duration": 23,
        "start_time": "2022-07-31T20:20:32.702Z"
      },
      {
        "duration": 161,
        "start_time": "2022-07-31T20:20:32.977Z"
      },
      {
        "duration": 16,
        "start_time": "2022-07-31T20:20:33.281Z"
      },
      {
        "duration": 6,
        "start_time": "2022-07-31T20:20:33.729Z"
      },
      {
        "duration": 3,
        "start_time": "2022-07-31T20:20:34.387Z"
      },
      {
        "duration": 10,
        "start_time": "2022-07-31T20:20:40.269Z"
      },
      {
        "duration": 3,
        "start_time": "2022-07-31T20:20:40.673Z"
      },
      {
        "duration": 16248,
        "start_time": "2022-07-31T20:20:54.474Z"
      },
      {
        "duration": 16,
        "start_time": "2022-07-31T20:21:10.724Z"
      },
      {
        "duration": 4,
        "start_time": "2022-07-31T20:21:39.184Z"
      },
      {
        "duration": 5,
        "start_time": "2022-07-31T20:21:39.435Z"
      },
      {
        "duration": 4,
        "start_time": "2022-07-31T20:21:39.679Z"
      },
      {
        "duration": 23,
        "start_time": "2022-07-31T20:21:39.931Z"
      },
      {
        "duration": 177,
        "start_time": "2022-07-31T20:21:40.281Z"
      },
      {
        "duration": 16,
        "start_time": "2022-07-31T20:21:40.570Z"
      },
      {
        "duration": 7,
        "start_time": "2022-07-31T20:21:40.865Z"
      },
      {
        "duration": 5,
        "start_time": "2022-07-31T20:21:41.169Z"
      },
      {
        "duration": 3,
        "start_time": "2022-07-31T20:21:41.677Z"
      },
      {
        "duration": 13,
        "start_time": "2022-07-31T20:21:45.830Z"
      },
      {
        "duration": 3,
        "start_time": "2022-07-31T20:21:46.173Z"
      },
      {
        "duration": 16395,
        "start_time": "2022-07-31T20:21:52.885Z"
      },
      {
        "duration": 16,
        "start_time": "2022-07-31T20:22:09.282Z"
      },
      {
        "duration": 4,
        "start_time": "2022-07-31T20:22:55.681Z"
      },
      {
        "duration": 5,
        "start_time": "2022-07-31T20:22:56.018Z"
      },
      {
        "duration": 5,
        "start_time": "2022-07-31T20:22:56.369Z"
      },
      {
        "duration": 26,
        "start_time": "2022-07-31T20:22:56.717Z"
      },
      {
        "duration": 163,
        "start_time": "2022-07-31T20:22:57.137Z"
      },
      {
        "duration": 4,
        "start_time": "2022-07-31T20:22:57.518Z"
      },
      {
        "duration": 17,
        "start_time": "2022-07-31T20:22:58.121Z"
      },
      {
        "duration": 8,
        "start_time": "2022-07-31T20:22:58.535Z"
      },
      {
        "duration": 5,
        "start_time": "2022-07-31T20:22:59.273Z"
      },
      {
        "duration": 3,
        "start_time": "2022-07-31T20:22:59.969Z"
      },
      {
        "duration": 9,
        "start_time": "2022-07-31T20:23:04.424Z"
      },
      {
        "duration": 3,
        "start_time": "2022-07-31T20:23:04.705Z"
      },
      {
        "duration": 14,
        "start_time": "2022-07-31T20:23:12.581Z"
      },
      {
        "duration": 16763,
        "start_time": "2022-07-31T20:23:13.169Z"
      },
      {
        "duration": 16,
        "start_time": "2022-07-31T20:23:29.934Z"
      },
      {
        "duration": 5,
        "start_time": "2022-07-31T20:23:51.885Z"
      },
      {
        "duration": 5,
        "start_time": "2022-07-31T20:23:52.178Z"
      },
      {
        "duration": 6,
        "start_time": "2022-07-31T20:23:52.377Z"
      },
      {
        "duration": 26,
        "start_time": "2022-07-31T20:23:52.636Z"
      },
      {
        "duration": 157,
        "start_time": "2022-07-31T20:23:52.901Z"
      },
      {
        "duration": 15,
        "start_time": "2022-07-31T20:23:53.170Z"
      },
      {
        "duration": 6,
        "start_time": "2022-07-31T20:23:53.437Z"
      },
      {
        "duration": 5,
        "start_time": "2022-07-31T20:23:53.728Z"
      },
      {
        "duration": 2,
        "start_time": "2022-07-31T20:23:54.213Z"
      },
      {
        "duration": 8,
        "start_time": "2022-07-31T20:23:59.581Z"
      },
      {
        "duration": 3,
        "start_time": "2022-07-31T20:23:59.799Z"
      },
      {
        "duration": 26572,
        "start_time": "2022-07-31T20:24:00.094Z"
      },
      {
        "duration": 0,
        "start_time": "2022-07-31T20:24:26.669Z"
      },
      {
        "duration": 0,
        "start_time": "2022-07-31T20:24:26.671Z"
      },
      {
        "duration": 0,
        "start_time": "2022-07-31T20:24:26.672Z"
      },
      {
        "duration": 0,
        "start_time": "2022-07-31T20:24:26.673Z"
      },
      {
        "duration": 0,
        "start_time": "2022-07-31T20:24:26.675Z"
      },
      {
        "duration": 9,
        "start_time": "2022-07-31T20:24:31.291Z"
      },
      {
        "duration": 16101,
        "start_time": "2022-07-31T20:24:37.002Z"
      },
      {
        "duration": 18,
        "start_time": "2022-07-31T20:24:53.106Z"
      },
      {
        "duration": 1239175,
        "start_time": "2022-07-31T20:26:40.813Z"
      },
      {
        "duration": 4,
        "start_time": "2022-07-31T20:47:19.990Z"
      },
      {
        "duration": 10,
        "start_time": "2022-07-31T20:47:19.996Z"
      },
      {
        "duration": 32,
        "start_time": "2022-07-31T20:47:20.008Z"
      },
      {
        "duration": 215940,
        "start_time": "2022-07-31T20:51:13.066Z"
      },
      {
        "duration": 12,
        "start_time": "2022-07-31T20:54:49.008Z"
      },
      {
        "duration": 17,
        "start_time": "2022-07-31T20:54:49.023Z"
      },
      {
        "duration": 27,
        "start_time": "2022-07-31T20:54:49.042Z"
      },
      {
        "duration": 296949,
        "start_time": "2022-07-31T21:05:05.188Z"
      },
      {
        "duration": 4,
        "start_time": "2022-07-31T21:10:02.139Z"
      },
      {
        "duration": 15,
        "start_time": "2022-07-31T21:10:02.145Z"
      },
      {
        "duration": 19,
        "start_time": "2022-07-31T21:10:02.163Z"
      },
      {
        "duration": 1125,
        "start_time": "2022-08-01T11:13:16.174Z"
      },
      {
        "duration": 319,
        "start_time": "2022-08-01T11:13:17.300Z"
      },
      {
        "duration": 105,
        "start_time": "2022-08-01T11:13:17.621Z"
      },
      {
        "duration": 14,
        "start_time": "2022-08-01T11:13:17.732Z"
      },
      {
        "duration": 22,
        "start_time": "2022-08-01T11:13:17.749Z"
      },
      {
        "duration": 22,
        "start_time": "2022-08-01T11:13:17.773Z"
      },
      {
        "duration": 11,
        "start_time": "2022-08-01T11:13:17.797Z"
      },
      {
        "duration": 21,
        "start_time": "2022-08-01T11:13:17.810Z"
      },
      {
        "duration": 11,
        "start_time": "2022-08-01T11:13:17.834Z"
      },
      {
        "duration": 17,
        "start_time": "2022-08-01T11:13:17.847Z"
      },
      {
        "duration": 15,
        "start_time": "2022-08-01T11:13:17.868Z"
      },
      {
        "duration": 12,
        "start_time": "2022-08-01T11:13:17.885Z"
      },
      {
        "duration": 8,
        "start_time": "2022-08-01T11:13:17.899Z"
      },
      {
        "duration": 505,
        "start_time": "2022-08-01T11:13:17.910Z"
      },
      {
        "duration": 103,
        "start_time": "2022-08-01T11:13:18.417Z"
      },
      {
        "duration": 92,
        "start_time": "2022-08-01T11:13:18.522Z"
      },
      {
        "duration": 26,
        "start_time": "2022-08-01T11:13:18.616Z"
      },
      {
        "duration": 4,
        "start_time": "2022-08-01T11:13:18.644Z"
      },
      {
        "duration": 12,
        "start_time": "2022-08-01T11:13:18.649Z"
      },
      {
        "duration": 8,
        "start_time": "2022-08-01T11:13:18.662Z"
      },
      {
        "duration": 10,
        "start_time": "2022-08-01T11:13:18.672Z"
      },
      {
        "duration": 9,
        "start_time": "2022-08-01T11:13:18.684Z"
      },
      {
        "duration": 111,
        "start_time": "2022-08-01T11:13:18.694Z"
      },
      {
        "duration": 9,
        "start_time": "2022-08-01T11:13:18.806Z"
      },
      {
        "duration": 20,
        "start_time": "2022-08-01T11:13:18.816Z"
      },
      {
        "duration": 7,
        "start_time": "2022-08-01T11:13:18.838Z"
      },
      {
        "duration": 14,
        "start_time": "2022-08-01T11:13:18.846Z"
      },
      {
        "duration": 4,
        "start_time": "2022-08-01T11:13:18.861Z"
      },
      {
        "duration": 4,
        "start_time": "2022-08-01T11:13:18.867Z"
      },
      {
        "duration": 17,
        "start_time": "2022-08-01T11:13:18.873Z"
      },
      {
        "duration": 45,
        "start_time": "2022-08-01T11:13:18.891Z"
      },
      {
        "duration": 4,
        "start_time": "2022-08-01T11:13:18.938Z"
      },
      {
        "duration": 5,
        "start_time": "2022-08-01T11:13:18.943Z"
      },
      {
        "duration": 5,
        "start_time": "2022-08-01T11:13:18.950Z"
      },
      {
        "duration": 22,
        "start_time": "2022-08-01T11:13:18.956Z"
      },
      {
        "duration": 186,
        "start_time": "2022-08-01T11:13:18.980Z"
      },
      {
        "duration": 13,
        "start_time": "2022-08-01T11:13:19.167Z"
      },
      {
        "duration": 4,
        "start_time": "2022-08-01T11:13:19.181Z"
      },
      {
        "duration": 6,
        "start_time": "2022-08-01T11:13:19.186Z"
      },
      {
        "duration": 5,
        "start_time": "2022-08-01T11:13:19.193Z"
      },
      {
        "duration": 160,
        "start_time": "2022-08-01T11:13:19.201Z"
      },
      {
        "duration": 23,
        "start_time": "2022-08-01T11:13:19.363Z"
      },
      {
        "duration": 4,
        "start_time": "2022-08-01T11:13:19.388Z"
      },
      {
        "duration": 8,
        "start_time": "2022-08-01T11:13:19.393Z"
      },
      {
        "duration": 2,
        "start_time": "2022-08-01T11:13:19.403Z"
      },
      {
        "duration": 25,
        "start_time": "2022-08-01T11:13:19.406Z"
      },
      {
        "duration": 2,
        "start_time": "2022-08-01T11:13:19.433Z"
      },
      {
        "duration": 13085,
        "start_time": "2022-08-01T11:13:19.436Z"
      },
      {
        "duration": 19,
        "start_time": "2022-08-01T11:13:32.523Z"
      },
      {
        "duration": 196,
        "start_time": "2022-08-01T11:13:32.544Z"
      },
      {
        "duration": 4,
        "start_time": "2022-08-01T11:13:32.741Z"
      },
      {
        "duration": 10,
        "start_time": "2022-08-01T11:13:32.746Z"
      },
      {
        "duration": 2,
        "start_time": "2022-08-01T11:13:32.758Z"
      },
      {
        "duration": 15,
        "start_time": "2022-08-01T11:13:32.761Z"
      },
      {
        "duration": 31726,
        "start_time": "2022-08-01T11:13:32.778Z"
      },
      {
        "duration": 3,
        "start_time": "2022-08-01T11:14:04.506Z"
      },
      {
        "duration": 5,
        "start_time": "2022-08-01T11:14:04.511Z"
      },
      {
        "duration": 36,
        "start_time": "2022-08-01T11:14:04.518Z"
      },
      {
        "duration": 5,
        "start_time": "2022-08-01T11:14:04.555Z"
      },
      {
        "duration": 7581,
        "start_time": "2022-08-01T11:14:04.562Z"
      },
      {
        "duration": 3,
        "start_time": "2022-08-01T11:14:12.144Z"
      },
      {
        "duration": 5,
        "start_time": "2022-08-01T11:14:12.149Z"
      },
      {
        "duration": 9,
        "start_time": "2022-08-01T11:14:12.156Z"
      },
      {
        "duration": 3,
        "start_time": "2022-08-01T11:20:54.862Z"
      },
      {
        "duration": 144,
        "start_time": "2022-08-01T11:20:55.221Z"
      },
      {
        "duration": 28,
        "start_time": "2022-08-01T11:20:55.576Z"
      },
      {
        "duration": 4,
        "start_time": "2022-08-01T11:20:56.003Z"
      },
      {
        "duration": 3,
        "start_time": "2022-08-01T11:21:02.094Z"
      },
      {
        "duration": 9,
        "start_time": "2022-08-01T11:21:02.460Z"
      },
      {
        "duration": 2,
        "start_time": "2022-08-01T11:21:03.123Z"
      },
      {
        "duration": 10,
        "start_time": "2022-08-01T11:21:03.424Z"
      },
      {
        "duration": 32016,
        "start_time": "2022-08-01T11:21:03.678Z"
      },
      {
        "duration": 4,
        "start_time": "2022-08-01T11:21:35.696Z"
      },
      {
        "duration": 11,
        "start_time": "2022-08-01T11:21:35.701Z"
      },
      {
        "duration": 29,
        "start_time": "2022-08-01T11:21:35.714Z"
      },
      {
        "duration": 4,
        "start_time": "2022-08-01T11:21:35.745Z"
      },
      {
        "duration": 7982,
        "start_time": "2022-08-01T11:21:35.750Z"
      },
      {
        "duration": 4,
        "start_time": "2022-08-01T11:21:43.734Z"
      },
      {
        "duration": 99,
        "start_time": "2022-08-01T11:21:43.740Z"
      },
      {
        "duration": 13,
        "start_time": "2022-08-01T11:21:43.840Z"
      },
      {
        "duration": 7,
        "start_time": "2022-08-01T11:22:23.021Z"
      },
      {
        "duration": 2,
        "start_time": "2022-08-01T11:22:23.422Z"
      },
      {
        "duration": 10,
        "start_time": "2022-08-01T11:22:23.719Z"
      },
      {
        "duration": 31737,
        "start_time": "2022-08-01T11:22:24.002Z"
      },
      {
        "duration": 4,
        "start_time": "2022-08-01T11:22:55.741Z"
      },
      {
        "duration": 7,
        "start_time": "2022-08-01T11:22:55.746Z"
      },
      {
        "duration": 27,
        "start_time": "2022-08-01T11:22:55.754Z"
      },
      {
        "duration": 4,
        "start_time": "2022-08-01T11:22:55.782Z"
      },
      {
        "duration": 7560,
        "start_time": "2022-08-01T11:22:55.787Z"
      },
      {
        "duration": 3,
        "start_time": "2022-08-01T11:23:03.349Z"
      },
      {
        "duration": 6,
        "start_time": "2022-08-01T11:23:03.353Z"
      },
      {
        "duration": 9,
        "start_time": "2022-08-01T11:23:03.360Z"
      },
      {
        "duration": 75,
        "start_time": "2022-08-01T11:23:23.803Z"
      },
      {
        "duration": 2,
        "start_time": "2022-08-01T11:23:24.093Z"
      },
      {
        "duration": 3,
        "start_time": "2022-08-01T11:23:24.358Z"
      },
      {
        "duration": 11,
        "start_time": "2022-08-01T11:23:34.103Z"
      },
      {
        "duration": 2,
        "start_time": "2022-08-01T11:23:34.392Z"
      },
      {
        "duration": 2,
        "start_time": "2022-08-01T11:23:34.685Z"
      },
      {
        "duration": 2,
        "start_time": "2022-08-01T11:23:34.903Z"
      },
      {
        "duration": 13271,
        "start_time": "2022-08-01T11:23:35.117Z"
      },
      {
        "duration": 13,
        "start_time": "2022-08-01T11:23:48.390Z"
      },
      {
        "duration": 190,
        "start_time": "2022-08-01T11:23:48.404Z"
      },
      {
        "duration": 7,
        "start_time": "2022-08-01T11:26:11.311Z"
      },
      {
        "duration": 3,
        "start_time": "2022-08-01T11:26:11.660Z"
      },
      {
        "duration": 10,
        "start_time": "2022-08-01T11:26:12.013Z"
      },
      {
        "duration": 32019,
        "start_time": "2022-08-01T11:26:12.303Z"
      },
      {
        "duration": 8,
        "start_time": "2022-08-01T11:26:44.323Z"
      },
      {
        "duration": 4,
        "start_time": "2022-08-01T11:26:44.333Z"
      },
      {
        "duration": 27,
        "start_time": "2022-08-01T11:26:44.339Z"
      },
      {
        "duration": 7,
        "start_time": "2022-08-01T11:26:44.367Z"
      },
      {
        "duration": 3,
        "start_time": "2022-08-01T11:26:44.376Z"
      },
      {
        "duration": 5,
        "start_time": "2022-08-01T11:26:44.380Z"
      },
      {
        "duration": 5,
        "start_time": "2022-08-01T11:26:44.386Z"
      },
      {
        "duration": 13292,
        "start_time": "2022-08-01T11:26:44.392Z"
      },
      {
        "duration": 18,
        "start_time": "2022-08-01T11:26:57.687Z"
      },
      {
        "duration": 231,
        "start_time": "2022-08-01T11:26:57.707Z"
      },
      {
        "duration": 1131,
        "start_time": "2022-08-01T11:28:45.748Z"
      },
      {
        "duration": 108,
        "start_time": "2022-08-01T11:28:46.882Z"
      },
      {
        "duration": 86,
        "start_time": "2022-08-01T11:28:46.991Z"
      },
      {
        "duration": 14,
        "start_time": "2022-08-01T11:28:47.079Z"
      },
      {
        "duration": 8,
        "start_time": "2022-08-01T11:28:47.096Z"
      },
      {
        "duration": 27,
        "start_time": "2022-08-01T11:28:47.105Z"
      },
      {
        "duration": 5,
        "start_time": "2022-08-01T11:28:47.133Z"
      },
      {
        "duration": 12,
        "start_time": "2022-08-01T11:28:47.140Z"
      },
      {
        "duration": 7,
        "start_time": "2022-08-01T11:28:47.154Z"
      },
      {
        "duration": 13,
        "start_time": "2022-08-01T11:28:47.163Z"
      },
      {
        "duration": 8,
        "start_time": "2022-08-01T11:28:47.178Z"
      },
      {
        "duration": 8,
        "start_time": "2022-08-01T11:28:47.188Z"
      },
      {
        "duration": 12,
        "start_time": "2022-08-01T11:28:47.198Z"
      },
      {
        "duration": 362,
        "start_time": "2022-08-01T11:28:47.213Z"
      },
      {
        "duration": 132,
        "start_time": "2022-08-01T11:28:47.577Z"
      },
      {
        "duration": 141,
        "start_time": "2022-08-01T11:28:47.711Z"
      },
      {
        "duration": 19,
        "start_time": "2022-08-01T11:28:47.854Z"
      },
      {
        "duration": 5,
        "start_time": "2022-08-01T11:28:47.875Z"
      },
      {
        "duration": 38,
        "start_time": "2022-08-01T11:28:47.882Z"
      },
      {
        "duration": 12,
        "start_time": "2022-08-01T11:28:47.921Z"
      },
      {
        "duration": 17,
        "start_time": "2022-08-01T11:28:47.935Z"
      },
      {
        "duration": 12,
        "start_time": "2022-08-01T11:28:47.954Z"
      },
      {
        "duration": 94,
        "start_time": "2022-08-01T11:28:47.968Z"
      },
      {
        "duration": 7,
        "start_time": "2022-08-01T11:28:48.064Z"
      },
      {
        "duration": 23,
        "start_time": "2022-08-01T11:28:48.072Z"
      },
      {
        "duration": 10,
        "start_time": "2022-08-01T11:28:48.097Z"
      },
      {
        "duration": 27,
        "start_time": "2022-08-01T11:28:48.108Z"
      },
      {
        "duration": 5,
        "start_time": "2022-08-01T11:28:48.137Z"
      },
      {
        "duration": 70,
        "start_time": "2022-08-01T11:28:48.143Z"
      },
      {
        "duration": 17,
        "start_time": "2022-08-01T11:28:48.214Z"
      },
      {
        "duration": 18,
        "start_time": "2022-08-01T11:28:48.233Z"
      },
      {
        "duration": 6,
        "start_time": "2022-08-01T11:28:48.253Z"
      },
      {
        "duration": 20,
        "start_time": "2022-08-01T11:28:48.261Z"
      },
      {
        "duration": 19,
        "start_time": "2022-08-01T11:28:48.283Z"
      },
      {
        "duration": 41,
        "start_time": "2022-08-01T11:28:48.304Z"
      },
      {
        "duration": 171,
        "start_time": "2022-08-01T11:28:48.346Z"
      },
      {
        "duration": 21,
        "start_time": "2022-08-01T11:28:48.518Z"
      },
      {
        "duration": 7,
        "start_time": "2022-08-01T11:28:48.540Z"
      },
      {
        "duration": 6,
        "start_time": "2022-08-01T11:28:48.549Z"
      },
      {
        "duration": 8,
        "start_time": "2022-08-01T11:28:48.556Z"
      },
      {
        "duration": 142,
        "start_time": "2022-08-01T11:28:48.568Z"
      },
      {
        "duration": 29,
        "start_time": "2022-08-01T11:28:48.712Z"
      },
      {
        "duration": 4,
        "start_time": "2022-08-01T11:28:48.743Z"
      },
      {
        "duration": 9,
        "start_time": "2022-08-01T11:28:48.748Z"
      },
      {
        "duration": 5,
        "start_time": "2022-08-01T11:28:48.758Z"
      },
      {
        "duration": 5,
        "start_time": "2022-08-01T11:28:48.764Z"
      },
      {
        "duration": 5,
        "start_time": "2022-08-01T11:28:48.770Z"
      },
      {
        "duration": 13785,
        "start_time": "2022-08-01T11:28:48.776Z"
      },
      {
        "duration": 12,
        "start_time": "2022-08-01T11:29:02.563Z"
      },
      {
        "duration": 199,
        "start_time": "2022-08-01T11:29:02.577Z"
      },
      {
        "duration": 4,
        "start_time": "2022-08-01T11:29:02.777Z"
      },
      {
        "duration": 10,
        "start_time": "2022-08-01T11:29:02.782Z"
      },
      {
        "duration": 8,
        "start_time": "2022-08-01T11:29:02.793Z"
      },
      {
        "duration": 22,
        "start_time": "2022-08-01T11:29:02.803Z"
      },
      {
        "duration": 34537,
        "start_time": "2022-08-01T11:29:02.827Z"
      },
      {
        "duration": 4,
        "start_time": "2022-08-01T11:29:37.366Z"
      },
      {
        "duration": 11,
        "start_time": "2022-08-01T11:29:37.372Z"
      },
      {
        "duration": 30,
        "start_time": "2022-08-01T11:29:37.384Z"
      },
      {
        "duration": 15,
        "start_time": "2022-08-01T11:29:37.416Z"
      },
      {
        "duration": 17399,
        "start_time": "2022-08-01T11:29:37.433Z"
      },
      {
        "duration": 4,
        "start_time": "2022-08-01T11:29:54.833Z"
      },
      {
        "duration": 104,
        "start_time": "2022-08-01T11:29:54.839Z"
      },
      {
        "duration": 32,
        "start_time": "2022-08-01T11:29:54.945Z"
      },
      {
        "duration": 128,
        "start_time": "2022-08-01T11:35:11.760Z"
      },
      {
        "duration": 5,
        "start_time": "2022-08-01T11:36:09.449Z"
      },
      {
        "duration": 1173,
        "start_time": "2022-08-01T11:37:07.449Z"
      },
      {
        "duration": 104,
        "start_time": "2022-08-01T11:37:08.624Z"
      },
      {
        "duration": 79,
        "start_time": "2022-08-01T11:37:08.730Z"
      },
      {
        "duration": 29,
        "start_time": "2022-08-01T11:37:08.812Z"
      },
      {
        "duration": 26,
        "start_time": "2022-08-01T11:37:08.843Z"
      },
      {
        "duration": 19,
        "start_time": "2022-08-01T11:37:08.870Z"
      },
      {
        "duration": 8,
        "start_time": "2022-08-01T11:37:08.891Z"
      },
      {
        "duration": 7,
        "start_time": "2022-08-01T11:37:08.901Z"
      },
      {
        "duration": 7,
        "start_time": "2022-08-01T11:37:08.910Z"
      },
      {
        "duration": 18,
        "start_time": "2022-08-01T11:37:08.919Z"
      },
      {
        "duration": 13,
        "start_time": "2022-08-01T11:37:08.938Z"
      },
      {
        "duration": 15,
        "start_time": "2022-08-01T11:37:08.952Z"
      },
      {
        "duration": 10,
        "start_time": "2022-08-01T11:37:08.969Z"
      },
      {
        "duration": 379,
        "start_time": "2022-08-01T11:37:08.982Z"
      },
      {
        "duration": 101,
        "start_time": "2022-08-01T11:37:09.363Z"
      },
      {
        "duration": 101,
        "start_time": "2022-08-01T11:37:09.466Z"
      },
      {
        "duration": 14,
        "start_time": "2022-08-01T11:37:09.569Z"
      },
      {
        "duration": 4,
        "start_time": "2022-08-01T11:37:09.584Z"
      },
      {
        "duration": 12,
        "start_time": "2022-08-01T11:37:09.589Z"
      },
      {
        "duration": 30,
        "start_time": "2022-08-01T11:37:09.602Z"
      },
      {
        "duration": 11,
        "start_time": "2022-08-01T11:37:09.633Z"
      },
      {
        "duration": 11,
        "start_time": "2022-08-01T11:37:09.646Z"
      },
      {
        "duration": 95,
        "start_time": "2022-08-01T11:37:09.658Z"
      },
      {
        "duration": 7,
        "start_time": "2022-08-01T11:37:09.754Z"
      },
      {
        "duration": 12,
        "start_time": "2022-08-01T11:37:09.763Z"
      },
      {
        "duration": 7,
        "start_time": "2022-08-01T11:37:09.776Z"
      },
      {
        "duration": 13,
        "start_time": "2022-08-01T11:37:09.785Z"
      },
      {
        "duration": 8,
        "start_time": "2022-08-01T11:37:09.800Z"
      },
      {
        "duration": 6,
        "start_time": "2022-08-01T11:37:09.831Z"
      },
      {
        "duration": 4,
        "start_time": "2022-08-01T11:37:09.839Z"
      },
      {
        "duration": 16,
        "start_time": "2022-08-01T11:37:09.845Z"
      },
      {
        "duration": 20,
        "start_time": "2022-08-01T11:37:09.863Z"
      },
      {
        "duration": 9,
        "start_time": "2022-08-01T11:37:09.885Z"
      },
      {
        "duration": 36,
        "start_time": "2022-08-01T11:37:09.896Z"
      },
      {
        "duration": 10,
        "start_time": "2022-08-01T11:37:09.934Z"
      },
      {
        "duration": 26,
        "start_time": "2022-08-01T11:37:09.945Z"
      },
      {
        "duration": 164,
        "start_time": "2022-08-01T11:37:09.972Z"
      },
      {
        "duration": 13,
        "start_time": "2022-08-01T11:37:10.137Z"
      },
      {
        "duration": 4,
        "start_time": "2022-08-01T11:37:10.152Z"
      },
      {
        "duration": 7,
        "start_time": "2022-08-01T11:37:10.157Z"
      },
      {
        "duration": 8,
        "start_time": "2022-08-01T11:37:10.168Z"
      },
      {
        "duration": 176,
        "start_time": "2022-08-01T11:37:10.177Z"
      },
      {
        "duration": 22,
        "start_time": "2022-08-01T11:37:10.355Z"
      },
      {
        "duration": 5,
        "start_time": "2022-08-01T11:37:10.378Z"
      },
      {
        "duration": 10,
        "start_time": "2022-08-01T11:37:10.384Z"
      },
      {
        "duration": 2,
        "start_time": "2022-08-01T11:37:10.396Z"
      },
      {
        "duration": 5,
        "start_time": "2022-08-01T11:37:10.399Z"
      },
      {
        "duration": 5,
        "start_time": "2022-08-01T11:37:10.405Z"
      },
      {
        "duration": 14142,
        "start_time": "2022-08-01T11:37:10.411Z"
      },
      {
        "duration": 14,
        "start_time": "2022-08-01T11:37:24.555Z"
      },
      {
        "duration": 205,
        "start_time": "2022-08-01T11:37:24.570Z"
      },
      {
        "duration": 3,
        "start_time": "2022-08-01T11:37:24.777Z"
      },
      {
        "duration": 11,
        "start_time": "2022-08-01T11:37:24.781Z"
      },
      {
        "duration": 2,
        "start_time": "2022-08-01T11:37:24.793Z"
      },
      {
        "duration": 11,
        "start_time": "2022-08-01T11:37:24.797Z"
      },
      {
        "duration": 36386,
        "start_time": "2022-08-01T11:37:24.809Z"
      },
      {
        "duration": 3,
        "start_time": "2022-08-01T11:38:01.197Z"
      },
      {
        "duration": 8,
        "start_time": "2022-08-01T11:38:01.202Z"
      },
      {
        "duration": 37,
        "start_time": "2022-08-01T11:38:01.211Z"
      },
      {
        "duration": 5,
        "start_time": "2022-08-01T11:38:01.249Z"
      },
      {
        "duration": 7577,
        "start_time": "2022-08-01T11:38:01.255Z"
      },
      {
        "duration": 8,
        "start_time": "2022-08-01T11:38:08.839Z"
      },
      {
        "duration": 101,
        "start_time": "2022-08-01T11:38:08.853Z"
      },
      {
        "duration": 20,
        "start_time": "2022-08-01T11:38:08.956Z"
      },
      {
        "duration": 1211,
        "start_time": "2022-08-01T11:40:24.482Z"
      },
      {
        "duration": 111,
        "start_time": "2022-08-01T11:40:25.694Z"
      },
      {
        "duration": 78,
        "start_time": "2022-08-01T11:40:25.806Z"
      },
      {
        "duration": 12,
        "start_time": "2022-08-01T11:40:25.885Z"
      },
      {
        "duration": 6,
        "start_time": "2022-08-01T11:40:25.900Z"
      },
      {
        "duration": 33,
        "start_time": "2022-08-01T11:40:25.907Z"
      },
      {
        "duration": 18,
        "start_time": "2022-08-01T11:40:25.941Z"
      },
      {
        "duration": 8,
        "start_time": "2022-08-01T11:40:25.960Z"
      },
      {
        "duration": 6,
        "start_time": "2022-08-01T11:40:25.969Z"
      },
      {
        "duration": 8,
        "start_time": "2022-08-01T11:40:25.977Z"
      },
      {
        "duration": 7,
        "start_time": "2022-08-01T11:40:25.987Z"
      },
      {
        "duration": 9,
        "start_time": "2022-08-01T11:40:25.995Z"
      },
      {
        "duration": 11,
        "start_time": "2022-08-01T11:40:26.006Z"
      },
      {
        "duration": 364,
        "start_time": "2022-08-01T11:40:26.020Z"
      },
      {
        "duration": 114,
        "start_time": "2022-08-01T11:40:26.385Z"
      },
      {
        "duration": 104,
        "start_time": "2022-08-01T11:40:26.501Z"
      },
      {
        "duration": 26,
        "start_time": "2022-08-01T11:40:26.606Z"
      },
      {
        "duration": 6,
        "start_time": "2022-08-01T11:40:26.635Z"
      },
      {
        "duration": 29,
        "start_time": "2022-08-01T11:40:26.643Z"
      },
      {
        "duration": 22,
        "start_time": "2022-08-01T11:40:26.673Z"
      },
      {
        "duration": 16,
        "start_time": "2022-08-01T11:40:26.697Z"
      },
      {
        "duration": 11,
        "start_time": "2022-08-01T11:40:26.715Z"
      },
      {
        "duration": 88,
        "start_time": "2022-08-01T11:40:26.727Z"
      },
      {
        "duration": 6,
        "start_time": "2022-08-01T11:40:26.817Z"
      },
      {
        "duration": 16,
        "start_time": "2022-08-01T11:40:26.824Z"
      },
      {
        "duration": 15,
        "start_time": "2022-08-01T11:40:26.842Z"
      },
      {
        "duration": 15,
        "start_time": "2022-08-01T11:40:26.858Z"
      },
      {
        "duration": 3,
        "start_time": "2022-08-01T11:40:26.874Z"
      },
      {
        "duration": 9,
        "start_time": "2022-08-01T11:40:26.878Z"
      },
      {
        "duration": 1789,
        "start_time": "2022-08-01T11:40:26.889Z"
      },
      {
        "duration": 0,
        "start_time": "2022-08-01T11:40:28.680Z"
      },
      {
        "duration": 0,
        "start_time": "2022-08-01T11:40:28.682Z"
      },
      {
        "duration": 0,
        "start_time": "2022-08-01T11:40:28.683Z"
      },
      {
        "duration": 0,
        "start_time": "2022-08-01T11:40:28.684Z"
      },
      {
        "duration": 0,
        "start_time": "2022-08-01T11:40:28.685Z"
      },
      {
        "duration": 0,
        "start_time": "2022-08-01T11:40:28.686Z"
      },
      {
        "duration": 0,
        "start_time": "2022-08-01T11:40:28.687Z"
      },
      {
        "duration": 0,
        "start_time": "2022-08-01T11:40:28.687Z"
      },
      {
        "duration": 0,
        "start_time": "2022-08-01T11:40:28.690Z"
      },
      {
        "duration": 0,
        "start_time": "2022-08-01T11:40:28.690Z"
      },
      {
        "duration": 0,
        "start_time": "2022-08-01T11:40:28.691Z"
      },
      {
        "duration": 0,
        "start_time": "2022-08-01T11:40:28.692Z"
      },
      {
        "duration": 0,
        "start_time": "2022-08-01T11:40:28.694Z"
      },
      {
        "duration": 0,
        "start_time": "2022-08-01T11:40:28.695Z"
      },
      {
        "duration": 0,
        "start_time": "2022-08-01T11:40:28.696Z"
      },
      {
        "duration": 0,
        "start_time": "2022-08-01T11:40:28.697Z"
      },
      {
        "duration": 0,
        "start_time": "2022-08-01T11:40:28.698Z"
      },
      {
        "duration": 0,
        "start_time": "2022-08-01T11:40:28.699Z"
      },
      {
        "duration": 0,
        "start_time": "2022-08-01T11:40:28.700Z"
      },
      {
        "duration": 0,
        "start_time": "2022-08-01T11:40:28.701Z"
      },
      {
        "duration": 0,
        "start_time": "2022-08-01T11:40:28.701Z"
      },
      {
        "duration": 0,
        "start_time": "2022-08-01T11:40:28.702Z"
      },
      {
        "duration": 0,
        "start_time": "2022-08-01T11:40:28.703Z"
      },
      {
        "duration": 0,
        "start_time": "2022-08-01T11:40:28.704Z"
      },
      {
        "duration": 0,
        "start_time": "2022-08-01T11:40:28.705Z"
      },
      {
        "duration": 0,
        "start_time": "2022-08-01T11:40:28.706Z"
      },
      {
        "duration": 0,
        "start_time": "2022-08-01T11:40:28.707Z"
      },
      {
        "duration": 0,
        "start_time": "2022-08-01T11:40:28.707Z"
      },
      {
        "duration": 0,
        "start_time": "2022-08-01T11:40:28.708Z"
      },
      {
        "duration": 0,
        "start_time": "2022-08-01T11:40:28.709Z"
      },
      {
        "duration": 0,
        "start_time": "2022-08-01T11:40:28.710Z"
      },
      {
        "duration": 0,
        "start_time": "2022-08-01T11:40:28.711Z"
      },
      {
        "duration": 0,
        "start_time": "2022-08-01T11:40:28.712Z"
      },
      {
        "duration": 1143,
        "start_time": "2022-08-01T11:42:28.867Z"
      },
      {
        "duration": 103,
        "start_time": "2022-08-01T11:42:30.012Z"
      },
      {
        "duration": 77,
        "start_time": "2022-08-01T11:42:30.117Z"
      },
      {
        "duration": 14,
        "start_time": "2022-08-01T11:42:30.196Z"
      },
      {
        "duration": 7,
        "start_time": "2022-08-01T11:42:30.212Z"
      },
      {
        "duration": 15,
        "start_time": "2022-08-01T11:42:30.232Z"
      },
      {
        "duration": 21,
        "start_time": "2022-08-01T11:42:30.248Z"
      },
      {
        "duration": 19,
        "start_time": "2022-08-01T11:42:30.270Z"
      },
      {
        "duration": 11,
        "start_time": "2022-08-01T11:42:30.291Z"
      },
      {
        "duration": 13,
        "start_time": "2022-08-01T11:42:30.304Z"
      },
      {
        "duration": 6,
        "start_time": "2022-08-01T11:42:30.318Z"
      },
      {
        "duration": 16,
        "start_time": "2022-08-01T11:42:30.325Z"
      },
      {
        "duration": 9,
        "start_time": "2022-08-01T11:42:30.343Z"
      },
      {
        "duration": 364,
        "start_time": "2022-08-01T11:42:30.357Z"
      },
      {
        "duration": 99,
        "start_time": "2022-08-01T11:42:30.723Z"
      },
      {
        "duration": 103,
        "start_time": "2022-08-01T11:42:30.832Z"
      },
      {
        "duration": 16,
        "start_time": "2022-08-01T11:42:30.937Z"
      },
      {
        "duration": 5,
        "start_time": "2022-08-01T11:42:30.955Z"
      },
      {
        "duration": 23,
        "start_time": "2022-08-01T11:42:30.962Z"
      },
      {
        "duration": 17,
        "start_time": "2022-08-01T11:42:30.987Z"
      },
      {
        "duration": 28,
        "start_time": "2022-08-01T11:42:31.005Z"
      },
      {
        "duration": 23,
        "start_time": "2022-08-01T11:42:31.035Z"
      },
      {
        "duration": 88,
        "start_time": "2022-08-01T11:42:31.059Z"
      },
      {
        "duration": 14,
        "start_time": "2022-08-01T11:42:31.149Z"
      },
      {
        "duration": 16,
        "start_time": "2022-08-01T11:42:31.164Z"
      },
      {
        "duration": 12,
        "start_time": "2022-08-01T11:42:31.182Z"
      },
      {
        "duration": 14,
        "start_time": "2022-08-01T11:42:31.196Z"
      },
      {
        "duration": 13,
        "start_time": "2022-08-01T11:42:31.211Z"
      },
      {
        "duration": 10,
        "start_time": "2022-08-01T11:42:31.225Z"
      },
      {
        "duration": 13,
        "start_time": "2022-08-01T11:42:31.236Z"
      },
      {
        "duration": 1323,
        "start_time": "2022-08-01T11:42:31.251Z"
      },
      {
        "duration": 0,
        "start_time": "2022-08-01T11:42:32.576Z"
      },
      {
        "duration": 0,
        "start_time": "2022-08-01T11:42:32.578Z"
      },
      {
        "duration": 0,
        "start_time": "2022-08-01T11:42:32.579Z"
      },
      {
        "duration": 0,
        "start_time": "2022-08-01T11:42:32.580Z"
      },
      {
        "duration": 0,
        "start_time": "2022-08-01T11:42:32.581Z"
      },
      {
        "duration": 0,
        "start_time": "2022-08-01T11:42:32.582Z"
      },
      {
        "duration": 0,
        "start_time": "2022-08-01T11:42:32.583Z"
      },
      {
        "duration": 0,
        "start_time": "2022-08-01T11:42:32.584Z"
      },
      {
        "duration": 0,
        "start_time": "2022-08-01T11:42:32.585Z"
      },
      {
        "duration": 0,
        "start_time": "2022-08-01T11:42:32.586Z"
      },
      {
        "duration": 0,
        "start_time": "2022-08-01T11:42:32.587Z"
      },
      {
        "duration": 0,
        "start_time": "2022-08-01T11:42:32.588Z"
      },
      {
        "duration": 0,
        "start_time": "2022-08-01T11:42:32.589Z"
      },
      {
        "duration": 0,
        "start_time": "2022-08-01T11:42:32.590Z"
      },
      {
        "duration": 0,
        "start_time": "2022-08-01T11:42:32.591Z"
      },
      {
        "duration": 0,
        "start_time": "2022-08-01T11:42:32.592Z"
      },
      {
        "duration": 0,
        "start_time": "2022-08-01T11:42:32.593Z"
      },
      {
        "duration": 0,
        "start_time": "2022-08-01T11:42:32.593Z"
      },
      {
        "duration": 0,
        "start_time": "2022-08-01T11:42:32.594Z"
      },
      {
        "duration": 0,
        "start_time": "2022-08-01T11:42:32.595Z"
      },
      {
        "duration": 0,
        "start_time": "2022-08-01T11:42:32.596Z"
      },
      {
        "duration": 0,
        "start_time": "2022-08-01T11:42:32.597Z"
      },
      {
        "duration": 0,
        "start_time": "2022-08-01T11:42:32.598Z"
      },
      {
        "duration": 0,
        "start_time": "2022-08-01T11:42:32.599Z"
      },
      {
        "duration": 0,
        "start_time": "2022-08-01T11:42:32.600Z"
      },
      {
        "duration": 0,
        "start_time": "2022-08-01T11:42:32.601Z"
      },
      {
        "duration": 0,
        "start_time": "2022-08-01T11:42:32.601Z"
      },
      {
        "duration": 0,
        "start_time": "2022-08-01T11:42:32.602Z"
      },
      {
        "duration": 0,
        "start_time": "2022-08-01T11:42:32.603Z"
      },
      {
        "duration": 0,
        "start_time": "2022-08-01T11:42:32.604Z"
      },
      {
        "duration": 0,
        "start_time": "2022-08-01T11:42:32.605Z"
      },
      {
        "duration": 0,
        "start_time": "2022-08-01T11:42:32.606Z"
      },
      {
        "duration": 0,
        "start_time": "2022-08-01T11:42:32.607Z"
      },
      {
        "duration": 1083,
        "start_time": "2022-08-01T11:44:13.089Z"
      },
      {
        "duration": 105,
        "start_time": "2022-08-01T11:44:14.173Z"
      },
      {
        "duration": 79,
        "start_time": "2022-08-01T11:44:14.279Z"
      },
      {
        "duration": 13,
        "start_time": "2022-08-01T11:44:14.360Z"
      },
      {
        "duration": 7,
        "start_time": "2022-08-01T11:44:14.376Z"
      },
      {
        "duration": 17,
        "start_time": "2022-08-01T11:44:14.384Z"
      },
      {
        "duration": 28,
        "start_time": "2022-08-01T11:44:14.403Z"
      },
      {
        "duration": 6,
        "start_time": "2022-08-01T11:44:14.433Z"
      },
      {
        "duration": 7,
        "start_time": "2022-08-01T11:44:14.441Z"
      },
      {
        "duration": 10,
        "start_time": "2022-08-01T11:44:14.450Z"
      },
      {
        "duration": 5,
        "start_time": "2022-08-01T11:44:14.461Z"
      },
      {
        "duration": 4,
        "start_time": "2022-08-01T11:44:14.468Z"
      },
      {
        "duration": 6,
        "start_time": "2022-08-01T11:44:14.473Z"
      },
      {
        "duration": 387,
        "start_time": "2022-08-01T11:44:14.482Z"
      },
      {
        "duration": 104,
        "start_time": "2022-08-01T11:44:14.871Z"
      },
      {
        "duration": 106,
        "start_time": "2022-08-01T11:44:14.976Z"
      },
      {
        "duration": 15,
        "start_time": "2022-08-01T11:44:15.084Z"
      },
      {
        "duration": 16,
        "start_time": "2022-08-01T11:44:15.100Z"
      },
      {
        "duration": 19,
        "start_time": "2022-08-01T11:44:15.117Z"
      },
      {
        "duration": 27,
        "start_time": "2022-08-01T11:44:15.138Z"
      },
      {
        "duration": 27,
        "start_time": "2022-08-01T11:44:15.167Z"
      },
      {
        "duration": 22,
        "start_time": "2022-08-01T11:44:15.195Z"
      },
      {
        "duration": 102,
        "start_time": "2022-08-01T11:44:15.219Z"
      },
      {
        "duration": 14,
        "start_time": "2022-08-01T11:44:15.323Z"
      },
      {
        "duration": 14,
        "start_time": "2022-08-01T11:44:15.339Z"
      },
      {
        "duration": 16,
        "start_time": "2022-08-01T11:44:15.354Z"
      },
      {
        "duration": 18,
        "start_time": "2022-08-01T11:44:15.372Z"
      },
      {
        "duration": 3,
        "start_time": "2022-08-01T11:44:15.391Z"
      },
      {
        "duration": 13,
        "start_time": "2022-08-01T11:44:15.395Z"
      },
      {
        "duration": 5,
        "start_time": "2022-08-01T11:44:15.410Z"
      },
      {
        "duration": 16,
        "start_time": "2022-08-01T11:44:15.417Z"
      },
      {
        "duration": 21,
        "start_time": "2022-08-01T11:44:15.435Z"
      },
      {
        "duration": 18,
        "start_time": "2022-08-01T11:44:15.458Z"
      },
      {
        "duration": 15,
        "start_time": "2022-08-01T11:44:15.478Z"
      },
      {
        "duration": 6,
        "start_time": "2022-08-01T11:44:15.495Z"
      },
      {
        "duration": 10,
        "start_time": "2022-08-01T11:44:15.503Z"
      },
      {
        "duration": 27,
        "start_time": "2022-08-01T11:44:15.515Z"
      },
      {
        "duration": 187,
        "start_time": "2022-08-01T11:44:15.544Z"
      },
      {
        "duration": 15,
        "start_time": "2022-08-01T11:44:15.733Z"
      },
      {
        "duration": 6,
        "start_time": "2022-08-01T11:44:15.750Z"
      },
      {
        "duration": 10,
        "start_time": "2022-08-01T11:44:15.760Z"
      },
      {
        "duration": 9,
        "start_time": "2022-08-01T11:44:15.771Z"
      },
      {
        "duration": 206,
        "start_time": "2022-08-01T11:44:15.782Z"
      },
      {
        "duration": 27,
        "start_time": "2022-08-01T11:44:15.990Z"
      },
      {
        "duration": 12,
        "start_time": "2022-08-01T11:44:16.019Z"
      },
      {
        "duration": 12,
        "start_time": "2022-08-01T11:44:16.034Z"
      },
      {
        "duration": 16,
        "start_time": "2022-08-01T11:44:16.048Z"
      },
      {
        "duration": 18,
        "start_time": "2022-08-01T11:44:16.066Z"
      },
      {
        "duration": 21,
        "start_time": "2022-08-01T11:44:16.086Z"
      },
      {
        "duration": 13694,
        "start_time": "2022-08-01T11:44:16.109Z"
      },
      {
        "duration": 16,
        "start_time": "2022-08-01T11:44:29.805Z"
      },
      {
        "duration": 239,
        "start_time": "2022-08-01T11:44:29.822Z"
      },
      {
        "duration": 5,
        "start_time": "2022-08-01T11:44:30.062Z"
      },
      {
        "duration": 13,
        "start_time": "2022-08-01T11:44:30.068Z"
      },
      {
        "duration": 10,
        "start_time": "2022-08-01T11:44:30.083Z"
      },
      {
        "duration": 33225,
        "start_time": "2022-08-01T11:44:30.094Z"
      },
      {
        "duration": 4,
        "start_time": "2022-08-01T11:45:03.320Z"
      },
      {
        "duration": 17,
        "start_time": "2022-08-01T11:45:03.331Z"
      },
      {
        "duration": 33,
        "start_time": "2022-08-01T11:45:03.350Z"
      },
      {
        "duration": 4,
        "start_time": "2022-08-01T11:45:03.385Z"
      },
      {
        "duration": 9042,
        "start_time": "2022-08-01T11:45:03.390Z"
      },
      {
        "duration": 3,
        "start_time": "2022-08-01T11:45:12.434Z"
      },
      {
        "duration": 5,
        "start_time": "2022-08-01T11:45:12.439Z"
      },
      {
        "duration": 101,
        "start_time": "2022-08-01T11:45:12.445Z"
      },
      {
        "duration": 1258,
        "start_time": "2022-08-01T11:47:38.798Z"
      },
      {
        "duration": 107,
        "start_time": "2022-08-01T11:47:40.058Z"
      },
      {
        "duration": 80,
        "start_time": "2022-08-01T11:47:40.167Z"
      },
      {
        "duration": 12,
        "start_time": "2022-08-01T11:47:40.249Z"
      },
      {
        "duration": 8,
        "start_time": "2022-08-01T11:47:40.263Z"
      },
      {
        "duration": 17,
        "start_time": "2022-08-01T11:47:40.272Z"
      },
      {
        "duration": 8,
        "start_time": "2022-08-01T11:47:40.291Z"
      },
      {
        "duration": 11,
        "start_time": "2022-08-01T11:47:40.300Z"
      },
      {
        "duration": 16,
        "start_time": "2022-08-01T11:47:40.331Z"
      },
      {
        "duration": 8,
        "start_time": "2022-08-01T11:47:40.349Z"
      },
      {
        "duration": 6,
        "start_time": "2022-08-01T11:47:40.358Z"
      },
      {
        "duration": 5,
        "start_time": "2022-08-01T11:47:40.365Z"
      },
      {
        "duration": 5,
        "start_time": "2022-08-01T11:47:40.371Z"
      },
      {
        "duration": 358,
        "start_time": "2022-08-01T11:47:40.378Z"
      },
      {
        "duration": 97,
        "start_time": "2022-08-01T11:47:40.738Z"
      },
      {
        "duration": 96,
        "start_time": "2022-08-01T11:47:40.837Z"
      },
      {
        "duration": 18,
        "start_time": "2022-08-01T11:47:40.934Z"
      },
      {
        "duration": 4,
        "start_time": "2022-08-01T11:47:40.954Z"
      },
      {
        "duration": 12,
        "start_time": "2022-08-01T11:47:40.960Z"
      },
      {
        "duration": 22,
        "start_time": "2022-08-01T11:47:40.974Z"
      },
      {
        "duration": 21,
        "start_time": "2022-08-01T11:47:40.998Z"
      },
      {
        "duration": 18,
        "start_time": "2022-08-01T11:47:41.020Z"
      },
      {
        "duration": 92,
        "start_time": "2022-08-01T11:47:41.040Z"
      },
      {
        "duration": 19,
        "start_time": "2022-08-01T11:47:41.134Z"
      },
      {
        "duration": 28,
        "start_time": "2022-08-01T11:47:41.154Z"
      },
      {
        "duration": 21,
        "start_time": "2022-08-01T11:47:41.184Z"
      },
      {
        "duration": 48,
        "start_time": "2022-08-01T11:47:41.207Z"
      },
      {
        "duration": 24,
        "start_time": "2022-08-01T11:47:41.256Z"
      },
      {
        "duration": 30,
        "start_time": "2022-08-01T11:47:41.281Z"
      },
      {
        "duration": 35,
        "start_time": "2022-08-01T11:47:41.312Z"
      },
      {
        "duration": 21,
        "start_time": "2022-08-01T11:47:41.348Z"
      },
      {
        "duration": 34,
        "start_time": "2022-08-01T11:47:41.370Z"
      },
      {
        "duration": 31,
        "start_time": "2022-08-01T11:47:41.407Z"
      },
      {
        "duration": 31,
        "start_time": "2022-08-01T11:47:41.440Z"
      },
      {
        "duration": 24,
        "start_time": "2022-08-01T11:47:41.473Z"
      },
      {
        "duration": 13,
        "start_time": "2022-08-01T11:47:41.498Z"
      },
      {
        "duration": 50,
        "start_time": "2022-08-01T11:47:41.513Z"
      },
      {
        "duration": 157,
        "start_time": "2022-08-01T11:47:41.564Z"
      },
      {
        "duration": 16,
        "start_time": "2022-08-01T11:47:41.723Z"
      },
      {
        "duration": 16,
        "start_time": "2022-08-01T11:47:41.740Z"
      },
      {
        "duration": 11,
        "start_time": "2022-08-01T11:47:41.759Z"
      },
      {
        "duration": 31,
        "start_time": "2022-08-01T11:47:41.771Z"
      },
      {
        "duration": 177,
        "start_time": "2022-08-01T11:47:41.804Z"
      },
      {
        "duration": 24,
        "start_time": "2022-08-01T11:47:41.982Z"
      },
      {
        "duration": 6,
        "start_time": "2022-08-01T11:47:42.008Z"
      },
      {
        "duration": 24,
        "start_time": "2022-08-01T11:47:42.015Z"
      },
      {
        "duration": 14,
        "start_time": "2022-08-01T11:47:42.041Z"
      },
      {
        "duration": 12,
        "start_time": "2022-08-01T11:47:42.057Z"
      },
      {
        "duration": 15,
        "start_time": "2022-08-01T11:47:42.071Z"
      },
      {
        "duration": 14210,
        "start_time": "2022-08-01T11:47:42.087Z"
      },
      {
        "duration": 15,
        "start_time": "2022-08-01T11:47:56.299Z"
      },
      {
        "duration": 198,
        "start_time": "2022-08-01T11:47:56.317Z"
      },
      {
        "duration": 4,
        "start_time": "2022-08-01T11:47:56.517Z"
      },
      {
        "duration": 14,
        "start_time": "2022-08-01T11:47:56.523Z"
      },
      {
        "duration": 21,
        "start_time": "2022-08-01T11:47:56.538Z"
      },
      {
        "duration": 33671,
        "start_time": "2022-08-01T11:47:56.560Z"
      },
      {
        "duration": 4,
        "start_time": "2022-08-01T11:48:30.233Z"
      },
      {
        "duration": 16,
        "start_time": "2022-08-01T11:48:30.239Z"
      },
      {
        "duration": 35,
        "start_time": "2022-08-01T11:48:30.257Z"
      },
      {
        "duration": 5,
        "start_time": "2022-08-01T11:48:30.293Z"
      },
      {
        "duration": 7370,
        "start_time": "2022-08-01T11:48:30.299Z"
      },
      {
        "duration": 4,
        "start_time": "2022-08-01T11:48:37.671Z"
      },
      {
        "duration": 17,
        "start_time": "2022-08-01T11:48:37.677Z"
      },
      {
        "duration": 43,
        "start_time": "2022-08-01T11:48:37.696Z"
      },
      {
        "duration": 1363,
        "start_time": "2022-08-01T11:51:21.653Z"
      },
      {
        "duration": 119,
        "start_time": "2022-08-01T11:51:23.018Z"
      },
      {
        "duration": 80,
        "start_time": "2022-08-01T11:51:23.140Z"
      },
      {
        "duration": 16,
        "start_time": "2022-08-01T11:51:23.232Z"
      },
      {
        "duration": 13,
        "start_time": "2022-08-01T11:51:23.250Z"
      },
      {
        "duration": 16,
        "start_time": "2022-08-01T11:51:23.265Z"
      },
      {
        "duration": 8,
        "start_time": "2022-08-01T11:51:23.283Z"
      },
      {
        "duration": 6,
        "start_time": "2022-08-01T11:51:23.293Z"
      },
      {
        "duration": 5,
        "start_time": "2022-08-01T11:51:23.301Z"
      },
      {
        "duration": 31,
        "start_time": "2022-08-01T11:51:23.309Z"
      },
      {
        "duration": 11,
        "start_time": "2022-08-01T11:51:23.342Z"
      },
      {
        "duration": 5,
        "start_time": "2022-08-01T11:51:23.354Z"
      },
      {
        "duration": 7,
        "start_time": "2022-08-01T11:51:23.361Z"
      },
      {
        "duration": 378,
        "start_time": "2022-08-01T11:51:23.370Z"
      },
      {
        "duration": 108,
        "start_time": "2022-08-01T11:51:23.750Z"
      },
      {
        "duration": 104,
        "start_time": "2022-08-01T11:51:23.859Z"
      },
      {
        "duration": 16,
        "start_time": "2022-08-01T11:51:23.964Z"
      },
      {
        "duration": 5,
        "start_time": "2022-08-01T11:51:23.982Z"
      },
      {
        "duration": 12,
        "start_time": "2022-08-01T11:51:23.989Z"
      },
      {
        "duration": 30,
        "start_time": "2022-08-01T11:51:24.003Z"
      },
      {
        "duration": 24,
        "start_time": "2022-08-01T11:51:24.034Z"
      },
      {
        "duration": 12,
        "start_time": "2022-08-01T11:51:24.059Z"
      },
      {
        "duration": 80,
        "start_time": "2022-08-01T11:51:24.072Z"
      },
      {
        "duration": 6,
        "start_time": "2022-08-01T11:51:24.154Z"
      },
      {
        "duration": 11,
        "start_time": "2022-08-01T11:51:24.161Z"
      },
      {
        "duration": 8,
        "start_time": "2022-08-01T11:51:24.173Z"
      },
      {
        "duration": 14,
        "start_time": "2022-08-01T11:51:24.182Z"
      },
      {
        "duration": 3,
        "start_time": "2022-08-01T11:51:24.200Z"
      },
      {
        "duration": 45,
        "start_time": "2022-08-01T11:51:24.205Z"
      },
      {
        "duration": 7,
        "start_time": "2022-08-01T11:51:24.252Z"
      },
      {
        "duration": 13,
        "start_time": "2022-08-01T11:51:24.260Z"
      },
      {
        "duration": 15,
        "start_time": "2022-08-01T11:51:24.275Z"
      },
      {
        "duration": 4,
        "start_time": "2022-08-01T11:51:24.291Z"
      },
      {
        "duration": 7,
        "start_time": "2022-08-01T11:51:24.296Z"
      },
      {
        "duration": 5,
        "start_time": "2022-08-01T11:51:24.305Z"
      },
      {
        "duration": 29,
        "start_time": "2022-08-01T11:51:24.312Z"
      },
      {
        "duration": 156,
        "start_time": "2022-08-01T11:51:24.343Z"
      },
      {
        "duration": 13,
        "start_time": "2022-08-01T11:51:24.500Z"
      },
      {
        "duration": 4,
        "start_time": "2022-08-01T11:51:24.515Z"
      },
      {
        "duration": 26,
        "start_time": "2022-08-01T11:51:24.520Z"
      },
      {
        "duration": 9,
        "start_time": "2022-08-01T11:51:24.548Z"
      },
      {
        "duration": 154,
        "start_time": "2022-08-01T11:51:24.558Z"
      },
      {
        "duration": 31,
        "start_time": "2022-08-01T11:51:24.713Z"
      },
      {
        "duration": 5,
        "start_time": "2022-08-01T11:51:24.745Z"
      },
      {
        "duration": 9,
        "start_time": "2022-08-01T11:51:24.751Z"
      },
      {
        "duration": 4,
        "start_time": "2022-08-01T11:51:24.761Z"
      },
      {
        "duration": 5,
        "start_time": "2022-08-01T11:51:24.766Z"
      },
      {
        "duration": 7,
        "start_time": "2022-08-01T11:51:24.772Z"
      },
      {
        "duration": 14618,
        "start_time": "2022-08-01T11:51:24.780Z"
      },
      {
        "duration": 14,
        "start_time": "2022-08-01T11:51:39.400Z"
      },
      {
        "duration": 224,
        "start_time": "2022-08-01T11:51:39.415Z"
      },
      {
        "duration": 4,
        "start_time": "2022-08-01T11:51:39.640Z"
      },
      {
        "duration": 9,
        "start_time": "2022-08-01T11:51:39.646Z"
      },
      {
        "duration": 9,
        "start_time": "2022-08-01T11:51:39.656Z"
      },
      {
        "duration": 509961,
        "start_time": "2022-08-01T11:51:39.667Z"
      },
      {
        "duration": 2,
        "start_time": "2022-08-01T12:00:09.631Z"
      },
      {
        "duration": 10,
        "start_time": "2022-08-01T12:00:09.635Z"
      },
      {
        "duration": 8,
        "start_time": "2022-08-01T12:00:09.646Z"
      },
      {
        "duration": 37,
        "start_time": "2022-08-01T12:00:09.655Z"
      },
      {
        "duration": 4,
        "start_time": "2022-08-01T12:00:09.693Z"
      },
      {
        "duration": 16239,
        "start_time": "2022-08-01T12:00:09.699Z"
      },
      {
        "duration": 96,
        "start_time": "2022-08-01T12:00:25.941Z"
      },
      {
        "duration": 99,
        "start_time": "2022-08-01T12:00:26.041Z"
      },
      {
        "duration": 13,
        "start_time": "2022-08-01T12:00:26.141Z"
      },
      {
        "duration": 1150,
        "start_time": "2022-08-01T12:02:53.672Z"
      },
      {
        "duration": 103,
        "start_time": "2022-08-01T12:02:54.824Z"
      },
      {
        "duration": 66,
        "start_time": "2022-08-01T12:02:54.928Z"
      },
      {
        "duration": 13,
        "start_time": "2022-08-01T12:02:54.995Z"
      },
      {
        "duration": 23,
        "start_time": "2022-08-01T12:02:55.010Z"
      },
      {
        "duration": 22,
        "start_time": "2022-08-01T12:02:55.035Z"
      },
      {
        "duration": 8,
        "start_time": "2022-08-01T12:02:55.058Z"
      },
      {
        "duration": 8,
        "start_time": "2022-08-01T12:02:55.067Z"
      },
      {
        "duration": 9,
        "start_time": "2022-08-01T12:02:55.077Z"
      },
      {
        "duration": 15,
        "start_time": "2022-08-01T12:02:55.087Z"
      },
      {
        "duration": 7,
        "start_time": "2022-08-01T12:02:55.104Z"
      },
      {
        "duration": 6,
        "start_time": "2022-08-01T12:02:55.113Z"
      },
      {
        "duration": 11,
        "start_time": "2022-08-01T12:02:55.121Z"
      },
      {
        "duration": 361,
        "start_time": "2022-08-01T12:02:55.135Z"
      },
      {
        "duration": 96,
        "start_time": "2022-08-01T12:02:55.497Z"
      },
      {
        "duration": 104,
        "start_time": "2022-08-01T12:02:55.594Z"
      },
      {
        "duration": 15,
        "start_time": "2022-08-01T12:02:55.700Z"
      },
      {
        "duration": 16,
        "start_time": "2022-08-01T12:02:55.717Z"
      },
      {
        "duration": 20,
        "start_time": "2022-08-01T12:02:55.735Z"
      },
      {
        "duration": 10,
        "start_time": "2022-08-01T12:02:55.757Z"
      },
      {
        "duration": 13,
        "start_time": "2022-08-01T12:02:55.769Z"
      },
      {
        "duration": 15,
        "start_time": "2022-08-01T12:02:55.784Z"
      },
      {
        "duration": 108,
        "start_time": "2022-08-01T12:02:55.801Z"
      },
      {
        "duration": 18,
        "start_time": "2022-08-01T12:02:55.911Z"
      },
      {
        "duration": 23,
        "start_time": "2022-08-01T12:02:55.931Z"
      },
      {
        "duration": 10,
        "start_time": "2022-08-01T12:02:55.955Z"
      },
      {
        "duration": 15,
        "start_time": "2022-08-01T12:02:55.966Z"
      },
      {
        "duration": 8,
        "start_time": "2022-08-01T12:02:55.982Z"
      },
      {
        "duration": 5,
        "start_time": "2022-08-01T12:02:55.991Z"
      },
      {
        "duration": 6,
        "start_time": "2022-08-01T12:02:55.997Z"
      },
      {
        "duration": 13,
        "start_time": "2022-08-01T12:02:56.004Z"
      },
      {
        "duration": 16,
        "start_time": "2022-08-01T12:02:56.031Z"
      },
      {
        "duration": 6,
        "start_time": "2022-08-01T12:02:56.048Z"
      },
      {
        "duration": 7,
        "start_time": "2022-08-01T12:02:56.055Z"
      },
      {
        "duration": 5,
        "start_time": "2022-08-01T12:02:56.064Z"
      },
      {
        "duration": 24,
        "start_time": "2022-08-01T12:02:56.071Z"
      },
      {
        "duration": 181,
        "start_time": "2022-08-01T12:02:56.096Z"
      },
      {
        "duration": 13,
        "start_time": "2022-08-01T12:02:56.279Z"
      },
      {
        "duration": 4,
        "start_time": "2022-08-01T12:02:56.293Z"
      },
      {
        "duration": 7,
        "start_time": "2022-08-01T12:02:56.299Z"
      },
      {
        "duration": 4,
        "start_time": "2022-08-01T12:02:56.309Z"
      },
      {
        "duration": 171,
        "start_time": "2022-08-01T12:02:56.331Z"
      },
      {
        "duration": 34,
        "start_time": "2022-08-01T12:02:56.503Z"
      },
      {
        "duration": 5,
        "start_time": "2022-08-01T12:02:56.539Z"
      },
      {
        "duration": 9,
        "start_time": "2022-08-01T12:02:56.545Z"
      },
      {
        "duration": 3,
        "start_time": "2022-08-01T12:02:56.555Z"
      },
      {
        "duration": 7,
        "start_time": "2022-08-01T12:02:56.559Z"
      },
      {
        "duration": 7,
        "start_time": "2022-08-01T12:02:56.567Z"
      },
      {
        "duration": 13998,
        "start_time": "2022-08-01T12:02:56.576Z"
      },
      {
        "duration": 13,
        "start_time": "2022-08-01T12:03:10.575Z"
      },
      {
        "duration": 196,
        "start_time": "2022-08-01T12:03:10.589Z"
      },
      {
        "duration": 4,
        "start_time": "2022-08-01T12:03:10.786Z"
      },
      {
        "duration": 11,
        "start_time": "2022-08-01T12:03:10.791Z"
      },
      {
        "duration": 9,
        "start_time": "2022-08-01T12:03:10.803Z"
      },
      {
        "duration": 17,
        "start_time": "2022-08-01T12:03:10.814Z"
      },
      {
        "duration": 35437,
        "start_time": "2022-08-01T12:03:10.832Z"
      },
      {
        "duration": 3,
        "start_time": "2022-08-01T12:03:46.270Z"
      },
      {
        "duration": 6,
        "start_time": "2022-08-01T12:03:46.275Z"
      },
      {
        "duration": 25,
        "start_time": "2022-08-01T12:03:46.282Z"
      },
      {
        "duration": 4,
        "start_time": "2022-08-01T12:03:46.309Z"
      },
      {
        "duration": 7824,
        "start_time": "2022-08-01T12:03:46.314Z"
      },
      {
        "duration": 95,
        "start_time": "2022-08-01T12:03:54.140Z"
      },
      {
        "duration": 94,
        "start_time": "2022-08-01T12:03:54.239Z"
      },
      {
        "duration": 17,
        "start_time": "2022-08-01T12:03:54.335Z"
      },
      {
        "duration": 1157,
        "start_time": "2022-08-01T12:07:20.807Z"
      },
      {
        "duration": 105,
        "start_time": "2022-08-01T12:07:21.965Z"
      },
      {
        "duration": 74,
        "start_time": "2022-08-01T12:07:22.071Z"
      },
      {
        "duration": 12,
        "start_time": "2022-08-01T12:07:22.147Z"
      },
      {
        "duration": 12,
        "start_time": "2022-08-01T12:07:22.161Z"
      },
      {
        "duration": 17,
        "start_time": "2022-08-01T12:07:22.174Z"
      },
      {
        "duration": 10,
        "start_time": "2022-08-01T12:07:22.193Z"
      },
      {
        "duration": 8,
        "start_time": "2022-08-01T12:07:22.204Z"
      },
      {
        "duration": 7,
        "start_time": "2022-08-01T12:07:22.213Z"
      },
      {
        "duration": 7,
        "start_time": "2022-08-01T12:07:22.231Z"
      },
      {
        "duration": 6,
        "start_time": "2022-08-01T12:07:22.239Z"
      },
      {
        "duration": 12,
        "start_time": "2022-08-01T12:07:22.246Z"
      },
      {
        "duration": 12,
        "start_time": "2022-08-01T12:07:22.260Z"
      },
      {
        "duration": 349,
        "start_time": "2022-08-01T12:07:22.275Z"
      },
      {
        "duration": 90,
        "start_time": "2022-08-01T12:07:22.626Z"
      },
      {
        "duration": 115,
        "start_time": "2022-08-01T12:07:22.718Z"
      },
      {
        "duration": 14,
        "start_time": "2022-08-01T12:07:22.835Z"
      },
      {
        "duration": 4,
        "start_time": "2022-08-01T12:07:22.851Z"
      },
      {
        "duration": 15,
        "start_time": "2022-08-01T12:07:22.857Z"
      },
      {
        "duration": 9,
        "start_time": "2022-08-01T12:07:22.874Z"
      },
      {
        "duration": 11,
        "start_time": "2022-08-01T12:07:22.884Z"
      },
      {
        "duration": 35,
        "start_time": "2022-08-01T12:07:22.897Z"
      },
      {
        "duration": 97,
        "start_time": "2022-08-01T12:07:22.934Z"
      },
      {
        "duration": 8,
        "start_time": "2022-08-01T12:07:23.033Z"
      },
      {
        "duration": 15,
        "start_time": "2022-08-01T12:07:23.042Z"
      },
      {
        "duration": 8,
        "start_time": "2022-08-01T12:07:23.058Z"
      },
      {
        "duration": 16,
        "start_time": "2022-08-01T12:07:23.067Z"
      },
      {
        "duration": 6,
        "start_time": "2022-08-01T12:07:23.084Z"
      },
      {
        "duration": 4,
        "start_time": "2022-08-01T12:07:23.092Z"
      },
      {
        "duration": 6,
        "start_time": "2022-08-01T12:07:23.098Z"
      },
      {
        "duration": 36,
        "start_time": "2022-08-01T12:07:23.105Z"
      },
      {
        "duration": 14,
        "start_time": "2022-08-01T12:07:23.142Z"
      },
      {
        "duration": 8,
        "start_time": "2022-08-01T12:07:23.158Z"
      },
      {
        "duration": 6,
        "start_time": "2022-08-01T12:07:23.167Z"
      },
      {
        "duration": 7,
        "start_time": "2022-08-01T12:07:23.174Z"
      },
      {
        "duration": 23,
        "start_time": "2022-08-01T12:07:23.182Z"
      },
      {
        "duration": 179,
        "start_time": "2022-08-01T12:07:23.206Z"
      },
      {
        "duration": 13,
        "start_time": "2022-08-01T12:07:23.387Z"
      },
      {
        "duration": 6,
        "start_time": "2022-08-01T12:07:23.401Z"
      },
      {
        "duration": 5,
        "start_time": "2022-08-01T12:07:23.409Z"
      },
      {
        "duration": 3,
        "start_time": "2022-08-01T12:07:23.431Z"
      },
      {
        "duration": 168,
        "start_time": "2022-08-01T12:07:23.435Z"
      },
      {
        "duration": 34,
        "start_time": "2022-08-01T12:07:23.605Z"
      },
      {
        "duration": 5,
        "start_time": "2022-08-01T12:07:23.641Z"
      },
      {
        "duration": 8,
        "start_time": "2022-08-01T12:07:23.647Z"
      },
      {
        "duration": 2,
        "start_time": "2022-08-01T12:07:23.656Z"
      },
      {
        "duration": 4,
        "start_time": "2022-08-01T12:07:23.660Z"
      },
      {
        "duration": 5,
        "start_time": "2022-08-01T12:07:23.666Z"
      },
      {
        "duration": 13086,
        "start_time": "2022-08-01T12:07:23.672Z"
      },
      {
        "duration": 14,
        "start_time": "2022-08-01T12:07:36.759Z"
      },
      {
        "duration": 238,
        "start_time": "2022-08-01T12:07:36.775Z"
      },
      {
        "duration": 4,
        "start_time": "2022-08-01T12:07:37.016Z"
      },
      {
        "duration": 15,
        "start_time": "2022-08-01T12:07:37.021Z"
      },
      {
        "duration": 10,
        "start_time": "2022-08-01T12:07:37.037Z"
      },
      {
        "duration": 4,
        "start_time": "2022-08-01T12:07:37.049Z"
      },
      {
        "duration": 32520,
        "start_time": "2022-08-01T12:07:37.055Z"
      },
      {
        "duration": 3,
        "start_time": "2022-08-01T12:08:09.577Z"
      },
      {
        "duration": 10,
        "start_time": "2022-08-01T12:08:09.581Z"
      },
      {
        "duration": 20,
        "start_time": "2022-08-01T12:08:09.592Z"
      },
      {
        "duration": 4,
        "start_time": "2022-08-01T12:08:09.613Z"
      },
      {
        "duration": 7420,
        "start_time": "2022-08-01T12:08:09.619Z"
      },
      {
        "duration": 97,
        "start_time": "2022-08-01T12:08:17.041Z"
      },
      {
        "duration": 98,
        "start_time": "2022-08-01T12:08:17.141Z"
      },
      {
        "duration": 9,
        "start_time": "2022-08-01T12:08:17.240Z"
      },
      {
        "duration": 1147,
        "start_time": "2022-08-01T12:22:16.043Z"
      },
      {
        "duration": 109,
        "start_time": "2022-08-01T12:22:17.192Z"
      },
      {
        "duration": 76,
        "start_time": "2022-08-01T12:22:17.303Z"
      },
      {
        "duration": 11,
        "start_time": "2022-08-01T12:22:17.380Z"
      },
      {
        "duration": 6,
        "start_time": "2022-08-01T12:22:17.393Z"
      },
      {
        "duration": 31,
        "start_time": "2022-08-01T12:22:17.401Z"
      },
      {
        "duration": 15,
        "start_time": "2022-08-01T12:22:17.434Z"
      },
      {
        "duration": 8,
        "start_time": "2022-08-01T12:22:17.450Z"
      },
      {
        "duration": 6,
        "start_time": "2022-08-01T12:22:17.460Z"
      },
      {
        "duration": 9,
        "start_time": "2022-08-01T12:22:17.468Z"
      },
      {
        "duration": 5,
        "start_time": "2022-08-01T12:22:17.479Z"
      },
      {
        "duration": 6,
        "start_time": "2022-08-01T12:22:17.485Z"
      },
      {
        "duration": 8,
        "start_time": "2022-08-01T12:22:17.492Z"
      },
      {
        "duration": 386,
        "start_time": "2022-08-01T12:22:17.503Z"
      },
      {
        "duration": 114,
        "start_time": "2022-08-01T12:22:17.890Z"
      },
      {
        "duration": 113,
        "start_time": "2022-08-01T12:22:18.006Z"
      },
      {
        "duration": 27,
        "start_time": "2022-08-01T12:22:18.120Z"
      },
      {
        "duration": 6,
        "start_time": "2022-08-01T12:22:18.149Z"
      },
      {
        "duration": 15,
        "start_time": "2022-08-01T12:22:18.156Z"
      },
      {
        "duration": 10,
        "start_time": "2022-08-01T12:22:18.173Z"
      },
      {
        "duration": 11,
        "start_time": "2022-08-01T12:22:18.184Z"
      },
      {
        "duration": 10,
        "start_time": "2022-08-01T12:22:18.197Z"
      },
      {
        "duration": 114,
        "start_time": "2022-08-01T12:22:18.208Z"
      },
      {
        "duration": 10,
        "start_time": "2022-08-01T12:22:18.324Z"
      },
      {
        "duration": 22,
        "start_time": "2022-08-01T12:22:18.336Z"
      },
      {
        "duration": 10,
        "start_time": "2022-08-01T12:22:18.360Z"
      },
      {
        "duration": 14,
        "start_time": "2022-08-01T12:22:18.371Z"
      },
      {
        "duration": 3,
        "start_time": "2022-08-01T12:22:18.386Z"
      },
      {
        "duration": 11,
        "start_time": "2022-08-01T12:22:18.390Z"
      },
      {
        "duration": 14,
        "start_time": "2022-08-01T12:22:18.402Z"
      },
      {
        "duration": 17,
        "start_time": "2022-08-01T12:22:18.417Z"
      },
      {
        "duration": 27,
        "start_time": "2022-08-01T12:22:18.436Z"
      },
      {
        "duration": 8,
        "start_time": "2022-08-01T12:22:18.465Z"
      },
      {
        "duration": 6,
        "start_time": "2022-08-01T12:22:18.474Z"
      },
      {
        "duration": 10,
        "start_time": "2022-08-01T12:22:18.481Z"
      },
      {
        "duration": 25,
        "start_time": "2022-08-01T12:22:18.493Z"
      },
      {
        "duration": 147,
        "start_time": "2022-08-01T12:22:18.519Z"
      },
      {
        "duration": 13,
        "start_time": "2022-08-01T12:22:18.668Z"
      },
      {
        "duration": 8,
        "start_time": "2022-08-01T12:22:18.682Z"
      },
      {
        "duration": 7,
        "start_time": "2022-08-01T12:22:18.691Z"
      },
      {
        "duration": 8,
        "start_time": "2022-08-01T12:22:18.701Z"
      },
      {
        "duration": 157,
        "start_time": "2022-08-01T12:22:18.710Z"
      },
      {
        "duration": 22,
        "start_time": "2022-08-01T12:22:18.869Z"
      },
      {
        "duration": 5,
        "start_time": "2022-08-01T12:22:18.892Z"
      },
      {
        "duration": 6,
        "start_time": "2022-08-01T12:22:18.899Z"
      },
      {
        "duration": 8,
        "start_time": "2022-08-01T12:22:18.907Z"
      },
      {
        "duration": 8,
        "start_time": "2022-08-01T12:22:18.916Z"
      },
      {
        "duration": 14,
        "start_time": "2022-08-01T12:22:18.932Z"
      },
      {
        "duration": 13791,
        "start_time": "2022-08-01T12:22:18.947Z"
      },
      {
        "duration": 15,
        "start_time": "2022-08-01T12:22:32.740Z"
      },
      {
        "duration": 214,
        "start_time": "2022-08-01T12:22:32.756Z"
      },
      {
        "duration": 5,
        "start_time": "2022-08-01T12:22:32.972Z"
      },
      {
        "duration": 10,
        "start_time": "2022-08-01T12:22:32.978Z"
      },
      {
        "duration": 20,
        "start_time": "2022-08-01T12:22:32.990Z"
      },
      {
        "duration": 33238,
        "start_time": "2022-08-01T12:22:33.011Z"
      },
      {
        "duration": 3,
        "start_time": "2022-08-01T12:23:06.251Z"
      },
      {
        "duration": 7,
        "start_time": "2022-08-01T12:23:06.255Z"
      },
      {
        "duration": 26,
        "start_time": "2022-08-01T12:23:06.263Z"
      },
      {
        "duration": 4,
        "start_time": "2022-08-01T12:23:06.290Z"
      },
      {
        "duration": 7870,
        "start_time": "2022-08-01T12:23:06.295Z"
      },
      {
        "duration": 4,
        "start_time": "2022-08-01T12:23:14.167Z"
      },
      {
        "duration": 10,
        "start_time": "2022-08-01T12:23:14.173Z"
      },
      {
        "duration": 46,
        "start_time": "2022-08-01T12:23:14.185Z"
      },
      {
        "duration": 1146,
        "start_time": "2022-08-01T12:36:54.386Z"
      },
      {
        "duration": 101,
        "start_time": "2022-08-01T12:36:55.533Z"
      },
      {
        "duration": 69,
        "start_time": "2022-08-01T12:36:55.635Z"
      },
      {
        "duration": 12,
        "start_time": "2022-08-01T12:36:55.705Z"
      },
      {
        "duration": 7,
        "start_time": "2022-08-01T12:36:55.732Z"
      },
      {
        "duration": 21,
        "start_time": "2022-08-01T12:36:55.741Z"
      },
      {
        "duration": 5,
        "start_time": "2022-08-01T12:36:55.764Z"
      },
      {
        "duration": 12,
        "start_time": "2022-08-01T12:36:55.770Z"
      },
      {
        "duration": 12,
        "start_time": "2022-08-01T12:36:55.784Z"
      },
      {
        "duration": 15,
        "start_time": "2022-08-01T12:36:55.798Z"
      },
      {
        "duration": 14,
        "start_time": "2022-08-01T12:36:55.815Z"
      },
      {
        "duration": 15,
        "start_time": "2022-08-01T12:36:55.831Z"
      },
      {
        "duration": 17,
        "start_time": "2022-08-01T12:36:55.847Z"
      },
      {
        "duration": 325,
        "start_time": "2022-08-01T12:36:55.868Z"
      },
      {
        "duration": 99,
        "start_time": "2022-08-01T12:36:56.194Z"
      },
      {
        "duration": 90,
        "start_time": "2022-08-01T12:36:56.295Z"
      },
      {
        "duration": 13,
        "start_time": "2022-08-01T12:36:56.387Z"
      },
      {
        "duration": 4,
        "start_time": "2022-08-01T12:36:56.401Z"
      },
      {
        "duration": 28,
        "start_time": "2022-08-01T12:36:56.406Z"
      },
      {
        "duration": 8,
        "start_time": "2022-08-01T12:36:56.435Z"
      },
      {
        "duration": 22,
        "start_time": "2022-08-01T12:36:56.444Z"
      },
      {
        "duration": 11,
        "start_time": "2022-08-01T12:36:56.467Z"
      },
      {
        "duration": 81,
        "start_time": "2022-08-01T12:36:56.479Z"
      },
      {
        "duration": 6,
        "start_time": "2022-08-01T12:36:56.561Z"
      },
      {
        "duration": 12,
        "start_time": "2022-08-01T12:36:56.568Z"
      },
      {
        "duration": 14,
        "start_time": "2022-08-01T12:36:56.581Z"
      },
      {
        "duration": 26,
        "start_time": "2022-08-01T12:36:56.597Z"
      },
      {
        "duration": 2,
        "start_time": "2022-08-01T12:36:56.624Z"
      },
      {
        "duration": 20,
        "start_time": "2022-08-01T12:36:56.627Z"
      },
      {
        "duration": 10,
        "start_time": "2022-08-01T12:36:56.649Z"
      },
      {
        "duration": 22,
        "start_time": "2022-08-01T12:36:56.660Z"
      },
      {
        "duration": 16,
        "start_time": "2022-08-01T12:36:56.684Z"
      },
      {
        "duration": 15,
        "start_time": "2022-08-01T12:36:56.701Z"
      },
      {
        "duration": 14,
        "start_time": "2022-08-01T12:36:56.717Z"
      },
      {
        "duration": 11,
        "start_time": "2022-08-01T12:36:56.732Z"
      },
      {
        "duration": 31,
        "start_time": "2022-08-01T12:36:56.744Z"
      },
      {
        "duration": 132,
        "start_time": "2022-08-01T12:36:56.777Z"
      },
      {
        "duration": 12,
        "start_time": "2022-08-01T12:36:56.911Z"
      },
      {
        "duration": 10,
        "start_time": "2022-08-01T12:36:56.924Z"
      },
      {
        "duration": 7,
        "start_time": "2022-08-01T12:36:56.935Z"
      },
      {
        "duration": 12,
        "start_time": "2022-08-01T12:36:56.945Z"
      },
      {
        "duration": 144,
        "start_time": "2022-08-01T12:36:56.958Z"
      },
      {
        "duration": 23,
        "start_time": "2022-08-01T12:36:57.103Z"
      },
      {
        "duration": 4,
        "start_time": "2022-08-01T12:36:57.131Z"
      },
      {
        "duration": 8,
        "start_time": "2022-08-01T12:36:57.136Z"
      },
      {
        "duration": 11,
        "start_time": "2022-08-01T12:36:57.145Z"
      },
      {
        "duration": 18,
        "start_time": "2022-08-01T12:36:57.157Z"
      },
      {
        "duration": 7,
        "start_time": "2022-08-01T12:36:57.176Z"
      },
      {
        "duration": 12998,
        "start_time": "2022-08-01T12:36:57.184Z"
      },
      {
        "duration": 14,
        "start_time": "2022-08-01T12:37:10.183Z"
      },
      {
        "duration": 184,
        "start_time": "2022-08-01T12:37:10.198Z"
      },
      {
        "duration": 4,
        "start_time": "2022-08-01T12:37:10.383Z"
      },
      {
        "duration": 9,
        "start_time": "2022-08-01T12:37:10.388Z"
      },
      {
        "duration": 9,
        "start_time": "2022-08-01T12:37:10.399Z"
      },
      {
        "duration": 31498,
        "start_time": "2022-08-01T12:37:10.409Z"
      },
      {
        "duration": 3,
        "start_time": "2022-08-01T12:37:41.909Z"
      },
      {
        "duration": 6,
        "start_time": "2022-08-01T12:37:41.914Z"
      },
      {
        "duration": 25,
        "start_time": "2022-08-01T12:37:41.931Z"
      },
      {
        "duration": 4,
        "start_time": "2022-08-01T12:37:41.957Z"
      },
      {
        "duration": 7385,
        "start_time": "2022-08-01T12:37:41.963Z"
      },
      {
        "duration": 3,
        "start_time": "2022-08-01T12:37:49.350Z"
      },
      {
        "duration": 6,
        "start_time": "2022-08-01T12:37:49.354Z"
      },
      {
        "duration": 8,
        "start_time": "2022-08-01T12:37:49.362Z"
      },
      {
        "duration": 260,
        "start_time": "2022-08-01T12:37:49.372Z"
      },
      {
        "duration": 0,
        "start_time": "2022-08-01T12:37:49.633Z"
      },
      {
        "duration": 20,
        "start_time": "2022-08-01T12:39:35.560Z"
      },
      {
        "duration": 21,
        "start_time": "2022-08-01T12:40:07.873Z"
      },
      {
        "duration": 13,
        "start_time": "2022-08-01T12:41:31.982Z"
      },
      {
        "duration": 115,
        "start_time": "2022-08-01T12:42:15.272Z"
      },
      {
        "duration": 19,
        "start_time": "2022-08-01T12:42:27.392Z"
      },
      {
        "duration": 11,
        "start_time": "2022-08-01T12:44:41.591Z"
      },
      {
        "duration": 8,
        "start_time": "2022-08-01T12:44:44.152Z"
      },
      {
        "duration": 5,
        "start_time": "2022-08-01T12:46:23.087Z"
      },
      {
        "duration": 7,
        "start_time": "2022-08-01T12:46:25.106Z"
      },
      {
        "duration": 4,
        "start_time": "2022-08-01T12:47:13.982Z"
      },
      {
        "duration": 7,
        "start_time": "2022-08-01T12:47:15.260Z"
      },
      {
        "duration": 1141,
        "start_time": "2022-08-01T12:48:01.742Z"
      },
      {
        "duration": 101,
        "start_time": "2022-08-01T12:48:02.885Z"
      },
      {
        "duration": 81,
        "start_time": "2022-08-01T12:48:02.987Z"
      },
      {
        "duration": 17,
        "start_time": "2022-08-01T12:48:03.069Z"
      },
      {
        "duration": 8,
        "start_time": "2022-08-01T12:48:03.089Z"
      },
      {
        "duration": 39,
        "start_time": "2022-08-01T12:48:03.098Z"
      },
      {
        "duration": 7,
        "start_time": "2022-08-01T12:48:03.138Z"
      },
      {
        "duration": 7,
        "start_time": "2022-08-01T12:48:03.147Z"
      },
      {
        "duration": 5,
        "start_time": "2022-08-01T12:48:03.156Z"
      },
      {
        "duration": 8,
        "start_time": "2022-08-01T12:48:03.163Z"
      },
      {
        "duration": 5,
        "start_time": "2022-08-01T12:48:03.173Z"
      },
      {
        "duration": 4,
        "start_time": "2022-08-01T12:48:03.180Z"
      },
      {
        "duration": 6,
        "start_time": "2022-08-01T12:48:03.186Z"
      },
      {
        "duration": 368,
        "start_time": "2022-08-01T12:48:03.195Z"
      },
      {
        "duration": 103,
        "start_time": "2022-08-01T12:48:03.565Z"
      },
      {
        "duration": 101,
        "start_time": "2022-08-01T12:48:03.670Z"
      },
      {
        "duration": 15,
        "start_time": "2022-08-01T12:48:03.773Z"
      },
      {
        "duration": 4,
        "start_time": "2022-08-01T12:48:03.790Z"
      },
      {
        "duration": 14,
        "start_time": "2022-08-01T12:48:03.796Z"
      },
      {
        "duration": 28,
        "start_time": "2022-08-01T12:48:03.812Z"
      },
      {
        "duration": 17,
        "start_time": "2022-08-01T12:48:03.841Z"
      },
      {
        "duration": 16,
        "start_time": "2022-08-01T12:48:03.860Z"
      },
      {
        "duration": 87,
        "start_time": "2022-08-01T12:48:03.878Z"
      },
      {
        "duration": 8,
        "start_time": "2022-08-01T12:48:03.967Z"
      },
      {
        "duration": 10,
        "start_time": "2022-08-01T12:48:03.977Z"
      },
      {
        "duration": 9,
        "start_time": "2022-08-01T12:48:03.989Z"
      },
      {
        "duration": 34,
        "start_time": "2022-08-01T12:48:04.000Z"
      },
      {
        "duration": 2,
        "start_time": "2022-08-01T12:48:04.036Z"
      },
      {
        "duration": 6,
        "start_time": "2022-08-01T12:48:04.040Z"
      },
      {
        "duration": 6,
        "start_time": "2022-08-01T12:48:04.047Z"
      },
      {
        "duration": 15,
        "start_time": "2022-08-01T12:48:04.055Z"
      },
      {
        "duration": 15,
        "start_time": "2022-08-01T12:48:04.072Z"
      },
      {
        "duration": 3,
        "start_time": "2022-08-01T12:48:04.089Z"
      },
      {
        "duration": 6,
        "start_time": "2022-08-01T12:48:04.094Z"
      },
      {
        "duration": 30,
        "start_time": "2022-08-01T12:48:04.102Z"
      },
      {
        "duration": 22,
        "start_time": "2022-08-01T12:48:04.134Z"
      },
      {
        "duration": 153,
        "start_time": "2022-08-01T12:48:04.157Z"
      },
      {
        "duration": 13,
        "start_time": "2022-08-01T12:48:04.312Z"
      },
      {
        "duration": 5,
        "start_time": "2022-08-01T12:48:04.331Z"
      },
      {
        "duration": 6,
        "start_time": "2022-08-01T12:48:04.337Z"
      },
      {
        "duration": 6,
        "start_time": "2022-08-01T12:48:04.346Z"
      },
      {
        "duration": 153,
        "start_time": "2022-08-01T12:48:04.353Z"
      },
      {
        "duration": 25,
        "start_time": "2022-08-01T12:48:04.508Z"
      },
      {
        "duration": 4,
        "start_time": "2022-08-01T12:48:04.535Z"
      },
      {
        "duration": 8,
        "start_time": "2022-08-01T12:48:04.540Z"
      },
      {
        "duration": 6,
        "start_time": "2022-08-01T12:48:04.549Z"
      },
      {
        "duration": 7,
        "start_time": "2022-08-01T12:48:04.557Z"
      },
      {
        "duration": 7,
        "start_time": "2022-08-01T12:48:04.566Z"
      },
      {
        "duration": 13009,
        "start_time": "2022-08-01T12:48:04.575Z"
      },
      {
        "duration": 14,
        "start_time": "2022-08-01T12:48:17.586Z"
      },
      {
        "duration": 240,
        "start_time": "2022-08-01T12:48:17.602Z"
      },
      {
        "duration": 4,
        "start_time": "2022-08-01T12:48:17.844Z"
      },
      {
        "duration": 18,
        "start_time": "2022-08-01T12:48:17.850Z"
      },
      {
        "duration": 22,
        "start_time": "2022-08-01T12:48:17.870Z"
      },
      {
        "duration": 31738,
        "start_time": "2022-08-01T12:48:17.894Z"
      },
      {
        "duration": 4,
        "start_time": "2022-08-01T12:48:49.633Z"
      },
      {
        "duration": 7,
        "start_time": "2022-08-01T12:48:49.639Z"
      },
      {
        "duration": 26,
        "start_time": "2022-08-01T12:48:49.647Z"
      },
      {
        "duration": 4,
        "start_time": "2022-08-01T12:48:49.675Z"
      },
      {
        "duration": 7871,
        "start_time": "2022-08-01T12:48:49.681Z"
      },
      {
        "duration": 4,
        "start_time": "2022-08-01T12:48:57.553Z"
      },
      {
        "duration": 9,
        "start_time": "2022-08-01T12:48:57.558Z"
      },
      {
        "duration": 14,
        "start_time": "2022-08-01T12:48:57.569Z"
      },
      {
        "duration": 102,
        "start_time": "2022-08-01T12:48:57.631Z"
      },
      {
        "duration": 18,
        "start_time": "2022-08-01T12:48:57.735Z"
      },
      {
        "duration": 1306,
        "start_time": "2022-08-01T19:59:27.813Z"
      },
      {
        "duration": 289,
        "start_time": "2022-08-01T19:59:29.122Z"
      },
      {
        "duration": 77,
        "start_time": "2022-08-01T19:59:29.413Z"
      },
      {
        "duration": 13,
        "start_time": "2022-08-01T19:59:29.492Z"
      },
      {
        "duration": 6,
        "start_time": "2022-08-01T19:59:29.508Z"
      },
      {
        "duration": 34,
        "start_time": "2022-08-01T19:59:29.516Z"
      },
      {
        "duration": 8,
        "start_time": "2022-08-01T19:59:29.552Z"
      },
      {
        "duration": 8,
        "start_time": "2022-08-01T19:59:29.561Z"
      },
      {
        "duration": 4,
        "start_time": "2022-08-01T19:59:29.571Z"
      },
      {
        "duration": 9,
        "start_time": "2022-08-01T19:59:29.577Z"
      },
      {
        "duration": 5,
        "start_time": "2022-08-01T19:59:29.588Z"
      },
      {
        "duration": 4,
        "start_time": "2022-08-01T19:59:29.595Z"
      },
      {
        "duration": 6,
        "start_time": "2022-08-01T19:59:29.600Z"
      },
      {
        "duration": 549,
        "start_time": "2022-08-01T19:59:29.637Z"
      },
      {
        "duration": 106,
        "start_time": "2022-08-01T19:59:30.187Z"
      },
      {
        "duration": 133,
        "start_time": "2022-08-01T19:59:30.295Z"
      },
      {
        "duration": 17,
        "start_time": "2022-08-01T19:59:30.436Z"
      },
      {
        "duration": 21,
        "start_time": "2022-08-01T19:59:30.455Z"
      },
      {
        "duration": 35,
        "start_time": "2022-08-01T19:59:30.478Z"
      },
      {
        "duration": 23,
        "start_time": "2022-08-01T19:59:30.515Z"
      },
      {
        "duration": 48,
        "start_time": "2022-08-01T19:59:30.540Z"
      },
      {
        "duration": 45,
        "start_time": "2022-08-01T19:59:30.590Z"
      },
      {
        "duration": 110,
        "start_time": "2022-08-01T19:59:30.637Z"
      },
      {
        "duration": 16,
        "start_time": "2022-08-01T19:59:30.749Z"
      },
      {
        "duration": 21,
        "start_time": "2022-08-01T19:59:30.767Z"
      },
      {
        "duration": 31,
        "start_time": "2022-08-01T19:59:30.790Z"
      },
      {
        "duration": 17,
        "start_time": "2022-08-01T19:59:30.822Z"
      },
      {
        "duration": 9,
        "start_time": "2022-08-01T19:59:30.841Z"
      },
      {
        "duration": 14,
        "start_time": "2022-08-01T19:59:30.851Z"
      },
      {
        "duration": 8,
        "start_time": "2022-08-01T19:59:30.867Z"
      },
      {
        "duration": 17,
        "start_time": "2022-08-01T19:59:30.876Z"
      },
      {
        "duration": 15,
        "start_time": "2022-08-01T19:59:30.895Z"
      },
      {
        "duration": 12,
        "start_time": "2022-08-01T19:59:30.912Z"
      },
      {
        "duration": 19,
        "start_time": "2022-08-01T19:59:30.926Z"
      },
      {
        "duration": 14,
        "start_time": "2022-08-01T19:59:30.946Z"
      },
      {
        "duration": 33,
        "start_time": "2022-08-01T19:59:30.961Z"
      },
      {
        "duration": 151,
        "start_time": "2022-08-01T19:59:30.996Z"
      },
      {
        "duration": 15,
        "start_time": "2022-08-01T19:59:31.149Z"
      },
      {
        "duration": 12,
        "start_time": "2022-08-01T19:59:31.165Z"
      },
      {
        "duration": 22,
        "start_time": "2022-08-01T19:59:31.179Z"
      },
      {
        "duration": 9,
        "start_time": "2022-08-01T19:59:31.205Z"
      },
      {
        "duration": 159,
        "start_time": "2022-08-01T19:59:31.215Z"
      },
      {
        "duration": 26,
        "start_time": "2022-08-01T19:59:31.375Z"
      },
      {
        "duration": 4,
        "start_time": "2022-08-01T19:59:31.403Z"
      },
      {
        "duration": 16,
        "start_time": "2022-08-01T19:59:31.409Z"
      },
      {
        "duration": 2,
        "start_time": "2022-08-01T19:59:31.436Z"
      },
      {
        "duration": 9,
        "start_time": "2022-08-01T19:59:31.440Z"
      },
      {
        "duration": 13,
        "start_time": "2022-08-01T19:59:31.450Z"
      },
      {
        "duration": 13935,
        "start_time": "2022-08-01T19:59:31.464Z"
      },
      {
        "duration": 14,
        "start_time": "2022-08-01T19:59:45.400Z"
      },
      {
        "duration": 208,
        "start_time": "2022-08-01T19:59:45.416Z"
      },
      {
        "duration": 13,
        "start_time": "2022-08-01T19:59:45.626Z"
      },
      {
        "duration": 11,
        "start_time": "2022-08-01T19:59:45.641Z"
      },
      {
        "duration": 16,
        "start_time": "2022-08-01T19:59:45.654Z"
      },
      {
        "duration": 34554,
        "start_time": "2022-08-01T19:59:45.672Z"
      },
      {
        "duration": 9,
        "start_time": "2022-08-01T20:00:20.228Z"
      },
      {
        "duration": 7,
        "start_time": "2022-08-01T20:00:20.239Z"
      },
      {
        "duration": 40,
        "start_time": "2022-08-01T20:00:20.248Z"
      },
      {
        "duration": 5,
        "start_time": "2022-08-01T20:00:20.290Z"
      },
      {
        "duration": 9664,
        "start_time": "2022-08-01T20:00:20.297Z"
      },
      {
        "duration": 4,
        "start_time": "2022-08-01T20:00:29.962Z"
      },
      {
        "duration": 8,
        "start_time": "2022-08-01T20:00:29.967Z"
      },
      {
        "duration": 10,
        "start_time": "2022-08-01T20:00:29.977Z"
      },
      {
        "duration": 103,
        "start_time": "2022-08-01T20:00:30.039Z"
      },
      {
        "duration": 29,
        "start_time": "2022-08-01T20:00:30.144Z"
      },
      {
        "duration": 1382,
        "start_time": "2022-08-01T20:05:58.053Z"
      },
      {
        "duration": 98,
        "start_time": "2022-08-01T20:05:59.437Z"
      },
      {
        "duration": 81,
        "start_time": "2022-08-01T20:05:59.537Z"
      },
      {
        "duration": 24,
        "start_time": "2022-08-01T20:05:59.620Z"
      },
      {
        "duration": 23,
        "start_time": "2022-08-01T20:05:59.646Z"
      },
      {
        "duration": 29,
        "start_time": "2022-08-01T20:05:59.671Z"
      },
      {
        "duration": 16,
        "start_time": "2022-08-01T20:05:59.701Z"
      },
      {
        "duration": 20,
        "start_time": "2022-08-01T20:05:59.719Z"
      },
      {
        "duration": 40,
        "start_time": "2022-08-01T20:05:59.740Z"
      },
      {
        "duration": 31,
        "start_time": "2022-08-01T20:05:59.782Z"
      },
      {
        "duration": 30,
        "start_time": "2022-08-01T20:05:59.814Z"
      },
      {
        "duration": 25,
        "start_time": "2022-08-01T20:05:59.846Z"
      },
      {
        "duration": 22,
        "start_time": "2022-08-01T20:05:59.873Z"
      },
      {
        "duration": 396,
        "start_time": "2022-08-01T20:05:59.897Z"
      },
      {
        "duration": 116,
        "start_time": "2022-08-01T20:06:00.295Z"
      },
      {
        "duration": 105,
        "start_time": "2022-08-01T20:06:00.413Z"
      },
      {
        "duration": 29,
        "start_time": "2022-08-01T20:06:00.520Z"
      },
      {
        "duration": 4,
        "start_time": "2022-08-01T20:06:00.551Z"
      },
      {
        "duration": 25,
        "start_time": "2022-08-01T20:06:00.557Z"
      },
      {
        "duration": 19,
        "start_time": "2022-08-01T20:06:00.583Z"
      },
      {
        "duration": 34,
        "start_time": "2022-08-01T20:06:00.603Z"
      },
      {
        "duration": 9,
        "start_time": "2022-08-01T20:06:00.639Z"
      },
      {
        "duration": 96,
        "start_time": "2022-08-01T20:06:00.650Z"
      },
      {
        "duration": 15,
        "start_time": "2022-08-01T20:06:00.747Z"
      },
      {
        "duration": 16,
        "start_time": "2022-08-01T20:06:00.763Z"
      },
      {
        "duration": 16,
        "start_time": "2022-08-01T20:06:00.781Z"
      },
      {
        "duration": 18,
        "start_time": "2022-08-01T20:06:00.799Z"
      },
      {
        "duration": 18,
        "start_time": "2022-08-01T20:06:00.819Z"
      },
      {
        "duration": 11,
        "start_time": "2022-08-01T20:06:00.839Z"
      },
      {
        "duration": 20,
        "start_time": "2022-08-01T20:06:00.851Z"
      },
      {
        "duration": 15,
        "start_time": "2022-08-01T20:06:00.873Z"
      },
      {
        "duration": 16,
        "start_time": "2022-08-01T20:06:00.890Z"
      },
      {
        "duration": 16,
        "start_time": "2022-08-01T20:06:00.908Z"
      },
      {
        "duration": 21,
        "start_time": "2022-08-01T20:06:00.925Z"
      },
      {
        "duration": 35,
        "start_time": "2022-08-01T20:06:00.948Z"
      },
      {
        "duration": 155,
        "start_time": "2022-08-01T20:06:00.985Z"
      },
      {
        "duration": 16,
        "start_time": "2022-08-01T20:06:01.142Z"
      },
      {
        "duration": 36,
        "start_time": "2022-08-01T20:06:01.160Z"
      },
      {
        "duration": 27,
        "start_time": "2022-08-01T20:06:01.198Z"
      },
      {
        "duration": 28,
        "start_time": "2022-08-01T20:06:01.227Z"
      },
      {
        "duration": 154,
        "start_time": "2022-08-01T20:06:01.259Z"
      },
      {
        "duration": 26,
        "start_time": "2022-08-01T20:06:01.415Z"
      },
      {
        "duration": 54,
        "start_time": "2022-08-01T20:06:01.442Z"
      },
      {
        "duration": 34,
        "start_time": "2022-08-01T20:06:01.499Z"
      },
      {
        "duration": 62,
        "start_time": "2022-08-01T20:06:01.535Z"
      },
      {
        "duration": 41,
        "start_time": "2022-08-01T20:06:01.599Z"
      },
      {
        "duration": 64933,
        "start_time": "2022-08-01T20:06:01.641Z"
      },
      {
        "duration": 11,
        "start_time": "2022-08-01T20:07:06.576Z"
      },
      {
        "duration": 14763,
        "start_time": "2022-08-01T20:07:06.589Z"
      },
      {
        "duration": 14,
        "start_time": "2022-08-01T20:07:21.354Z"
      },
      {
        "duration": 212,
        "start_time": "2022-08-01T20:07:21.369Z"
      },
      {
        "duration": 4,
        "start_time": "2022-08-01T20:07:21.582Z"
      },
      {
        "duration": 31,
        "start_time": "2022-08-01T20:07:21.587Z"
      },
      {
        "duration": 18,
        "start_time": "2022-08-01T20:07:21.620Z"
      },
      {
        "duration": 35282,
        "start_time": "2022-08-01T20:07:21.640Z"
      },
      {
        "duration": 12,
        "start_time": "2022-08-01T20:07:56.925Z"
      },
      {
        "duration": 10,
        "start_time": "2022-08-01T20:07:56.939Z"
      },
      {
        "duration": 29,
        "start_time": "2022-08-01T20:07:56.951Z"
      },
      {
        "duration": 4,
        "start_time": "2022-08-01T20:07:56.982Z"
      },
      {
        "duration": 13186,
        "start_time": "2022-08-01T20:07:56.989Z"
      },
      {
        "duration": 3,
        "start_time": "2022-08-01T20:08:10.177Z"
      },
      {
        "duration": 6,
        "start_time": "2022-08-01T20:08:10.182Z"
      },
      {
        "duration": 54,
        "start_time": "2022-08-01T20:08:10.189Z"
      },
      {
        "duration": 5,
        "start_time": "2022-08-01T20:08:10.245Z"
      },
      {
        "duration": 17,
        "start_time": "2022-08-01T20:08:10.336Z"
      },
      {
        "duration": 130,
        "start_time": "2022-08-01T20:08:17.451Z"
      },
      {
        "duration": 8,
        "start_time": "2022-08-01T20:08:23.375Z"
      },
      {
        "duration": 5,
        "start_time": "2022-08-01T20:09:08.711Z"
      },
      {
        "duration": 117265,
        "start_time": "2022-08-01T20:10:14.273Z"
      },
      {
        "duration": 4,
        "start_time": "2022-08-01T20:12:28.672Z"
      },
      {
        "duration": 14,
        "start_time": "2022-08-01T20:12:34.677Z"
      },
      {
        "duration": 4,
        "start_time": "2022-08-01T20:12:54.457Z"
      },
      {
        "duration": 180502,
        "start_time": "2022-08-01T20:13:53.111Z"
      },
      {
        "duration": 4,
        "start_time": "2022-08-01T20:17:49.576Z"
      },
      {
        "duration": 11,
        "start_time": "2022-08-01T20:17:55.166Z"
      },
      {
        "duration": 5,
        "start_time": "2022-08-01T20:18:22.758Z"
      },
      {
        "duration": 127538,
        "start_time": "2022-08-01T20:20:52.958Z"
      },
      {
        "duration": 4,
        "start_time": "2022-08-01T20:23:00.497Z"
      },
      {
        "duration": 8,
        "start_time": "2022-08-01T20:23:00.503Z"
      },
      {
        "duration": 17,
        "start_time": "2022-08-01T20:23:00.513Z"
      },
      {
        "duration": 138701,
        "start_time": "2022-08-01T20:24:30.669Z"
      },
      {
        "duration": 4,
        "start_time": "2022-08-01T20:26:49.372Z"
      },
      {
        "duration": 6,
        "start_time": "2022-08-01T20:26:49.378Z"
      },
      {
        "duration": 15,
        "start_time": "2022-08-01T20:26:49.386Z"
      },
      {
        "duration": 91712,
        "start_time": "2022-08-01T20:27:50.777Z"
      },
      {
        "duration": 3,
        "start_time": "2022-08-01T20:29:22.491Z"
      },
      {
        "duration": 7,
        "start_time": "2022-08-01T20:29:22.496Z"
      },
      {
        "duration": 16,
        "start_time": "2022-08-01T20:29:22.504Z"
      },
      {
        "duration": 1101,
        "start_time": "2022-08-01T20:31:16.488Z"
      },
      {
        "duration": 95,
        "start_time": "2022-08-01T20:31:17.591Z"
      },
      {
        "duration": 70,
        "start_time": "2022-08-01T20:31:17.688Z"
      },
      {
        "duration": 13,
        "start_time": "2022-08-01T20:31:17.760Z"
      },
      {
        "duration": 9,
        "start_time": "2022-08-01T20:31:17.774Z"
      },
      {
        "duration": 14,
        "start_time": "2022-08-01T20:31:17.785Z"
      },
      {
        "duration": 6,
        "start_time": "2022-08-01T20:31:17.800Z"
      },
      {
        "duration": 8,
        "start_time": "2022-08-01T20:31:17.807Z"
      },
      {
        "duration": 22,
        "start_time": "2022-08-01T20:31:17.816Z"
      },
      {
        "duration": 7,
        "start_time": "2022-08-01T20:31:17.841Z"
      },
      {
        "duration": 5,
        "start_time": "2022-08-01T20:31:17.850Z"
      },
      {
        "duration": 5,
        "start_time": "2022-08-01T20:31:17.856Z"
      },
      {
        "duration": 8,
        "start_time": "2022-08-01T20:31:17.862Z"
      },
      {
        "duration": 379,
        "start_time": "2022-08-01T20:31:17.871Z"
      },
      {
        "duration": 109,
        "start_time": "2022-08-01T20:31:18.251Z"
      },
      {
        "duration": 106,
        "start_time": "2022-08-01T20:31:18.362Z"
      },
      {
        "duration": 15,
        "start_time": "2022-08-01T20:31:18.469Z"
      },
      {
        "duration": 4,
        "start_time": "2022-08-01T20:31:18.485Z"
      },
      {
        "duration": 14,
        "start_time": "2022-08-01T20:31:18.491Z"
      },
      {
        "duration": 9,
        "start_time": "2022-08-01T20:31:18.507Z"
      },
      {
        "duration": 28,
        "start_time": "2022-08-01T20:31:18.517Z"
      },
      {
        "duration": 11,
        "start_time": "2022-08-01T20:31:18.547Z"
      },
      {
        "duration": 94,
        "start_time": "2022-08-01T20:31:18.560Z"
      },
      {
        "duration": 25,
        "start_time": "2022-08-01T20:31:18.655Z"
      },
      {
        "duration": 15,
        "start_time": "2022-08-01T20:31:18.681Z"
      },
      {
        "duration": 10,
        "start_time": "2022-08-01T20:31:18.697Z"
      },
      {
        "duration": 17,
        "start_time": "2022-08-01T20:31:18.709Z"
      },
      {
        "duration": 5,
        "start_time": "2022-08-01T20:31:18.729Z"
      },
      {
        "duration": 5,
        "start_time": "2022-08-01T20:31:18.736Z"
      },
      {
        "duration": 14,
        "start_time": "2022-08-01T20:31:18.743Z"
      },
      {
        "duration": 14,
        "start_time": "2022-08-01T20:31:18.759Z"
      },
      {
        "duration": 6,
        "start_time": "2022-08-01T20:31:18.774Z"
      },
      {
        "duration": 6,
        "start_time": "2022-08-01T20:31:18.782Z"
      },
      {
        "duration": 4,
        "start_time": "2022-08-01T20:31:18.790Z"
      },
      {
        "duration": 42,
        "start_time": "2022-08-01T20:31:18.795Z"
      },
      {
        "duration": 197,
        "start_time": "2022-08-01T20:31:18.838Z"
      },
      {
        "duration": 18,
        "start_time": "2022-08-01T20:31:19.037Z"
      },
      {
        "duration": 5,
        "start_time": "2022-08-01T20:31:19.058Z"
      },
      {
        "duration": 21,
        "start_time": "2022-08-01T20:31:19.065Z"
      },
      {
        "duration": 11,
        "start_time": "2022-08-01T20:31:19.088Z"
      },
      {
        "duration": 148,
        "start_time": "2022-08-01T20:31:19.101Z"
      },
      {
        "duration": 28,
        "start_time": "2022-08-01T20:31:19.251Z"
      },
      {
        "duration": 7,
        "start_time": "2022-08-01T20:31:19.280Z"
      },
      {
        "duration": 21,
        "start_time": "2022-08-01T20:31:19.288Z"
      },
      {
        "duration": 8,
        "start_time": "2022-08-01T20:31:19.310Z"
      },
      {
        "duration": 6,
        "start_time": "2022-08-01T20:31:19.320Z"
      },
      {
        "duration": 138719,
        "start_time": "2022-08-01T20:31:19.327Z"
      },
      {
        "duration": 3,
        "start_time": "2022-08-01T20:33:38.048Z"
      },
      {
        "duration": 7,
        "start_time": "2022-08-01T20:33:38.053Z"
      },
      {
        "duration": 7,
        "start_time": "2022-08-01T20:33:38.061Z"
      },
      {
        "duration": 14,
        "start_time": "2022-08-01T20:33:38.069Z"
      },
      {
        "duration": 14034,
        "start_time": "2022-08-01T20:33:38.085Z"
      },
      {
        "duration": 12,
        "start_time": "2022-08-01T20:33:52.121Z"
      },
      {
        "duration": 211,
        "start_time": "2022-08-01T20:33:52.135Z"
      },
      {
        "duration": 4,
        "start_time": "2022-08-01T20:33:52.347Z"
      },
      {
        "duration": 11,
        "start_time": "2022-08-01T20:33:52.352Z"
      },
      {
        "duration": 10,
        "start_time": "2022-08-01T20:33:52.365Z"
      },
      {
        "duration": 33573,
        "start_time": "2022-08-01T20:33:52.376Z"
      },
      {
        "duration": 4,
        "start_time": "2022-08-01T20:34:25.951Z"
      },
      {
        "duration": 7,
        "start_time": "2022-08-01T20:34:25.956Z"
      },
      {
        "duration": 26,
        "start_time": "2022-08-01T20:34:25.964Z"
      },
      {
        "duration": 4,
        "start_time": "2022-08-01T20:34:25.991Z"
      },
      {
        "duration": 8963,
        "start_time": "2022-08-01T20:34:25.997Z"
      },
      {
        "duration": 4,
        "start_time": "2022-08-01T20:34:34.961Z"
      },
      {
        "duration": 10,
        "start_time": "2022-08-01T20:34:34.966Z"
      },
      {
        "duration": 60,
        "start_time": "2022-08-01T20:34:34.978Z"
      },
      {
        "duration": 102,
        "start_time": "2022-08-01T20:34:35.040Z"
      },
      {
        "duration": 10,
        "start_time": "2022-08-01T20:34:35.143Z"
      },
      {
        "duration": 1815,
        "start_time": "2022-08-02T07:25:15.703Z"
      },
      {
        "duration": 101,
        "start_time": "2022-08-02T07:25:17.519Z"
      },
      {
        "duration": 16,
        "start_time": "2022-08-02T07:26:33.680Z"
      },
      {
        "duration": 67,
        "start_time": "2022-08-02T07:26:34.359Z"
      },
      {
        "duration": 6,
        "start_time": "2022-08-02T07:26:43.958Z"
      },
      {
        "duration": 13,
        "start_time": "2022-08-02T07:26:44.656Z"
      },
      {
        "duration": 8,
        "start_time": "2022-08-02T07:26:47.545Z"
      },
      {
        "duration": 7,
        "start_time": "2022-08-02T07:27:07.947Z"
      },
      {
        "duration": 4,
        "start_time": "2022-08-02T07:27:08.506Z"
      },
      {
        "duration": 7,
        "start_time": "2022-08-02T07:27:08.679Z"
      },
      {
        "duration": 3,
        "start_time": "2022-08-02T07:27:08.855Z"
      },
      {
        "duration": 3,
        "start_time": "2022-08-02T07:27:09.048Z"
      },
      {
        "duration": 4,
        "start_time": "2022-08-02T07:27:09.542Z"
      },
      {
        "duration": 349,
        "start_time": "2022-08-02T07:27:09.742Z"
      },
      {
        "duration": 111,
        "start_time": "2022-08-02T07:27:11.537Z"
      },
      {
        "duration": 116,
        "start_time": "2022-08-02T07:27:11.664Z"
      },
      {
        "duration": 14,
        "start_time": "2022-08-02T07:27:12.384Z"
      },
      {
        "duration": 4,
        "start_time": "2022-08-02T07:27:13.376Z"
      },
      {
        "duration": 12,
        "start_time": "2022-08-02T07:27:14.843Z"
      },
      {
        "duration": 8,
        "start_time": "2022-08-02T07:27:39.200Z"
      },
      {
        "duration": 11,
        "start_time": "2022-08-02T07:27:40.073Z"
      },
      {
        "duration": 9,
        "start_time": "2022-08-02T07:27:41.358Z"
      },
      {
        "duration": 10,
        "start_time": "2022-08-02T07:27:42.891Z"
      },
      {
        "duration": 6,
        "start_time": "2022-08-02T07:27:43.558Z"
      },
      {
        "duration": 9,
        "start_time": "2022-08-02T07:27:45.778Z"
      },
      {
        "duration": 8,
        "start_time": "2022-08-02T07:27:46.281Z"
      },
      {
        "duration": 15,
        "start_time": "2022-08-02T07:27:46.875Z"
      },
      {
        "duration": 4,
        "start_time": "2022-08-02T07:27:47.142Z"
      },
      {
        "duration": 6,
        "start_time": "2022-08-02T07:27:47.695Z"
      },
      {
        "duration": 76,
        "start_time": "2022-08-02T07:28:33.450Z"
      },
      {
        "duration": 15,
        "start_time": "2022-08-02T07:28:58.805Z"
      },
      {
        "duration": 4,
        "start_time": "2022-08-02T07:28:59.742Z"
      },
      {
        "duration": 4,
        "start_time": "2022-08-02T07:29:00.395Z"
      },
      {
        "duration": 3,
        "start_time": "2022-08-02T07:29:01.080Z"
      },
      {
        "duration": 21,
        "start_time": "2022-08-02T07:29:02.572Z"
      },
      {
        "duration": 142,
        "start_time": "2022-08-02T07:29:03.166Z"
      },
      {
        "duration": 14,
        "start_time": "2022-08-02T07:29:04.149Z"
      },
      {
        "duration": 5,
        "start_time": "2022-08-02T07:29:04.876Z"
      },
      {
        "duration": 6,
        "start_time": "2022-08-02T07:29:06.042Z"
      },
      {
        "duration": 2,
        "start_time": "2022-08-02T07:29:06.445Z"
      },
      {
        "duration": 150,
        "start_time": "2022-08-02T07:29:06.595Z"
      },
      {
        "duration": 22,
        "start_time": "2022-08-02T07:29:06.782Z"
      },
      {
        "duration": 5,
        "start_time": "2022-08-02T07:29:07.281Z"
      },
      {
        "duration": 19,
        "start_time": "2022-08-02T07:36:30.656Z"
      },
      {
        "duration": 49,
        "start_time": "2022-08-02T08:58:13.424Z"
      },
      {
        "duration": 1153,
        "start_time": "2022-08-02T10:14:30.033Z"
      },
      {
        "duration": 2,
        "start_time": "2022-08-02T10:14:31.188Z"
      },
      {
        "duration": 324,
        "start_time": "2022-08-02T10:14:31.191Z"
      },
      {
        "duration": 68,
        "start_time": "2022-08-02T10:14:31.516Z"
      },
      {
        "duration": 11,
        "start_time": "2022-08-02T10:14:31.586Z"
      },
      {
        "duration": 6,
        "start_time": "2022-08-02T10:14:31.601Z"
      },
      {
        "duration": 16,
        "start_time": "2022-08-02T10:14:31.609Z"
      },
      {
        "duration": 7,
        "start_time": "2022-08-02T10:14:31.627Z"
      },
      {
        "duration": 6,
        "start_time": "2022-08-02T10:14:31.636Z"
      },
      {
        "duration": 5,
        "start_time": "2022-08-02T10:14:31.644Z"
      },
      {
        "duration": 7,
        "start_time": "2022-08-02T10:14:31.651Z"
      },
      {
        "duration": 4,
        "start_time": "2022-08-02T10:14:31.660Z"
      },
      {
        "duration": 8,
        "start_time": "2022-08-02T10:14:31.665Z"
      },
      {
        "duration": 7,
        "start_time": "2022-08-02T10:14:31.675Z"
      },
      {
        "duration": 477,
        "start_time": "2022-08-02T10:14:31.703Z"
      },
      {
        "duration": 96,
        "start_time": "2022-08-02T10:14:32.182Z"
      },
      {
        "duration": 93,
        "start_time": "2022-08-02T10:14:32.280Z"
      },
      {
        "duration": 30,
        "start_time": "2022-08-02T10:14:32.375Z"
      },
      {
        "duration": 4,
        "start_time": "2022-08-02T10:14:32.407Z"
      },
      {
        "duration": 11,
        "start_time": "2022-08-02T10:14:32.413Z"
      },
      {
        "duration": 8,
        "start_time": "2022-08-02T10:14:32.426Z"
      },
      {
        "duration": 11,
        "start_time": "2022-08-02T10:14:32.436Z"
      },
      {
        "duration": 10,
        "start_time": "2022-08-02T10:14:32.449Z"
      },
      {
        "duration": 118,
        "start_time": "2022-08-02T10:14:32.460Z"
      },
      {
        "duration": 11,
        "start_time": "2022-08-02T10:14:32.580Z"
      },
      {
        "duration": 16,
        "start_time": "2022-08-02T10:14:32.593Z"
      },
      {
        "duration": 10,
        "start_time": "2022-08-02T10:14:32.610Z"
      },
      {
        "duration": 14,
        "start_time": "2022-08-02T10:14:32.622Z"
      },
      {
        "duration": 4,
        "start_time": "2022-08-02T10:14:32.637Z"
      },
      {
        "duration": 1561,
        "start_time": "2022-08-02T10:14:32.642Z"
      },
      {
        "duration": 0,
        "start_time": "2022-08-02T10:14:34.206Z"
      },
      {
        "duration": 0,
        "start_time": "2022-08-02T10:14:34.208Z"
      },
      {
        "duration": 0,
        "start_time": "2022-08-02T10:14:34.209Z"
      },
      {
        "duration": 0,
        "start_time": "2022-08-02T10:14:34.210Z"
      },
      {
        "duration": 0,
        "start_time": "2022-08-02T10:14:34.211Z"
      },
      {
        "duration": 0,
        "start_time": "2022-08-02T10:14:34.212Z"
      },
      {
        "duration": 0,
        "start_time": "2022-08-02T10:14:34.213Z"
      },
      {
        "duration": 0,
        "start_time": "2022-08-02T10:14:34.214Z"
      },
      {
        "duration": 0,
        "start_time": "2022-08-02T10:14:34.215Z"
      },
      {
        "duration": 0,
        "start_time": "2022-08-02T10:14:34.216Z"
      },
      {
        "duration": 0,
        "start_time": "2022-08-02T10:14:34.217Z"
      },
      {
        "duration": 0,
        "start_time": "2022-08-02T10:14:34.217Z"
      },
      {
        "duration": 0,
        "start_time": "2022-08-02T10:14:34.218Z"
      },
      {
        "duration": 0,
        "start_time": "2022-08-02T10:14:34.219Z"
      },
      {
        "duration": 0,
        "start_time": "2022-08-02T10:14:34.220Z"
      },
      {
        "duration": 0,
        "start_time": "2022-08-02T10:14:34.222Z"
      },
      {
        "duration": 0,
        "start_time": "2022-08-02T10:14:34.222Z"
      },
      {
        "duration": 0,
        "start_time": "2022-08-02T10:14:34.224Z"
      },
      {
        "duration": 0,
        "start_time": "2022-08-02T10:14:34.225Z"
      },
      {
        "duration": 0,
        "start_time": "2022-08-02T10:14:34.226Z"
      },
      {
        "duration": 0,
        "start_time": "2022-08-02T10:14:34.227Z"
      },
      {
        "duration": 0,
        "start_time": "2022-08-02T10:14:34.227Z"
      },
      {
        "duration": 0,
        "start_time": "2022-08-02T10:14:34.228Z"
      },
      {
        "duration": 0,
        "start_time": "2022-08-02T10:14:34.229Z"
      },
      {
        "duration": 0,
        "start_time": "2022-08-02T10:14:34.230Z"
      },
      {
        "duration": 0,
        "start_time": "2022-08-02T10:14:34.231Z"
      },
      {
        "duration": 0,
        "start_time": "2022-08-02T10:14:34.232Z"
      },
      {
        "duration": 0,
        "start_time": "2022-08-02T10:14:34.233Z"
      },
      {
        "duration": 0,
        "start_time": "2022-08-02T10:14:34.234Z"
      },
      {
        "duration": 0,
        "start_time": "2022-08-02T10:14:34.235Z"
      },
      {
        "duration": 0,
        "start_time": "2022-08-02T10:14:34.236Z"
      },
      {
        "duration": 0,
        "start_time": "2022-08-02T10:14:34.238Z"
      },
      {
        "duration": 0,
        "start_time": "2022-08-02T10:14:34.239Z"
      },
      {
        "duration": 0,
        "start_time": "2022-08-02T10:14:34.240Z"
      },
      {
        "duration": 0,
        "start_time": "2022-08-02T10:14:34.240Z"
      },
      {
        "duration": 0,
        "start_time": "2022-08-02T10:14:34.241Z"
      },
      {
        "duration": 0,
        "start_time": "2022-08-02T10:14:34.242Z"
      },
      {
        "duration": 0,
        "start_time": "2022-08-02T10:14:34.243Z"
      },
      {
        "duration": 0,
        "start_time": "2022-08-02T10:14:34.302Z"
      },
      {
        "duration": 0,
        "start_time": "2022-08-02T10:14:34.303Z"
      },
      {
        "duration": 0,
        "start_time": "2022-08-02T10:14:34.304Z"
      },
      {
        "duration": 1137,
        "start_time": "2022-08-02T10:15:21.506Z"
      },
      {
        "duration": 2,
        "start_time": "2022-08-02T10:15:22.645Z"
      },
      {
        "duration": 103,
        "start_time": "2022-08-02T10:15:22.648Z"
      },
      {
        "duration": 70,
        "start_time": "2022-08-02T10:15:22.752Z"
      },
      {
        "duration": 11,
        "start_time": "2022-08-02T10:15:22.824Z"
      },
      {
        "duration": 6,
        "start_time": "2022-08-02T10:15:22.836Z"
      },
      {
        "duration": 16,
        "start_time": "2022-08-02T10:15:22.844Z"
      },
      {
        "duration": 6,
        "start_time": "2022-08-02T10:15:22.862Z"
      },
      {
        "duration": 8,
        "start_time": "2022-08-02T10:15:22.869Z"
      },
      {
        "duration": 25,
        "start_time": "2022-08-02T10:15:22.878Z"
      },
      {
        "duration": 8,
        "start_time": "2022-08-02T10:15:22.904Z"
      },
      {
        "duration": 6,
        "start_time": "2022-08-02T10:15:22.914Z"
      },
      {
        "duration": 5,
        "start_time": "2022-08-02T10:15:22.921Z"
      },
      {
        "duration": 5,
        "start_time": "2022-08-02T10:15:22.928Z"
      },
      {
        "duration": 342,
        "start_time": "2022-08-02T10:15:22.934Z"
      },
      {
        "duration": 98,
        "start_time": "2022-08-02T10:15:23.278Z"
      },
      {
        "duration": 105,
        "start_time": "2022-08-02T10:15:23.378Z"
      },
      {
        "duration": 25,
        "start_time": "2022-08-02T10:15:23.485Z"
      },
      {
        "duration": 4,
        "start_time": "2022-08-02T10:15:23.511Z"
      },
      {
        "duration": 12,
        "start_time": "2022-08-02T10:15:23.517Z"
      },
      {
        "duration": 9,
        "start_time": "2022-08-02T10:15:23.530Z"
      },
      {
        "duration": 12,
        "start_time": "2022-08-02T10:15:23.540Z"
      },
      {
        "duration": 12,
        "start_time": "2022-08-02T10:15:23.553Z"
      },
      {
        "duration": 102,
        "start_time": "2022-08-02T10:15:23.567Z"
      },
      {
        "duration": 9,
        "start_time": "2022-08-02T10:15:23.670Z"
      },
      {
        "duration": 14,
        "start_time": "2022-08-02T10:15:23.680Z"
      },
      {
        "duration": 9,
        "start_time": "2022-08-02T10:15:23.701Z"
      },
      {
        "duration": 16,
        "start_time": "2022-08-02T10:15:23.711Z"
      },
      {
        "duration": 757,
        "start_time": "2022-08-02T10:15:23.728Z"
      },
      {
        "duration": 0,
        "start_time": "2022-08-02T10:15:24.488Z"
      },
      {
        "duration": 0,
        "start_time": "2022-08-02T10:15:24.489Z"
      },
      {
        "duration": 0,
        "start_time": "2022-08-02T10:15:24.490Z"
      },
      {
        "duration": 0,
        "start_time": "2022-08-02T10:15:24.491Z"
      },
      {
        "duration": 0,
        "start_time": "2022-08-02T10:15:24.492Z"
      },
      {
        "duration": 0,
        "start_time": "2022-08-02T10:15:24.492Z"
      },
      {
        "duration": 0,
        "start_time": "2022-08-02T10:15:24.493Z"
      },
      {
        "duration": 0,
        "start_time": "2022-08-02T10:15:24.494Z"
      },
      {
        "duration": 0,
        "start_time": "2022-08-02T10:15:24.495Z"
      },
      {
        "duration": 0,
        "start_time": "2022-08-02T10:15:24.496Z"
      },
      {
        "duration": 0,
        "start_time": "2022-08-02T10:15:24.497Z"
      },
      {
        "duration": 0,
        "start_time": "2022-08-02T10:15:24.498Z"
      },
      {
        "duration": 0,
        "start_time": "2022-08-02T10:15:24.499Z"
      },
      {
        "duration": 0,
        "start_time": "2022-08-02T10:15:24.500Z"
      },
      {
        "duration": 0,
        "start_time": "2022-08-02T10:15:24.501Z"
      },
      {
        "duration": 0,
        "start_time": "2022-08-02T10:15:24.501Z"
      },
      {
        "duration": 0,
        "start_time": "2022-08-02T10:15:24.502Z"
      },
      {
        "duration": 0,
        "start_time": "2022-08-02T10:15:24.503Z"
      },
      {
        "duration": 0,
        "start_time": "2022-08-02T10:15:24.504Z"
      },
      {
        "duration": 0,
        "start_time": "2022-08-02T10:15:24.505Z"
      },
      {
        "duration": 0,
        "start_time": "2022-08-02T10:15:24.506Z"
      },
      {
        "duration": 0,
        "start_time": "2022-08-02T10:15:24.507Z"
      },
      {
        "duration": 0,
        "start_time": "2022-08-02T10:15:24.508Z"
      },
      {
        "duration": 0,
        "start_time": "2022-08-02T10:15:24.508Z"
      },
      {
        "duration": 0,
        "start_time": "2022-08-02T10:15:24.510Z"
      },
      {
        "duration": 0,
        "start_time": "2022-08-02T10:15:24.510Z"
      },
      {
        "duration": 0,
        "start_time": "2022-08-02T10:15:24.511Z"
      },
      {
        "duration": 0,
        "start_time": "2022-08-02T10:15:24.512Z"
      },
      {
        "duration": 0,
        "start_time": "2022-08-02T10:15:24.513Z"
      },
      {
        "duration": 0,
        "start_time": "2022-08-02T10:15:24.514Z"
      },
      {
        "duration": 0,
        "start_time": "2022-08-02T10:15:24.515Z"
      },
      {
        "duration": 0,
        "start_time": "2022-08-02T10:15:24.515Z"
      },
      {
        "duration": 0,
        "start_time": "2022-08-02T10:15:24.516Z"
      },
      {
        "duration": 0,
        "start_time": "2022-08-02T10:15:24.517Z"
      },
      {
        "duration": 0,
        "start_time": "2022-08-02T10:15:24.518Z"
      },
      {
        "duration": 0,
        "start_time": "2022-08-02T10:15:24.519Z"
      },
      {
        "duration": 0,
        "start_time": "2022-08-02T10:15:24.520Z"
      },
      {
        "duration": 0,
        "start_time": "2022-08-02T10:15:24.521Z"
      },
      {
        "duration": 0,
        "start_time": "2022-08-02T10:15:24.522Z"
      },
      {
        "duration": 0,
        "start_time": "2022-08-02T10:15:24.522Z"
      },
      {
        "duration": 0,
        "start_time": "2022-08-02T10:15:24.523Z"
      },
      {
        "duration": 0,
        "start_time": "2022-08-02T10:15:24.524Z"
      },
      {
        "duration": 9,
        "start_time": "2022-08-02T10:16:18.790Z"
      },
      {
        "duration": 5,
        "start_time": "2022-08-02T10:16:28.504Z"
      },
      {
        "duration": 648,
        "start_time": "2022-08-02T10:17:00.849Z"
      },
      {
        "duration": 608,
        "start_time": "2022-08-02T10:17:13.571Z"
      },
      {
        "duration": 4,
        "start_time": "2022-08-02T10:18:32.745Z"
      },
      {
        "duration": 619,
        "start_time": "2022-08-02T10:19:46.945Z"
      },
      {
        "duration": 14,
        "start_time": "2022-08-02T10:20:09.052Z"
      },
      {
        "duration": 6,
        "start_time": "2022-08-02T10:20:24.385Z"
      },
      {
        "duration": 1173,
        "start_time": "2022-08-02T10:20:53.972Z"
      },
      {
        "duration": 2,
        "start_time": "2022-08-02T10:20:55.148Z"
      },
      {
        "duration": 104,
        "start_time": "2022-08-02T10:20:55.152Z"
      },
      {
        "duration": 70,
        "start_time": "2022-08-02T10:20:55.258Z"
      },
      {
        "duration": 12,
        "start_time": "2022-08-02T10:20:55.330Z"
      },
      {
        "duration": 10,
        "start_time": "2022-08-02T10:20:55.343Z"
      },
      {
        "duration": 15,
        "start_time": "2022-08-02T10:20:55.354Z"
      },
      {
        "duration": 8,
        "start_time": "2022-08-02T10:20:55.371Z"
      },
      {
        "duration": 24,
        "start_time": "2022-08-02T10:20:55.380Z"
      },
      {
        "duration": 4,
        "start_time": "2022-08-02T10:20:55.405Z"
      },
      {
        "duration": 12,
        "start_time": "2022-08-02T10:20:55.410Z"
      },
      {
        "duration": 5,
        "start_time": "2022-08-02T10:20:55.423Z"
      },
      {
        "duration": 4,
        "start_time": "2022-08-02T10:20:55.430Z"
      },
      {
        "duration": 5,
        "start_time": "2022-08-02T10:20:55.437Z"
      },
      {
        "duration": 359,
        "start_time": "2022-08-02T10:20:55.444Z"
      },
      {
        "duration": 103,
        "start_time": "2022-08-02T10:20:55.805Z"
      },
      {
        "duration": 97,
        "start_time": "2022-08-02T10:20:55.910Z"
      },
      {
        "duration": 15,
        "start_time": "2022-08-02T10:20:56.009Z"
      },
      {
        "duration": 4,
        "start_time": "2022-08-02T10:20:56.026Z"
      },
      {
        "duration": 15,
        "start_time": "2022-08-02T10:20:56.031Z"
      },
      {
        "duration": 10,
        "start_time": "2022-08-02T10:20:56.047Z"
      },
      {
        "duration": 43,
        "start_time": "2022-08-02T10:20:56.059Z"
      },
      {
        "duration": 9,
        "start_time": "2022-08-02T10:20:56.104Z"
      },
      {
        "duration": 91,
        "start_time": "2022-08-02T10:20:56.114Z"
      },
      {
        "duration": 6,
        "start_time": "2022-08-02T10:20:56.207Z"
      },
      {
        "duration": 11,
        "start_time": "2022-08-02T10:20:56.214Z"
      },
      {
        "duration": 13,
        "start_time": "2022-08-02T10:20:56.226Z"
      },
      {
        "duration": 15,
        "start_time": "2022-08-02T10:20:56.241Z"
      },
      {
        "duration": 6,
        "start_time": "2022-08-02T10:20:56.257Z"
      },
      {
        "duration": 4,
        "start_time": "2022-08-02T10:20:56.264Z"
      },
      {
        "duration": 5,
        "start_time": "2022-08-02T10:20:56.270Z"
      },
      {
        "duration": 14,
        "start_time": "2022-08-02T10:20:56.302Z"
      },
      {
        "duration": 15,
        "start_time": "2022-08-02T10:20:56.317Z"
      },
      {
        "duration": 5,
        "start_time": "2022-08-02T10:20:56.334Z"
      },
      {
        "duration": 6,
        "start_time": "2022-08-02T10:20:56.340Z"
      },
      {
        "duration": 5,
        "start_time": "2022-08-02T10:20:56.347Z"
      },
      {
        "duration": 46,
        "start_time": "2022-08-02T10:20:56.356Z"
      },
      {
        "duration": 175,
        "start_time": "2022-08-02T10:20:56.404Z"
      },
      {
        "duration": 14,
        "start_time": "2022-08-02T10:20:56.580Z"
      },
      {
        "duration": 7,
        "start_time": "2022-08-02T10:20:56.602Z"
      },
      {
        "duration": 4,
        "start_time": "2022-08-02T10:20:56.614Z"
      },
      {
        "duration": 4,
        "start_time": "2022-08-02T10:20:56.620Z"
      },
      {
        "duration": 189,
        "start_time": "2022-08-02T10:20:56.625Z"
      },
      {
        "duration": 24,
        "start_time": "2022-08-02T10:20:56.816Z"
      },
      {
        "duration": 5,
        "start_time": "2022-08-02T10:20:56.841Z"
      },
      {
        "duration": 12,
        "start_time": "2022-08-02T10:20:56.847Z"
      },
      {
        "duration": 4,
        "start_time": "2022-08-02T10:20:56.861Z"
      },
      {
        "duration": 8,
        "start_time": "2022-08-02T10:20:56.866Z"
      },
      {
        "duration": 24292,
        "start_time": "2022-08-02T10:20:56.875Z"
      },
      {
        "duration": 0,
        "start_time": "2022-08-02T10:21:21.169Z"
      },
      {
        "duration": 0,
        "start_time": "2022-08-02T10:21:21.170Z"
      },
      {
        "duration": 0,
        "start_time": "2022-08-02T10:21:21.171Z"
      },
      {
        "duration": 0,
        "start_time": "2022-08-02T10:21:21.172Z"
      },
      {
        "duration": 0,
        "start_time": "2022-08-02T10:21:21.173Z"
      },
      {
        "duration": 0,
        "start_time": "2022-08-02T10:21:21.174Z"
      },
      {
        "duration": 0,
        "start_time": "2022-08-02T10:21:21.175Z"
      },
      {
        "duration": 0,
        "start_time": "2022-08-02T10:21:21.176Z"
      },
      {
        "duration": 0,
        "start_time": "2022-08-02T10:21:21.177Z"
      },
      {
        "duration": 0,
        "start_time": "2022-08-02T10:21:21.177Z"
      },
      {
        "duration": 0,
        "start_time": "2022-08-02T10:21:21.178Z"
      },
      {
        "duration": 0,
        "start_time": "2022-08-02T10:21:21.179Z"
      },
      {
        "duration": 0,
        "start_time": "2022-08-02T10:21:21.180Z"
      },
      {
        "duration": 0,
        "start_time": "2022-08-02T10:21:21.181Z"
      },
      {
        "duration": 0,
        "start_time": "2022-08-02T10:21:21.182Z"
      },
      {
        "duration": 0,
        "start_time": "2022-08-02T10:21:21.182Z"
      },
      {
        "duration": 0,
        "start_time": "2022-08-02T10:21:21.184Z"
      },
      {
        "duration": 0,
        "start_time": "2022-08-02T10:21:21.185Z"
      },
      {
        "duration": 0,
        "start_time": "2022-08-02T10:21:21.185Z"
      },
      {
        "duration": 0,
        "start_time": "2022-08-02T10:21:21.186Z"
      },
      {
        "duration": 0,
        "start_time": "2022-08-02T10:21:21.187Z"
      },
      {
        "duration": 0,
        "start_time": "2022-08-02T10:21:21.188Z"
      },
      {
        "duration": 13286,
        "start_time": "2022-08-02T10:26:51.182Z"
      },
      {
        "duration": 13,
        "start_time": "2022-08-02T10:27:14.482Z"
      },
      {
        "duration": 1124,
        "start_time": "2022-08-02T10:29:12.737Z"
      },
      {
        "duration": 3,
        "start_time": "2022-08-02T10:29:13.862Z"
      },
      {
        "duration": 100,
        "start_time": "2022-08-02T10:29:13.866Z"
      },
      {
        "duration": 71,
        "start_time": "2022-08-02T10:29:13.967Z"
      },
      {
        "duration": 11,
        "start_time": "2022-08-02T10:29:14.040Z"
      },
      {
        "duration": 6,
        "start_time": "2022-08-02T10:29:14.052Z"
      },
      {
        "duration": 16,
        "start_time": "2022-08-02T10:29:14.060Z"
      },
      {
        "duration": 25,
        "start_time": "2022-08-02T10:29:14.077Z"
      },
      {
        "duration": 6,
        "start_time": "2022-08-02T10:29:14.103Z"
      },
      {
        "duration": 6,
        "start_time": "2022-08-02T10:29:14.110Z"
      },
      {
        "duration": 9,
        "start_time": "2022-08-02T10:29:14.118Z"
      },
      {
        "duration": 5,
        "start_time": "2022-08-02T10:29:14.128Z"
      },
      {
        "duration": 4,
        "start_time": "2022-08-02T10:29:14.134Z"
      },
      {
        "duration": 5,
        "start_time": "2022-08-02T10:29:14.140Z"
      },
      {
        "duration": 352,
        "start_time": "2022-08-02T10:29:14.146Z"
      },
      {
        "duration": 107,
        "start_time": "2022-08-02T10:29:14.499Z"
      },
      {
        "duration": 97,
        "start_time": "2022-08-02T10:29:14.608Z"
      },
      {
        "duration": 15,
        "start_time": "2022-08-02T10:29:14.706Z"
      },
      {
        "duration": 4,
        "start_time": "2022-08-02T10:29:14.722Z"
      },
      {
        "duration": 15,
        "start_time": "2022-08-02T10:29:14.728Z"
      },
      {
        "duration": 9,
        "start_time": "2022-08-02T10:29:14.745Z"
      },
      {
        "duration": 11,
        "start_time": "2022-08-02T10:29:14.756Z"
      },
      {
        "duration": 34,
        "start_time": "2022-08-02T10:29:14.769Z"
      },
      {
        "duration": 82,
        "start_time": "2022-08-02T10:29:14.804Z"
      },
      {
        "duration": 16,
        "start_time": "2022-08-02T10:29:14.887Z"
      },
      {
        "duration": 11,
        "start_time": "2022-08-02T10:29:14.905Z"
      },
      {
        "duration": 9,
        "start_time": "2022-08-02T10:29:14.917Z"
      },
      {
        "duration": 15,
        "start_time": "2022-08-02T10:29:14.927Z"
      },
      {
        "duration": 6,
        "start_time": "2022-08-02T10:29:14.943Z"
      },
      {
        "duration": 5,
        "start_time": "2022-08-02T10:29:14.950Z"
      },
      {
        "duration": 6,
        "start_time": "2022-08-02T10:29:14.956Z"
      },
      {
        "duration": 4,
        "start_time": "2022-08-02T10:29:14.963Z"
      },
      {
        "duration": 38,
        "start_time": "2022-08-02T10:29:14.968Z"
      },
      {
        "duration": 21,
        "start_time": "2022-08-02T10:29:15.007Z"
      },
      {
        "duration": 9,
        "start_time": "2022-08-02T10:29:15.030Z"
      },
      {
        "duration": 6,
        "start_time": "2022-08-02T10:29:15.040Z"
      },
      {
        "duration": 5,
        "start_time": "2022-08-02T10:29:15.048Z"
      },
      {
        "duration": 21,
        "start_time": "2022-08-02T10:29:15.054Z"
      },
      {
        "duration": 190,
        "start_time": "2022-08-02T10:29:15.076Z"
      },
      {
        "duration": 12,
        "start_time": "2022-08-02T10:29:15.268Z"
      },
      {
        "duration": 4,
        "start_time": "2022-08-02T10:29:15.283Z"
      },
      {
        "duration": 17,
        "start_time": "2022-08-02T10:29:15.289Z"
      },
      {
        "duration": 4,
        "start_time": "2022-08-02T10:29:15.307Z"
      },
      {
        "duration": 169,
        "start_time": "2022-08-02T10:29:15.312Z"
      },
      {
        "duration": 33,
        "start_time": "2022-08-02T10:29:15.483Z"
      },
      {
        "duration": 4,
        "start_time": "2022-08-02T10:29:15.517Z"
      },
      {
        "duration": 11,
        "start_time": "2022-08-02T10:29:15.522Z"
      },
      {
        "duration": 7,
        "start_time": "2022-08-02T10:29:15.534Z"
      },
      {
        "duration": 6,
        "start_time": "2022-08-02T10:29:15.542Z"
      },
      {
        "duration": 104746,
        "start_time": "2022-08-02T10:29:15.549Z"
      },
      {
        "duration": 4,
        "start_time": "2022-08-02T10:31:00.297Z"
      },
      {
        "duration": 8,
        "start_time": "2022-08-02T10:31:00.302Z"
      },
      {
        "duration": 15,
        "start_time": "2022-08-02T10:31:00.311Z"
      },
      {
        "duration": 13112,
        "start_time": "2022-08-02T10:31:00.327Z"
      },
      {
        "duration": 14,
        "start_time": "2022-08-02T10:31:13.441Z"
      },
      {
        "duration": 201,
        "start_time": "2022-08-02T10:31:13.457Z"
      },
      {
        "duration": 5,
        "start_time": "2022-08-02T10:31:13.660Z"
      },
      {
        "duration": 11,
        "start_time": "2022-08-02T10:31:13.667Z"
      },
      {
        "duration": 22,
        "start_time": "2022-08-02T10:31:13.680Z"
      },
      {
        "duration": 194315,
        "start_time": "2022-08-02T10:31:13.704Z"
      },
      {
        "duration": 4,
        "start_time": "2022-08-02T10:34:28.020Z"
      },
      {
        "duration": 5,
        "start_time": "2022-08-02T10:34:28.025Z"
      },
      {
        "duration": 36,
        "start_time": "2022-08-02T10:34:28.031Z"
      },
      {
        "duration": 119,
        "start_time": "2022-08-02T10:34:28.069Z"
      },
      {
        "duration": 0,
        "start_time": "2022-08-02T10:34:28.190Z"
      },
      {
        "duration": 0,
        "start_time": "2022-08-02T10:34:28.191Z"
      },
      {
        "duration": 0,
        "start_time": "2022-08-02T10:34:28.201Z"
      },
      {
        "duration": 0,
        "start_time": "2022-08-02T10:34:28.202Z"
      },
      {
        "duration": 0,
        "start_time": "2022-08-02T10:34:28.203Z"
      },
      {
        "duration": 0,
        "start_time": "2022-08-02T10:34:28.204Z"
      },
      {
        "duration": 0,
        "start_time": "2022-08-02T10:34:28.205Z"
      },
      {
        "duration": 0,
        "start_time": "2022-08-02T10:34:28.206Z"
      },
      {
        "duration": 5,
        "start_time": "2022-08-02T10:35:20.279Z"
      },
      {
        "duration": 13167,
        "start_time": "2022-08-02T10:35:20.742Z"
      },
      {
        "duration": 93,
        "start_time": "2022-08-02T10:35:33.911Z"
      },
      {
        "duration": 101,
        "start_time": "2022-08-02T10:35:34.006Z"
      },
      {
        "duration": 11,
        "start_time": "2022-08-02T10:35:34.109Z"
      },
      {
        "duration": 80,
        "start_time": "2022-08-02T10:35:34.122Z"
      },
      {
        "duration": 11,
        "start_time": "2022-08-02T10:35:34.206Z"
      },
      {
        "duration": 12,
        "start_time": "2022-08-02T10:35:34.303Z"
      },
      {
        "duration": 11,
        "start_time": "2022-08-02T10:35:34.316Z"
      },
      {
        "duration": 12,
        "start_time": "2022-08-02T10:49:47.783Z"
      },
      {
        "duration": 10,
        "start_time": "2022-08-02T10:49:49.140Z"
      },
      {
        "duration": 1093,
        "start_time": "2022-08-02T10:53:54.062Z"
      },
      {
        "duration": 2,
        "start_time": "2022-08-02T10:53:55.157Z"
      },
      {
        "duration": 100,
        "start_time": "2022-08-02T10:53:55.161Z"
      },
      {
        "duration": 71,
        "start_time": "2022-08-02T10:53:55.263Z"
      },
      {
        "duration": 12,
        "start_time": "2022-08-02T10:53:55.336Z"
      },
      {
        "duration": 6,
        "start_time": "2022-08-02T10:53:55.350Z"
      },
      {
        "duration": 14,
        "start_time": "2022-08-02T10:53:55.357Z"
      },
      {
        "duration": 5,
        "start_time": "2022-08-02T10:53:55.373Z"
      },
      {
        "duration": 5,
        "start_time": "2022-08-02T10:53:55.402Z"
      },
      {
        "duration": 5,
        "start_time": "2022-08-02T10:53:55.409Z"
      },
      {
        "duration": 8,
        "start_time": "2022-08-02T10:53:55.415Z"
      },
      {
        "duration": 4,
        "start_time": "2022-08-02T10:53:55.425Z"
      },
      {
        "duration": 5,
        "start_time": "2022-08-02T10:53:55.431Z"
      },
      {
        "duration": 6,
        "start_time": "2022-08-02T10:53:55.438Z"
      },
      {
        "duration": 345,
        "start_time": "2022-08-02T10:53:55.445Z"
      },
      {
        "duration": 93,
        "start_time": "2022-08-02T10:53:55.792Z"
      },
      {
        "duration": 94,
        "start_time": "2022-08-02T10:53:55.886Z"
      },
      {
        "duration": 29,
        "start_time": "2022-08-02T10:53:55.982Z"
      },
      {
        "duration": 5,
        "start_time": "2022-08-02T10:53:56.013Z"
      },
      {
        "duration": 17,
        "start_time": "2022-08-02T10:53:56.019Z"
      },
      {
        "duration": 11,
        "start_time": "2022-08-02T10:53:56.037Z"
      },
      {
        "duration": 13,
        "start_time": "2022-08-02T10:53:56.050Z"
      },
      {
        "duration": 14,
        "start_time": "2022-08-02T10:53:56.065Z"
      },
      {
        "duration": 106,
        "start_time": "2022-08-02T10:53:56.080Z"
      },
      {
        "duration": 7,
        "start_time": "2022-08-02T10:53:56.188Z"
      },
      {
        "duration": 11,
        "start_time": "2022-08-02T10:53:56.203Z"
      },
      {
        "duration": 12,
        "start_time": "2022-08-02T10:53:56.215Z"
      },
      {
        "duration": 20,
        "start_time": "2022-08-02T10:53:56.229Z"
      },
      {
        "duration": 9,
        "start_time": "2022-08-02T10:53:56.251Z"
      },
      {
        "duration": 5,
        "start_time": "2022-08-02T10:53:56.261Z"
      },
      {
        "duration": 7,
        "start_time": "2022-08-02T10:53:56.267Z"
      },
      {
        "duration": 28,
        "start_time": "2022-08-02T10:53:56.275Z"
      },
      {
        "duration": 13,
        "start_time": "2022-08-02T10:53:56.304Z"
      },
      {
        "duration": 16,
        "start_time": "2022-08-02T10:53:56.319Z"
      },
      {
        "duration": 4,
        "start_time": "2022-08-02T10:53:56.337Z"
      },
      {
        "duration": 6,
        "start_time": "2022-08-02T10:53:56.342Z"
      },
      {
        "duration": 5,
        "start_time": "2022-08-02T10:53:56.349Z"
      },
      {
        "duration": 22,
        "start_time": "2022-08-02T10:53:56.355Z"
      },
      {
        "duration": 180,
        "start_time": "2022-08-02T10:53:56.378Z"
      },
      {
        "duration": 14,
        "start_time": "2022-08-02T10:53:56.560Z"
      },
      {
        "duration": 4,
        "start_time": "2022-08-02T10:53:56.577Z"
      },
      {
        "duration": 19,
        "start_time": "2022-08-02T10:53:56.583Z"
      },
      {
        "duration": 4,
        "start_time": "2022-08-02T10:53:56.603Z"
      },
      {
        "duration": 160,
        "start_time": "2022-08-02T10:53:56.608Z"
      },
      {
        "duration": 23,
        "start_time": "2022-08-02T10:53:56.770Z"
      },
      {
        "duration": 5,
        "start_time": "2022-08-02T10:53:56.802Z"
      },
      {
        "duration": 8,
        "start_time": "2022-08-02T10:53:56.809Z"
      },
      {
        "duration": 3,
        "start_time": "2022-08-02T10:53:56.819Z"
      },
      {
        "duration": 5,
        "start_time": "2022-08-02T10:53:56.824Z"
      },
      {
        "duration": 89983,
        "start_time": "2022-08-02T10:53:56.830Z"
      },
      {
        "duration": 4,
        "start_time": "2022-08-02T10:55:26.815Z"
      },
      {
        "duration": 5,
        "start_time": "2022-08-02T10:55:26.820Z"
      },
      {
        "duration": 14,
        "start_time": "2022-08-02T10:55:26.827Z"
      },
      {
        "duration": 13108,
        "start_time": "2022-08-02T10:55:26.842Z"
      },
      {
        "duration": 12,
        "start_time": "2022-08-02T10:55:39.952Z"
      },
      {
        "duration": 198,
        "start_time": "2022-08-02T10:55:39.966Z"
      },
      {
        "duration": 3,
        "start_time": "2022-08-02T10:55:40.166Z"
      },
      {
        "duration": 7,
        "start_time": "2022-08-02T10:55:40.171Z"
      },
      {
        "duration": 24,
        "start_time": "2022-08-02T10:55:40.179Z"
      },
      {
        "duration": 194905,
        "start_time": "2022-08-02T10:55:40.204Z"
      },
      {
        "duration": 5,
        "start_time": "2022-08-02T10:58:55.111Z"
      },
      {
        "duration": 21,
        "start_time": "2022-08-02T10:58:55.118Z"
      },
      {
        "duration": 51,
        "start_time": "2022-08-02T10:58:55.141Z"
      },
      {
        "duration": 3,
        "start_time": "2022-08-02T10:58:55.194Z"
      },
      {
        "duration": 121,
        "start_time": "2022-08-02T10:58:55.199Z"
      },
      {
        "duration": 0,
        "start_time": "2022-08-02T10:58:55.322Z"
      },
      {
        "duration": 0,
        "start_time": "2022-08-02T10:58:55.324Z"
      },
      {
        "duration": 0,
        "start_time": "2022-08-02T10:58:55.325Z"
      },
      {
        "duration": 0,
        "start_time": "2022-08-02T10:58:55.326Z"
      },
      {
        "duration": 0,
        "start_time": "2022-08-02T10:58:55.327Z"
      },
      {
        "duration": 0,
        "start_time": "2022-08-02T10:58:55.328Z"
      },
      {
        "duration": 0,
        "start_time": "2022-08-02T10:58:55.329Z"
      },
      {
        "duration": 2,
        "start_time": "2022-08-02T10:59:48.955Z"
      },
      {
        "duration": 12128,
        "start_time": "2022-08-02T10:59:49.482Z"
      },
      {
        "duration": 96,
        "start_time": "2022-08-02T11:00:01.612Z"
      },
      {
        "duration": 97,
        "start_time": "2022-08-02T11:00:01.712Z"
      },
      {
        "duration": 20,
        "start_time": "2022-08-02T11:00:01.811Z"
      },
      {
        "duration": 12922,
        "start_time": "2022-08-02T11:00:50.782Z"
      },
      {
        "duration": 93,
        "start_time": "2022-08-02T11:01:03.710Z"
      },
      {
        "duration": 7,
        "start_time": "2022-08-02T11:01:03.805Z"
      },
      {
        "duration": 11,
        "start_time": "2022-08-02T11:01:03.813Z"
      },
      {
        "duration": 1111,
        "start_time": "2022-08-02T11:04:23.455Z"
      },
      {
        "duration": 3,
        "start_time": "2022-08-02T11:04:24.567Z"
      },
      {
        "duration": 115,
        "start_time": "2022-08-02T11:04:24.571Z"
      },
      {
        "duration": 70,
        "start_time": "2022-08-02T11:04:24.688Z"
      },
      {
        "duration": 11,
        "start_time": "2022-08-02T11:04:24.760Z"
      },
      {
        "duration": 12,
        "start_time": "2022-08-02T11:04:24.772Z"
      },
      {
        "duration": 25,
        "start_time": "2022-08-02T11:04:24.785Z"
      },
      {
        "duration": 4,
        "start_time": "2022-08-02T11:04:24.812Z"
      },
      {
        "duration": 6,
        "start_time": "2022-08-02T11:04:24.818Z"
      },
      {
        "duration": 12,
        "start_time": "2022-08-02T11:04:24.825Z"
      },
      {
        "duration": 15,
        "start_time": "2022-08-02T11:04:24.838Z"
      },
      {
        "duration": 9,
        "start_time": "2022-08-02T11:04:24.855Z"
      },
      {
        "duration": 17,
        "start_time": "2022-08-02T11:04:24.865Z"
      },
      {
        "duration": 5,
        "start_time": "2022-08-02T11:04:24.885Z"
      },
      {
        "duration": 390,
        "start_time": "2022-08-02T11:04:24.892Z"
      },
      {
        "duration": 92,
        "start_time": "2022-08-02T11:04:25.284Z"
      },
      {
        "duration": 105,
        "start_time": "2022-08-02T11:04:25.377Z"
      },
      {
        "duration": 20,
        "start_time": "2022-08-02T11:04:25.483Z"
      },
      {
        "duration": 3,
        "start_time": "2022-08-02T11:04:25.505Z"
      },
      {
        "duration": 21,
        "start_time": "2022-08-02T11:04:25.510Z"
      },
      {
        "duration": 11,
        "start_time": "2022-08-02T11:04:25.532Z"
      },
      {
        "duration": 24,
        "start_time": "2022-08-02T11:04:25.544Z"
      },
      {
        "duration": 16,
        "start_time": "2022-08-02T11:04:25.570Z"
      },
      {
        "duration": 84,
        "start_time": "2022-08-02T11:04:25.587Z"
      },
      {
        "duration": 5,
        "start_time": "2022-08-02T11:04:25.673Z"
      },
      {
        "duration": 12,
        "start_time": "2022-08-02T11:04:25.680Z"
      },
      {
        "duration": 10,
        "start_time": "2022-08-02T11:04:25.701Z"
      },
      {
        "duration": 17,
        "start_time": "2022-08-02T11:04:25.713Z"
      },
      {
        "duration": 5,
        "start_time": "2022-08-02T11:04:25.732Z"
      },
      {
        "duration": 12,
        "start_time": "2022-08-02T11:04:25.739Z"
      },
      {
        "duration": 25,
        "start_time": "2022-08-02T11:04:25.753Z"
      },
      {
        "duration": 13,
        "start_time": "2022-08-02T11:04:25.779Z"
      },
      {
        "duration": 18,
        "start_time": "2022-08-02T11:04:25.794Z"
      },
      {
        "duration": 14,
        "start_time": "2022-08-02T11:04:25.814Z"
      },
      {
        "duration": 7,
        "start_time": "2022-08-02T11:04:25.829Z"
      },
      {
        "duration": 14,
        "start_time": "2022-08-02T11:04:25.837Z"
      },
      {
        "duration": 14,
        "start_time": "2022-08-02T11:04:25.852Z"
      },
      {
        "duration": 32,
        "start_time": "2022-08-02T11:04:25.868Z"
      },
      {
        "duration": 151,
        "start_time": "2022-08-02T11:04:25.902Z"
      },
      {
        "duration": 12,
        "start_time": "2022-08-02T11:04:26.055Z"
      },
      {
        "duration": 8,
        "start_time": "2022-08-02T11:04:26.071Z"
      },
      {
        "duration": 17,
        "start_time": "2022-08-02T11:04:26.080Z"
      },
      {
        "duration": 18,
        "start_time": "2022-08-02T11:04:26.099Z"
      },
      {
        "duration": 169,
        "start_time": "2022-08-02T11:04:26.119Z"
      },
      {
        "duration": 22,
        "start_time": "2022-08-02T11:04:26.290Z"
      },
      {
        "duration": 5,
        "start_time": "2022-08-02T11:04:26.313Z"
      },
      {
        "duration": 30,
        "start_time": "2022-08-02T11:04:26.319Z"
      },
      {
        "duration": 25,
        "start_time": "2022-08-02T11:04:26.350Z"
      },
      {
        "duration": 20,
        "start_time": "2022-08-02T11:04:26.376Z"
      },
      {
        "duration": 90660,
        "start_time": "2022-08-02T11:04:26.398Z"
      },
      {
        "duration": 4,
        "start_time": "2022-08-02T11:05:57.059Z"
      },
      {
        "duration": 7,
        "start_time": "2022-08-02T11:05:57.064Z"
      },
      {
        "duration": 13,
        "start_time": "2022-08-02T11:05:57.073Z"
      },
      {
        "duration": 13383,
        "start_time": "2022-08-02T11:05:57.088Z"
      },
      {
        "duration": 13,
        "start_time": "2022-08-02T11:06:10.472Z"
      },
      {
        "duration": 200,
        "start_time": "2022-08-02T11:06:10.486Z"
      },
      {
        "duration": 4,
        "start_time": "2022-08-02T11:06:10.688Z"
      },
      {
        "duration": 9,
        "start_time": "2022-08-02T11:06:10.701Z"
      },
      {
        "duration": 10,
        "start_time": "2022-08-02T11:06:10.712Z"
      },
      {
        "duration": 198089,
        "start_time": "2022-08-02T11:06:10.723Z"
      },
      {
        "duration": 3,
        "start_time": "2022-08-02T11:09:28.813Z"
      },
      {
        "duration": 12,
        "start_time": "2022-08-02T11:09:28.817Z"
      },
      {
        "duration": 35,
        "start_time": "2022-08-02T11:09:28.830Z"
      },
      {
        "duration": 12435,
        "start_time": "2022-08-02T11:09:28.866Z"
      },
      {
        "duration": 8,
        "start_time": "2022-08-02T11:09:41.303Z"
      },
      {
        "duration": 4,
        "start_time": "2022-08-02T11:09:41.403Z"
      },
      {
        "duration": 26,
        "start_time": "2022-08-02T11:09:41.408Z"
      },
      {
        "duration": 103,
        "start_time": "2022-08-02T11:09:41.503Z"
      },
      {
        "duration": 8,
        "start_time": "2022-08-02T11:09:41.608Z"
      },
      {
        "duration": 14,
        "start_time": "2022-08-02T11:09:41.618Z"
      },
      {
        "duration": 32,
        "start_time": "2022-08-02T11:09:41.634Z"
      },
      {
        "duration": 14,
        "start_time": "2022-08-02T11:18:24.850Z"
      },
      {
        "duration": 13,
        "start_time": "2022-08-02T11:19:10.154Z"
      },
      {
        "duration": 23,
        "start_time": "2022-08-02T11:19:30.786Z"
      },
      {
        "duration": 387,
        "start_time": "2022-08-02T11:20:15.092Z"
      },
      {
        "duration": 107,
        "start_time": "2022-08-02T11:20:23.432Z"
      },
      {
        "duration": 15,
        "start_time": "2022-08-02T11:20:28.784Z"
      },
      {
        "duration": 101,
        "start_time": "2022-08-02T11:21:24.684Z"
      },
      {
        "duration": 11,
        "start_time": "2022-08-02T11:21:36.474Z"
      },
      {
        "duration": 18,
        "start_time": "2022-08-02T11:21:59.553Z"
      },
      {
        "duration": 99,
        "start_time": "2022-08-02T11:23:48.689Z"
      },
      {
        "duration": 15,
        "start_time": "2022-08-02T11:23:49.404Z"
      },
      {
        "duration": 11,
        "start_time": "2022-08-02T11:23:49.735Z"
      },
      {
        "duration": 7,
        "start_time": "2022-08-02T11:23:50.264Z"
      },
      {
        "duration": 13,
        "start_time": "2022-08-02T11:23:50.573Z"
      },
      {
        "duration": 6,
        "start_time": "2022-08-02T11:23:50.854Z"
      },
      {
        "duration": 6,
        "start_time": "2022-08-02T11:23:52.273Z"
      },
      {
        "duration": 4,
        "start_time": "2022-08-02T11:23:52.594Z"
      },
      {
        "duration": 7,
        "start_time": "2022-08-02T11:23:52.884Z"
      },
      {
        "duration": 18,
        "start_time": "2022-08-02T11:23:53.135Z"
      },
      {
        "duration": 17,
        "start_time": "2022-08-02T11:24:44.794Z"
      },
      {
        "duration": 13,
        "start_time": "2022-08-02T11:26:33.302Z"
      },
      {
        "duration": 11,
        "start_time": "2022-08-02T11:26:49.033Z"
      },
      {
        "duration": 6,
        "start_time": "2022-08-02T11:27:26.643Z"
      },
      {
        "duration": 5,
        "start_time": "2022-08-02T11:27:45.083Z"
      },
      {
        "duration": 8,
        "start_time": "2022-08-02T11:27:51.685Z"
      },
      {
        "duration": 14,
        "start_time": "2022-08-02T11:28:43.793Z"
      },
      {
        "duration": 2268,
        "start_time": "2022-08-02T11:35:12.640Z"
      },
      {
        "duration": 3,
        "start_time": "2022-08-02T11:35:14.909Z"
      },
      {
        "duration": 121,
        "start_time": "2022-08-02T11:35:14.914Z"
      },
      {
        "duration": 77,
        "start_time": "2022-08-02T11:35:15.037Z"
      },
      {
        "duration": 14,
        "start_time": "2022-08-02T11:35:15.116Z"
      },
      {
        "duration": 33,
        "start_time": "2022-08-02T11:35:15.132Z"
      },
      {
        "duration": 69,
        "start_time": "2022-08-02T11:35:15.166Z"
      },
      {
        "duration": 25,
        "start_time": "2022-08-02T11:35:15.237Z"
      },
      {
        "duration": 21,
        "start_time": "2022-08-02T11:35:15.264Z"
      },
      {
        "duration": 24,
        "start_time": "2022-08-02T11:35:15.287Z"
      },
      {
        "duration": 17,
        "start_time": "2022-08-02T11:35:15.312Z"
      },
      {
        "duration": 21,
        "start_time": "2022-08-02T11:35:15.330Z"
      },
      {
        "duration": 20,
        "start_time": "2022-08-02T11:35:15.352Z"
      },
      {
        "duration": 24,
        "start_time": "2022-08-02T11:35:15.373Z"
      },
      {
        "duration": 20,
        "start_time": "2022-08-02T11:35:15.399Z"
      },
      {
        "duration": 33,
        "start_time": "2022-08-02T11:35:15.421Z"
      },
      {
        "duration": 355,
        "start_time": "2022-08-02T11:35:15.456Z"
      },
      {
        "duration": 110,
        "start_time": "2022-08-02T11:35:15.812Z"
      },
      {
        "duration": 100,
        "start_time": "2022-08-02T11:35:15.924Z"
      },
      {
        "duration": 16,
        "start_time": "2022-08-02T11:35:16.026Z"
      },
      {
        "duration": 51,
        "start_time": "2022-08-02T11:35:16.044Z"
      },
      {
        "duration": 44,
        "start_time": "2022-08-02T11:35:16.097Z"
      },
      {
        "duration": 22,
        "start_time": "2022-08-02T11:35:16.143Z"
      },
      {
        "duration": 38,
        "start_time": "2022-08-02T11:35:16.166Z"
      },
      {
        "duration": 24,
        "start_time": "2022-08-02T11:35:16.205Z"
      },
      {
        "duration": 105,
        "start_time": "2022-08-02T11:35:16.230Z"
      },
      {
        "duration": 22,
        "start_time": "2022-08-02T11:35:16.336Z"
      },
      {
        "duration": 18,
        "start_time": "2022-08-02T11:35:16.362Z"
      },
      {
        "duration": 25,
        "start_time": "2022-08-02T11:35:16.382Z"
      },
      {
        "duration": 23,
        "start_time": "2022-08-02T11:35:16.409Z"
      },
      {
        "duration": 11,
        "start_time": "2022-08-02T11:35:16.434Z"
      },
      {
        "duration": 6,
        "start_time": "2022-08-02T11:35:16.447Z"
      },
      {
        "duration": 25,
        "start_time": "2022-08-02T11:35:16.455Z"
      },
      {
        "duration": 18,
        "start_time": "2022-08-02T11:35:16.481Z"
      },
      {
        "duration": 35,
        "start_time": "2022-08-02T11:35:16.501Z"
      },
      {
        "duration": 16,
        "start_time": "2022-08-02T11:35:16.537Z"
      },
      {
        "duration": 24,
        "start_time": "2022-08-02T11:35:16.555Z"
      },
      {
        "duration": 26,
        "start_time": "2022-08-02T11:35:16.581Z"
      },
      {
        "duration": 14,
        "start_time": "2022-08-02T11:35:16.608Z"
      },
      {
        "duration": 30,
        "start_time": "2022-08-02T11:35:16.623Z"
      },
      {
        "duration": 148,
        "start_time": "2022-08-02T11:35:16.654Z"
      },
      {
        "duration": 13,
        "start_time": "2022-08-02T11:35:16.804Z"
      },
      {
        "duration": 8,
        "start_time": "2022-08-02T11:35:16.818Z"
      },
      {
        "duration": 14,
        "start_time": "2022-08-02T11:35:16.827Z"
      },
      {
        "duration": 19,
        "start_time": "2022-08-02T11:35:16.843Z"
      },
      {
        "duration": 169,
        "start_time": "2022-08-02T11:35:16.864Z"
      },
      {
        "duration": 24,
        "start_time": "2022-08-02T11:35:17.034Z"
      },
      {
        "duration": 5,
        "start_time": "2022-08-02T11:35:17.060Z"
      },
      {
        "duration": 18,
        "start_time": "2022-08-02T11:35:17.066Z"
      },
      {
        "duration": 22,
        "start_time": "2022-08-02T11:35:17.086Z"
      },
      {
        "duration": 12,
        "start_time": "2022-08-02T11:35:17.110Z"
      },
      {
        "duration": 100765,
        "start_time": "2022-08-02T11:35:17.124Z"
      },
      {
        "duration": 4,
        "start_time": "2022-08-02T11:36:57.890Z"
      },
      {
        "duration": 7,
        "start_time": "2022-08-02T11:36:57.895Z"
      },
      {
        "duration": 14,
        "start_time": "2022-08-02T11:36:57.904Z"
      },
      {
        "duration": 12739,
        "start_time": "2022-08-02T11:36:57.919Z"
      },
      {
        "duration": 12,
        "start_time": "2022-08-02T11:37:10.659Z"
      },
      {
        "duration": 206,
        "start_time": "2022-08-02T11:37:10.673Z"
      },
      {
        "duration": 3,
        "start_time": "2022-08-02T11:37:10.881Z"
      },
      {
        "duration": 16,
        "start_time": "2022-08-02T11:37:10.886Z"
      },
      {
        "duration": 10,
        "start_time": "2022-08-02T11:37:10.904Z"
      },
      {
        "duration": 195179,
        "start_time": "2022-08-02T11:37:10.915Z"
      },
      {
        "duration": 4,
        "start_time": "2022-08-02T11:40:26.103Z"
      },
      {
        "duration": 9,
        "start_time": "2022-08-02T11:40:26.108Z"
      },
      {
        "duration": 18,
        "start_time": "2022-08-02T11:40:26.119Z"
      },
      {
        "duration": 12168,
        "start_time": "2022-08-02T11:40:26.139Z"
      },
      {
        "duration": 4,
        "start_time": "2022-08-02T11:40:38.309Z"
      },
      {
        "duration": 103,
        "start_time": "2022-08-02T11:40:38.401Z"
      },
      {
        "duration": 8,
        "start_time": "2022-08-02T11:40:38.505Z"
      },
      {
        "duration": 89,
        "start_time": "2022-08-02T11:40:38.515Z"
      },
      {
        "duration": 99,
        "start_time": "2022-08-02T11:40:38.607Z"
      },
      {
        "duration": 15,
        "start_time": "2022-08-02T11:40:38.708Z"
      },
      {
        "duration": 14,
        "start_time": "2022-08-02T11:40:38.724Z"
      }
    ],
    "colab": {
      "provenance": []
    },
    "gpuClass": "standard",
    "kernelspec": {
      "display_name": "Python 3",
      "language": "python",
      "name": "python3"
    },
    "language_info": {
      "codemirror_mode": {
        "name": "ipython",
        "version": 3
      },
      "file_extension": ".py",
      "mimetype": "text/x-python",
      "name": "python",
      "nbconvert_exporter": "python",
      "pygments_lexer": "ipython3",
      "version": "3.8.8"
    },
    "toc": {
      "base_numbering": 1,
      "nav_menu": {},
      "number_sections": true,
      "sideBar": true,
      "skip_h1_title": true,
      "title_cell": "Table of Contents",
      "title_sidebar": "Contents",
      "toc_cell": false,
      "toc_position": {},
      "toc_section_display": true,
      "toc_window_display": false
    }
  },
  "nbformat": 4,
  "nbformat_minor": 0
}